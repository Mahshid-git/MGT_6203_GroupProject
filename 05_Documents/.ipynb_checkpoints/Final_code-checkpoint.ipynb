{
 "cells": [
  {
   "cell_type": "code",
   "execution_count": 133,
   "id": "c941d406",
   "metadata": {},
   "outputs": [
    {
     "name": "stderr",
     "output_type": "stream",
     "text": [
      "Installing package into 'C:/Users/mjafarpour/AppData/Local/R/win-library/4.2'\n",
      "(as 'lib' is unspecified)\n",
      "\n",
      "also installing the dependency 'lars'\n",
      "\n",
      "\n"
     ]
    },
    {
     "name": "stdout",
     "output_type": "stream",
     "text": [
      "package 'lars' successfully unpacked and MD5 sums checked\n",
      "package 'elasticnet' successfully unpacked and MD5 sums checked\n",
      "\n",
      "The downloaded binary packages are in\n",
      "\tC:\\Users\\mjafarpour\\AppData\\Local\\Temp\\RtmpsbH7vO\\downloaded_packages\n"
     ]
    }
   ],
   "source": [
    "# install.packages(\"arrow\") \n",
    "# install.packages(\"dplyr\") \n",
    "# install.packages(\"car\") \n",
    "# install.packages(\"corrplot\") \n",
    "# install.packages(\"caret\") \n",
    "# install.packages(\"rattle\") \n",
    "# install.packages(\"rpart.plot\") \n",
    "# install.packages(\"rpart\") \n",
    "# install.packages(\"elasticnet\")"
   ]
  },
  {
   "cell_type": "code",
   "execution_count": 1,
   "id": "520678d3",
   "metadata": {},
   "outputs": [
    {
     "data": {
      "text/plain": [
       "               _                                \n",
       "platform       x86_64-w64-mingw32               \n",
       "arch           x86_64                           \n",
       "os             mingw32                          \n",
       "crt            ucrt                             \n",
       "system         x86_64, mingw32                  \n",
       "status                                          \n",
       "major          4                                \n",
       "minor          2.0                              \n",
       "year           2022                             \n",
       "month          04                               \n",
       "day            22                               \n",
       "svn rev        82229                            \n",
       "language       R                                \n",
       "version.string R version 4.2.0 (2022-04-22 ucrt)\n",
       "nickname       Vigorous Calisthenics            "
      ]
     },
     "metadata": {},
     "output_type": "display_data"
    }
   ],
   "source": [
    "version"
   ]
  },
  {
   "cell_type": "code",
   "execution_count": 77,
   "id": "1b6f1dcb",
   "metadata": {},
   "outputs": [],
   "source": [
    "library(arrow) # needed to read parquet file\n",
    "library(dplyr)\n",
    "library(car)\n",
    "library(caret)\n",
    "library(ggplot2)\n",
    "library(corrplot)"
   ]
  },
  {
   "cell_type": "markdown",
   "id": "893f2353",
   "metadata": {},
   "source": [
    "# 1-Data Cleaning"
   ]
  },
  {
   "cell_type": "code",
   "execution_count": 78,
   "id": "40f435e5",
   "metadata": {},
   "outputs": [],
   "source": [
    "# read the file\n",
    "file_path <- \"../01_RawData/nfip_Houston_flood_policies.parquet\"\n",
    "policy_df1 <- read_parquet(file_path, as_tibble = TRUE)\n",
    "# there are Houston that are not in TX ==> filter for propertystate = \"TX\"\n",
    "policy_df1 <- subset(policy_df1, propertystate == 'TX' )"
   ]
  },
  {
   "cell_type": "code",
   "execution_count": 79,
   "id": "5f81f23b",
   "metadata": {},
   "outputs": [],
   "source": [
    "policy_df = subset(policy_df1,select=-c(agriculturestructureindicator, propertystate, reportedcity, houseofworshipindicator,nonprofitindicator,regularemergencyprogramindicator,smallbusinessindicatorbuilding,hfiaasurcharge))\n",
    "rm(policy_df1)"
   ]
  },
  {
   "cell_type": "code",
   "execution_count": 80,
   "id": "79016dc7",
   "metadata": {},
   "outputs": [
    {
     "data": {
      "text/html": [
       "<style>\n",
       ".dl-inline {width: auto; margin:0; padding: 0}\n",
       ".dl-inline>dt, .dl-inline>dd {float: none; width: auto; display: inline-block}\n",
       ".dl-inline>dt::after {content: \":\\0020\"; padding-right: .5ex}\n",
       ".dl-inline>dt:not(:first-of-type) {padding-left: .5ex}\n",
       "</style><dl class=dl-inline><dt>basefloodelevation</dt><dd>1694274</dd><dt>basementenclosurecrawlspacetype</dt><dd>53</dd><dt>cancellationdateoffloodpolicy</dt><dd>1823746</dd><dt>censustract</dt><dd>15177</dd><dt>condominiumindicator</dt><dd>1</dd><dt>construction</dt><dd>1</dd><dt>countycode</dt><dd>10346</dd><dt>crsdiscount</dt><dd>0</dd><dt>deductibleamountinbuildingcoverage</dt><dd>34226</dd><dt>deductibleamountincontentscoverage</dt><dd>134189</dd><dt>elevatedbuildingindicator</dt><dd>17</dd><dt>elevationcertificateindicator</dt><dd>1386468</dd><dt>elevationdifference</dt><dd>0</dd><dt>federalpolicyfee</dt><dd>0</dd><dt>floodzone</dt><dd>7307</dd><dt>latitude</dt><dd>15177</dd><dt>locationofcontents</dt><dd>387577</dd><dt>longitude</dt><dd>15177</dd><dt>lowestadjacentgrade</dt><dd>1696485</dd><dt>lowestfloorelevation</dt><dd>1690907</dd><dt>numberoffloorsininsuredbuilding</dt><dd>7315</dd><dt>obstructiontype</dt><dd>1908461</dd><dt>occupancytype</dt><dd>1</dd><dt>originalconstructiondate</dt><dd>7565</dd><dt>originalnbdate</dt><dd>0</dd><dt>policycost</dt><dd>0</dd><dt>policycount</dt><dd>0</dd><dt>policyeffectivedate</dt><dd>0</dd><dt>policyterminationdate</dt><dd>0</dd><dt>policytermindicator</dt><dd>0</dd><dt>postfirmconstructionindicator</dt><dd>7565</dd><dt>primaryresidenceindicator</dt><dd>1481</dd><dt>reportedzipcode</dt><dd>0</dd><dt>ratemethod</dt><dd>4580</dd><dt>totalbuildinginsurancecoverage</dt><dd>0</dd><dt>totalcontentsinsurancecoverage</dt><dd>0</dd><dt>totalinsurancepremiumofthepolicy</dt><dd>0</dd></dl>\n"
      ],
      "text/latex": [
       "\\begin{description*}\n",
       "\\item[basefloodelevation] 1694274\n",
       "\\item[basementenclosurecrawlspacetype] 53\n",
       "\\item[cancellationdateoffloodpolicy] 1823746\n",
       "\\item[censustract] 15177\n",
       "\\item[condominiumindicator] 1\n",
       "\\item[construction] 1\n",
       "\\item[countycode] 10346\n",
       "\\item[crsdiscount] 0\n",
       "\\item[deductibleamountinbuildingcoverage] 34226\n",
       "\\item[deductibleamountincontentscoverage] 134189\n",
       "\\item[elevatedbuildingindicator] 17\n",
       "\\item[elevationcertificateindicator] 1386468\n",
       "\\item[elevationdifference] 0\n",
       "\\item[federalpolicyfee] 0\n",
       "\\item[floodzone] 7307\n",
       "\\item[latitude] 15177\n",
       "\\item[locationofcontents] 387577\n",
       "\\item[longitude] 15177\n",
       "\\item[lowestadjacentgrade] 1696485\n",
       "\\item[lowestfloorelevation] 1690907\n",
       "\\item[numberoffloorsininsuredbuilding] 7315\n",
       "\\item[obstructiontype] 1908461\n",
       "\\item[occupancytype] 1\n",
       "\\item[originalconstructiondate] 7565\n",
       "\\item[originalnbdate] 0\n",
       "\\item[policycost] 0\n",
       "\\item[policycount] 0\n",
       "\\item[policyeffectivedate] 0\n",
       "\\item[policyterminationdate] 0\n",
       "\\item[policytermindicator] 0\n",
       "\\item[postfirmconstructionindicator] 7565\n",
       "\\item[primaryresidenceindicator] 1481\n",
       "\\item[reportedzipcode] 0\n",
       "\\item[ratemethod] 4580\n",
       "\\item[totalbuildinginsurancecoverage] 0\n",
       "\\item[totalcontentsinsurancecoverage] 0\n",
       "\\item[totalinsurancepremiumofthepolicy] 0\n",
       "\\end{description*}\n"
      ],
      "text/markdown": [
       "basefloodelevation\n",
       ":   1694274basementenclosurecrawlspacetype\n",
       ":   53cancellationdateoffloodpolicy\n",
       ":   1823746censustract\n",
       ":   15177condominiumindicator\n",
       ":   1construction\n",
       ":   1countycode\n",
       ":   10346crsdiscount\n",
       ":   0deductibleamountinbuildingcoverage\n",
       ":   34226deductibleamountincontentscoverage\n",
       ":   134189elevatedbuildingindicator\n",
       ":   17elevationcertificateindicator\n",
       ":   1386468elevationdifference\n",
       ":   0federalpolicyfee\n",
       ":   0floodzone\n",
       ":   7307latitude\n",
       ":   15177locationofcontents\n",
       ":   387577longitude\n",
       ":   15177lowestadjacentgrade\n",
       ":   1696485lowestfloorelevation\n",
       ":   1690907numberoffloorsininsuredbuilding\n",
       ":   7315obstructiontype\n",
       ":   1908461occupancytype\n",
       ":   1originalconstructiondate\n",
       ":   7565originalnbdate\n",
       ":   0policycost\n",
       ":   0policycount\n",
       ":   0policyeffectivedate\n",
       ":   0policyterminationdate\n",
       ":   0policytermindicator\n",
       ":   0postfirmconstructionindicator\n",
       ":   7565primaryresidenceindicator\n",
       ":   1481reportedzipcode\n",
       ":   0ratemethod\n",
       ":   4580totalbuildinginsurancecoverage\n",
       ":   0totalcontentsinsurancecoverage\n",
       ":   0totalinsurancepremiumofthepolicy\n",
       ":   0\n",
       "\n"
      ],
      "text/plain": [
       "                basefloodelevation    basementenclosurecrawlspacetype \n",
       "                           1694274                                 53 \n",
       "     cancellationdateoffloodpolicy                        censustract \n",
       "                           1823746                              15177 \n",
       "              condominiumindicator                       construction \n",
       "                                 1                                  1 \n",
       "                        countycode                        crsdiscount \n",
       "                             10346                                  0 \n",
       "deductibleamountinbuildingcoverage deductibleamountincontentscoverage \n",
       "                             34226                             134189 \n",
       "         elevatedbuildingindicator      elevationcertificateindicator \n",
       "                                17                            1386468 \n",
       "               elevationdifference                   federalpolicyfee \n",
       "                                 0                                  0 \n",
       "                         floodzone                           latitude \n",
       "                              7307                              15177 \n",
       "                locationofcontents                          longitude \n",
       "                            387577                              15177 \n",
       "               lowestadjacentgrade               lowestfloorelevation \n",
       "                           1696485                            1690907 \n",
       "   numberoffloorsininsuredbuilding                    obstructiontype \n",
       "                              7315                            1908461 \n",
       "                     occupancytype           originalconstructiondate \n",
       "                                 1                               7565 \n",
       "                    originalnbdate                         policycost \n",
       "                                 0                                  0 \n",
       "                       policycount                policyeffectivedate \n",
       "                                 0                                  0 \n",
       "             policyterminationdate                policytermindicator \n",
       "                                 0                                  0 \n",
       "     postfirmconstructionindicator          primaryresidenceindicator \n",
       "                              7565                               1481 \n",
       "                   reportedzipcode                         ratemethod \n",
       "                                 0                               4580 \n",
       "    totalbuildinginsurancecoverage     totalcontentsinsurancecoverage \n",
       "                                 0                                  0 \n",
       "  totalinsurancepremiumofthepolicy \n",
       "                                 0 "
      ]
     },
     "metadata": {},
     "output_type": "display_data"
    }
   ],
   "source": [
    "# count NA values in each column\n",
    "colSums(is.na(policy_df))"
   ]
  },
  {
   "cell_type": "code",
   "execution_count": 81,
   "id": "d78ec9b6",
   "metadata": {},
   "outputs": [
    {
     "data": {
      "text/html": [
       "<table class=\"dataframe\">\n",
       "<caption>A tibble: 6 × 30</caption>\n",
       "<thead>\n",
       "\t<tr><th scope=col>basementenclosurecrawlspacetype</th><th scope=col>censustract</th><th scope=col>condominiumindicator</th><th scope=col>construction</th><th scope=col>crsdiscount</th><th scope=col>deductibleamountinbuildingcoverage</th><th scope=col>deductibleamountincontentscoverage</th><th scope=col>elevatedbuildingindicator</th><th scope=col>elevationdifference</th><th scope=col>federalpolicyfee</th><th scope=col>⋯</th><th scope=col>policyeffectivedate</th><th scope=col>policyterminationdate</th><th scope=col>policytermindicator</th><th scope=col>postfirmconstructionindicator</th><th scope=col>primaryresidenceindicator</th><th scope=col>reportedzipcode</th><th scope=col>ratemethod</th><th scope=col>totalbuildinginsurancecoverage</th><th scope=col>totalcontentsinsurancecoverage</th><th scope=col>totalinsurancepremiumofthepolicy</th></tr>\n",
       "\t<tr><th scope=col>&lt;chr&gt;</th><th scope=col>&lt;chr&gt;</th><th scope=col>&lt;chr&gt;</th><th scope=col>&lt;chr&gt;</th><th scope=col>&lt;chr&gt;</th><th scope=col>&lt;chr&gt;</th><th scope=col>&lt;chr&gt;</th><th scope=col>&lt;chr&gt;</th><th scope=col>&lt;chr&gt;</th><th scope=col>&lt;chr&gt;</th><th scope=col>⋯</th><th scope=col>&lt;chr&gt;</th><th scope=col>&lt;chr&gt;</th><th scope=col>&lt;chr&gt;</th><th scope=col>&lt;chr&gt;</th><th scope=col>&lt;chr&gt;</th><th scope=col>&lt;chr&gt;</th><th scope=col>&lt;chr&gt;</th><th scope=col>&lt;chr&gt;</th><th scope=col>&lt;chr&gt;</th><th scope=col>&lt;chr&gt;</th></tr>\n",
       "</thead>\n",
       "<tbody>\n",
       "\t<tr><td>0</td><td>48201340800</td><td>N</td><td>N</td><td>0.00</td><td>1</td><td>1</td><td>N</td><td>999</td><td>13</td><td>⋯</td><td>2009-11-23</td><td>2010-11-23</td><td>1</td><td>Y</td><td>Y</td><td>77062</td><td>7</td><td>250000</td><td>100000</td><td>335 </td></tr>\n",
       "\t<tr><td>0</td><td>48201553200</td><td>N</td><td>N</td><td>0.10</td><td>1</td><td>1</td><td>N</td><td>999</td><td>35</td><td>⋯</td><td>2009-11-02</td><td>2010-11-02</td><td>1</td><td>N</td><td>Y</td><td>77090</td><td>1</td><td>185200</td><td>44600 </td><td>1663</td></tr>\n",
       "\t<tr><td>0</td><td>48201211700</td><td>N</td><td>N</td><td>0.20</td><td>1</td><td>1</td><td>N</td><td>999</td><td>35</td><td>⋯</td><td>2009-08-07</td><td>2010-04-11</td><td>1</td><td>N</td><td>Y</td><td>77026</td><td>1</td><td>116100</td><td>30500 </td><td>885 </td></tr>\n",
       "\t<tr><td>0</td><td>48201233500</td><td>N</td><td>N</td><td>0.00</td><td>0</td><td>0</td><td>N</td><td>999</td><td>13</td><td>⋯</td><td>2009-07-02</td><td>2010-07-02</td><td>1</td><td>N</td><td>Y</td><td>77029</td><td>7</td><td>75000 </td><td>30000 </td><td>217 </td></tr>\n",
       "\t<tr><td>0</td><td>48201530900</td><td>N</td><td>N</td><td>0.00</td><td>1</td><td>1</td><td>N</td><td>999</td><td>13</td><td>⋯</td><td>2009-10-04</td><td>2010-10-04</td><td>1</td><td>N</td><td>Y</td><td>77018</td><td>7</td><td>250000</td><td>100000</td><td>335 </td></tr>\n",
       "\t<tr><td>0</td><td>48157670101</td><td>N</td><td>N</td><td>0.00</td><td>1</td><td>1</td><td>N</td><td>999</td><td>13</td><td>⋯</td><td>2009-12-15</td><td>2010-07-16</td><td>1</td><td>N</td><td>N</td><td>77053</td><td>7</td><td>150000</td><td>60000 </td><td>283 </td></tr>\n",
       "</tbody>\n",
       "</table>\n"
      ],
      "text/latex": [
       "A tibble: 6 × 30\n",
       "\\begin{tabular}{lllllllllllllllllllll}\n",
       " basementenclosurecrawlspacetype & censustract & condominiumindicator & construction & crsdiscount & deductibleamountinbuildingcoverage & deductibleamountincontentscoverage & elevatedbuildingindicator & elevationdifference & federalpolicyfee & ⋯ & policyeffectivedate & policyterminationdate & policytermindicator & postfirmconstructionindicator & primaryresidenceindicator & reportedzipcode & ratemethod & totalbuildinginsurancecoverage & totalcontentsinsurancecoverage & totalinsurancepremiumofthepolicy\\\\\n",
       " <chr> & <chr> & <chr> & <chr> & <chr> & <chr> & <chr> & <chr> & <chr> & <chr> & ⋯ & <chr> & <chr> & <chr> & <chr> & <chr> & <chr> & <chr> & <chr> & <chr> & <chr>\\\\\n",
       "\\hline\n",
       "\t 0 & 48201340800 & N & N & 0.00 & 1 & 1 & N & 999 & 13 & ⋯ & 2009-11-23 & 2010-11-23 & 1 & Y & Y & 77062 & 7 & 250000 & 100000 & 335 \\\\\n",
       "\t 0 & 48201553200 & N & N & 0.10 & 1 & 1 & N & 999 & 35 & ⋯ & 2009-11-02 & 2010-11-02 & 1 & N & Y & 77090 & 1 & 185200 & 44600  & 1663\\\\\n",
       "\t 0 & 48201211700 & N & N & 0.20 & 1 & 1 & N & 999 & 35 & ⋯ & 2009-08-07 & 2010-04-11 & 1 & N & Y & 77026 & 1 & 116100 & 30500  & 885 \\\\\n",
       "\t 0 & 48201233500 & N & N & 0.00 & 0 & 0 & N & 999 & 13 & ⋯ & 2009-07-02 & 2010-07-02 & 1 & N & Y & 77029 & 7 & 75000  & 30000  & 217 \\\\\n",
       "\t 0 & 48201530900 & N & N & 0.00 & 1 & 1 & N & 999 & 13 & ⋯ & 2009-10-04 & 2010-10-04 & 1 & N & Y & 77018 & 7 & 250000 & 100000 & 335 \\\\\n",
       "\t 0 & 48157670101 & N & N & 0.00 & 1 & 1 & N & 999 & 13 & ⋯ & 2009-12-15 & 2010-07-16 & 1 & N & N & 77053 & 7 & 150000 & 60000  & 283 \\\\\n",
       "\\end{tabular}\n"
      ],
      "text/markdown": [
       "\n",
       "A tibble: 6 × 30\n",
       "\n",
       "| basementenclosurecrawlspacetype &lt;chr&gt; | censustract &lt;chr&gt; | condominiumindicator &lt;chr&gt; | construction &lt;chr&gt; | crsdiscount &lt;chr&gt; | deductibleamountinbuildingcoverage &lt;chr&gt; | deductibleamountincontentscoverage &lt;chr&gt; | elevatedbuildingindicator &lt;chr&gt; | elevationdifference &lt;chr&gt; | federalpolicyfee &lt;chr&gt; | ⋯ ⋯ | policyeffectivedate &lt;chr&gt; | policyterminationdate &lt;chr&gt; | policytermindicator &lt;chr&gt; | postfirmconstructionindicator &lt;chr&gt; | primaryresidenceindicator &lt;chr&gt; | reportedzipcode &lt;chr&gt; | ratemethod &lt;chr&gt; | totalbuildinginsurancecoverage &lt;chr&gt; | totalcontentsinsurancecoverage &lt;chr&gt; | totalinsurancepremiumofthepolicy &lt;chr&gt; |\n",
       "|---|---|---|---|---|---|---|---|---|---|---|---|---|---|---|---|---|---|---|---|---|\n",
       "| 0 | 48201340800 | N | N | 0.00 | 1 | 1 | N | 999 | 13 | ⋯ | 2009-11-23 | 2010-11-23 | 1 | Y | Y | 77062 | 7 | 250000 | 100000 | 335  |\n",
       "| 0 | 48201553200 | N | N | 0.10 | 1 | 1 | N | 999 | 35 | ⋯ | 2009-11-02 | 2010-11-02 | 1 | N | Y | 77090 | 1 | 185200 | 44600  | 1663 |\n",
       "| 0 | 48201211700 | N | N | 0.20 | 1 | 1 | N | 999 | 35 | ⋯ | 2009-08-07 | 2010-04-11 | 1 | N | Y | 77026 | 1 | 116100 | 30500  | 885  |\n",
       "| 0 | 48201233500 | N | N | 0.00 | 0 | 0 | N | 999 | 13 | ⋯ | 2009-07-02 | 2010-07-02 | 1 | N | Y | 77029 | 7 | 75000  | 30000  | 217  |\n",
       "| 0 | 48201530900 | N | N | 0.00 | 1 | 1 | N | 999 | 13 | ⋯ | 2009-10-04 | 2010-10-04 | 1 | N | Y | 77018 | 7 | 250000 | 100000 | 335  |\n",
       "| 0 | 48157670101 | N | N | 0.00 | 1 | 1 | N | 999 | 13 | ⋯ | 2009-12-15 | 2010-07-16 | 1 | N | N | 77053 | 7 | 150000 | 60000  | 283  |\n",
       "\n"
      ],
      "text/plain": [
       "  basementenclosurecrawlspacetype censustract condominiumindicator construction\n",
       "1 0                               48201340800 N                    N           \n",
       "2 0                               48201553200 N                    N           \n",
       "3 0                               48201211700 N                    N           \n",
       "4 0                               48201233500 N                    N           \n",
       "5 0                               48201530900 N                    N           \n",
       "6 0                               48157670101 N                    N           \n",
       "  crsdiscount deductibleamountinbuildingcoverage\n",
       "1 0.00        1                                 \n",
       "2 0.10        1                                 \n",
       "3 0.20        1                                 \n",
       "4 0.00        0                                 \n",
       "5 0.00        1                                 \n",
       "6 0.00        1                                 \n",
       "  deductibleamountincontentscoverage elevatedbuildingindicator\n",
       "1 1                                  N                        \n",
       "2 1                                  N                        \n",
       "3 1                                  N                        \n",
       "4 0                                  N                        \n",
       "5 1                                  N                        \n",
       "6 1                                  N                        \n",
       "  elevationdifference federalpolicyfee ⋯ policyeffectivedate\n",
       "1 999                 13               ⋯ 2009-11-23         \n",
       "2 999                 35               ⋯ 2009-11-02         \n",
       "3 999                 35               ⋯ 2009-08-07         \n",
       "4 999                 13               ⋯ 2009-07-02         \n",
       "5 999                 13               ⋯ 2009-10-04         \n",
       "6 999                 13               ⋯ 2009-12-15         \n",
       "  policyterminationdate policytermindicator postfirmconstructionindicator\n",
       "1 2010-11-23            1                   Y                            \n",
       "2 2010-11-02            1                   N                            \n",
       "3 2010-04-11            1                   N                            \n",
       "4 2010-07-02            1                   N                            \n",
       "5 2010-10-04            1                   N                            \n",
       "6 2010-07-16            1                   N                            \n",
       "  primaryresidenceindicator reportedzipcode ratemethod\n",
       "1 Y                         77062           7         \n",
       "2 Y                         77090           1         \n",
       "3 Y                         77026           1         \n",
       "4 Y                         77029           7         \n",
       "5 Y                         77018           7         \n",
       "6 N                         77053           7         \n",
       "  totalbuildinginsurancecoverage totalcontentsinsurancecoverage\n",
       "1 250000                         100000                        \n",
       "2 185200                         44600                         \n",
       "3 116100                         30500                         \n",
       "4 75000                          30000                         \n",
       "5 250000                         100000                        \n",
       "6 150000                         60000                         \n",
       "  totalinsurancepremiumofthepolicy\n",
       "1 335                             \n",
       "2 1663                            \n",
       "3 885                             \n",
       "4 217                             \n",
       "5 335                             \n",
       "6 283                             "
      ]
     },
     "metadata": {},
     "output_type": "display_data"
    }
   ],
   "source": [
    "# Filter more columns with significant number of NA values\n",
    "policy_df = subset(policy_df,select=-c(basefloodelevation,cancellationdateoffloodpolicy, countycode, elevationcertificateindicator, lowestadjacentgrade, lowestfloorelevation, obstructiontype))                          \n",
    "head(policy_df)"
   ]
  },
  {
   "cell_type": "code",
   "execution_count": 82,
   "id": "4bbcf01a",
   "metadata": {},
   "outputs": [
    {
     "data": {
      "text/html": [
       "<style>\n",
       ".dl-inline {width: auto; margin:0; padding: 0}\n",
       ".dl-inline>dt, .dl-inline>dd {float: none; width: auto; display: inline-block}\n",
       ".dl-inline>dt::after {content: \":\\0020\"; padding-right: .5ex}\n",
       ".dl-inline>dt:not(:first-of-type) {padding-left: .5ex}\n",
       "</style><dl class=dl-inline><dt>condominiumindicator</dt><dd>6</dd><dt>construction</dt><dd>3</dd><dt>elevatedbuildingindicator</dt><dd>3</dd><dt>floodzone</dt><dd>33</dd><dt>locationofcontents</dt><dd>7</dd><dt>postfirmconstructionindicator</dt><dd>3</dd><dt>primaryresidenceindicator</dt><dd>3</dd></dl>\n"
      ],
      "text/latex": [
       "\\begin{description*}\n",
       "\\item[condominiumindicator] 6\n",
       "\\item[construction] 3\n",
       "\\item[elevatedbuildingindicator] 3\n",
       "\\item[floodzone] 33\n",
       "\\item[locationofcontents] 7\n",
       "\\item[postfirmconstructionindicator] 3\n",
       "\\item[primaryresidenceindicator] 3\n",
       "\\end{description*}\n"
      ],
      "text/markdown": [
       "condominiumindicator\n",
       ":   6construction\n",
       ":   3elevatedbuildingindicator\n",
       ":   3floodzone\n",
       ":   33locationofcontents\n",
       ":   7postfirmconstructionindicator\n",
       ":   3primaryresidenceindicator\n",
       ":   3\n",
       "\n"
      ],
      "text/plain": [
       "         condominiumindicator                  construction \n",
       "                            6                             3 \n",
       "    elevatedbuildingindicator                     floodzone \n",
       "                            3                            33 \n",
       "           locationofcontents postfirmconstructionindicator \n",
       "                            7                             3 \n",
       "    primaryresidenceindicator \n",
       "                            3 "
      ]
     },
     "metadata": {},
     "output_type": "display_data"
    }
   ],
   "source": [
    "## Observe unique value in each column\n",
    "categorical_col <- policy_df[c(\"condominiumindicator\", \"construction\", \"elevatedbuildingindicator\", \"floodzone\", \"locationofcontents\", \"postfirmconstructionindicator\", \"primaryresidenceindicator\")]\n",
    "count_unique <- rapply(categorical_col, function(x) length(unique(x)))\n",
    "count_unique"
   ]
  },
  {
   "cell_type": "code",
   "execution_count": 83,
   "id": "236bbb87",
   "metadata": {},
   "outputs": [
    {
     "data": {
      "text/html": [
       "<style>\n",
       ".list-inline {list-style: none; margin:0; padding: 0}\n",
       ".list-inline>li {display: inline-block}\n",
       ".list-inline>li:not(:last-child)::after {content: \"\\00b7\"; padding: 0 .5ex}\n",
       "</style>\n",
       "<ol class=list-inline><li>'Lowest floor only above ground level (No basement/enclosure/crawlspace/subgrade crawlspace)'</li><li>NA</li><li>'Lowest floor above ground level and higher floors (No basement/enclosure/crawlspace/subgrade crawlspace)'</li><li>'Basement/Enclosure/Crawlspace/Subgrade Crawlspace and above'</li><li>'Above ground level more than one full floor'</li><li>'Manufactured (mobile) home or travel trailer on foundation'</li><li>'Basement/Enclosure/Crawlspace/Subgrade Crawlspace only'</li></ol>\n"
      ],
      "text/latex": [
       "\\begin{enumerate*}\n",
       "\\item 'Lowest floor only above ground level (No basement/enclosure/crawlspace/subgrade crawlspace)'\n",
       "\\item NA\n",
       "\\item 'Lowest floor above ground level and higher floors (No basement/enclosure/crawlspace/subgrade crawlspace)'\n",
       "\\item 'Basement/Enclosure/Crawlspace/Subgrade Crawlspace and above'\n",
       "\\item 'Above ground level more than one full floor'\n",
       "\\item 'Manufactured (mobile) home or travel trailer on foundation'\n",
       "\\item 'Basement/Enclosure/Crawlspace/Subgrade Crawlspace only'\n",
       "\\end{enumerate*}\n"
      ],
      "text/markdown": [
       "1. 'Lowest floor only above ground level (No basement/enclosure/crawlspace/subgrade crawlspace)'\n",
       "2. NA\n",
       "3. 'Lowest floor above ground level and higher floors (No basement/enclosure/crawlspace/subgrade crawlspace)'\n",
       "4. 'Basement/Enclosure/Crawlspace/Subgrade Crawlspace and above'\n",
       "5. 'Above ground level more than one full floor'\n",
       "6. 'Manufactured (mobile) home or travel trailer on foundation'\n",
       "7. 'Basement/Enclosure/Crawlspace/Subgrade Crawlspace only'\n",
       "\n",
       "\n"
      ],
      "text/plain": [
       "[1] \"Lowest floor only above ground level (No basement/enclosure/crawlspace/subgrade crawlspace)\"             \n",
       "[2] NA                                                                                                        \n",
       "[3] \"Lowest floor above ground level and higher floors (No basement/enclosure/crawlspace/subgrade crawlspace)\"\n",
       "[4] \"Basement/Enclosure/Crawlspace/Subgrade Crawlspace and above\"                                             \n",
       "[5] \"Above ground level more than one full floor\"                                                             \n",
       "[6] \"Manufactured (mobile) home or travel trailer on foundation\"                                              \n",
       "[7] \"Basement/Enclosure/Crawlspace/Subgrade Crawlspace only\"                                                  "
      ]
     },
     "metadata": {},
     "output_type": "display_data"
    },
    {
     "data": {
      "text/html": [
       "<style>\n",
       ".list-inline {list-style: none; margin:0; padding: 0}\n",
       ".list-inline>li {display: inline-block}\n",
       ".list-inline>li:not(:last-child)::after {content: \"\\00b7\"; padding: 0 .5ex}\n",
       "</style>\n",
       "<ol class=list-inline><li>'N'</li><li>'U'</li><li>'L'</li><li>'H'</li><li>'A'</li><li>NA</li></ol>\n"
      ],
      "text/latex": [
       "\\begin{enumerate*}\n",
       "\\item 'N'\n",
       "\\item 'U'\n",
       "\\item 'L'\n",
       "\\item 'H'\n",
       "\\item 'A'\n",
       "\\item NA\n",
       "\\end{enumerate*}\n"
      ],
      "text/markdown": [
       "1. 'N'\n",
       "2. 'U'\n",
       "3. 'L'\n",
       "4. 'H'\n",
       "5. 'A'\n",
       "6. NA\n",
       "\n",
       "\n"
      ],
      "text/plain": [
       "[1] \"N\" \"U\" \"L\" \"H\" \"A\" NA "
      ]
     },
     "metadata": {},
     "output_type": "display_data"
    },
    {
     "data": {
      "text/html": [
       "<style>\n",
       ".list-inline {list-style: none; margin:0; padding: 0}\n",
       ".list-inline>li {display: inline-block}\n",
       ".list-inline>li:not(:last-child)::after {content: \"\\00b7\"; padding: 0 .5ex}\n",
       "</style>\n",
       "<ol class=list-inline><li>'N'</li><li>'Y'</li><li>NA</li></ol>\n"
      ],
      "text/latex": [
       "\\begin{enumerate*}\n",
       "\\item 'N'\n",
       "\\item 'Y'\n",
       "\\item NA\n",
       "\\end{enumerate*}\n"
      ],
      "text/markdown": [
       "1. 'N'\n",
       "2. 'Y'\n",
       "3. NA\n",
       "\n",
       "\n"
      ],
      "text/plain": [
       "[1] \"N\" \"Y\" NA "
      ]
     },
     "metadata": {},
     "output_type": "display_data"
    },
    {
     "data": {
      "text/html": [
       "<style>\n",
       ".list-inline {list-style: none; margin:0; padding: 0}\n",
       ".list-inline>li {display: inline-block}\n",
       ".list-inline>li:not(:last-child)::after {content: \"\\00b7\"; padding: 0 .5ex}\n",
       "</style>\n",
       "<ol class=list-inline><li>'N'</li><li>'Y'</li><li>NA</li></ol>\n"
      ],
      "text/latex": [
       "\\begin{enumerate*}\n",
       "\\item 'N'\n",
       "\\item 'Y'\n",
       "\\item NA\n",
       "\\end{enumerate*}\n"
      ],
      "text/markdown": [
       "1. 'N'\n",
       "2. 'Y'\n",
       "3. NA\n",
       "\n",
       "\n"
      ],
      "text/plain": [
       "[1] \"N\" \"Y\" NA "
      ]
     },
     "metadata": {},
     "output_type": "display_data"
    },
    {
     "data": {
      "text/html": [
       "<style>\n",
       ".list-inline {list-style: none; margin:0; padding: 0}\n",
       ".list-inline>li {display: inline-block}\n",
       ".list-inline>li:not(:last-child)::after {content: \"\\00b7\"; padding: 0 .5ex}\n",
       "</style>\n",
       "<ol class=list-inline><li>'Y'</li><li>'N'</li><li>NA</li></ol>\n"
      ],
      "text/latex": [
       "\\begin{enumerate*}\n",
       "\\item 'Y'\n",
       "\\item 'N'\n",
       "\\item NA\n",
       "\\end{enumerate*}\n"
      ],
      "text/markdown": [
       "1. 'Y'\n",
       "2. 'N'\n",
       "3. NA\n",
       "\n",
       "\n"
      ],
      "text/plain": [
       "[1] \"Y\" \"N\" NA "
      ]
     },
     "metadata": {},
     "output_type": "display_data"
    },
    {
     "data": {
      "text/html": [
       "<style>\n",
       ".list-inline {list-style: none; margin:0; padding: 0}\n",
       ".list-inline>li {display: inline-block}\n",
       ".list-inline>li:not(:last-child)::after {content: \"\\00b7\"; padding: 0 .5ex}\n",
       "</style>\n",
       "<ol class=list-inline><li>'Y'</li><li>'N'</li><li>NA</li></ol>\n"
      ],
      "text/latex": [
       "\\begin{enumerate*}\n",
       "\\item 'Y'\n",
       "\\item 'N'\n",
       "\\item NA\n",
       "\\end{enumerate*}\n"
      ],
      "text/markdown": [
       "1. 'Y'\n",
       "2. 'N'\n",
       "3. NA\n",
       "\n",
       "\n"
      ],
      "text/plain": [
       "[1] \"Y\" \"N\" NA "
      ]
     },
     "metadata": {},
     "output_type": "display_data"
    }
   ],
   "source": [
    "unique(policy_df$locationofcontents)\n",
    "unique(policy_df$condominiumindicator)\n",
    "unique(policy_df$construction)\n",
    "unique(policy_df$elevatedbuildingindicator)\n",
    "unique(policy_df$postfirmconstructionindicator)\n",
    "unique(policy_df$primaryresidenceindicator)"
   ]
  },
  {
   "cell_type": "code",
   "execution_count": 84,
   "id": "b14f6e48",
   "metadata": {},
   "outputs": [],
   "source": [
    "#condominum indicator for what type of condominium, 95% for not a condominium (N), 3% for U and 3% for other\n",
    "policy_df$not_condo=ifelse(policy_df$condominiumindicator=='N',1,0)\n",
    "policy_df$u_condo=ifelse(policy_df$condominiumindicator=='U',1,0)\n",
    "\n",
    "# Construction\n",
    "policy_df$construction=ifelse(policy_df$construction=='Y',1,0)\n",
    "\n",
    "#missing means no deductible\n",
    "#imputing the deductibles column\n",
    "policy_df$deductibleamountincontentscoverage[policy_df$deductibleamountincontentscoverage=='0']=500\n",
    "policy_df$deductibleamountincontentscoverage[policy_df$deductibleamountincontentscoverage=='1']=1000\n",
    "policy_df$deductibleamountincontentscoverage[policy_df$deductibleamountincontentscoverage=='2']=2000\n",
    "policy_df$deductibleamountincontentscoverage[policy_df$deductibleamountincontentscoverage=='3']=3000\n",
    "policy_df$deductibleamountincontentscoverage[policy_df$deductibleamountincontentscoverage=='4']=4000\n",
    "policy_df$deductibleamountincontentscoverage[policy_df$deductibleamountincontentscoverage=='5']=5000\n",
    "policy_df$deductibleamountincontentscoverage[policy_df$deductibleamountincontentscoverage=='9']=750\n",
    "policy_df$deductibleamountincontentscoverage[policy_df$deductibleamountincontentscoverage=='A']=10000\n",
    "policy_df$deductibleamountincontentscoverage[policy_df$deductibleamountincontentscoverage=='B']=15000\n",
    "policy_df$deductibleamountincontentscoverage[policy_df$deductibleamountincontentscoverage=='C']=20000\n",
    "policy_df$deductibleamountincontentscoverage[policy_df$deductibleamountincontentscoverage=='D']=25000\n",
    "policy_df$deductibleamountincontentscoverage[policy_df$deductibleamountincontentscoverage=='E']=50000\n",
    "policy_df$deductibleamountincontentscoverage[policy_df$deductibleamountincontentscoverage=='F']=1250\n",
    "policy_df$deductibleamountincontentscoverage[policy_df$deductibleamountincontentscoverage=='G']=1500\n",
    "\n",
    "policy_df$deductibleamountincontentscoverage[is.na(policy_df$deductibleamountincontentscoverage)]=0\n",
    "\n",
    "\n",
    "policy_df$deductibleamountinbuildingcoverage[policy_df$deductibleamountinbuildingcoverage=='0']=500\n",
    "policy_df$deductibleamountinbuildingcoverage[policy_df$deductibleamountinbuildingcoverage=='1']=1000\n",
    "policy_df$deductibleamountinbuildingcoverage[policy_df$deductibleamountinbuildingcoverage=='2']=2000\n",
    "policy_df$deductibleamountinbuildingcoverage[policy_df$deductibleamountinbuildingcoverage=='3']=3000\n",
    "policy_df$deductibleamountinbuildingcoverage[policy_df$deductibleamountinbuildingcoverage=='4']=4000\n",
    "policy_df$deductibleamountinbuildingcoverage[policy_df$deductibleamountinbuildingcoverage=='5']=5000\n",
    "policy_df$deductibleamountinbuildingcoverage[policy_df$deductibleamountinbuildingcoverage=='9']=750\n",
    "policy_df$deductibleamountinbuildingcoverage[policy_df$deductibleamountinbuildingcoverage=='A']=10000\n",
    "policy_df$deductibleamountinbuildingcoverage[policy_df$deductibleamountinbuildingcoverage=='B']=15000\n",
    "policy_df$deductibleamountinbuildingcoverage[policy_df$deductibleamountinbuildingcoverage=='C']=20000\n",
    "policy_df$deductibleamountinbuildingcoverage[policy_df$deductibleamountinbuildingcoverage=='D']=25000\n",
    "policy_df$deductibleamountinbuildingcoverage[policy_df$deductibleamountinbuildingcoverage=='E']=50000\n",
    "policy_df$deductibleamountinbuildingcoverage[policy_df$deductibleamountinbuildingcoverage=='F']=1250\n",
    "policy_df$deductibleamountinbuildingcoverage[policy_df$deductibleamountinbuildingcoverage=='G']=1500\n",
    "\n",
    "policy_df$deductibleamountinbuildingcoverage[is.na(policy_df$deductibleamountinbuildingcoverage)]=0\n",
    "\n",
    "#elevatedbuildingindicator\n",
    "policy_df$elevatedbuildingindicator=ifelse(policy_df$elevatedbuildingindicator=='Y',1,0)\n",
    "#postfirmconstructionindicator\n",
    "policy_df$postfirmconstructionindicator=ifelse(policy_df$postfirmconstructionindicator=='Y',1,0)\n",
    "#primaryresidenceindicator\n",
    "policy_df$primaryresidenceindicator=ifelse(policy_df$primaryresidenceindicator=='Y',1,0)\n",
    "\n",
    "\n",
    "#imputing locationofcontents with mode\n",
    "val <- unique(policy_df$locationofcontents[!is.na(policy_df$locationofcontents)])                   \n",
    "my_mode <- val[which.max(tabulate(match(policy_df$locationofcontents, val)))]\n",
    "\n",
    "# making 2 dataframes\n",
    "policy_df0 = policy_df # 0 imputation\n",
    "policy_dfmode = policy_df #mode imputation\n",
    "\n",
    "#imputing locationofcontents with 0\n",
    "policy_df0$locationofcontents[is.na(policy_df0$locationofcontents)]=0\n",
    "\n",
    "#imputing locationofcontents with mode\n",
    "policy_dfmode$locationofcontents[is.na(policy_dfmode$locationofcontents)]=my_mode\n",
    "\n",
    "#Factor the locationofcontents column \n",
    "policy_df0$lowerflooronly=ifelse(policy_df0$locationofcontents=='Lowest floor only above ground level (No basement/enclosure/crawlspace/subgrade crawlspace)',1,0)\n",
    "policy_df0$upperandlowerfloors=ifelse(policy_df0$locationofcontents=='Lowest floor above ground level and higher floors (No basement/enclosure/crawlspace/subgrade crawlspace)',1,0)\n",
    "policy_df0$basementandabove=ifelse(policy_df0$locationofcontents=='Basement/Enclosure/Crawlspace/Subgrade Crawlspace and above',1,0)\n",
    "policy_df0$basementonly=ifelse(policy_df0$locationofcontents=='Basement/Enclosure/Crawlspace/Subgrade Crawlspace only',1,0)\n",
    "policy_df0$morethan1floor=ifelse(policy_df0$locationofcontents=='Above ground level more than one full floor',1,0)\n",
    "policy_df0$mobilehomeortrailer=ifelse(policy_df0$locationofcontents==' Manufactured (mobile) home or travel trailer on foundation',1,0)\n",
    "\n",
    "#repeat the above for df_policymode\n",
    "#factor the locationofcontents column \n",
    "policy_dfmode$lowerflooronly=ifelse(policy_dfmode$locationofcontents=='Lowest floor only above ground level (No basement/enclosure/crawlspace/subgrade crawlspace)',1,0)\n",
    "policy_dfmode$upperandlowerfloors=ifelse(policy_dfmode$locationofcontents=='Lowest floor above ground level and higher floors (No basement/enclosure/crawlspace/subgrade crawlspace)',1,0)\n",
    "policy_dfmode$basementandabove=ifelse(policy_dfmode$locationofcontents=='Basement/Enclosure/Crawlspace/Subgrade Crawlspace and above',1,0)\n",
    "policy_dfmode$basementonly=ifelse(policy_dfmode$locationofcontents=='Basement/Enclosure/Crawlspace/Subgrade Crawlspace only',1,0)\n",
    "policy_dfmode$morethan1floor=ifelse(policy_dfmode$locationofcontents=='Above ground level more than one full floor',1,0)\n",
    "policy_dfmode$mobilehomeortrailer=ifelse(policy_dfmode$locationofcontents==' Manufactured (mobile) home or travel trailer on foundation',1,0)"
   ]
  },
  {
   "cell_type": "code",
   "execution_count": 85,
   "id": "dd28dfdf",
   "metadata": {},
   "outputs": [
    {
     "data": {
      "text/html": [
       "<style>\n",
       ".dl-inline {width: auto; margin:0; padding: 0}\n",
       ".dl-inline>dt, .dl-inline>dd {float: none; width: auto; display: inline-block}\n",
       ".dl-inline>dt::after {content: \":\\0020\"; padding-right: .5ex}\n",
       ".dl-inline>dt:not(:first-of-type) {padding-left: .5ex}\n",
       "</style><dl class=dl-inline><dt>basementenclosurecrawlspacetype</dt><dd>53</dd><dt>censustract</dt><dd>15177</dd><dt>condominiumindicator</dt><dd>1</dd><dt>construction</dt><dd>1</dd><dt>crsdiscount</dt><dd>0</dd><dt>deductibleamountinbuildingcoverage</dt><dd>0</dd><dt>deductibleamountincontentscoverage</dt><dd>0</dd><dt>elevatedbuildingindicator</dt><dd>17</dd><dt>elevationdifference</dt><dd>0</dd><dt>federalpolicyfee</dt><dd>0</dd><dt>floodzone</dt><dd>7307</dd><dt>latitude</dt><dd>15177</dd><dt>locationofcontents</dt><dd>0</dd><dt>longitude</dt><dd>15177</dd><dt>numberoffloorsininsuredbuilding</dt><dd>7315</dd><dt>occupancytype</dt><dd>1</dd><dt>originalconstructiondate</dt><dd>7565</dd><dt>originalnbdate</dt><dd>0</dd><dt>policycost</dt><dd>0</dd><dt>policycount</dt><dd>0</dd><dt>policyeffectivedate</dt><dd>0</dd><dt>policyterminationdate</dt><dd>0</dd><dt>policytermindicator</dt><dd>0</dd><dt>postfirmconstructionindicator</dt><dd>7565</dd><dt>primaryresidenceindicator</dt><dd>1481</dd><dt>reportedzipcode</dt><dd>0</dd><dt>ratemethod</dt><dd>4580</dd><dt>totalbuildinginsurancecoverage</dt><dd>0</dd><dt>totalcontentsinsurancecoverage</dt><dd>0</dd><dt>totalinsurancepremiumofthepolicy</dt><dd>0</dd><dt>not_condo</dt><dd>1</dd><dt>u_condo</dt><dd>1</dd><dt>lowerflooronly</dt><dd>0</dd><dt>upperandlowerfloors</dt><dd>0</dd><dt>basementandabove</dt><dd>0</dd><dt>basementonly</dt><dd>0</dd><dt>morethan1floor</dt><dd>0</dd><dt>mobilehomeortrailer</dt><dd>0</dd></dl>\n"
      ],
      "text/latex": [
       "\\begin{description*}\n",
       "\\item[basementenclosurecrawlspacetype] 53\n",
       "\\item[censustract] 15177\n",
       "\\item[condominiumindicator] 1\n",
       "\\item[construction] 1\n",
       "\\item[crsdiscount] 0\n",
       "\\item[deductibleamountinbuildingcoverage] 0\n",
       "\\item[deductibleamountincontentscoverage] 0\n",
       "\\item[elevatedbuildingindicator] 17\n",
       "\\item[elevationdifference] 0\n",
       "\\item[federalpolicyfee] 0\n",
       "\\item[floodzone] 7307\n",
       "\\item[latitude] 15177\n",
       "\\item[locationofcontents] 0\n",
       "\\item[longitude] 15177\n",
       "\\item[numberoffloorsininsuredbuilding] 7315\n",
       "\\item[occupancytype] 1\n",
       "\\item[originalconstructiondate] 7565\n",
       "\\item[originalnbdate] 0\n",
       "\\item[policycost] 0\n",
       "\\item[policycount] 0\n",
       "\\item[policyeffectivedate] 0\n",
       "\\item[policyterminationdate] 0\n",
       "\\item[policytermindicator] 0\n",
       "\\item[postfirmconstructionindicator] 7565\n",
       "\\item[primaryresidenceindicator] 1481\n",
       "\\item[reportedzipcode] 0\n",
       "\\item[ratemethod] 4580\n",
       "\\item[totalbuildinginsurancecoverage] 0\n",
       "\\item[totalcontentsinsurancecoverage] 0\n",
       "\\item[totalinsurancepremiumofthepolicy] 0\n",
       "\\item[not\\textbackslash{}\\_condo] 1\n",
       "\\item[u\\textbackslash{}\\_condo] 1\n",
       "\\item[lowerflooronly] 0\n",
       "\\item[upperandlowerfloors] 0\n",
       "\\item[basementandabove] 0\n",
       "\\item[basementonly] 0\n",
       "\\item[morethan1floor] 0\n",
       "\\item[mobilehomeortrailer] 0\n",
       "\\end{description*}\n"
      ],
      "text/markdown": [
       "basementenclosurecrawlspacetype\n",
       ":   53censustract\n",
       ":   15177condominiumindicator\n",
       ":   1construction\n",
       ":   1crsdiscount\n",
       ":   0deductibleamountinbuildingcoverage\n",
       ":   0deductibleamountincontentscoverage\n",
       ":   0elevatedbuildingindicator\n",
       ":   17elevationdifference\n",
       ":   0federalpolicyfee\n",
       ":   0floodzone\n",
       ":   7307latitude\n",
       ":   15177locationofcontents\n",
       ":   0longitude\n",
       ":   15177numberoffloorsininsuredbuilding\n",
       ":   7315occupancytype\n",
       ":   1originalconstructiondate\n",
       ":   7565originalnbdate\n",
       ":   0policycost\n",
       ":   0policycount\n",
       ":   0policyeffectivedate\n",
       ":   0policyterminationdate\n",
       ":   0policytermindicator\n",
       ":   0postfirmconstructionindicator\n",
       ":   7565primaryresidenceindicator\n",
       ":   1481reportedzipcode\n",
       ":   0ratemethod\n",
       ":   4580totalbuildinginsurancecoverage\n",
       ":   0totalcontentsinsurancecoverage\n",
       ":   0totalinsurancepremiumofthepolicy\n",
       ":   0not_condo\n",
       ":   1u_condo\n",
       ":   1lowerflooronly\n",
       ":   0upperandlowerfloors\n",
       ":   0basementandabove\n",
       ":   0basementonly\n",
       ":   0morethan1floor\n",
       ":   0mobilehomeortrailer\n",
       ":   0\n",
       "\n"
      ],
      "text/plain": [
       "   basementenclosurecrawlspacetype                        censustract \n",
       "                                53                              15177 \n",
       "              condominiumindicator                       construction \n",
       "                                 1                                  1 \n",
       "                       crsdiscount deductibleamountinbuildingcoverage \n",
       "                                 0                                  0 \n",
       "deductibleamountincontentscoverage          elevatedbuildingindicator \n",
       "                                 0                                 17 \n",
       "               elevationdifference                   federalpolicyfee \n",
       "                                 0                                  0 \n",
       "                         floodzone                           latitude \n",
       "                              7307                              15177 \n",
       "                locationofcontents                          longitude \n",
       "                                 0                              15177 \n",
       "   numberoffloorsininsuredbuilding                      occupancytype \n",
       "                              7315                                  1 \n",
       "          originalconstructiondate                     originalnbdate \n",
       "                              7565                                  0 \n",
       "                        policycost                        policycount \n",
       "                                 0                                  0 \n",
       "               policyeffectivedate              policyterminationdate \n",
       "                                 0                                  0 \n",
       "               policytermindicator      postfirmconstructionindicator \n",
       "                                 0                               7565 \n",
       "         primaryresidenceindicator                    reportedzipcode \n",
       "                              1481                                  0 \n",
       "                        ratemethod     totalbuildinginsurancecoverage \n",
       "                              4580                                  0 \n",
       "    totalcontentsinsurancecoverage   totalinsurancepremiumofthepolicy \n",
       "                                 0                                  0 \n",
       "                         not_condo                            u_condo \n",
       "                                 1                                  1 \n",
       "                    lowerflooronly                upperandlowerfloors \n",
       "                                 0                                  0 \n",
       "                  basementandabove                       basementonly \n",
       "                                 0                                  0 \n",
       "                    morethan1floor                mobilehomeortrailer \n",
       "                                 0                                  0 "
      ]
     },
     "metadata": {},
     "output_type": "display_data"
    }
   ],
   "source": [
    "# Number of NA values in each column\n",
    "colSums(is.na(policy_df0))"
   ]
  },
  {
   "cell_type": "code",
   "execution_count": 86,
   "id": "7f22fe22",
   "metadata": {},
   "outputs": [
    {
     "name": "stdout",
     "output_type": "stream",
     "text": [
      "tibble [2,029,540 × 36] (S3: tbl_df/tbl/data.frame)\n",
      " $ basementenclosurecrawlspacetype   : chr [1:2029540] \"0\" \"0\" \"0\" \"0\" ...\n",
      " $ censustract                       : chr [1:2029540] \"48201340800\" \"48201553200\" \"48201211700\" \"48201233500\" ...\n",
      " $ construction                      : num [1:2029540] 0 0 0 0 0 0 0 0 0 0 ...\n",
      " $ crsdiscount                       : chr [1:2029540] \"0.00\" \"0.10\" \"0.20\" \"0.00\" ...\n",
      " $ deductibleamountinbuildingcoverage: chr [1:2029540] \"1000\" \"1000\" \"1000\" \"500\" ...\n",
      " $ deductibleamountincontentscoverage: chr [1:2029540] \"1000\" \"1000\" \"1000\" \"500\" ...\n",
      " $ elevatedbuildingindicator         : num [1:2029540] 0 0 0 0 0 0 0 1 0 0 ...\n",
      " $ elevationdifference               : chr [1:2029540] \"999\" \"999\" \"999\" \"999\" ...\n",
      " $ federalpolicyfee                  : chr [1:2029540] \"13\" \"35\" \"35\" \"13\" ...\n",
      " $ floodzone                         : chr [1:2029540] \"X\" \"AE\" \"AE\" \"X\" ...\n",
      " $ latitude                          : chr [1:2029540] \"29.6\" \"30.0\" \"29.8\" \"29.8\" ...\n",
      " $ longitude                         : chr [1:2029540] \"-95.1\" \"-95.5\" \"-95.3\" \"-95.2\" ...\n",
      " $ numberoffloorsininsuredbuilding   : chr [1:2029540] \"2\" \"2\" \"1\" \"1\" ...\n",
      " $ occupancytype                     : chr [1:2029540] \"1\" \"1\" \"1\" \"1\" ...\n",
      " $ originalconstructiondate          : chr [1:2029540] \"1988-07-15\" \"1973-01-01\" \"1970-01-01\" \"1958-01-01\" ...\n",
      " $ originalnbdate                    : chr [1:2029540] \"2009-11-23\" \"2002-11-02\" \"2002-08-07\" \"2006-07-02\" ...\n",
      " $ policycost                        : chr [1:2029540] \"348\" \"1698\" \"920\" \"230\" ...\n",
      " $ policycount                       : chr [1:2029540] \"1\" \"1\" \"1\" \"1\" ...\n",
      " $ policyeffectivedate               : chr [1:2029540] \"2009-11-23\" \"2009-11-02\" \"2009-08-07\" \"2009-07-02\" ...\n",
      " $ policyterminationdate             : chr [1:2029540] \"2010-11-23\" \"2010-11-02\" \"2010-04-11\" \"2010-07-02\" ...\n",
      " $ policytermindicator               : chr [1:2029540] \"1\" \"1\" \"1\" \"1\" ...\n",
      " $ postfirmconstructionindicator     : num [1:2029540] 1 0 0 0 0 0 0 1 0 0 ...\n",
      " $ primaryresidenceindicator         : num [1:2029540] 1 1 1 1 1 0 1 0 1 1 ...\n",
      " $ reportedzipcode                   : chr [1:2029540] \"77062\" \"77090\" \"77026\" \"77029\" ...\n",
      " $ ratemethod                        : chr [1:2029540] \"7\" \"1\" \"1\" \"7\" ...\n",
      " $ totalbuildinginsurancecoverage    : chr [1:2029540] \"250000\" \"185200\" \"116100\" \"75000\" ...\n",
      " $ totalcontentsinsurancecoverage    : chr [1:2029540] \"100000\" \"44600\" \"30500\" \"30000\" ...\n",
      " $ totalinsurancepremiumofthepolicy  : chr [1:2029540] \"335\" \"1663\" \"885\" \"217\" ...\n",
      " $ not_condo                         : num [1:2029540] 1 1 1 1 1 1 1 1 1 1 ...\n",
      " $ u_condo                           : num [1:2029540] 0 0 0 0 0 0 0 0 0 0 ...\n",
      " $ lowerflooronly                    : num [1:2029540] 1 0 1 1 0 1 0 0 1 0 ...\n",
      " $ upperandlowerfloors               : num [1:2029540] 0 0 0 0 1 0 1 0 0 1 ...\n",
      " $ basementandabove                  : num [1:2029540] 0 0 0 0 0 0 0 0 0 0 ...\n",
      " $ basementonly                      : num [1:2029540] 0 0 0 0 0 0 0 0 0 0 ...\n",
      " $ morethan1floor                    : num [1:2029540] 0 0 0 0 0 0 0 0 0 0 ...\n",
      " $ mobilehomeortrailer               : num [1:2029540] 0 0 0 0 0 0 0 0 0 0 ...\n"
     ]
    }
   ],
   "source": [
    "# Continue remove category variables which have been replaced as above\n",
    "\n",
    "df = subset(policy_df0,select=-c(condominiumindicator, locationofcontents))\n",
    "dfmode = subset(policy_dfmode,select=-c(condominiumindicator, locationofcontents))\n",
    "## Type of data in all columns\n",
    "str(df)"
   ]
  },
  {
   "cell_type": "code",
   "execution_count": 87,
   "id": "c009c185",
   "metadata": {},
   "outputs": [],
   "source": [
    "# Convert all date from numeric to date format\n",
    "date_cols <- c(\"originalconstructiondate\", \"originalnbdate\", \"policyeffectivedate\", \"policyterminationdate\")\n",
    "df1 <- df %>%\n",
    "   mutate_at(vars(all_of(date_cols)), funs(as.Date(., \"%Y-%m-%d\")))\n",
    "dfmode1 <- dfmode %>%\n",
    "   mutate_at(vars(all_of(date_cols)), funs(as.Date(., \"%Y-%m-%d\")))"
   ]
  },
  {
   "cell_type": "code",
   "execution_count": 88,
   "id": "0937307b",
   "metadata": {},
   "outputs": [
    {
     "name": "stderr",
     "output_type": "stream",
     "text": [
      "Warning message in apply(df2[, chars], 2, as.numeric):\n",
      "\"NAs introduced by coercion\"\n"
     ]
    },
    {
     "name": "stdout",
     "output_type": "stream",
     "text": [
      "tibble [2,029,540 × 37] (S3: tbl_df/tbl/data.frame)\n",
      " $ basementenclosurecrawlspacetype   : num [1:2029540] 0 0 0 0 0 0 0 2 0 0 ...\n",
      " $ censustract                       : num [1:2029540] 4.82e+10 4.82e+10 4.82e+10 4.82e+10 4.82e+10 ...\n",
      " $ construction                      : num [1:2029540] 0 0 0 0 0 0 0 0 0 0 ...\n",
      " $ crsdiscount                       : num [1:2029540] 0 0.1 0.2 0 0 0 0 0.25 0 0 ...\n",
      " $ deductibleamountinbuildingcoverage: num [1:2029540] 1000 1000 1000 500 1000 1000 500 1000 500 500 ...\n",
      " $ deductibleamountincontentscoverage: num [1:2029540] 1000 1000 1000 500 1000 1000 500 500 500 500 ...\n",
      " $ elevatedbuildingindicator         : num [1:2029540] 0 0 0 0 0 0 0 1 0 0 ...\n",
      " $ elevationdifference               : num [1:2029540] 999 999 999 999 999 999 999 2 999 999 ...\n",
      " $ federalpolicyfee                  : num [1:2029540] 13 35 35 13 13 13 13 35 13 13 ...\n",
      " $ latitude                          : num [1:2029540] 29.6 30 29.8 29.8 29.8 29.6 29.8 29.8 30 29.8 ...\n",
      " $ longitude                         : num [1:2029540] -95.1 -95.5 -95.3 -95.2 -95.4 -95.5 -95.6 -95.4 -95.4 -95.5 ...\n",
      " $ numberoffloorsininsuredbuilding   : num [1:2029540] 2 2 1 1 2 1 2 2 1 2 ...\n",
      " $ occupancytype                     : num [1:2029540] 1 1 1 1 1 1 1 1 1 1 ...\n",
      " $ originalconstructiondate          : Date[1:2029540], format: \"1988-07-15\" \"1973-01-01\" ...\n",
      " $ originalnbdate                    : Date[1:2029540], format: \"2009-11-23\" \"2002-11-02\" ...\n",
      " $ policycount                       : num [1:2029540] 1 1 1 1 1 1 1 1 1 1 ...\n",
      " $ policyeffectivedate               : Date[1:2029540], format: \"2009-11-23\" \"2009-11-02\" ...\n",
      " $ policyterminationdate             : Date[1:2029540], format: \"2010-11-23\" \"2010-11-02\" ...\n",
      " $ policytermindicator               : num [1:2029540] 1 1 1 1 1 1 1 1 1 1 ...\n",
      " $ postfirmconstructionindicator     : num [1:2029540] 1 0 0 0 0 0 0 1 0 0 ...\n",
      " $ primaryresidenceindicator         : num [1:2029540] 1 1 1 1 1 0 1 0 1 1 ...\n",
      " $ reportedzipcode                   : num [1:2029540] 77062 77090 77026 77029 77018 ...\n",
      " $ ratemethod                        : num [1:2029540] 7 1 1 7 7 7 7 1 7 7 ...\n",
      " $ totalbuildinginsurancecoverage    : num [1:2029540] 250000 185200 116100 75000 250000 ...\n",
      " $ totalcontentsinsurancecoverage    : num [1:2029540] 100000 44600 30500 30000 100000 60000 100000 0 50000 100000 ...\n",
      " $ totalinsurancepremiumofthepolicy  : num [1:2029540] 335 1663 885 217 335 ...\n",
      " $ not_condo                         : num [1:2029540] 1 1 1 1 1 1 1 1 1 1 ...\n",
      " $ u_condo                           : num [1:2029540] 0 0 0 0 0 0 0 0 0 0 ...\n",
      " $ lowerflooronly                    : num [1:2029540] 1 0 1 1 0 1 0 0 1 0 ...\n",
      " $ upperandlowerfloors               : num [1:2029540] 0 0 0 0 1 0 1 0 0 1 ...\n",
      " $ basementandabove                  : num [1:2029540] 0 0 0 0 0 0 0 0 0 0 ...\n",
      " $ basementonly                      : num [1:2029540] 0 0 0 0 0 0 0 0 0 0 ...\n",
      " $ morethan1floor                    : num [1:2029540] 0 0 0 0 0 0 0 0 0 0 ...\n",
      " $ mobilehomeortrailer               : num [1:2029540] 0 0 0 0 0 0 0 0 0 0 ...\n",
      " $ floodzone_highrisk                : num [1:2029540] 0 1 1 0 0 0 0 1 0 0 ...\n",
      " $ floodzone_modrisk                 : num [1:2029540] 1 0 0 1 1 1 1 0 1 1 ...\n",
      " $ floodzone_undetermined            : num [1:2029540] 0 0 0 0 0 0 0 0 0 0 ...\n"
     ]
    },
    {
     "name": "stderr",
     "output_type": "stream",
     "text": [
      "Warning message in apply(dfmode2[, chars], 2, as.numeric):\n",
      "\"NAs introduced by coercion\"\n"
     ]
    },
    {
     "name": "stdout",
     "output_type": "stream",
     "text": [
      "tibble [2,029,540 × 37] (S3: tbl_df/tbl/data.frame)\n",
      " $ basementenclosurecrawlspacetype   : num [1:2029540] 0 0 0 0 0 0 0 2 0 0 ...\n",
      " $ censustract                       : num [1:2029540] 4.82e+10 4.82e+10 4.82e+10 4.82e+10 4.82e+10 ...\n",
      " $ construction                      : num [1:2029540] 0 0 0 0 0 0 0 0 0 0 ...\n",
      " $ crsdiscount                       : num [1:2029540] 0 0.1 0.2 0 0 0 0 0.25 0 0 ...\n",
      " $ deductibleamountinbuildingcoverage: num [1:2029540] 1000 1000 1000 500 1000 1000 500 1000 500 500 ...\n",
      " $ deductibleamountincontentscoverage: num [1:2029540] 1000 1000 1000 500 1000 1000 500 500 500 500 ...\n",
      " $ elevatedbuildingindicator         : num [1:2029540] 0 0 0 0 0 0 0 1 0 0 ...\n",
      " $ elevationdifference               : num [1:2029540] 999 999 999 999 999 999 999 2 999 999 ...\n",
      " $ federalpolicyfee                  : num [1:2029540] 13 35 35 13 13 13 13 35 13 13 ...\n",
      " $ latitude                          : num [1:2029540] 29.6 30 29.8 29.8 29.8 29.6 29.8 29.8 30 29.8 ...\n",
      " $ longitude                         : num [1:2029540] -95.1 -95.5 -95.3 -95.2 -95.4 -95.5 -95.6 -95.4 -95.4 -95.5 ...\n",
      " $ numberoffloorsininsuredbuilding   : num [1:2029540] 2 2 1 1 2 1 2 2 1 2 ...\n",
      " $ occupancytype                     : num [1:2029540] 1 1 1 1 1 1 1 1 1 1 ...\n",
      " $ originalconstructiondate          : Date[1:2029540], format: \"1988-07-15\" \"1973-01-01\" ...\n",
      " $ originalnbdate                    : Date[1:2029540], format: \"2009-11-23\" \"2002-11-02\" ...\n",
      " $ policycount                       : num [1:2029540] 1 1 1 1 1 1 1 1 1 1 ...\n",
      " $ policyeffectivedate               : Date[1:2029540], format: \"2009-11-23\" \"2009-11-02\" ...\n",
      " $ policyterminationdate             : Date[1:2029540], format: \"2010-11-23\" \"2010-11-02\" ...\n",
      " $ policytermindicator               : num [1:2029540] 1 1 1 1 1 1 1 1 1 1 ...\n",
      " $ postfirmconstructionindicator     : num [1:2029540] 1 0 0 0 0 0 0 1 0 0 ...\n",
      " $ primaryresidenceindicator         : num [1:2029540] 1 1 1 1 1 0 1 0 1 1 ...\n",
      " $ reportedzipcode                   : num [1:2029540] 77062 77090 77026 77029 77018 ...\n",
      " $ ratemethod                        : num [1:2029540] 7 1 1 7 7 7 7 1 7 7 ...\n",
      " $ totalbuildinginsurancecoverage    : num [1:2029540] 250000 185200 116100 75000 250000 ...\n",
      " $ totalcontentsinsurancecoverage    : num [1:2029540] 100000 44600 30500 30000 100000 60000 100000 0 50000 100000 ...\n",
      " $ totalinsurancepremiumofthepolicy  : num [1:2029540] 335 1663 885 217 335 ...\n",
      " $ not_condo                         : num [1:2029540] 1 1 1 1 1 1 1 1 1 1 ...\n",
      " $ u_condo                           : num [1:2029540] 0 0 0 0 0 0 0 0 0 0 ...\n",
      " $ lowerflooronly                    : num [1:2029540] 1 0 1 1 0 1 0 0 1 0 ...\n",
      " $ upperandlowerfloors               : num [1:2029540] 0 0 0 0 1 0 1 0 0 1 ...\n",
      " $ basementandabove                  : num [1:2029540] 0 0 0 0 0 0 0 0 0 0 ...\n",
      " $ basementonly                      : num [1:2029540] 0 0 0 0 0 0 0 0 0 0 ...\n",
      " $ morethan1floor                    : num [1:2029540] 0 0 0 0 0 0 0 0 0 0 ...\n",
      " $ mobilehomeortrailer               : num [1:2029540] 0 0 0 0 0 0 0 0 0 0 ...\n",
      " $ floodzone_highrisk                : num [1:2029540] 0 1 1 0 0 0 0 1 0 0 ...\n",
      " $ floodzone_modrisk                 : num [1:2029540] 1 0 0 1 1 1 1 0 1 1 ...\n",
      " $ floodzone_undetermined            : num [1:2029540] 0 0 0 0 0 0 0 0 0 0 ...\n"
     ]
    }
   ],
   "source": [
    "#floodzones\n",
    "# high risk if starts with A or V\n",
    "df1$floodzone_highrisk <- ifelse( (startsWith(df1$floodzone, 'A') | (startsWith(df1$floodzone, 'V'))),1,0)\n",
    "# moderate-to-low risk if starts with B, C or X\n",
    "df1$floodzone_modrisk <- ifelse( (startsWith(df1$floodzone, 'B') | (startsWith(df1$floodzone, 'C')) | (startsWith(df1$floodzone, 'X'))),1,0)\n",
    "# possible but undetermined flood hazards: starts with D\n",
    "df1$floodzone_undetermined <- ifelse( (startsWith(df1$floodzone, 'D')) ,1,0)\n",
    "\n",
    "\n",
    "#repeat for dfmode\n",
    "dfmode1$floodzone_highrisk <- ifelse( (startsWith(dfmode1$floodzone, 'A') | (startsWith(dfmode1$floodzone, 'V'))),1,0)\n",
    "# moderate-to-low risk if starts with B, C or X\n",
    "dfmode1$floodzone_modrisk <- ifelse( (startsWith(dfmode1$floodzone, 'B') | (startsWith(dfmode1$floodzone, 'C')) | (startsWith(dfmode1$floodzone, 'X'))),1,0)\n",
    "# possible but undetermined flood hazards: starts with D\n",
    "dfmode1$floodzone_undetermined <- ifelse( (startsWith(dfmode1$floodzone, 'D')) ,1,0)\n",
    "\n",
    "#identify all character columns\n",
    "df2 <- subset(df1, select = -c(floodzone, policycost))\n",
    "# ratemethod should also be categorical; 1 - Manual 2 - Specific 3 - Alternative 4 - V-Zone Risk Factor Rating Form 5 - Underinsured Condominium Master Policy 6 - Provisional 7 - Preferred Risk Policy (PRPs issued for eligible properties located within a non-Special Flood Hazard Area [non-SFHA]) 8 - Tentative 9 - MPPP Policy \n",
    "\n",
    "chars <- sapply(df2, is.character)\n",
    "\n",
    "#convert all character columns to numeric\n",
    "df2[ , chars] <- as.data.frame(apply(df2[ , chars], 2, as.numeric))\n",
    "str(df2)\n",
    "\n",
    "#repeat for dfmode\n",
    "#identify all character columns\n",
    "dfmode2 <- subset(dfmode1, select = -c(floodzone, policycost))\n",
    "#convert all character columns to numeric\n",
    "dfmode2[ , chars] <- as.data.frame(apply(dfmode2[ , chars], 2, as.numeric))\n",
    "str(df2)"
   ]
  },
  {
   "cell_type": "code",
   "execution_count": 89,
   "id": "4dc78730",
   "metadata": {},
   "outputs": [],
   "source": [
    "rm(policy_df, policy_df0, policy_dfmode)\n",
    "rm(val, my_mode)"
   ]
  },
  {
   "cell_type": "code",
   "execution_count": 90,
   "id": "39256524",
   "metadata": {},
   "outputs": [],
   "source": [
    "# Remove negative values for premium and fee\n",
    "df2 <- df2[df2$federalpolicyfee >= 0, ]\n",
    "df2 <- df2[df2$totalinsurancepremiumofthepolicy >= 0, ]\n",
    "\n",
    "# repeat for dfmode2\n",
    "dfmode2 <- dfmode2[dfmode2$federalpolicyfee >= 0, ]\n",
    "dfmode2 <- dfmode2[dfmode2$totalinsurancepremiumofthepolicy >= 0, ]"
   ]
  },
  {
   "cell_type": "code",
   "execution_count": 27,
   "id": "4fdb01ac",
   "metadata": {},
   "outputs": [
    {
     "name": "stderr",
     "output_type": "stream",
     "text": [
      "`stat_bin()` using `bins = 30`. Pick better value with `binwidth`.\n",
      "\n"
     ]
    },
    {
     "data": {
      "text/html": [
       "<strong>jpeg:</strong> 3"
      ],
      "text/latex": [
       "\\textbf{jpeg:} 3"
      ],
      "text/markdown": [
       "**jpeg:** 3"
      ],
      "text/plain": [
       "jpeg \n",
       "   3 "
      ]
     },
     "metadata": {},
     "output_type": "display_data"
    },
    {
     "data": {
      "text/html": [
       "<strong>png:</strong> 2"
      ],
      "text/latex": [
       "\\textbf{png:} 2"
      ],
      "text/markdown": [
       "**png:** 2"
      ],
      "text/plain": [
       "png \n",
       "  2 "
      ]
     },
     "metadata": {},
     "output_type": "display_data"
    },
    {
     "data": {
      "image/png": "[encoded data removed]",
      "text/plain": [
       "plot without title"
      ]
     },
     "metadata": {
      "image/png": {
       "height": 420,
       "width": 420
      }
     },
     "output_type": "display_data"
    }
   ],
   "source": [
    "ggplot(df2, aes(x = totalinsurancepremiumofthepolicy, fill = cut(x=totalinsurancepremiumofthepolicy, 100))) +\n",
    "  geom_histogram(show.legend = FALSE) +\n",
    "  scale_fill_discrete(h = c(240, 10), c = 120, l = 70) +\n",
    "  theme_minimal() +\n",
    "  labs(x = \"Total Insurance Premium\", y = \"Frequency\") +\n",
    "  ggtitle(\"Histogram of Total Insurance Premium\")\n",
    "\n",
    "dev.copy(jpeg,filename=\"Histogram of Total Insurance Premium_Original.jpg\");\n",
    "dev.off ()"
   ]
  },
  {
   "cell_type": "code",
   "execution_count": 31,
   "id": "2480b953",
   "metadata": {},
   "outputs": [
    {
     "data": {
      "text/plain": [
       "   Min. 1st Qu.  Median    Mean 3rd Qu.    Max. \n",
       "    0.0   321.0   348.0   543.7   421.0 96900.0 "
      ]
     },
     "metadata": {},
     "output_type": "display_data"
    },
    {
     "data": {
      "text/html": [
       "<strong>jpeg:</strong> 3"
      ],
      "text/latex": [
       "\\textbf{jpeg:} 3"
      ],
      "text/markdown": [
       "**jpeg:** 3"
      ],
      "text/plain": [
       "jpeg \n",
       "   3 "
      ]
     },
     "metadata": {},
     "output_type": "display_data"
    },
    {
     "data": {
      "text/html": [
       "<strong>png:</strong> 2"
      ],
      "text/latex": [
       "\\textbf{png:} 2"
      ],
      "text/markdown": [
       "**png:** 2"
      ],
      "text/plain": [
       "png \n",
       "  2 "
      ]
     },
     "metadata": {},
     "output_type": "display_data"
    },
    {
     "data": {
      "image/png": "[encoded data removed]",
      "text/plain": [
       "plot without title"
      ]
     },
     "metadata": {
      "image/png": {
       "height": 420,
       "width": 420
      }
     },
     "output_type": "display_data"
    }
   ],
   "source": [
    "summary(df2$totalinsurancepremiumofthepolicy)\n",
    "ggplot(data = df2, aes(x=totalinsurancepremiumofthepolicy)) + geom_density(alpha = 0.5)+\n",
    "        labs(x = \"Total Insurance Premium\", y = \"Frequency\")+\n",
    "                ggtitle(\"Distribution of Insurance Premium\")\n",
    "\n",
    "dev.copy(jpeg,filename=\"Distribution of Total Insurance Premium_Original.jpg\");\n",
    "dev.off ()"
   ]
  },
  {
   "cell_type": "code",
   "execution_count": 91,
   "id": "843a9d13",
   "metadata": {},
   "outputs": [],
   "source": [
    "# As the number of totalinsurancepremiumofthepolicy > 3000 is only 0.1% then we remove all\n",
    "# rows with the value higher than 5000 to eleminate error\n",
    "\n",
    "df2 <- df2[(df2$totalinsurancepremiumofthepolicy < 3000),]\n",
    "dfmode2 <- dfmode2[(dfmode2$totalinsurancepremiumofthepolicy < 3000),]"
   ]
  },
  {
   "cell_type": "code",
   "execution_count": 29,
   "id": "2e2cd967",
   "metadata": {},
   "outputs": [
    {
     "name": "stderr",
     "output_type": "stream",
     "text": [
      "`stat_bin()` using `bins = 30`. Pick better value with `binwidth`.\n",
      "\n"
     ]
    },
    {
     "data": {
      "text/html": [
       "<strong>jpeg:</strong> 3"
      ],
      "text/latex": [
       "\\textbf{jpeg:} 3"
      ],
      "text/markdown": [
       "**jpeg:** 3"
      ],
      "text/plain": [
       "jpeg \n",
       "   3 "
      ]
     },
     "metadata": {},
     "output_type": "display_data"
    },
    {
     "data": {
      "text/html": [
       "<strong>png:</strong> 2"
      ],
      "text/latex": [
       "\\textbf{png:} 2"
      ],
      "text/markdown": [
       "**png:** 2"
      ],
      "text/plain": [
       "png \n",
       "  2 "
      ]
     },
     "metadata": {},
     "output_type": "display_data"
    },
    {
     "data": {
      "image/png": "[encoded data removed]",
      "text/plain": [
       "plot without title"
      ]
     },
     "metadata": {
      "image/png": {
       "height": 420,
       "width": 420
      }
     },
     "output_type": "display_data"
    }
   ],
   "source": [
    "ggplot(df2, aes(x = totalinsurancepremiumofthepolicy, fill = cut(x=totalinsurancepremiumofthepolicy, 100))) +\n",
    "  geom_histogram(show.legend = FALSE) +\n",
    "  scale_fill_discrete(h = c(240, 10), c = 120, l = 70) +\n",
    "  theme_minimal() +\n",
    "  labs(x = \"Total Insurance Premium\", y = \"Frequency\") +\n",
    "  ggtitle(\"Histogram of Total Insurance Premium\")\n",
    "\n",
    "dev.copy(jpeg,filename=\"Histogram of Total Insurance Premium_Final.jpg\");\n",
    "dev.off ()"
   ]
  },
  {
   "cell_type": "code",
   "execution_count": 34,
   "id": "6f2e04d6",
   "metadata": {},
   "outputs": [
    {
     "data": {
      "text/html": [
       "<strong>jpeg:</strong> 3"
      ],
      "text/latex": [
       "\\textbf{jpeg:} 3"
      ],
      "text/markdown": [
       "**jpeg:** 3"
      ],
      "text/plain": [
       "jpeg \n",
       "   3 "
      ]
     },
     "metadata": {},
     "output_type": "display_data"
    },
    {
     "data": {
      "text/html": [
       "<strong>png:</strong> 2"
      ],
      "text/latex": [
       "\\textbf{png:} 2"
      ],
      "text/markdown": [
       "**png:** 2"
      ],
      "text/plain": [
       "png \n",
       "  2 "
      ]
     },
     "metadata": {},
     "output_type": "display_data"
    },
    {
     "data": {
      "image/png": "[encoded data removed]",
      "text/plain": [
       "plot without title"
      ]
     },
     "metadata": {
      "image/png": {
       "height": 420,
       "width": 420
      }
     },
     "output_type": "display_data"
    }
   ],
   "source": [
    "ggplot(data = df2, aes(x=totalinsurancepremiumofthepolicy)) + geom_density(alpha = 0.5)+\n",
    "        labs(x = \"Total Insurance Premium\", y = \"Frequency\")+\n",
    "                ggtitle(\"Distribution of Insurance Premium\")\n",
    "\n",
    "dev.copy(jpeg,filename=\"Distribution of Total Insurance Premium_Final.jpg\");\n",
    "dev.off ()"
   ]
  },
  {
   "cell_type": "code",
   "execution_count": 92,
   "id": "cab46609",
   "metadata": {},
   "outputs": [
    {
     "data": {
      "text/html": [
       "<style>\n",
       ".dl-inline {width: auto; margin:0; padding: 0}\n",
       ".dl-inline>dt, .dl-inline>dd {float: none; width: auto; display: inline-block}\n",
       ".dl-inline>dt::after {content: \":\\0020\"; padding-right: .5ex}\n",
       ".dl-inline>dt:not(:first-of-type) {padding-left: .5ex}\n",
       "</style><dl class=dl-inline><dt>basementenclosurecrawlspacetype</dt><dd>53</dd><dt>censustract</dt><dd>14980</dd><dt>construction</dt><dd>1</dd><dt>crsdiscount</dt><dd>0</dd><dt>deductibleamountinbuildingcoverage</dt><dd>0</dd><dt>deductibleamountincontentscoverage</dt><dd>0</dd><dt>elevatedbuildingindicator</dt><dd>17</dd><dt>elevationdifference</dt><dd>0</dd><dt>federalpolicyfee</dt><dd>0</dd><dt>latitude</dt><dd>14980</dd><dt>longitude</dt><dd>14980</dd><dt>numberoffloorsininsuredbuilding</dt><dd>7315</dd><dt>occupancytype</dt><dd>1</dd><dt>originalconstructiondate</dt><dd>7409</dd><dt>originalnbdate</dt><dd>0</dd><dt>policycount</dt><dd>0</dd><dt>policyeffectivedate</dt><dd>0</dd><dt>policyterminationdate</dt><dd>0</dd><dt>policytermindicator</dt><dd>0</dd><dt>postfirmconstructionindicator</dt><dd>7409</dd><dt>primaryresidenceindicator</dt><dd>1481</dd><dt>reportedzipcode</dt><dd>0</dd><dt>ratemethod</dt><dd>83930</dd><dt>totalbuildinginsurancecoverage</dt><dd>0</dd><dt>totalcontentsinsurancecoverage</dt><dd>0</dd><dt>totalinsurancepremiumofthepolicy</dt><dd>0</dd><dt>not_condo</dt><dd>1</dd><dt>u_condo</dt><dd>1</dd><dt>lowerflooronly</dt><dd>0</dd><dt>upperandlowerfloors</dt><dd>0</dd><dt>basementandabove</dt><dd>0</dd><dt>basementonly</dt><dd>0</dd><dt>morethan1floor</dt><dd>0</dd><dt>mobilehomeortrailer</dt><dd>0</dd><dt>floodzone_highrisk</dt><dd>7307</dd><dt>floodzone_modrisk</dt><dd>7307</dd><dt>floodzone_undetermined</dt><dd>7307</dd></dl>\n"
      ],
      "text/latex": [
       "\\begin{description*}\n",
       "\\item[basementenclosurecrawlspacetype] 53\n",
       "\\item[censustract] 14980\n",
       "\\item[construction] 1\n",
       "\\item[crsdiscount] 0\n",
       "\\item[deductibleamountinbuildingcoverage] 0\n",
       "\\item[deductibleamountincontentscoverage] 0\n",
       "\\item[elevatedbuildingindicator] 17\n",
       "\\item[elevationdifference] 0\n",
       "\\item[federalpolicyfee] 0\n",
       "\\item[latitude] 14980\n",
       "\\item[longitude] 14980\n",
       "\\item[numberoffloorsininsuredbuilding] 7315\n",
       "\\item[occupancytype] 1\n",
       "\\item[originalconstructiondate] 7409\n",
       "\\item[originalnbdate] 0\n",
       "\\item[policycount] 0\n",
       "\\item[policyeffectivedate] 0\n",
       "\\item[policyterminationdate] 0\n",
       "\\item[policytermindicator] 0\n",
       "\\item[postfirmconstructionindicator] 7409\n",
       "\\item[primaryresidenceindicator] 1481\n",
       "\\item[reportedzipcode] 0\n",
       "\\item[ratemethod] 83930\n",
       "\\item[totalbuildinginsurancecoverage] 0\n",
       "\\item[totalcontentsinsurancecoverage] 0\n",
       "\\item[totalinsurancepremiumofthepolicy] 0\n",
       "\\item[not\\textbackslash{}\\_condo] 1\n",
       "\\item[u\\textbackslash{}\\_condo] 1\n",
       "\\item[lowerflooronly] 0\n",
       "\\item[upperandlowerfloors] 0\n",
       "\\item[basementandabove] 0\n",
       "\\item[basementonly] 0\n",
       "\\item[morethan1floor] 0\n",
       "\\item[mobilehomeortrailer] 0\n",
       "\\item[floodzone\\textbackslash{}\\_highrisk] 7307\n",
       "\\item[floodzone\\textbackslash{}\\_modrisk] 7307\n",
       "\\item[floodzone\\textbackslash{}\\_undetermined] 7307\n",
       "\\end{description*}\n"
      ],
      "text/markdown": [
       "basementenclosurecrawlspacetype\n",
       ":   53censustract\n",
       ":   14980construction\n",
       ":   1crsdiscount\n",
       ":   0deductibleamountinbuildingcoverage\n",
       ":   0deductibleamountincontentscoverage\n",
       ":   0elevatedbuildingindicator\n",
       ":   17elevationdifference\n",
       ":   0federalpolicyfee\n",
       ":   0latitude\n",
       ":   14980longitude\n",
       ":   14980numberoffloorsininsuredbuilding\n",
       ":   7315occupancytype\n",
       ":   1originalconstructiondate\n",
       ":   7409originalnbdate\n",
       ":   0policycount\n",
       ":   0policyeffectivedate\n",
       ":   0policyterminationdate\n",
       ":   0policytermindicator\n",
       ":   0postfirmconstructionindicator\n",
       ":   7409primaryresidenceindicator\n",
       ":   1481reportedzipcode\n",
       ":   0ratemethod\n",
       ":   83930totalbuildinginsurancecoverage\n",
       ":   0totalcontentsinsurancecoverage\n",
       ":   0totalinsurancepremiumofthepolicy\n",
       ":   0not_condo\n",
       ":   1u_condo\n",
       ":   1lowerflooronly\n",
       ":   0upperandlowerfloors\n",
       ":   0basementandabove\n",
       ":   0basementonly\n",
       ":   0morethan1floor\n",
       ":   0mobilehomeortrailer\n",
       ":   0floodzone_highrisk\n",
       ":   7307floodzone_modrisk\n",
       ":   7307floodzone_undetermined\n",
       ":   7307\n",
       "\n"
      ],
      "text/plain": [
       "   basementenclosurecrawlspacetype                        censustract \n",
       "                                53                              14980 \n",
       "                      construction                        crsdiscount \n",
       "                                 1                                  0 \n",
       "deductibleamountinbuildingcoverage deductibleamountincontentscoverage \n",
       "                                 0                                  0 \n",
       "         elevatedbuildingindicator                elevationdifference \n",
       "                                17                                  0 \n",
       "                  federalpolicyfee                           latitude \n",
       "                                 0                              14980 \n",
       "                         longitude    numberoffloorsininsuredbuilding \n",
       "                             14980                               7315 \n",
       "                     occupancytype           originalconstructiondate \n",
       "                                 1                               7409 \n",
       "                    originalnbdate                        policycount \n",
       "                                 0                                  0 \n",
       "               policyeffectivedate              policyterminationdate \n",
       "                                 0                                  0 \n",
       "               policytermindicator      postfirmconstructionindicator \n",
       "                                 0                               7409 \n",
       "         primaryresidenceindicator                    reportedzipcode \n",
       "                              1481                                  0 \n",
       "                        ratemethod     totalbuildinginsurancecoverage \n",
       "                             83930                                  0 \n",
       "    totalcontentsinsurancecoverage   totalinsurancepremiumofthepolicy \n",
       "                                 0                                  0 \n",
       "                         not_condo                            u_condo \n",
       "                                 1                                  1 \n",
       "                    lowerflooronly                upperandlowerfloors \n",
       "                                 0                                  0 \n",
       "                  basementandabove                       basementonly \n",
       "                                 0                                  0 \n",
       "                    morethan1floor                mobilehomeortrailer \n",
       "                                 0                                  0 \n",
       "                floodzone_highrisk                  floodzone_modrisk \n",
       "                              7307                               7307 \n",
       "            floodzone_undetermined \n",
       "                              7307 "
      ]
     },
     "metadata": {},
     "output_type": "display_data"
    }
   ],
   "source": [
    "# Number of NA values in each column\n",
    "colSums(is.na(df2))"
   ]
  },
  {
   "cell_type": "code",
   "execution_count": 93,
   "id": "b0e39f10",
   "metadata": {},
   "outputs": [],
   "source": [
    "# Exporting the dataframes to clean folder\n",
    "imputingwith0 <- \"../02_CleanData/policy_clean_0imputed.parquet\"\n",
    "imputingwithmode <- \"../02_CleanData/policy_clean_modeimputed.parquet\"\n",
    "write_parquet(df2,imputingwith0)\n",
    "write_parquet(dfmode2, imputingwithmode)"
   ]
  },
  {
   "cell_type": "markdown",
   "id": "dc682e56",
   "metadata": {},
   "source": [
    "# 2-Feature Selection"
   ]
  },
  {
   "cell_type": "code",
   "execution_count": 94,
   "id": "0294a4d3",
   "metadata": {},
   "outputs": [],
   "source": [
    "rm(list = ls())"
   ]
  },
  {
   "cell_type": "code",
   "execution_count": 132,
   "id": "48a80c62",
   "metadata": {},
   "outputs": [
    {
     "ename": "ERROR",
     "evalue": "Error in library(elasticnet): there is no package called 'elasticnet'\n",
     "output_type": "error",
     "traceback": [
      "Error in library(elasticnet): there is no package called 'elasticnet'\nTraceback:\n",
      "1. library(elasticnet)"
     ]
    }
   ],
   "source": [
    "library(arrow) # needed to read parquet file\n",
    "library(rpart)\n",
    "library(plyr)\n",
    "library(dplyr)\n",
    "library(car)\n",
    "library(caret)\n",
    "library(rattle)\n",
    "library(rpart.plot)\n",
    "library(ggplot2)\n",
    "library(corrplot)\n",
    "library(tidyr)\n",
    "library(elasticnet)"
   ]
  },
  {
   "cell_type": "code",
   "execution_count": 96,
   "id": "3d6e206e",
   "metadata": {},
   "outputs": [],
   "source": [
    "file_path <- \"../02_CleanData/policy_clean_0imputed.parquet\"\n",
    "df <- read_parquet(file_path, as_tibble = TRUE)"
   ]
  },
  {
   "cell_type": "code",
   "execution_count": 97,
   "id": "6a2cfe28",
   "metadata": {},
   "outputs": [
    {
     "name": "stdout",
     "output_type": "stream",
     "text": [
      "tibble [2,010,347 × 37] (S3: tbl_df/tbl/data.frame)\n",
      " $ basementenclosurecrawlspacetype   : num [1:2010347] 0 0 0 0 0 0 0 2 0 0 ...\n",
      " $ censustract                       : num [1:2010347] 4.82e+10 4.82e+10 4.82e+10 4.82e+10 4.82e+10 ...\n",
      " $ construction                      : num [1:2010347] 0 0 0 0 0 0 0 0 0 0 ...\n",
      " $ crsdiscount                       : num [1:2010347] 0 0.1 0.2 0 0 0 0 0.25 0 0 ...\n",
      " $ deductibleamountinbuildingcoverage: num [1:2010347] 1000 1000 1000 500 1000 1000 500 1000 500 500 ...\n",
      " $ deductibleamountincontentscoverage: num [1:2010347] 1000 1000 1000 500 1000 1000 500 500 500 500 ...\n",
      " $ elevatedbuildingindicator         : num [1:2010347] 0 0 0 0 0 0 0 1 0 0 ...\n",
      " $ elevationdifference               : num [1:2010347] 999 999 999 999 999 999 999 2 999 999 ...\n",
      " $ federalpolicyfee                  : num [1:2010347] 13 35 35 13 13 13 13 35 13 13 ...\n",
      " $ latitude                          : num [1:2010347] 29.6 30 29.8 29.8 29.8 29.6 29.8 29.8 30 29.8 ...\n",
      " $ longitude                         : num [1:2010347] -95.1 -95.5 -95.3 -95.2 -95.4 -95.5 -95.6 -95.4 -95.4 -95.5 ...\n",
      " $ numberoffloorsininsuredbuilding   : num [1:2010347] 2 2 1 1 2 1 2 2 1 2 ...\n",
      " $ occupancytype                     : num [1:2010347] 1 1 1 1 1 1 1 1 1 1 ...\n",
      " $ originalconstructiondate          : Date[1:2010347], format: \"1988-07-15\" \"1973-01-01\" ...\n",
      " $ originalnbdate                    : Date[1:2010347], format: \"2009-11-23\" \"2002-11-02\" ...\n",
      " $ policycount                       : num [1:2010347] 1 1 1 1 1 1 1 1 1 1 ...\n",
      " $ policyeffectivedate               : Date[1:2010347], format: \"2009-11-23\" \"2009-11-02\" ...\n",
      " $ policyterminationdate             : Date[1:2010347], format: \"2010-11-23\" \"2010-11-02\" ...\n",
      " $ policytermindicator               : num [1:2010347] 1 1 1 1 1 1 1 1 1 1 ...\n",
      " $ postfirmconstructionindicator     : num [1:2010347] 1 0 0 0 0 0 0 1 0 0 ...\n",
      " $ primaryresidenceindicator         : num [1:2010347] 1 1 1 1 1 0 1 0 1 1 ...\n",
      " $ reportedzipcode                   : num [1:2010347] 77062 77090 77026 77029 77018 ...\n",
      " $ ratemethod                        : num [1:2010347] 7 1 1 7 7 7 7 1 7 7 ...\n",
      " $ totalbuildinginsurancecoverage    : num [1:2010347] 250000 185200 116100 75000 250000 ...\n",
      " $ totalcontentsinsurancecoverage    : num [1:2010347] 100000 44600 30500 30000 100000 60000 100000 0 50000 100000 ...\n",
      " $ totalinsurancepremiumofthepolicy  : num [1:2010347] 335 1663 885 217 335 ...\n",
      " $ not_condo                         : num [1:2010347] 1 1 1 1 1 1 1 1 1 1 ...\n",
      " $ u_condo                           : num [1:2010347] 0 0 0 0 0 0 0 0 0 0 ...\n",
      " $ lowerflooronly                    : num [1:2010347] 1 0 1 1 0 1 0 0 1 0 ...\n",
      " $ upperandlowerfloors               : num [1:2010347] 0 0 0 0 1 0 1 0 0 1 ...\n",
      " $ basementandabove                  : num [1:2010347] 0 0 0 0 0 0 0 0 0 0 ...\n",
      " $ basementonly                      : num [1:2010347] 0 0 0 0 0 0 0 0 0 0 ...\n",
      " $ morethan1floor                    : num [1:2010347] 0 0 0 0 0 0 0 0 0 0 ...\n",
      " $ mobilehomeortrailer               : num [1:2010347] 0 0 0 0 0 0 0 0 0 0 ...\n",
      " $ floodzone_highrisk                : num [1:2010347] 0 1 1 0 0 0 0 1 0 0 ...\n",
      " $ floodzone_modrisk                 : num [1:2010347] 1 0 0 1 1 1 1 0 1 1 ...\n",
      " $ floodzone_undetermined            : num [1:2010347] 0 0 0 0 0 0 0 0 0 0 ...\n"
     ]
    }
   ],
   "source": [
    "str(df)"
   ]
  },
  {
   "cell_type": "code",
   "execution_count": 98,
   "id": "4bfeb978",
   "metadata": {},
   "outputs": [],
   "source": [
    "# more data cleaning\n",
    "# ratemethod is categorical\n",
    "df$ratemethod_manual <- ifelse( (df$ratemethod==1),1,0) # manual rate method; others are all grouped together as they follow a procedure\n",
    "df$ratemethod_prp <- ifelse( (df$ratemethod==7),1,0) # preferred risk policy\n",
    "df <- subset(df,select=-c(ratemethod)) # drop ratemethod after defining the dummy variable\n",
    "\n",
    "# 999 in elevationdifference means na; also there are a few outlier:-9986, 9989 that must be typos\n",
    "df$elevationdifference <- na_if(df$elevationdifference, 999)\n",
    "df$elevationdifference <- na_if(df$elevationdifference, -9986)\n",
    "df$elevationdifference <- na_if(df$elevationdifference, 9989)\n",
    "\n",
    "# occupancy type to dummy\n",
    "df$occupancytype_single <- ifelse( (df$occupancytype==1),1,0) # single family home\n",
    "df$occupancytype_2or4 <- ifelse( (df$occupancytype==2),1,0) # 2-4 unit building\n",
    "df$occupancytype_4more <- ifelse( (df$occupancytype==3 | df$occupancytype==4),1,0) # more than 4 unit building\n",
    "df$occupancytype_business <- ifelse( (df$occupancytype==6),1,0) # non-residential business building\n",
    "# drop occupancytype after defining the dummy variable\n",
    "df <- subset(df, select=-c(occupancytype))"
   ]
  },
  {
   "cell_type": "code",
   "execution_count": 100,
   "id": "ccc04bad",
   "metadata": {},
   "outputs": [],
   "source": [
    "cols = colnames(df) # all columns\n",
    "date_list = c() # list of date variables\n",
    "for (c in cols){\n",
    "  if (endsWith(c, 'date') == TRUE){\n",
    "    date_list <- append(c, date_list)\n",
    "  }\n",
    "  \n",
    "}\n",
    "# num_list <- cols[!cols %in% date_list]\n",
    "# ind_list = c() # indicator list\n",
    "# for (c in num_list){\n",
    "#   if (unique(df[c][is.na(df[c])==0]) == list(0,1)){\n",
    "#     ind_list <- append(c, ind_list)\n",
    "#   }\n",
    "# }\n",
    "# ind_list #list of indicator/dummy variables\n",
    "# num_list2 <- num_list[!num_list %in% ind_list] #list of continuous variables\n",
    "# num_list2"
   ]
  },
  {
   "cell_type": "code",
   "execution_count": null,
   "id": "f6d2f7a3",
   "metadata": {},
   "outputs": [],
   "source": [
    "# Select continuous variables for correlation examination"
   ]
  },
  {
   "cell_type": "code",
   "execution_count": 101,
   "id": "88b290b3",
   "metadata": {},
   "outputs": [],
   "source": [
    "# Examine correlation between all numeric variables \n",
    "df_num <- subset(df, select = c(basementenclosurecrawlspacetype, censustract,crsdiscount,\n",
    "                               deductibleamountinbuildingcoverage, deductibleamountincontentscoverage, \n",
    "                               federalpolicyfee, latitude, longitude, policycount, reportedzipcode, \n",
    "                               ratemethod_manual, ratemethod_prp, totalbuildinginsurancecoverage, \n",
    "                               totalcontentsinsurancecoverage))\n",
    "cormat <-cor(df_num, use = \"pairwise.complete.obs\")"
   ]
  },
  {
   "cell_type": "code",
   "execution_count": 102,
   "id": "a1bab56c",
   "metadata": {},
   "outputs": [
    {
     "data": {
      "text/html": [
       "<strong>jpeg:</strong> 3"
      ],
      "text/latex": [
       "\\textbf{jpeg:} 3"
      ],
      "text/markdown": [
       "**jpeg:** 3"
      ],
      "text/plain": [
       "jpeg \n",
       "   3 "
      ]
     },
     "metadata": {},
     "output_type": "display_data"
    },
    {
     "data": {
      "text/html": [
       "<strong>png:</strong> 2"
      ],
      "text/latex": [
       "\\textbf{png:} 2"
      ],
      "text/markdown": [
       "**png:** 2"
      ],
      "text/plain": [
       "png \n",
       "  2 "
      ]
     },
     "metadata": {},
     "output_type": "display_data"
    },
    {
     "data": {
      "image/png": "[encoded data removed]",
      "text/plain": [
       "Plot with title \"\n",
       "\n",
       " Correlation Plot of Flood Data\""
      ]
     },
     "metadata": {
      "image/png": {
       "height": 420,
       "width": 420
      }
     },
     "output_type": "display_data"
    }
   ],
   "source": [
    "corrplot(cormat, tl.col = \"red\", tl.srt = 45, bg = \"White\",\n",
    "         title = \"\\n\\n Correlation Plot of Flood Data\",\n",
    "         type = \"lower\")\n",
    "dev.copy(jpeg, filename=\"Correlation Plot of Flood Data.jpg\");\n",
    "dev.off ()"
   ]
  },
  {
   "cell_type": "code",
   "execution_count": 103,
   "id": "49a8bf71",
   "metadata": {},
   "outputs": [
    {
     "data": {
      "text/html": [
       "<table class=\"dataframe\">\n",
       "<caption>A matrix: 14 × 14 of type dbl</caption>\n",
       "<thead>\n",
       "\t<tr><th></th><th scope=col>basementenclosurecrawlspacetype</th><th scope=col>censustract</th><th scope=col>crsdiscount</th><th scope=col>deductibleamountinbuildingcoverage</th><th scope=col>deductibleamountincontentscoverage</th><th scope=col>federalpolicyfee</th><th scope=col>latitude</th><th scope=col>longitude</th><th scope=col>policycount</th><th scope=col>reportedzipcode</th><th scope=col>ratemethod_manual</th><th scope=col>ratemethod_prp</th><th scope=col>totalbuildinginsurancecoverage</th><th scope=col>totalcontentsinsurancecoverage</th></tr>\n",
       "</thead>\n",
       "<tbody>\n",
       "\t<tr><th scope=row>basementenclosurecrawlspacetype</th><td> 1.000000000</td><td>-0.027903103</td><td> 0.003664553</td><td> 0.03844982</td><td> 0.018544983</td><td> 0.05342798</td><td>-0.0097650567</td><td> 0.063371933</td><td> 0.006226167</td><td>-0.095567932</td><td>-0.001193068</td><td>-0.05920036</td><td> 0.0308794648</td><td> 0.001478634</td></tr>\n",
       "\t<tr><th scope=row>censustract</th><td>-0.027903103</td><td> 1.000000000</td><td>-0.036406631</td><td> 0.02214131</td><td> 0.031417911</td><td>-0.01367685</td><td> 0.5388037949</td><td>-0.693756148</td><td>-0.003398148</td><td> 0.244708598</td><td>-0.032108849</td><td> 0.03330565</td><td> 0.1054462138</td><td> 0.084694121</td></tr>\n",
       "\t<tr><th scope=row>crsdiscount</th><td> 0.003664553</td><td>-0.036406631</td><td> 1.000000000</td><td> 0.32517147</td><td>-0.093367544</td><td> 0.64069855</td><td>-0.1016330718</td><td>-0.028817125</td><td> 0.074550177</td><td> 0.126874522</td><td> 0.958515614</td><td>-0.95116315</td><td>-0.2332036325</td><td>-0.530895609</td></tr>\n",
       "\t<tr><th scope=row>deductibleamountinbuildingcoverage</th><td> 0.038449824</td><td> 0.022141307</td><td> 0.325171468</td><td> 1.00000000</td><td> 0.596367350</td><td> 0.56183736</td><td>-0.0199614167</td><td>-0.039555962</td><td> 0.038109980</td><td> 0.044480457</td><td> 0.262016587</td><td>-0.26621764</td><td> 0.1830838891</td><td>-0.075492090</td></tr>\n",
       "\t<tr><th scope=row>deductibleamountincontentscoverage</th><td> 0.018544983</td><td> 0.031417911</td><td>-0.093367544</td><td> 0.59636735</td><td> 1.000000000</td><td> 0.27182594</td><td> 0.0156090751</td><td>-0.009292532</td><td>-0.073592790</td><td>-0.009408480</td><td>-0.137235747</td><td> 0.13763456</td><td> 0.2059884364</td><td> 0.360654968</td></tr>\n",
       "\t<tr><th scope=row>federalpolicyfee</th><td> 0.053427984</td><td>-0.013676849</td><td> 0.640698549</td><td> 0.56183736</td><td> 0.271825942</td><td> 1.00000000</td><td>-0.0463802434</td><td>-0.025163347</td><td> 0.071858696</td><td> 0.062749168</td><td> 0.651016367</td><td>-0.65978468</td><td>-0.0854738073</td><td>-0.296553421</td></tr>\n",
       "\t<tr><th scope=row>latitude</th><td>-0.009765057</td><td> 0.538803795</td><td>-0.101633072</td><td>-0.01996142</td><td> 0.015609075</td><td>-0.04638024</td><td> 1.0000000000</td><td>-0.373135134</td><td>-0.019193158</td><td> 0.009971773</td><td>-0.069095983</td><td> 0.07166176</td><td> 0.0009543902</td><td> 0.031677224</td></tr>\n",
       "\t<tr><th scope=row>longitude</th><td> 0.063371933</td><td>-0.693756148</td><td>-0.028817125</td><td>-0.03955596</td><td>-0.009292532</td><td>-0.02516335</td><td>-0.3731351339</td><td> 1.000000000</td><td>-0.011300911</td><td>-0.400900744</td><td>-0.018611358</td><td> 0.01203623</td><td>-0.0730864512</td><td>-0.036794843</td></tr>\n",
       "\t<tr><th scope=row>policycount</th><td> 0.006226167</td><td>-0.003398148</td><td> 0.074550177</td><td> 0.03810998</td><td>-0.073592790</td><td> 0.07185870</td><td>-0.0191931579</td><td>-0.011300911</td><td> 1.000000000</td><td>-0.006012995</td><td> 0.070761391</td><td>-0.07139681</td><td> 0.0815729430</td><td>-0.080636180</td></tr>\n",
       "\t<tr><th scope=row>reportedzipcode</th><td>-0.095567932</td><td> 0.244708598</td><td> 0.126874522</td><td> 0.04448046</td><td>-0.009408480</td><td> 0.06274917</td><td> 0.0099717730</td><td>-0.400900744</td><td>-0.006012995</td><td> 1.000000000</td><td> 0.093551088</td><td>-0.08757457</td><td>-0.0725155015</td><td>-0.106441305</td></tr>\n",
       "\t<tr><th scope=row>ratemethod_manual</th><td>-0.001193068</td><td>-0.032108849</td><td> 0.958515614</td><td> 0.26201659</td><td>-0.137235747</td><td> 0.65101637</td><td>-0.0690959834</td><td>-0.018611358</td><td> 0.070761391</td><td> 0.093551088</td><td> 1.000000000</td><td>-0.98707972</td><td>-0.2556539102</td><td>-0.537556295</td></tr>\n",
       "\t<tr><th scope=row>ratemethod_prp</th><td>-0.059200361</td><td> 0.033305653</td><td>-0.951163154</td><td>-0.26621764</td><td> 0.137634557</td><td>-0.65978468</td><td> 0.0716617624</td><td> 0.012036232</td><td>-0.071396812</td><td>-0.087574570</td><td>-0.987079723</td><td> 1.00000000</td><td> 0.2536045912</td><td> 0.541029137</td></tr>\n",
       "\t<tr><th scope=row>totalbuildinginsurancecoverage</th><td> 0.030879465</td><td> 0.105446214</td><td>-0.233203633</td><td> 0.18308389</td><td> 0.205988436</td><td>-0.08547381</td><td> 0.0009543902</td><td>-0.073086451</td><td> 0.081572943</td><td>-0.072515501</td><td>-0.255653910</td><td> 0.25360459</td><td> 1.0000000000</td><td> 0.702256591</td></tr>\n",
       "\t<tr><th scope=row>totalcontentsinsurancecoverage</th><td> 0.001478634</td><td> 0.084694121</td><td>-0.530895609</td><td>-0.07549209</td><td> 0.360654968</td><td>-0.29655342</td><td> 0.0316772242</td><td>-0.036794843</td><td>-0.080636180</td><td>-0.106441305</td><td>-0.537556295</td><td> 0.54102914</td><td> 0.7022565914</td><td> 1.000000000</td></tr>\n",
       "</tbody>\n",
       "</table>\n"
      ],
      "text/latex": [
       "A matrix: 14 × 14 of type dbl\n",
       "\\begin{tabular}{r|llllllllllllll}\n",
       "  & basementenclosurecrawlspacetype & censustract & crsdiscount & deductibleamountinbuildingcoverage & deductibleamountincontentscoverage & federalpolicyfee & latitude & longitude & policycount & reportedzipcode & ratemethod\\_manual & ratemethod\\_prp & totalbuildinginsurancecoverage & totalcontentsinsurancecoverage\\\\\n",
       "\\hline\n",
       "\tbasementenclosurecrawlspacetype &  1.000000000 & -0.027903103 &  0.003664553 &  0.03844982 &  0.018544983 &  0.05342798 & -0.0097650567 &  0.063371933 &  0.006226167 & -0.095567932 & -0.001193068 & -0.05920036 &  0.0308794648 &  0.001478634\\\\\n",
       "\tcensustract & -0.027903103 &  1.000000000 & -0.036406631 &  0.02214131 &  0.031417911 & -0.01367685 &  0.5388037949 & -0.693756148 & -0.003398148 &  0.244708598 & -0.032108849 &  0.03330565 &  0.1054462138 &  0.084694121\\\\\n",
       "\tcrsdiscount &  0.003664553 & -0.036406631 &  1.000000000 &  0.32517147 & -0.093367544 &  0.64069855 & -0.1016330718 & -0.028817125 &  0.074550177 &  0.126874522 &  0.958515614 & -0.95116315 & -0.2332036325 & -0.530895609\\\\\n",
       "\tdeductibleamountinbuildingcoverage &  0.038449824 &  0.022141307 &  0.325171468 &  1.00000000 &  0.596367350 &  0.56183736 & -0.0199614167 & -0.039555962 &  0.038109980 &  0.044480457 &  0.262016587 & -0.26621764 &  0.1830838891 & -0.075492090\\\\\n",
       "\tdeductibleamountincontentscoverage &  0.018544983 &  0.031417911 & -0.093367544 &  0.59636735 &  1.000000000 &  0.27182594 &  0.0156090751 & -0.009292532 & -0.073592790 & -0.009408480 & -0.137235747 &  0.13763456 &  0.2059884364 &  0.360654968\\\\\n",
       "\tfederalpolicyfee &  0.053427984 & -0.013676849 &  0.640698549 &  0.56183736 &  0.271825942 &  1.00000000 & -0.0463802434 & -0.025163347 &  0.071858696 &  0.062749168 &  0.651016367 & -0.65978468 & -0.0854738073 & -0.296553421\\\\\n",
       "\tlatitude & -0.009765057 &  0.538803795 & -0.101633072 & -0.01996142 &  0.015609075 & -0.04638024 &  1.0000000000 & -0.373135134 & -0.019193158 &  0.009971773 & -0.069095983 &  0.07166176 &  0.0009543902 &  0.031677224\\\\\n",
       "\tlongitude &  0.063371933 & -0.693756148 & -0.028817125 & -0.03955596 & -0.009292532 & -0.02516335 & -0.3731351339 &  1.000000000 & -0.011300911 & -0.400900744 & -0.018611358 &  0.01203623 & -0.0730864512 & -0.036794843\\\\\n",
       "\tpolicycount &  0.006226167 & -0.003398148 &  0.074550177 &  0.03810998 & -0.073592790 &  0.07185870 & -0.0191931579 & -0.011300911 &  1.000000000 & -0.006012995 &  0.070761391 & -0.07139681 &  0.0815729430 & -0.080636180\\\\\n",
       "\treportedzipcode & -0.095567932 &  0.244708598 &  0.126874522 &  0.04448046 & -0.009408480 &  0.06274917 &  0.0099717730 & -0.400900744 & -0.006012995 &  1.000000000 &  0.093551088 & -0.08757457 & -0.0725155015 & -0.106441305\\\\\n",
       "\tratemethod\\_manual & -0.001193068 & -0.032108849 &  0.958515614 &  0.26201659 & -0.137235747 &  0.65101637 & -0.0690959834 & -0.018611358 &  0.070761391 &  0.093551088 &  1.000000000 & -0.98707972 & -0.2556539102 & -0.537556295\\\\\n",
       "\tratemethod\\_prp & -0.059200361 &  0.033305653 & -0.951163154 & -0.26621764 &  0.137634557 & -0.65978468 &  0.0716617624 &  0.012036232 & -0.071396812 & -0.087574570 & -0.987079723 &  1.00000000 &  0.2536045912 &  0.541029137\\\\\n",
       "\ttotalbuildinginsurancecoverage &  0.030879465 &  0.105446214 & -0.233203633 &  0.18308389 &  0.205988436 & -0.08547381 &  0.0009543902 & -0.073086451 &  0.081572943 & -0.072515501 & -0.255653910 &  0.25360459 &  1.0000000000 &  0.702256591\\\\\n",
       "\ttotalcontentsinsurancecoverage &  0.001478634 &  0.084694121 & -0.530895609 & -0.07549209 &  0.360654968 & -0.29655342 &  0.0316772242 & -0.036794843 & -0.080636180 & -0.106441305 & -0.537556295 &  0.54102914 &  0.7022565914 &  1.000000000\\\\\n",
       "\\end{tabular}\n"
      ],
      "text/markdown": [
       "\n",
       "A matrix: 14 × 14 of type dbl\n",
       "\n",
       "| <!--/--> | basementenclosurecrawlspacetype | censustract | crsdiscount | deductibleamountinbuildingcoverage | deductibleamountincontentscoverage | federalpolicyfee | latitude | longitude | policycount | reportedzipcode | ratemethod_manual | ratemethod_prp | totalbuildinginsurancecoverage | totalcontentsinsurancecoverage |\n",
       "|---|---|---|---|---|---|---|---|---|---|---|---|---|---|---|\n",
       "| basementenclosurecrawlspacetype |  1.000000000 | -0.027903103 |  0.003664553 |  0.03844982 |  0.018544983 |  0.05342798 | -0.0097650567 |  0.063371933 |  0.006226167 | -0.095567932 | -0.001193068 | -0.05920036 |  0.0308794648 |  0.001478634 |\n",
       "| censustract | -0.027903103 |  1.000000000 | -0.036406631 |  0.02214131 |  0.031417911 | -0.01367685 |  0.5388037949 | -0.693756148 | -0.003398148 |  0.244708598 | -0.032108849 |  0.03330565 |  0.1054462138 |  0.084694121 |\n",
       "| crsdiscount |  0.003664553 | -0.036406631 |  1.000000000 |  0.32517147 | -0.093367544 |  0.64069855 | -0.1016330718 | -0.028817125 |  0.074550177 |  0.126874522 |  0.958515614 | -0.95116315 | -0.2332036325 | -0.530895609 |\n",
       "| deductibleamountinbuildingcoverage |  0.038449824 |  0.022141307 |  0.325171468 |  1.00000000 |  0.596367350 |  0.56183736 | -0.0199614167 | -0.039555962 |  0.038109980 |  0.044480457 |  0.262016587 | -0.26621764 |  0.1830838891 | -0.075492090 |\n",
       "| deductibleamountincontentscoverage |  0.018544983 |  0.031417911 | -0.093367544 |  0.59636735 |  1.000000000 |  0.27182594 |  0.0156090751 | -0.009292532 | -0.073592790 | -0.009408480 | -0.137235747 |  0.13763456 |  0.2059884364 |  0.360654968 |\n",
       "| federalpolicyfee |  0.053427984 | -0.013676849 |  0.640698549 |  0.56183736 |  0.271825942 |  1.00000000 | -0.0463802434 | -0.025163347 |  0.071858696 |  0.062749168 |  0.651016367 | -0.65978468 | -0.0854738073 | -0.296553421 |\n",
       "| latitude | -0.009765057 |  0.538803795 | -0.101633072 | -0.01996142 |  0.015609075 | -0.04638024 |  1.0000000000 | -0.373135134 | -0.019193158 |  0.009971773 | -0.069095983 |  0.07166176 |  0.0009543902 |  0.031677224 |\n",
       "| longitude |  0.063371933 | -0.693756148 | -0.028817125 | -0.03955596 | -0.009292532 | -0.02516335 | -0.3731351339 |  1.000000000 | -0.011300911 | -0.400900744 | -0.018611358 |  0.01203623 | -0.0730864512 | -0.036794843 |\n",
       "| policycount |  0.006226167 | -0.003398148 |  0.074550177 |  0.03810998 | -0.073592790 |  0.07185870 | -0.0191931579 | -0.011300911 |  1.000000000 | -0.006012995 |  0.070761391 | -0.07139681 |  0.0815729430 | -0.080636180 |\n",
       "| reportedzipcode | -0.095567932 |  0.244708598 |  0.126874522 |  0.04448046 | -0.009408480 |  0.06274917 |  0.0099717730 | -0.400900744 | -0.006012995 |  1.000000000 |  0.093551088 | -0.08757457 | -0.0725155015 | -0.106441305 |\n",
       "| ratemethod_manual | -0.001193068 | -0.032108849 |  0.958515614 |  0.26201659 | -0.137235747 |  0.65101637 | -0.0690959834 | -0.018611358 |  0.070761391 |  0.093551088 |  1.000000000 | -0.98707972 | -0.2556539102 | -0.537556295 |\n",
       "| ratemethod_prp | -0.059200361 |  0.033305653 | -0.951163154 | -0.26621764 |  0.137634557 | -0.65978468 |  0.0716617624 |  0.012036232 | -0.071396812 | -0.087574570 | -0.987079723 |  1.00000000 |  0.2536045912 |  0.541029137 |\n",
       "| totalbuildinginsurancecoverage |  0.030879465 |  0.105446214 | -0.233203633 |  0.18308389 |  0.205988436 | -0.08547381 |  0.0009543902 | -0.073086451 |  0.081572943 | -0.072515501 | -0.255653910 |  0.25360459 |  1.0000000000 |  0.702256591 |\n",
       "| totalcontentsinsurancecoverage |  0.001478634 |  0.084694121 | -0.530895609 | -0.07549209 |  0.360654968 | -0.29655342 |  0.0316772242 | -0.036794843 | -0.080636180 | -0.106441305 | -0.537556295 |  0.54102914 |  0.7022565914 |  1.000000000 |\n",
       "\n"
      ],
      "text/plain": [
       "                                   basementenclosurecrawlspacetype censustract \n",
       "basementenclosurecrawlspacetype     1.000000000                    -0.027903103\n",
       "censustract                        -0.027903103                     1.000000000\n",
       "crsdiscount                         0.003664553                    -0.036406631\n",
       "deductibleamountinbuildingcoverage  0.038449824                     0.022141307\n",
       "deductibleamountincontentscoverage  0.018544983                     0.031417911\n",
       "federalpolicyfee                    0.053427984                    -0.013676849\n",
       "latitude                           -0.009765057                     0.538803795\n",
       "longitude                           0.063371933                    -0.693756148\n",
       "policycount                         0.006226167                    -0.003398148\n",
       "reportedzipcode                    -0.095567932                     0.244708598\n",
       "ratemethod_manual                  -0.001193068                    -0.032108849\n",
       "ratemethod_prp                     -0.059200361                     0.033305653\n",
       "totalbuildinginsurancecoverage      0.030879465                     0.105446214\n",
       "totalcontentsinsurancecoverage      0.001478634                     0.084694121\n",
       "                                   crsdiscount \n",
       "basementenclosurecrawlspacetype     0.003664553\n",
       "censustract                        -0.036406631\n",
       "crsdiscount                         1.000000000\n",
       "deductibleamountinbuildingcoverage  0.325171468\n",
       "deductibleamountincontentscoverage -0.093367544\n",
       "federalpolicyfee                    0.640698549\n",
       "latitude                           -0.101633072\n",
       "longitude                          -0.028817125\n",
       "policycount                         0.074550177\n",
       "reportedzipcode                     0.126874522\n",
       "ratemethod_manual                   0.958515614\n",
       "ratemethod_prp                     -0.951163154\n",
       "totalbuildinginsurancecoverage     -0.233203633\n",
       "totalcontentsinsurancecoverage     -0.530895609\n",
       "                                   deductibleamountinbuildingcoverage\n",
       "basementenclosurecrawlspacetype     0.03844982                       \n",
       "censustract                         0.02214131                       \n",
       "crsdiscount                         0.32517147                       \n",
       "deductibleamountinbuildingcoverage  1.00000000                       \n",
       "deductibleamountincontentscoverage  0.59636735                       \n",
       "federalpolicyfee                    0.56183736                       \n",
       "latitude                           -0.01996142                       \n",
       "longitude                          -0.03955596                       \n",
       "policycount                         0.03810998                       \n",
       "reportedzipcode                     0.04448046                       \n",
       "ratemethod_manual                   0.26201659                       \n",
       "ratemethod_prp                     -0.26621764                       \n",
       "totalbuildinginsurancecoverage      0.18308389                       \n",
       "totalcontentsinsurancecoverage     -0.07549209                       \n",
       "                                   deductibleamountincontentscoverage\n",
       "basementenclosurecrawlspacetype     0.018544983                      \n",
       "censustract                         0.031417911                      \n",
       "crsdiscount                        -0.093367544                      \n",
       "deductibleamountinbuildingcoverage  0.596367350                      \n",
       "deductibleamountincontentscoverage  1.000000000                      \n",
       "federalpolicyfee                    0.271825942                      \n",
       "latitude                            0.015609075                      \n",
       "longitude                          -0.009292532                      \n",
       "policycount                        -0.073592790                      \n",
       "reportedzipcode                    -0.009408480                      \n",
       "ratemethod_manual                  -0.137235747                      \n",
       "ratemethod_prp                      0.137634557                      \n",
       "totalbuildinginsurancecoverage      0.205988436                      \n",
       "totalcontentsinsurancecoverage      0.360654968                      \n",
       "                                   federalpolicyfee latitude      longitude   \n",
       "basementenclosurecrawlspacetype     0.05342798      -0.0097650567  0.063371933\n",
       "censustract                        -0.01367685       0.5388037949 -0.693756148\n",
       "crsdiscount                         0.64069855      -0.1016330718 -0.028817125\n",
       "deductibleamountinbuildingcoverage  0.56183736      -0.0199614167 -0.039555962\n",
       "deductibleamountincontentscoverage  0.27182594       0.0156090751 -0.009292532\n",
       "federalpolicyfee                    1.00000000      -0.0463802434 -0.025163347\n",
       "latitude                           -0.04638024       1.0000000000 -0.373135134\n",
       "longitude                          -0.02516335      -0.3731351339  1.000000000\n",
       "policycount                         0.07185870      -0.0191931579 -0.011300911\n",
       "reportedzipcode                     0.06274917       0.0099717730 -0.400900744\n",
       "ratemethod_manual                   0.65101637      -0.0690959834 -0.018611358\n",
       "ratemethod_prp                     -0.65978468       0.0716617624  0.012036232\n",
       "totalbuildinginsurancecoverage     -0.08547381       0.0009543902 -0.073086451\n",
       "totalcontentsinsurancecoverage     -0.29655342       0.0316772242 -0.036794843\n",
       "                                   policycount  reportedzipcode\n",
       "basementenclosurecrawlspacetype     0.006226167 -0.095567932   \n",
       "censustract                        -0.003398148  0.244708598   \n",
       "crsdiscount                         0.074550177  0.126874522   \n",
       "deductibleamountinbuildingcoverage  0.038109980  0.044480457   \n",
       "deductibleamountincontentscoverage -0.073592790 -0.009408480   \n",
       "federalpolicyfee                    0.071858696  0.062749168   \n",
       "latitude                           -0.019193158  0.009971773   \n",
       "longitude                          -0.011300911 -0.400900744   \n",
       "policycount                         1.000000000 -0.006012995   \n",
       "reportedzipcode                    -0.006012995  1.000000000   \n",
       "ratemethod_manual                   0.070761391  0.093551088   \n",
       "ratemethod_prp                     -0.071396812 -0.087574570   \n",
       "totalbuildinginsurancecoverage      0.081572943 -0.072515501   \n",
       "totalcontentsinsurancecoverage     -0.080636180 -0.106441305   \n",
       "                                   ratemethod_manual ratemethod_prp\n",
       "basementenclosurecrawlspacetype    -0.001193068      -0.05920036   \n",
       "censustract                        -0.032108849       0.03330565   \n",
       "crsdiscount                         0.958515614      -0.95116315   \n",
       "deductibleamountinbuildingcoverage  0.262016587      -0.26621764   \n",
       "deductibleamountincontentscoverage -0.137235747       0.13763456   \n",
       "federalpolicyfee                    0.651016367      -0.65978468   \n",
       "latitude                           -0.069095983       0.07166176   \n",
       "longitude                          -0.018611358       0.01203623   \n",
       "policycount                         0.070761391      -0.07139681   \n",
       "reportedzipcode                     0.093551088      -0.08757457   \n",
       "ratemethod_manual                   1.000000000      -0.98707972   \n",
       "ratemethod_prp                     -0.987079723       1.00000000   \n",
       "totalbuildinginsurancecoverage     -0.255653910       0.25360459   \n",
       "totalcontentsinsurancecoverage     -0.537556295       0.54102914   \n",
       "                                   totalbuildinginsurancecoverage\n",
       "basementenclosurecrawlspacetype     0.0308794648                 \n",
       "censustract                         0.1054462138                 \n",
       "crsdiscount                        -0.2332036325                 \n",
       "deductibleamountinbuildingcoverage  0.1830838891                 \n",
       "deductibleamountincontentscoverage  0.2059884364                 \n",
       "federalpolicyfee                   -0.0854738073                 \n",
       "latitude                            0.0009543902                 \n",
       "longitude                          -0.0730864512                 \n",
       "policycount                         0.0815729430                 \n",
       "reportedzipcode                    -0.0725155015                 \n",
       "ratemethod_manual                  -0.2556539102                 \n",
       "ratemethod_prp                      0.2536045912                 \n",
       "totalbuildinginsurancecoverage      1.0000000000                 \n",
       "totalcontentsinsurancecoverage      0.7022565914                 \n",
       "                                   totalcontentsinsurancecoverage\n",
       "basementenclosurecrawlspacetype     0.001478634                  \n",
       "censustract                         0.084694121                  \n",
       "crsdiscount                        -0.530895609                  \n",
       "deductibleamountinbuildingcoverage -0.075492090                  \n",
       "deductibleamountincontentscoverage  0.360654968                  \n",
       "federalpolicyfee                   -0.296553421                  \n",
       "latitude                            0.031677224                  \n",
       "longitude                          -0.036794843                  \n",
       "policycount                        -0.080636180                  \n",
       "reportedzipcode                    -0.106441305                  \n",
       "ratemethod_manual                  -0.537556295                  \n",
       "ratemethod_prp                      0.541029137                  \n",
       "totalbuildinginsurancecoverage      0.702256591                  \n",
       "totalcontentsinsurancecoverage      1.000000000                  "
      ]
     },
     "metadata": {},
     "output_type": "display_data"
    }
   ],
   "source": [
    "# Looking for Spearman correlation (checks nonlinear correlation too eg y=x3 has Spearman correlation of 1)\n",
    "# computationally demanding\n",
    "cormat_nonlin <- cor(df_num, use = \"pairwise.complete.obs\", method=\"spearman\")\n",
    "cormat_nonlin"
   ]
  },
  {
   "cell_type": "code",
   "execution_count": 104,
   "id": "4ad938fa",
   "metadata": {},
   "outputs": [
    {
     "data": {
      "text/html": [
       "<strong>jpeg:</strong> 3"
      ],
      "text/latex": [
       "\\textbf{jpeg:} 3"
      ],
      "text/markdown": [
       "**jpeg:** 3"
      ],
      "text/plain": [
       "jpeg \n",
       "   3 "
      ]
     },
     "metadata": {},
     "output_type": "display_data"
    },
    {
     "data": {
      "text/html": [
       "<strong>png:</strong> 2"
      ],
      "text/latex": [
       "\\textbf{png:} 2"
      ],
      "text/markdown": [
       "**png:** 2"
      ],
      "text/plain": [
       "png \n",
       "  2 "
      ]
     },
     "metadata": {},
     "output_type": "display_data"
    },
    {
     "data": {
      "image/png": "[encoded data removed]",
      "text/plain": [
       "Plot with title \"\n",
       "\n",
       " Correlation Plot of Flood Data with Spearman Method\""
      ]
     },
     "metadata": {
      "image/png": {
       "height": 420,
       "width": 420
      }
     },
     "output_type": "display_data"
    }
   ],
   "source": [
    "corrplot(cormat_nonlin, tl.col = \"red\", tl.srt = 45, bg = \"White\",\n",
    "         title = \"\\n\\n Correlation Plot of Flood Data with Spearman Method\",\n",
    "         type = \"lower\")\n",
    "\n",
    "dev.copy(jpeg, filename=\"Correlation Plot of Flood Data using Spearman.jpg\");\n",
    "dev.off ()"
   ]
  },
  {
   "cell_type": "code",
   "execution_count": 105,
   "id": "c2e26504",
   "metadata": {},
   "outputs": [
    {
     "data": {
      "text/html": [
       "<style>\n",
       ".list-inline {list-style: none; margin:0; padding: 0}\n",
       ".list-inline>li {display: inline-block}\n",
       ".list-inline>li:not(:last-child)::after {content: \"\\00b7\"; padding: 0 .5ex}\n",
       "</style>\n",
       "<ol class=list-inline><li>'ratemethod_prp'</li><li>'crsdiscount'</li><li>'ratemethod_manual'</li><li>'totalcontentsinsurancecoverage'</li><li>'censustract'</li></ol>\n"
      ],
      "text/latex": [
       "\\begin{enumerate*}\n",
       "\\item 'ratemethod\\_prp'\n",
       "\\item 'crsdiscount'\n",
       "\\item 'ratemethod\\_manual'\n",
       "\\item 'totalcontentsinsurancecoverage'\n",
       "\\item 'censustract'\n",
       "\\end{enumerate*}\n"
      ],
      "text/markdown": [
       "1. 'ratemethod_prp'\n",
       "2. 'crsdiscount'\n",
       "3. 'ratemethod_manual'\n",
       "4. 'totalcontentsinsurancecoverage'\n",
       "5. 'censustract'\n",
       "\n",
       "\n"
      ],
      "text/plain": [
       "[1] \"ratemethod_prp\"                 \"crsdiscount\"                   \n",
       "[3] \"ratemethod_manual\"              \"totalcontentsinsurancecoverage\"\n",
       "[5] \"censustract\"                   "
      ]
     },
     "metadata": {},
     "output_type": "display_data"
    },
    {
     "data": {
      "text/html": [
       "<style>\n",
       ".list-inline {list-style: none; margin:0; padding: 0}\n",
       ".list-inline>li {display: inline-block}\n",
       ".list-inline>li:not(:last-child)::after {content: \"\\00b7\"; padding: 0 .5ex}\n",
       "</style>\n",
       "<ol class=list-inline><li>2010347</li><li>36</li></ol>\n"
      ],
      "text/latex": [
       "\\begin{enumerate*}\n",
       "\\item 2010347\n",
       "\\item 36\n",
       "\\end{enumerate*}\n"
      ],
      "text/markdown": [
       "1. 2010347\n",
       "2. 36\n",
       "\n",
       "\n"
      ],
      "text/plain": [
       "[1] 2010347      36"
      ]
     },
     "metadata": {},
     "output_type": "display_data"
    }
   ],
   "source": [
    "## Remove Multicollinearity with cutoff 0.6\n",
    "highly_corelated = findCorrelation(cormat_nonlin, cutoff = 0.6)\n",
    "highlyCor_Col_nonlin = colnames(df_num)[highly_corelated]\n",
    "highlyCor_Col_nonlin\n",
    "# Now, we remove highly correlated variables from original dataset and create cleaner dataset, the dataset now contains 41 columns\n",
    "df_clean = df[, -which(colnames(df) %in% highlyCor_Col_nonlin)]\n",
    "dim(df_clean)"
   ]
  },
  {
   "cell_type": "code",
   "execution_count": 106,
   "id": "6291645b",
   "metadata": {},
   "outputs": [],
   "source": [
    "var_list <- colnames(df_clean)\n",
    "var_list <- var_list[!var_list %in% date_list]\n",
    "df_clean2 <- subset(df_clean, select=(var_list))"
   ]
  },
  {
   "cell_type": "code",
   "execution_count": 107,
   "id": "3fefa78b",
   "metadata": {},
   "outputs": [
    {
     "data": {
      "text/html": [
       "<table class=\"dataframe\">\n",
       "<caption>A matrix: 2 × 2 of type dbl</caption>\n",
       "<thead>\n",
       "\t<tr><th></th><th scope=col>elevationdifference</th><th scope=col>totalinsurancepremiumofthepolicy</th></tr>\n",
       "</thead>\n",
       "<tbody>\n",
       "\t<tr><th scope=row>elevationdifference</th><td> 1.0000000</td><td>-0.6586606</td></tr>\n",
       "\t<tr><th scope=row>totalinsurancepremiumofthepolicy</th><td>-0.6586606</td><td> 1.0000000</td></tr>\n",
       "</tbody>\n",
       "</table>\n"
      ],
      "text/latex": [
       "A matrix: 2 × 2 of type dbl\n",
       "\\begin{tabular}{r|ll}\n",
       "  & elevationdifference & totalinsurancepremiumofthepolicy\\\\\n",
       "\\hline\n",
       "\televationdifference &  1.0000000 & -0.6586606\\\\\n",
       "\ttotalinsurancepremiumofthepolicy & -0.6586606 &  1.0000000\\\\\n",
       "\\end{tabular}\n"
      ],
      "text/markdown": [
       "\n",
       "A matrix: 2 × 2 of type dbl\n",
       "\n",
       "| <!--/--> | elevationdifference | totalinsurancepremiumofthepolicy |\n",
       "|---|---|---|\n",
       "| elevationdifference |  1.0000000 | -0.6586606 |\n",
       "| totalinsurancepremiumofthepolicy | -0.6586606 |  1.0000000 |\n",
       "\n"
      ],
      "text/plain": [
       "                                 elevationdifference\n",
       "elevationdifference               1.0000000         \n",
       "totalinsurancepremiumofthepolicy -0.6586606         \n",
       "                                 totalinsurancepremiumofthepolicy\n",
       "elevationdifference              -0.6586606                      \n",
       "totalinsurancepremiumofthepolicy  1.0000000                      "
      ]
     },
     "metadata": {},
     "output_type": "display_data"
    },
    {
     "data": {
      "text/html": [
       "<table class=\"dataframe\">\n",
       "<caption>A matrix: 2 × 2 of type dbl</caption>\n",
       "<thead>\n",
       "\t<tr><th></th><th scope=col>elevationdifference</th><th scope=col>totalinsurancepremiumofthepolicy</th></tr>\n",
       "</thead>\n",
       "<tbody>\n",
       "\t<tr><th scope=row>elevationdifference</th><td> 1.0000000</td><td>-0.2960271</td></tr>\n",
       "\t<tr><th scope=row>totalinsurancepremiumofthepolicy</th><td>-0.2960271</td><td> 1.0000000</td></tr>\n",
       "</tbody>\n",
       "</table>\n"
      ],
      "text/latex": [
       "A matrix: 2 × 2 of type dbl\n",
       "\\begin{tabular}{r|ll}\n",
       "  & elevationdifference & totalinsurancepremiumofthepolicy\\\\\n",
       "\\hline\n",
       "\televationdifference &  1.0000000 & -0.2960271\\\\\n",
       "\ttotalinsurancepremiumofthepolicy & -0.2960271 &  1.0000000\\\\\n",
       "\\end{tabular}\n"
      ],
      "text/markdown": [
       "\n",
       "A matrix: 2 × 2 of type dbl\n",
       "\n",
       "| <!--/--> | elevationdifference | totalinsurancepremiumofthepolicy |\n",
       "|---|---|---|\n",
       "| elevationdifference |  1.0000000 | -0.2960271 |\n",
       "| totalinsurancepremiumofthepolicy | -0.2960271 |  1.0000000 |\n",
       "\n"
      ],
      "text/plain": [
       "                                 elevationdifference\n",
       "elevationdifference               1.0000000         \n",
       "totalinsurancepremiumofthepolicy -0.2960271         \n",
       "                                 totalinsurancepremiumofthepolicy\n",
       "elevationdifference              -0.2960271                      \n",
       "totalinsurancepremiumofthepolicy  1.0000000                      "
      ]
     },
     "metadata": {},
     "output_type": "display_data"
    }
   ],
   "source": [
    "cor(subset(df_clean2, select=c(elevationdifference, totalinsurancepremiumofthepolicy)), \n",
    "    use = \"pairwise.complete.obs\", method=\"spearman\")\n",
    "# elevatiodifference has a high nonlinear correlation with the target variable (~-0.66) ==> \n",
    "#it should not be removed \n",
    "\n",
    "# replace na with mean and see if corrrelation holds\n",
    "df_clean3 <- df_clean2\n",
    "df_clean3$elevationdifference[is.na(df_clean3$elevationdifference)] <- mean(df_clean2$elevationdifference, na.rm=TRUE)\n",
    "cor(subset(df_clean3, select=c(elevationdifference, totalinsurancepremiumofthepolicy)), \n",
    "    use = \"pairwise.complete.obs\", method=\"spearman\")\n",
    "# The correlation doesn't hold, but the direction holds (still negative) and the value is still high (-0.29)\n",
    "# this works better than other forms of imputation, keeping it"
   ]
  },
  {
   "cell_type": "code",
   "execution_count": 108,
   "id": "9dafba41",
   "metadata": {},
   "outputs": [
    {
     "data": {
      "text/html": [
       "<style>\n",
       ".dl-inline {width: auto; margin:0; padding: 0}\n",
       ".dl-inline>dt, .dl-inline>dd {float: none; width: auto; display: inline-block}\n",
       ".dl-inline>dt::after {content: \":\\0020\"; padding-right: .5ex}\n",
       ".dl-inline>dt:not(:first-of-type) {padding-left: .5ex}\n",
       "</style><dl class=dl-inline><dt>basementenclosurecrawlspacetype</dt><dd>53</dd><dt>construction</dt><dd>1</dd><dt>deductibleamountinbuildingcoverage</dt><dd>0</dd><dt>deductibleamountincontentscoverage</dt><dd>0</dd><dt>elevatedbuildingindicator</dt><dd>17</dd><dt>elevationdifference</dt><dd>0</dd><dt>federalpolicyfee</dt><dd>0</dd><dt>latitude</dt><dd>14980</dd><dt>longitude</dt><dd>14980</dd><dt>numberoffloorsininsuredbuilding</dt><dd>7315</dd><dt>policycount</dt><dd>0</dd><dt>policytermindicator</dt><dd>0</dd><dt>postfirmconstructionindicator</dt><dd>7409</dd><dt>primaryresidenceindicator</dt><dd>1481</dd><dt>reportedzipcode</dt><dd>0</dd><dt>totalbuildinginsurancecoverage</dt><dd>0</dd><dt>totalinsurancepremiumofthepolicy</dt><dd>0</dd><dt>not_condo</dt><dd>1</dd><dt>u_condo</dt><dd>1</dd><dt>lowerflooronly</dt><dd>0</dd><dt>upperandlowerfloors</dt><dd>0</dd><dt>basementandabove</dt><dd>0</dd><dt>basementonly</dt><dd>0</dd><dt>morethan1floor</dt><dd>0</dd><dt>mobilehomeortrailer</dt><dd>0</dd><dt>floodzone_highrisk</dt><dd>7307</dd><dt>floodzone_modrisk</dt><dd>7307</dd><dt>floodzone_undetermined</dt><dd>7307</dd><dt>occupancytype_single</dt><dd>1</dd><dt>occupancytype_2or4</dt><dd>1</dd><dt>occupancytype_4more</dt><dd>1</dd><dt>occupancytype_business</dt><dd>1</dd></dl>\n"
      ],
      "text/latex": [
       "\\begin{description*}\n",
       "\\item[basementenclosurecrawlspacetype] 53\n",
       "\\item[construction] 1\n",
       "\\item[deductibleamountinbuildingcoverage] 0\n",
       "\\item[deductibleamountincontentscoverage] 0\n",
       "\\item[elevatedbuildingindicator] 17\n",
       "\\item[elevationdifference] 0\n",
       "\\item[federalpolicyfee] 0\n",
       "\\item[latitude] 14980\n",
       "\\item[longitude] 14980\n",
       "\\item[numberoffloorsininsuredbuilding] 7315\n",
       "\\item[policycount] 0\n",
       "\\item[policytermindicator] 0\n",
       "\\item[postfirmconstructionindicator] 7409\n",
       "\\item[primaryresidenceindicator] 1481\n",
       "\\item[reportedzipcode] 0\n",
       "\\item[totalbuildinginsurancecoverage] 0\n",
       "\\item[totalinsurancepremiumofthepolicy] 0\n",
       "\\item[not\\textbackslash{}\\_condo] 1\n",
       "\\item[u\\textbackslash{}\\_condo] 1\n",
       "\\item[lowerflooronly] 0\n",
       "\\item[upperandlowerfloors] 0\n",
       "\\item[basementandabove] 0\n",
       "\\item[basementonly] 0\n",
       "\\item[morethan1floor] 0\n",
       "\\item[mobilehomeortrailer] 0\n",
       "\\item[floodzone\\textbackslash{}\\_highrisk] 7307\n",
       "\\item[floodzone\\textbackslash{}\\_modrisk] 7307\n",
       "\\item[floodzone\\textbackslash{}\\_undetermined] 7307\n",
       "\\item[occupancytype\\textbackslash{}\\_single] 1\n",
       "\\item[occupancytype\\textbackslash{}\\_2or4] 1\n",
       "\\item[occupancytype\\textbackslash{}\\_4more] 1\n",
       "\\item[occupancytype\\textbackslash{}\\_business] 1\n",
       "\\end{description*}\n"
      ],
      "text/markdown": [
       "basementenclosurecrawlspacetype\n",
       ":   53construction\n",
       ":   1deductibleamountinbuildingcoverage\n",
       ":   0deductibleamountincontentscoverage\n",
       ":   0elevatedbuildingindicator\n",
       ":   17elevationdifference\n",
       ":   0federalpolicyfee\n",
       ":   0latitude\n",
       ":   14980longitude\n",
       ":   14980numberoffloorsininsuredbuilding\n",
       ":   7315policycount\n",
       ":   0policytermindicator\n",
       ":   0postfirmconstructionindicator\n",
       ":   7409primaryresidenceindicator\n",
       ":   1481reportedzipcode\n",
       ":   0totalbuildinginsurancecoverage\n",
       ":   0totalinsurancepremiumofthepolicy\n",
       ":   0not_condo\n",
       ":   1u_condo\n",
       ":   1lowerflooronly\n",
       ":   0upperandlowerfloors\n",
       ":   0basementandabove\n",
       ":   0basementonly\n",
       ":   0morethan1floor\n",
       ":   0mobilehomeortrailer\n",
       ":   0floodzone_highrisk\n",
       ":   7307floodzone_modrisk\n",
       ":   7307floodzone_undetermined\n",
       ":   7307occupancytype_single\n",
       ":   1occupancytype_2or4\n",
       ":   1occupancytype_4more\n",
       ":   1occupancytype_business\n",
       ":   1\n",
       "\n"
      ],
      "text/plain": [
       "   basementenclosurecrawlspacetype                       construction \n",
       "                                53                                  1 \n",
       "deductibleamountinbuildingcoverage deductibleamountincontentscoverage \n",
       "                                 0                                  0 \n",
       "         elevatedbuildingindicator                elevationdifference \n",
       "                                17                                  0 \n",
       "                  federalpolicyfee                           latitude \n",
       "                                 0                              14980 \n",
       "                         longitude    numberoffloorsininsuredbuilding \n",
       "                             14980                               7315 \n",
       "                       policycount                policytermindicator \n",
       "                                 0                                  0 \n",
       "     postfirmconstructionindicator          primaryresidenceindicator \n",
       "                              7409                               1481 \n",
       "                   reportedzipcode     totalbuildinginsurancecoverage \n",
       "                                 0                                  0 \n",
       "  totalinsurancepremiumofthepolicy                          not_condo \n",
       "                                 0                                  1 \n",
       "                           u_condo                     lowerflooronly \n",
       "                                 1                                  0 \n",
       "               upperandlowerfloors                   basementandabove \n",
       "                                 0                                  0 \n",
       "                      basementonly                     morethan1floor \n",
       "                                 0                                  0 \n",
       "               mobilehomeortrailer                 floodzone_highrisk \n",
       "                                 0                               7307 \n",
       "                 floodzone_modrisk             floodzone_undetermined \n",
       "                              7307                               7307 \n",
       "              occupancytype_single                 occupancytype_2or4 \n",
       "                                 1                                  1 \n",
       "               occupancytype_4more             occupancytype_business \n",
       "                                 1                                  1 "
      ]
     },
     "metadata": {},
     "output_type": "display_data"
    }
   ],
   "source": [
    "colSums(is.na(df_clean3))"
   ]
  },
  {
   "cell_type": "code",
   "execution_count": 57,
   "id": "be157eeb",
   "metadata": {},
   "outputs": [
    {
     "data": {
      "image/png": "[encoded data removed]",
      "text/plain": [
       "plot without title"
      ]
     },
     "metadata": {
      "image/png": {
       "height": 420,
       "width": 420
      }
     },
     "output_type": "display_data"
    }
   ],
   "source": [
    "# plotting elevation differences between -100 to 250 (majority of data)\n",
    "plot(df_clean3$elevationdifference[df_clean3$elevationdifference> -100 & df$elevationdifference<250], df_clean3$totalinsurancepremiumofthepolicy[df_clean3$elevationdifference> -100 & df_clean3$elevationdifference<250])"
   ]
  },
  {
   "cell_type": "code",
   "execution_count": 109,
   "id": "9f27a293",
   "metadata": {},
   "outputs": [
    {
     "data": {
      "text/html": [
       "22461"
      ],
      "text/latex": [
       "22461"
      ],
      "text/markdown": [
       "22461"
      ],
      "text/plain": [
       "[1] 22461"
      ]
     },
     "metadata": {},
     "output_type": "display_data"
    },
    {
     "data": {
      "text/html": [
       "1987886"
      ],
      "text/latex": [
       "1987886"
      ],
      "text/markdown": [
       "1987886"
      ],
      "text/plain": [
       "[1] 1987886"
      ]
     },
     "metadata": {},
     "output_type": "display_data"
    }
   ],
   "source": [
    "# reportedzipcode: 5 digit Postal Zip Code for the insured property reported by WYO partners\n",
    "# It's not a real number; also we have longitude and latitude ==> need to omit it for modeling\n",
    "# For now it is kept to be able to do filtering based on zipcode for later\n",
    "#df_clean3 <- subset(df_clean3, select=-c(reportedzipcode))\n",
    "\n",
    "# remove rows with na values\n",
    "row.has.na <- apply(df_clean3, 1, function(x){any(is.na(x))})\n",
    "sum(row.has.na) # number of NAs\n",
    "df_clean3 <- df_clean3[!row.has.na,]\n",
    "nrow(df_clean3) # number of rows after removing NAs"
   ]
  },
  {
   "cell_type": "code",
   "execution_count": 110,
   "id": "b76fd2d9",
   "metadata": {},
   "outputs": [
    {
     "data": {
      "text/plain": [
       "\n",
       "Call:\n",
       "lm(formula = totalinsurancepremiumofthepolicy ~ ., data = temp)\n",
       "\n",
       "Residuals:\n",
       "     Min       1Q   Median       3Q      Max \n",
       "-14351.5   -126.0    -51.5     24.0  11952.8 \n",
       "\n",
       "Coefficients: (4 not defined because of singularities)\n",
       "                                     Estimate Std. Error  t value Pr(>|t|)    \n",
       "(Intercept)                         2.194e+02  2.225e+02    0.986   0.3241    \n",
       "basementenclosurecrawlspacetype     1.218e+01  8.278e-01   14.718  < 2e-16 ***\n",
       "construction                       -2.344e+02  5.177e+00  -45.278  < 2e-16 ***\n",
       "deductibleamountinbuildingcoverage -4.160e-03  1.431e-04  -29.064  < 2e-16 ***\n",
       "deductibleamountincontentscoverage  3.346e-02  2.339e-04  143.029  < 2e-16 ***\n",
       "elevatedbuildingindicator          -1.594e+02  1.555e+00 -102.460  < 2e-16 ***\n",
       "elevationdifference                -7.238e+00  7.522e-02  -96.225  < 2e-16 ***\n",
       "federalpolicyfee                    2.010e+00  1.418e-02  141.745  < 2e-16 ***\n",
       "latitude                            4.801e+01  2.372e+00   20.237  < 2e-16 ***\n",
       "longitude                           9.749e+00  1.712e+00    5.695 1.24e-08 ***\n",
       "numberoffloorsininsuredbuilding    -6.180e+01  6.687e-01  -92.425  < 2e-16 ***\n",
       "policycount                        -6.757e+01  5.695e-01 -118.649  < 2e-16 ***\n",
       "policytermindicator                        NA         NA       NA       NA    \n",
       "postfirmconstructionindicator      -8.922e+01  5.149e-01 -173.277  < 2e-16 ***\n",
       "primaryresidenceindicator          -7.571e+01  8.144e-01  -92.962  < 2e-16 ***\n",
       "totalbuildinginsurancecoverage      1.032e-03  2.820e-06  365.948  < 2e-16 ***\n",
       "not_condo                           2.107e+02  7.049e+00   29.889  < 2e-16 ***\n",
       "u_condo                             1.064e+02  7.240e+00   14.701  < 2e-16 ***\n",
       "lowerflooronly                     -2.932e-01  7.811e-01   -0.375   0.7073    \n",
       "upperandlowerfloors                 1.904e+01  8.529e-01   22.322  < 2e-16 ***\n",
       "basementandabove                    9.909e+01  2.868e+00   34.554  < 2e-16 ***\n",
       "basementonly                        9.005e+01  1.111e+02    0.811   0.4176    \n",
       "morethan1floor                     -1.575e+02  5.493e+00  -28.681  < 2e-16 ***\n",
       "mobilehomeortrailer                        NA         NA       NA       NA    \n",
       "floodzone_highrisk                  4.746e+02  1.666e+02    2.848   0.0044 ** \n",
       "floodzone_modrisk                   1.723e+02  1.666e+02    1.034   0.3010    \n",
       "floodzone_undetermined                     NA         NA       NA       NA    \n",
       "occupancytype_single               -7.219e+02  2.331e+00 -309.678  < 2e-16 ***\n",
       "occupancytype_2or4                 -7.292e+02  3.375e+00 -216.082  < 2e-16 ***\n",
       "occupancytype_4more                -3.919e+02  2.398e+00 -163.430  < 2e-16 ***\n",
       "occupancytype_business                     NA         NA       NA       NA    \n",
       "---\n",
       "Signif. codes:  0 '***' 0.001 '**' 0.01 '*' 0.05 '.' 0.1 ' ' 1\n",
       "\n",
       "Residual standard error: 333.2 on 1987859 degrees of freedom\n",
       "Multiple R-squared:  0.3516,\tAdjusted R-squared:  0.3515 \n",
       "F-statistic: 4.145e+04 on 26 and 1987859 DF,  p-value: < 2.2e-16\n"
      ]
     },
     "metadata": {},
     "output_type": "display_data"
    }
   ],
   "source": [
    "# running the first linear regression\n",
    "temp <- subset(df_clean3, select = -c(reportedzipcode))\n",
    "fit = lm(totalinsurancepremiumofthepolicy ~., data=temp)\n",
    "summary(fit)"
   ]
  },
  {
   "cell_type": "code",
   "execution_count": 111,
   "id": "93c5d112",
   "metadata": {},
   "outputs": [
    {
     "data": {
      "text/plain": [
       "\n",
       "Call:\n",
       "lm(formula = totalinsurancepremiumofthepolicy ~ ., data = temp)\n",
       "\n",
       "Residuals:\n",
       "     Min       1Q   Median       3Q      Max \n",
       "-14351.5   -126.0    -51.5     24.0  11952.8 \n",
       "\n",
       "Coefficients:\n",
       "                                     Estimate Std. Error  t value Pr(>|t|)    \n",
       "(Intercept)                         2.194e+02  2.225e+02    0.986   0.3241    \n",
       "basementenclosurecrawlspacetype     1.218e+01  8.278e-01   14.718  < 2e-16 ***\n",
       "construction                       -2.344e+02  5.177e+00  -45.278  < 2e-16 ***\n",
       "deductibleamountinbuildingcoverage -4.160e-03  1.431e-04  -29.064  < 2e-16 ***\n",
       "deductibleamountincontentscoverage  3.346e-02  2.339e-04  143.029  < 2e-16 ***\n",
       "elevatedbuildingindicator          -1.594e+02  1.555e+00 -102.460  < 2e-16 ***\n",
       "elevationdifference                -7.238e+00  7.522e-02  -96.225  < 2e-16 ***\n",
       "federalpolicyfee                    2.010e+00  1.418e-02  141.745  < 2e-16 ***\n",
       "latitude                            4.801e+01  2.372e+00   20.237  < 2e-16 ***\n",
       "longitude                           9.749e+00  1.712e+00    5.695 1.24e-08 ***\n",
       "numberoffloorsininsuredbuilding    -6.180e+01  6.687e-01  -92.425  < 2e-16 ***\n",
       "policycount                        -6.757e+01  5.695e-01 -118.649  < 2e-16 ***\n",
       "postfirmconstructionindicator      -8.922e+01  5.149e-01 -173.277  < 2e-16 ***\n",
       "primaryresidenceindicator          -7.571e+01  8.144e-01  -92.962  < 2e-16 ***\n",
       "totalbuildinginsurancecoverage      1.032e-03  2.820e-06  365.948  < 2e-16 ***\n",
       "not_condo                           2.107e+02  7.049e+00   29.889  < 2e-16 ***\n",
       "u_condo                             1.064e+02  7.240e+00   14.701  < 2e-16 ***\n",
       "lowerflooronly                     -2.932e-01  7.811e-01   -0.375   0.7073    \n",
       "upperandlowerfloors                 1.904e+01  8.529e-01   22.322  < 2e-16 ***\n",
       "basementandabove                    9.909e+01  2.868e+00   34.554  < 2e-16 ***\n",
       "basementonly                        9.005e+01  1.111e+02    0.811   0.4176    \n",
       "morethan1floor                     -1.575e+02  5.493e+00  -28.681  < 2e-16 ***\n",
       "floodzone_highrisk                  4.746e+02  1.666e+02    2.848   0.0044 ** \n",
       "floodzone_modrisk                   1.723e+02  1.666e+02    1.034   0.3010    \n",
       "occupancytype_single               -7.219e+02  2.331e+00 -309.678  < 2e-16 ***\n",
       "occupancytype_2or4                 -7.292e+02  3.375e+00 -216.082  < 2e-16 ***\n",
       "occupancytype_4more                -3.919e+02  2.398e+00 -163.430  < 2e-16 ***\n",
       "---\n",
       "Signif. codes:  0 '***' 0.001 '**' 0.01 '*' 0.05 '.' 0.1 ' ' 1\n",
       "\n",
       "Residual standard error: 333.2 on 1987859 degrees of freedom\n",
       "Multiple R-squared:  0.3516,\tAdjusted R-squared:  0.3515 \n",
       "F-statistic: 4.145e+04 on 26 and 1987859 DF,  p-value: < 2.2e-16\n"
      ]
     },
     "metadata": {},
     "output_type": "display_data"
    }
   ],
   "source": [
    "# removing variables with NA coefficients\n",
    "# NA as a coefficient in a regression indicates that the variable in question is linearly related \n",
    "# to the other variables.\n",
    "df_clean3 <- subset(df_clean3, select=-c(policytermindicator,mobilehomeortrailer, floodzone_undetermined, \n",
    "                                         occupancytype_business))\n",
    "temp <- subset(df_clean3, select = -c(reportedzipcode))\n",
    "fit = lm(totalinsurancepremiumofthepolicy ~., data=temp)\n",
    "summary(fit)\n",
    "# not removing insignificant features yet. Maybe after non-linear transformation they turn significant"
   ]
  },
  {
   "cell_type": "code",
   "execution_count": 112,
   "id": "0d45bc60",
   "metadata": {},
   "outputs": [
    {
     "data": {
      "text/plain": [
       "\n",
       "Call:\n",
       "lm(formula = log(totalinsurancepremiumofthepolicy + 1) ~ ., data = temp)\n",
       "\n",
       "Residuals:\n",
       "     Min       1Q   Median       3Q      Max \n",
       "-22.7747  -0.1739  -0.0492   0.0775  18.3915 \n",
       "\n",
       "Coefficients:\n",
       "                                     Estimate Std. Error  t value Pr(>|t|)    \n",
       "(Intercept)                         4.029e+00  2.884e-01   13.968  < 2e-16 ***\n",
       "basementenclosurecrawlspacetype     1.926e-02  1.073e-03   17.945  < 2e-16 ***\n",
       "construction                       -3.965e-01  6.712e-03  -59.081  < 2e-16 ***\n",
       "deductibleamountinbuildingcoverage -3.481e-06  1.856e-07  -18.761  < 2e-16 ***\n",
       "deductibleamountincontentscoverage  3.970e-05  3.033e-07  130.926  < 2e-16 ***\n",
       "elevatedbuildingindicator          -2.458e-01  2.017e-03 -121.888  < 2e-16 ***\n",
       "elevationdifference                -1.160e-02  9.751e-05 -118.984  < 2e-16 ***\n",
       "federalpolicyfee                    2.729e-03  1.838e-05  148.452  < 2e-16 ***\n",
       "latitude                            4.701e-02  3.076e-03   15.285  < 2e-16 ***\n",
       "longitude                          -9.680e-03  2.219e-03   -4.361 1.29e-05 ***\n",
       "numberoffloorsininsuredbuilding    -9.668e-02  8.669e-04 -111.533  < 2e-16 ***\n",
       "policycount                        -1.147e-01  7.383e-04 -155.390  < 2e-16 ***\n",
       "postfirmconstructionindicator      -1.227e-01  6.676e-04 -183.787  < 2e-16 ***\n",
       "primaryresidenceindicator          -6.330e-02  1.056e-03  -59.952  < 2e-16 ***\n",
       "totalbuildinginsurancecoverage      1.832e-06  3.656e-09  501.000  < 2e-16 ***\n",
       "not_condo                           4.213e-01  9.139e-03   46.104  < 2e-16 ***\n",
       "u_condo                             2.001e-01  9.386e-03   21.324  < 2e-16 ***\n",
       "lowerflooronly                     -2.256e-02  1.013e-03  -22.280  < 2e-16 ***\n",
       "upperandlowerfloors                 2.941e-02  1.106e-03   26.596  < 2e-16 ***\n",
       "basementandabove                    1.802e-01  3.718e-03   48.459  < 2e-16 ***\n",
       "basementonly                        3.411e-01  1.440e-01    2.368   0.0179 *  \n",
       "morethan1floor                     -3.109e-01  7.121e-03  -43.657  < 2e-16 ***\n",
       "floodzone_highrisk                  2.594e-01  2.160e-01    1.201   0.2299    \n",
       "floodzone_modrisk                  -2.485e-01  2.160e-01   -1.150   0.2500    \n",
       "occupancytype_single               -7.378e-01  3.022e-03 -244.118  < 2e-16 ***\n",
       "occupancytype_2or4                 -7.782e-01  4.375e-03 -177.855  < 2e-16 ***\n",
       "occupancytype_4more                -4.500e-01  3.109e-03 -144.743  < 2e-16 ***\n",
       "---\n",
       "Signif. codes:  0 '***' 0.001 '**' 0.01 '*' 0.05 '.' 0.1 ' ' 1\n",
       "\n",
       "Residual standard error: 0.432 on 1987859 degrees of freedom\n",
       "Multiple R-squared:  0.3945,\tAdjusted R-squared:  0.3945 \n",
       "F-statistic: 4.982e+04 on 26 and 1987859 DF,  p-value: < 2.2e-16\n"
      ]
     },
     "metadata": {},
     "output_type": "display_data"
    }
   ],
   "source": [
    "# check log-linear model\n",
    "fit = lm(log(totalinsurancepremiumofthepolicy+1) ~ ., data=temp)\n",
    "summary(fit)"
   ]
  },
  {
   "cell_type": "code",
   "execution_count": 113,
   "id": "430d65cd",
   "metadata": {},
   "outputs": [
    {
     "data": {
      "text/html": [
       "<style>\n",
       ".list-inline {list-style: none; margin:0; padding: 0}\n",
       ".list-inline>li {display: inline-block}\n",
       ".list-inline>li:not(:last-child)::after {content: \"\\00b7\"; padding: 0 .5ex}\n",
       "</style>\n",
       "<ol class=list-inline><li>'basementenclosurecrawlspacetype'</li><li>'construction'</li><li>'deductibleamountinbuildingcoverage'</li><li>'deductibleamountincontentscoverage'</li><li>'elevatedbuildingindicator'</li><li>'elevationdifference'</li><li>'federalpolicyfee'</li><li>'latitude'</li><li>'longitude'</li><li>'numberoffloorsininsuredbuilding'</li><li>'policycount'</li><li>'postfirmconstructionindicator'</li><li>'primaryresidenceindicator'</li><li>'totalbuildinginsurancecoverage'</li><li>'not_condo'</li><li>'u_condo'</li><li>'lowerflooronly'</li><li>'upperandlowerfloors'</li><li>'basementandabove'</li><li>'basementonly'</li><li>'morethan1floor'</li><li>'floodzone_highrisk'</li><li>'floodzone_modrisk'</li><li>'occupancytype_single'</li><li>'occupancytype_2or4'</li><li>'occupancytype_4more'</li></ol>\n"
      ],
      "text/latex": [
       "\\begin{enumerate*}\n",
       "\\item 'basementenclosurecrawlspacetype'\n",
       "\\item 'construction'\n",
       "\\item 'deductibleamountinbuildingcoverage'\n",
       "\\item 'deductibleamountincontentscoverage'\n",
       "\\item 'elevatedbuildingindicator'\n",
       "\\item 'elevationdifference'\n",
       "\\item 'federalpolicyfee'\n",
       "\\item 'latitude'\n",
       "\\item 'longitude'\n",
       "\\item 'numberoffloorsininsuredbuilding'\n",
       "\\item 'policycount'\n",
       "\\item 'postfirmconstructionindicator'\n",
       "\\item 'primaryresidenceindicator'\n",
       "\\item 'totalbuildinginsurancecoverage'\n",
       "\\item 'not\\_condo'\n",
       "\\item 'u\\_condo'\n",
       "\\item 'lowerflooronly'\n",
       "\\item 'upperandlowerfloors'\n",
       "\\item 'basementandabove'\n",
       "\\item 'basementonly'\n",
       "\\item 'morethan1floor'\n",
       "\\item 'floodzone\\_highrisk'\n",
       "\\item 'floodzone\\_modrisk'\n",
       "\\item 'occupancytype\\_single'\n",
       "\\item 'occupancytype\\_2or4'\n",
       "\\item 'occupancytype\\_4more'\n",
       "\\end{enumerate*}\n"
      ],
      "text/markdown": [
       "1. 'basementenclosurecrawlspacetype'\n",
       "2. 'construction'\n",
       "3. 'deductibleamountinbuildingcoverage'\n",
       "4. 'deductibleamountincontentscoverage'\n",
       "5. 'elevatedbuildingindicator'\n",
       "6. 'elevationdifference'\n",
       "7. 'federalpolicyfee'\n",
       "8. 'latitude'\n",
       "9. 'longitude'\n",
       "10. 'numberoffloorsininsuredbuilding'\n",
       "11. 'policycount'\n",
       "12. 'postfirmconstructionindicator'\n",
       "13. 'primaryresidenceindicator'\n",
       "14. 'totalbuildinginsurancecoverage'\n",
       "15. 'not_condo'\n",
       "16. 'u_condo'\n",
       "17. 'lowerflooronly'\n",
       "18. 'upperandlowerfloors'\n",
       "19. 'basementandabove'\n",
       "20. 'basementonly'\n",
       "21. 'morethan1floor'\n",
       "22. 'floodzone_highrisk'\n",
       "23. 'floodzone_modrisk'\n",
       "24. 'occupancytype_single'\n",
       "25. 'occupancytype_2or4'\n",
       "26. 'occupancytype_4more'\n",
       "\n",
       "\n"
      ],
      "text/plain": [
       " [1] \"basementenclosurecrawlspacetype\"    \"construction\"                      \n",
       " [3] \"deductibleamountinbuildingcoverage\" \"deductibleamountincontentscoverage\"\n",
       " [5] \"elevatedbuildingindicator\"          \"elevationdifference\"               \n",
       " [7] \"federalpolicyfee\"                   \"latitude\"                          \n",
       " [9] \"longitude\"                          \"numberoffloorsininsuredbuilding\"   \n",
       "[11] \"policycount\"                        \"postfirmconstructionindicator\"     \n",
       "[13] \"primaryresidenceindicator\"          \"totalbuildinginsurancecoverage\"    \n",
       "[15] \"not_condo\"                          \"u_condo\"                           \n",
       "[17] \"lowerflooronly\"                     \"upperandlowerfloors\"               \n",
       "[19] \"basementandabove\"                   \"basementonly\"                      \n",
       "[21] \"morethan1floor\"                     \"floodzone_highrisk\"                \n",
       "[23] \"floodzone_modrisk\"                  \"occupancytype_single\"              \n",
       "[25] \"occupancytype_2or4\"                 \"occupancytype_4more\"               "
      ]
     },
     "metadata": {},
     "output_type": "display_data"
    }
   ],
   "source": [
    "# there is a non-linear trend here.\n",
    "# let's check if the features need to be transformed too\n",
    "final_features = colnames(df_clean3)\n",
    "final_features <- final_features[final_features != \"totalinsurancepremiumofthepolicy\" & final_features != \"reportedzipcode\"]\n",
    "final_features"
   ]
  },
  {
   "cell_type": "code",
   "execution_count": 114,
   "id": "d20b9440",
   "metadata": {},
   "outputs": [
    {
     "name": "stdout",
     "output_type": "stream",
     "text": [
      "[1] \"basementenclosurecrawlspacetype\"\n",
      "[1] \"deductibleamountinbuildingcoverage\"\n"
     ]
    }
   ],
   "source": [
    "# log transformation\n",
    "# for each feature compare adjusted R2 for log transformation; it will print the features whose log transformation increases adjusted R2\n",
    "mod_lin <- lm(log(totalinsurancepremiumofthepolicy+1) ~ basementenclosurecrawlspacetype, \n",
    "              data = df_clean3)\n",
    "mod_log <- lm(log(totalinsurancepremiumofthepolicy+1) ~ log(basementenclosurecrawlspacetype+1), \n",
    "              data = df_clean3)\n",
    "if (summary(mod_log)$adj.r.squared > summary(mod_lin)$adj.r.squared) {\n",
    "  print(\"basementenclosurecrawlspacetype\")\n",
    "}\n",
    "\n",
    "mod_lin <- lm(log(totalinsurancepremiumofthepolicy+1) ~ construction, \n",
    "              data = df_clean3)\n",
    "mod_log <- lm(log(totalinsurancepremiumofthepolicy+1) ~ log(construction+1), \n",
    "              data = df_clean3)\n",
    "if (summary(mod_log)$adj.r.squared > summary(mod_lin)$adj.r.squared) {\n",
    "  print(\"construction\")\n",
    "}\n",
    "\n",
    "mod_lin <- lm(log(totalinsurancepremiumofthepolicy+1) ~ deductibleamountinbuildingcoverage, \n",
    "              data = df_clean3)\n",
    "mod_log <- lm(log(totalinsurancepremiumofthepolicy+1) ~ log(deductibleamountinbuildingcoverage+1), \n",
    "              data = df_clean3)\n",
    "if (summary(mod_log)$adj.r.squared > summary(mod_lin)$adj.r.squared) {\n",
    "  print(\"deductibleamountinbuildingcoverage\")\n",
    "}\n",
    "\n",
    "mod_lin <- lm(log(totalinsurancepremiumofthepolicy+1) ~ deductibleamountincontentscoverage, \n",
    "              data = df_clean3)\n",
    "mod_log <- lm(log(totalinsurancepremiumofthepolicy+1) ~ log(deductibleamountincontentscoverage+1), \n",
    "              data = df_clean3)\n",
    "if (summary(mod_log)$adj.r.squared > summary(mod_lin)$adj.r.squared) {\n",
    "  print(\"deductibleamountincontentscoverage\")\n",
    "}\n",
    "\n",
    "mod_lin <- lm(log(totalinsurancepremiumofthepolicy+1) ~ elevatedbuildingindicator, \n",
    "              data = df_clean3)\n",
    "mod_log <- lm(log(totalinsurancepremiumofthepolicy+1) ~ log(elevatedbuildingindicator+1), \n",
    "              data = df_clean3)\n",
    "if (summary(mod_log)$adj.r.squared > summary(mod_lin)$adj.r.squared) {\n",
    "  print(\"elevatedbuildingindicator\")\n",
    "}\n",
    "\n",
    "const <- abs(min(df_clean3$elevationdifference))\n",
    "mod_lin <- lm(log(totalinsurancepremiumofthepolicy+1) ~ elevationdifference, \n",
    "              data = df_clean3)\n",
    "mod_log <- lm(log(totalinsurancepremiumofthepolicy+1) ~ log(elevationdifference+const+1), \n",
    "              data = df_clean3)\n",
    "if (summary(mod_log)$adj.r.squared > summary(mod_lin)$adj.r.squared) {\n",
    "  print(\"elevationdifference+const\")\n",
    "}\n",
    "\n",
    "mod_lin <- lm(log(totalinsurancepremiumofthepolicy+1) ~ federalpolicyfee, \n",
    "              data = df_clean3)\n",
    "mod_log <- lm(log(totalinsurancepremiumofthepolicy+1) ~ log(federalpolicyfee+1), \n",
    "              data = df_clean3)\n",
    "if (summary(mod_log)$adj.r.squared > summary(mod_lin)$adj.r.squared) {\n",
    "  print(\"federalpolicyfee\")\n",
    "}\n",
    "\n",
    "const <- abs(min(df_clean3$latitude))\n",
    "mod_lin <- lm(log(totalinsurancepremiumofthepolicy+1) ~ latitude, \n",
    "              data = df_clean3)\n",
    "mod_log <- lm(log(totalinsurancepremiumofthepolicy+1) ~ log(latitude+const+1), \n",
    "              data = df_clean3)\n",
    "if (summary(mod_log)$adj.r.squared > summary(mod_lin)$adj.r.squared) {\n",
    "  print(\"latitude+const\")\n",
    "}\n"
   ]
  },
  {
   "cell_type": "code",
   "execution_count": 115,
   "id": "50504580",
   "metadata": {},
   "outputs": [
    {
     "name": "stdout",
     "output_type": "stream",
     "text": [
      "[1] \"numberoffloorsininsuredbuilding\"\n",
      "[1] \"policycount\"\n"
     ]
    }
   ],
   "source": [
    "# continue with log transformation of continuous features and comparing R2\n",
    "const <- abs(min(df_clean3$longitude))\n",
    "mod_lin <- lm(log(totalinsurancepremiumofthepolicy+1) ~ longitude, \n",
    "              data = df_clean3)\n",
    "mod_log <- lm(log(totalinsurancepremiumofthepolicy+1) ~ log(longitude+const+1), \n",
    "              data = df_clean3)\n",
    "if (summary(mod_log)$adj.r.squared > summary(mod_lin)$adj.r.squared) {\n",
    "  print(\"longitude+const\")\n",
    "}\n",
    "\n",
    "const <- abs(min(df_clean3$numberoffloorsininsuredbuilding))\n",
    "mod_lin <- lm(log(totalinsurancepremiumofthepolicy+1) ~ numberoffloorsininsuredbuilding, \n",
    "              data = df_clean3)\n",
    "mod_log <- lm(log(totalinsurancepremiumofthepolicy+1) ~ log(numberoffloorsininsuredbuilding+const+1), \n",
    "              data = df_clean3)\n",
    "if (summary(mod_log)$adj.r.squared > summary(mod_lin)$adj.r.squared) {\n",
    "  print(\"numberoffloorsininsuredbuilding\")\n",
    "}\n",
    "\n",
    "#const <- abs(min(df_clean3$policycount))\n",
    "mod_lin <- lm(log(totalinsurancepremiumofthepolicy+1) ~ policycount, \n",
    "              data = df_clean3)\n",
    "mod_log <- lm(log(totalinsurancepremiumofthepolicy+1) ~ log(policycount+1), \n",
    "              data = df_clean3)\n",
    "if (summary(mod_log)$adj.r.squared > summary(mod_lin)$adj.r.squared) {\n",
    "  print(\"policycount\")\n",
    "}\n",
    "\n",
    "\n",
    "mod_lin <- lm(log(totalinsurancepremiumofthepolicy+1) ~ totalbuildinginsurancecoverage, \n",
    "              data = df_clean3)\n",
    "mod_log <- lm(log(totalinsurancepremiumofthepolicy+1) ~ log(totalbuildinginsurancecoverage+1), \n",
    "              data = df_clean3)\n",
    "if (summary(mod_log)$adj.r.squared > summary(mod_lin)$adj.r.squared) {\n",
    "  print(\"totalbuildinginsurancecoverage\")\n",
    "}"
   ]
  },
  {
   "cell_type": "code",
   "execution_count": 116,
   "id": "eda6f7c6",
   "metadata": {},
   "outputs": [
    {
     "data": {
      "text/plain": [
       "\n",
       "Call:\n",
       "lm(formula = log(totalinsurancepremiumofthepolicy + 1) ~ log(basementenclosurecrawlspacetype + \n",
       "    1) + construction + log(deductibleamountinbuildingcoverage + \n",
       "    1) + deductibleamountincontentscoverage + elevatedbuildingindicator + \n",
       "    elevationdifference + federalpolicyfee + latitude + longitude + \n",
       "    log(numberoffloorsininsuredbuilding + const + 1) + log(policycount + \n",
       "    1) + postfirmconstructionindicator + primaryresidenceindicator + \n",
       "    totalbuildinginsurancecoverage + not_condo + (u_condo) + \n",
       "    (lowerflooronly) + (upperandlowerfloors) + (basementandabove) + \n",
       "    basementonly + (morethan1floor) + (floodzone_highrisk) + \n",
       "    occupancytype_single + occupancytype_2or4 + (occupancytype_4more), \n",
       "    data = df_clean3)\n",
       "\n",
       "Residuals:\n",
       "     Min       1Q   Median       3Q      Max \n",
       "-24.5973  -0.1737  -0.0496   0.0738  11.0906 \n",
       "\n",
       "Coefficients:\n",
       "                                                   Estimate Std. Error  t value\n",
       "(Intercept)                                       7.805e+00  1.925e-01   40.536\n",
       "log(basementenclosurecrawlspacetype + 1)          6.251e-02  2.477e-03   25.232\n",
       "construction                                     -3.994e-01  6.677e-03  -59.809\n",
       "log(deductibleamountinbuildingcoverage + 1)       3.509e-02  3.747e-04   93.642\n",
       "deductibleamountincontentscoverage                3.199e-05  2.748e-07  116.410\n",
       "elevatedbuildingindicator                        -2.453e-01  2.017e-03 -121.586\n",
       "elevationdifference                              -1.135e-02  9.704e-05 -116.920\n",
       "federalpolicyfee                                  3.249e-03  1.932e-05  168.224\n",
       "latitude                                          3.889e-02  3.061e-03   12.704\n",
       "longitude                                        -1.286e-02  2.209e-03   -5.823\n",
       "log(numberoffloorsininsuredbuilding + const + 1) -3.930e-01  3.443e-03 -114.148\n",
       "log(policycount + 1)                             -2.328e+00  1.326e-02 -175.535\n",
       "postfirmconstructionindicator                    -1.176e-01  6.655e-04 -176.706\n",
       "primaryresidenceindicator                        -5.457e-02  1.051e-03  -51.894\n",
       "totalbuildinginsurancecoverage                    1.732e-06  3.844e-09  450.679\n",
       "not_condo                                        -2.043e+00  1.917e-02 -106.568\n",
       "u_condo                                          -2.249e+00  1.924e-02 -116.891\n",
       "lowerflooronly                                   -1.157e-02  1.019e-03  -11.353\n",
       "upperandlowerfloors                               5.520e-02  1.128e-03   48.940\n",
       "basementandabove                                  1.780e-01  3.905e-03   45.575\n",
       "basementonly                                      4.216e-01  1.433e-01    2.941\n",
       "morethan1floor                                   -2.683e-01  7.088e-03  -37.850\n",
       "floodzone_highrisk                                4.789e-01  8.676e-04  552.038\n",
       "occupancytype_single                             -7.749e-01  3.035e-03 -255.299\n",
       "occupancytype_2or4                               -8.398e-01  4.376e-03 -191.905\n",
       "occupancytype_4more                              -4.562e-01  3.104e-03 -146.979\n",
       "                                                 Pr(>|t|)    \n",
       "(Intercept)                                       < 2e-16 ***\n",
       "log(basementenclosurecrawlspacetype + 1)          < 2e-16 ***\n",
       "construction                                      < 2e-16 ***\n",
       "log(deductibleamountinbuildingcoverage + 1)       < 2e-16 ***\n",
       "deductibleamountincontentscoverage                < 2e-16 ***\n",
       "elevatedbuildingindicator                         < 2e-16 ***\n",
       "elevationdifference                               < 2e-16 ***\n",
       "federalpolicyfee                                  < 2e-16 ***\n",
       "latitude                                          < 2e-16 ***\n",
       "longitude                                        5.79e-09 ***\n",
       "log(numberoffloorsininsuredbuilding + const + 1)  < 2e-16 ***\n",
       "log(policycount + 1)                              < 2e-16 ***\n",
       "postfirmconstructionindicator                     < 2e-16 ***\n",
       "primaryresidenceindicator                         < 2e-16 ***\n",
       "totalbuildinginsurancecoverage                    < 2e-16 ***\n",
       "not_condo                                         < 2e-16 ***\n",
       "u_condo                                           < 2e-16 ***\n",
       "lowerflooronly                                    < 2e-16 ***\n",
       "upperandlowerfloors                               < 2e-16 ***\n",
       "basementandabove                                  < 2e-16 ***\n",
       "basementonly                                      0.00327 ** \n",
       "morethan1floor                                    < 2e-16 ***\n",
       "floodzone_highrisk                                < 2e-16 ***\n",
       "occupancytype_single                              < 2e-16 ***\n",
       "occupancytype_2or4                                < 2e-16 ***\n",
       "occupancytype_4more                               < 2e-16 ***\n",
       "---\n",
       "Signif. codes:  0 '***' 0.001 '**' 0.01 '*' 0.05 '.' 0.1 ' ' 1\n",
       "\n",
       "Residual standard error: 0.4299 on 1987860 degrees of freedom\n",
       "Multiple R-squared:  0.4004,\tAdjusted R-squared:  0.4004 \n",
       "F-statistic: 5.311e+04 on 25 and 1987860 DF,  p-value: < 2.2e-16\n"
      ]
     },
     "metadata": {},
     "output_type": "display_data"
    }
   ],
   "source": [
    "const <- abs(min(df_clean3$numberoffloorsininsuredbuilding))\n",
    "# log transformation of indicator variables makes no difference on R2\n",
    "fit <- lm(log(totalinsurancepremiumofthepolicy+1) ~ log(basementenclosurecrawlspacetype+1) + \n",
    "            construction +\n",
    "            log(deductibleamountinbuildingcoverage+1) +\n",
    "            deductibleamountincontentscoverage +\n",
    "            elevatedbuildingindicator +\n",
    "            elevationdifference +\n",
    "            federalpolicyfee +\n",
    "            latitude +\n",
    "            longitude +\n",
    "            log(numberoffloorsininsuredbuilding+const+1) +\n",
    "            log(policycount+1) +\n",
    "            postfirmconstructionindicator +\n",
    "            primaryresidenceindicator +\n",
    "            totalbuildinginsurancecoverage +\n",
    "            not_condo +\n",
    "            (u_condo) + \n",
    "            (lowerflooronly) + \n",
    "            (upperandlowerfloors) + \n",
    "            (basementandabove) + \n",
    "            basementonly +\n",
    "            (morethan1floor) + # \n",
    "            (floodzone_highrisk) + \n",
    "            #floodzone_modrisk + # not significant\n",
    "            occupancytype_single +\n",
    "            occupancytype_2or4 +\n",
    "            (occupancytype_4more), \n",
    "            data= df_clean3\n",
    "            )\n",
    "summary(fit)"
   ]
  },
  {
   "cell_type": "code",
   "execution_count": 117,
   "id": "704daa34",
   "metadata": {},
   "outputs": [
    {
     "data": {
      "text/plain": [
       "\n",
       "Call:\n",
       "lm(formula = log(totalinsurancepremiumofthepolicy + 1) ~ log(basementenclosurecrawlspacetype + \n",
       "    1) + construction + deductibleamountinbuildingcoverage_trans + \n",
       "    deductibleamountincontentscoverage_trans + elevatedbuildingindicator + \n",
       "    elevationdifference_trans + federalpolicyfee + latitude + \n",
       "    longitude + log(numberoffloorsininsuredbuilding + const + \n",
       "    1) + log(policycount + 1) + postfirmconstructionindicator + \n",
       "    primaryresidenceindicator + totalbuildinginsurancecoverage_trans + \n",
       "    not_condo + (u_condo) + (lowerflooronly) + (upperandlowerfloors) + \n",
       "    (basementandabove) + basementonly + (morethan1floor) + (floodzone_highrisk) + \n",
       "    occupancytype_single + occupancytype_2or4 + (occupancytype_4more), \n",
       "    data = temp)\n",
       "\n",
       "Residuals:\n",
       "    Min      1Q  Median      3Q     Max \n",
       "-5.9751 -0.1795 -0.0534  0.0660  4.6935 \n",
       "\n",
       "Coefficients:\n",
       "                                                   Estimate Std. Error  t value\n",
       "(Intercept)                                       9.567e+00  1.821e-01   52.531\n",
       "log(basementenclosurecrawlspacetype + 1)          2.846e-02  2.499e-03   11.390\n",
       "construction                                     -2.702e-01  6.567e-03  -41.139\n",
       "deductibleamountinbuildingcoverage_trans         -2.792e-03  1.496e-04  -18.668\n",
       "deductibleamountincontentscoverage_trans          2.345e-02  1.217e-04  192.623\n",
       "elevatedbuildingindicator                        -1.872e-01  1.945e-03  -96.241\n",
       "elevationdifference_trans                        -4.619e-01  1.209e-03 -382.039\n",
       "federalpolicyfee                                  4.147e-03  1.851e-05  223.997\n",
       "latitude                                          3.611e-02  2.898e-03   12.460\n",
       "longitude                                         1.220e-02  2.090e-03    5.835\n",
       "log(numberoffloorsininsuredbuilding + const + 1) -4.259e-01  3.291e-03 -129.408\n",
       "log(policycount + 1)                             -1.641e+00  1.259e-02 -130.342\n",
       "postfirmconstructionindicator                    -1.272e-01  6.305e-04 -201.745\n",
       "primaryresidenceindicator                        -7.217e-02  1.004e-03  -71.894\n",
       "totalbuildinginsurancecoverage_trans              1.481e-02  2.758e-05  536.887\n",
       "not_condo                                        -1.450e+00  1.828e-02  -79.305\n",
       "u_condo                                          -1.607e+00  1.838e-02  -87.441\n",
       "lowerflooronly                                   -6.711e-02  1.050e-03  -63.932\n",
       "upperandlowerfloors                               1.840e-02  1.113e-03   16.528\n",
       "basementandabove                                  8.895e-02  4.051e-03   21.960\n",
       "basementonly                                      4.357e-01  1.351e-01    3.226\n",
       "morethan1floor                                   -2.903e-01  6.742e-03  -43.059\n",
       "floodzone_highrisk                                4.086e-01  8.570e-04  476.755\n",
       "occupancytype_single                             -9.766e-01  2.820e-03 -346.350\n",
       "occupancytype_2or4                               -9.764e-01  4.125e-03 -236.727\n",
       "occupancytype_4more                              -5.058e-01  2.944e-03 -171.794\n",
       "                                                 Pr(>|t|)    \n",
       "(Intercept)                                       < 2e-16 ***\n",
       "log(basementenclosurecrawlspacetype + 1)          < 2e-16 ***\n",
       "construction                                      < 2e-16 ***\n",
       "deductibleamountinbuildingcoverage_trans          < 2e-16 ***\n",
       "deductibleamountincontentscoverage_trans          < 2e-16 ***\n",
       "elevatedbuildingindicator                         < 2e-16 ***\n",
       "elevationdifference_trans                         < 2e-16 ***\n",
       "federalpolicyfee                                  < 2e-16 ***\n",
       "latitude                                          < 2e-16 ***\n",
       "longitude                                        5.37e-09 ***\n",
       "log(numberoffloorsininsuredbuilding + const + 1)  < 2e-16 ***\n",
       "log(policycount + 1)                              < 2e-16 ***\n",
       "postfirmconstructionindicator                     < 2e-16 ***\n",
       "primaryresidenceindicator                         < 2e-16 ***\n",
       "totalbuildinginsurancecoverage_trans              < 2e-16 ***\n",
       "not_condo                                         < 2e-16 ***\n",
       "u_condo                                           < 2e-16 ***\n",
       "lowerflooronly                                    < 2e-16 ***\n",
       "upperandlowerfloors                               < 2e-16 ***\n",
       "basementandabove                                  < 2e-16 ***\n",
       "basementonly                                      0.00126 ** \n",
       "morethan1floor                                    < 2e-16 ***\n",
       "floodzone_highrisk                                < 2e-16 ***\n",
       "occupancytype_single                              < 2e-16 ***\n",
       "occupancytype_2or4                                < 2e-16 ***\n",
       "occupancytype_4more                               < 2e-16 ***\n",
       "---\n",
       "Signif. codes:  0 '***' 0.001 '**' 0.01 '*' 0.05 '.' 0.1 ' ' 1\n",
       "\n",
       "Residual standard error: 0.4052 on 1967190 degrees of freedom\n",
       "  (20670 observations deleted due to missingness)\n",
       "Multiple R-squared:  0.4523,\tAdjusted R-squared:  0.4523 \n",
       "F-statistic: 6.498e+04 on 25 and 1967190 DF,  p-value: < 2.2e-16\n"
      ]
     },
     "metadata": {},
     "output_type": "display_data"
    }
   ],
   "source": [
    "# try cubic root transformation\n",
    "\n",
    "temp <- df_clean3\n",
    "temp$elevationdifference_trans <- (temp$elevationdifference)^(1/3)\n",
    "temp$deductibleamountinbuildingcoverage_trans <- (temp$deductibleamountinbuildingcoverage)^(1/3)\n",
    "temp$deductibleamountincontentscoverage_trans <- (temp$deductibleamountincontentscoverage)^(1/3)\n",
    "temp$basementenclosurecrawlspacetype_trans <- (temp$basementenclosurecrawlspacetype)^(1/3)\n",
    "temp$totalbuildinginsurancecoverage_trans <- (temp$totalbuildinginsurancecoverage)^(1/3)\n",
    "temp$latitude_trans <- (temp$latitude)^(1/3) # no difference\n",
    "temp$longitude_trans <- (temp$longitude)^(1/3)\n",
    "  \n",
    "const <- abs(min(df_clean3$numberoffloorsininsuredbuilding))\n",
    "\n",
    "# log transformation of indicator variables makes no difference on R2\n",
    "fit <- lm(log(totalinsurancepremiumofthepolicy+1) ~ log(basementenclosurecrawlspacetype+1) + \n",
    "            construction +\n",
    "            deductibleamountinbuildingcoverage_trans +\n",
    "            deductibleamountincontentscoverage_trans +\n",
    "            elevatedbuildingindicator +\n",
    "            elevationdifference_trans +\n",
    "            federalpolicyfee +\n",
    "            latitude +\n",
    "            longitude +\n",
    "            log(numberoffloorsininsuredbuilding+const+1) +\n",
    "            log(policycount+1) +\n",
    "            postfirmconstructionindicator +\n",
    "            primaryresidenceindicator +\n",
    "            totalbuildinginsurancecoverage_trans +\n",
    "            not_condo +\n",
    "            (u_condo) + \n",
    "            (lowerflooronly) + \n",
    "            (upperandlowerfloors) + \n",
    "            (basementandabove) + \n",
    "            basementonly +\n",
    "            (morethan1floor) + \n",
    "            (floodzone_highrisk) + \n",
    "            occupancytype_single +\n",
    "            occupancytype_2or4 +\n",
    "            (occupancytype_4more), \n",
    "            data= temp\n",
    "            )\n",
    "summary(fit)"
   ]
  },
  {
   "cell_type": "code",
   "execution_count": 118,
   "id": "8a153aca",
   "metadata": {},
   "outputs": [
    {
     "data": {
      "text/html": [
       "<style>\n",
       ".dl-inline {width: auto; margin:0; padding: 0}\n",
       ".dl-inline>dt, .dl-inline>dd {float: none; width: auto; display: inline-block}\n",
       ".dl-inline>dt::after {content: \":\\0020\"; padding-right: .5ex}\n",
       ".dl-inline>dt:not(:first-of-type) {padding-left: .5ex}\n",
       "</style><dl class=dl-inline><dt>log(basementenclosurecrawlspacetype + 1)</dt><dd>1.9274283473658</dd><dt>construction</dt><dd>1.05408193437496</dd><dt>deductibleamountinbuildingcoverage_trans</dt><dd>1.55929384387041</dd><dt>deductibleamountincontentscoverage_trans</dt><dd>1.44916034395306</dd><dt>elevatedbuildingindicator</dt><dd>1.30370154569037</dd><dt>elevationdifference_trans</dt><dd>1.08391497592141</dd><dt>federalpolicyfee</dt><dd>2.84089649744271</dd><dt>latitude</dt><dd>1.27068999843041</dd><dt>longitude</dt><dd>1.25966027699236</dd><dt>log(numberoffloorsininsuredbuilding + const + 1)</dt><dd>3.51412925785888</dd><dt>log(policycount + 1)</dt><dd>13.6233743635834</dd><dt>postfirmconstructionindicator</dt><dd>1.19083490322939</dd><dt>primaryresidenceindicator</dt><dd>1.56896368610128</dd><dt>totalbuildinginsurancecoverage_trans</dt><dd>1.39784165982118</dd><dt>not_condo</dt><dd>89.7789780767849</dd><dt>u_condo</dt><dd>80.7881450249066</dd><dt>lowerflooronly</dt><dd>3.30125494413777</dd><dt>upperandlowerfloors</dt><dd>3.11256091708867</dd><dt>basementandabove</dt><dd>1.93820810387658</dd><dt>basementonly</dt><dd>1.0005005181016</dd><dt>morethan1floor</dt><dd>1.04526369034535</dd><dt>floodzone_highrisk</dt><dd>1.65995683637469</dd><dt>occupancytype_single</dt><dd>7.0786835251757</dd><dt>occupancytype_2or4</dt><dd>1.80908032436371</dd><dt>occupancytype_4more</dt><dd>5.85750171667725</dd></dl>\n"
      ],
      "text/latex": [
       "\\begin{description*}\n",
       "\\item[log(basementenclosurecrawlspacetype + 1)] 1.9274283473658\n",
       "\\item[construction] 1.05408193437496\n",
       "\\item[deductibleamountinbuildingcoverage\\textbackslash{}\\_trans] 1.55929384387041\n",
       "\\item[deductibleamountincontentscoverage\\textbackslash{}\\_trans] 1.44916034395306\n",
       "\\item[elevatedbuildingindicator] 1.30370154569037\n",
       "\\item[elevationdifference\\textbackslash{}\\_trans] 1.08391497592141\n",
       "\\item[federalpolicyfee] 2.84089649744271\n",
       "\\item[latitude] 1.27068999843041\n",
       "\\item[longitude] 1.25966027699236\n",
       "\\item[log(numberoffloorsininsuredbuilding + const + 1)] 3.51412925785888\n",
       "\\item[log(policycount + 1)] 13.6233743635834\n",
       "\\item[postfirmconstructionindicator] 1.19083490322939\n",
       "\\item[primaryresidenceindicator] 1.56896368610128\n",
       "\\item[totalbuildinginsurancecoverage\\textbackslash{}\\_trans] 1.39784165982118\n",
       "\\item[not\\textbackslash{}\\_condo] 89.7789780767849\n",
       "\\item[u\\textbackslash{}\\_condo] 80.7881450249066\n",
       "\\item[lowerflooronly] 3.30125494413777\n",
       "\\item[upperandlowerfloors] 3.11256091708867\n",
       "\\item[basementandabove] 1.93820810387658\n",
       "\\item[basementonly] 1.0005005181016\n",
       "\\item[morethan1floor] 1.04526369034535\n",
       "\\item[floodzone\\textbackslash{}\\_highrisk] 1.65995683637469\n",
       "\\item[occupancytype\\textbackslash{}\\_single] 7.0786835251757\n",
       "\\item[occupancytype\\textbackslash{}\\_2or4] 1.80908032436371\n",
       "\\item[occupancytype\\textbackslash{}\\_4more] 5.85750171667725\n",
       "\\end{description*}\n"
      ],
      "text/markdown": [
       "log(basementenclosurecrawlspacetype + 1)\n",
       ":   1.9274283473658construction\n",
       ":   1.05408193437496deductibleamountinbuildingcoverage_trans\n",
       ":   1.55929384387041deductibleamountincontentscoverage_trans\n",
       ":   1.44916034395306elevatedbuildingindicator\n",
       ":   1.30370154569037elevationdifference_trans\n",
       ":   1.08391497592141federalpolicyfee\n",
       ":   2.84089649744271latitude\n",
       ":   1.27068999843041longitude\n",
       ":   1.25966027699236log(numberoffloorsininsuredbuilding + const + 1)\n",
       ":   3.51412925785888log(policycount + 1)\n",
       ":   13.6233743635834postfirmconstructionindicator\n",
       ":   1.19083490322939primaryresidenceindicator\n",
       ":   1.56896368610128totalbuildinginsurancecoverage_trans\n",
       ":   1.39784165982118not_condo\n",
       ":   89.7789780767849u_condo\n",
       ":   80.7881450249066lowerflooronly\n",
       ":   3.30125494413777upperandlowerfloors\n",
       ":   3.11256091708867basementandabove\n",
       ":   1.93820810387658basementonly\n",
       ":   1.0005005181016morethan1floor\n",
       ":   1.04526369034535floodzone_highrisk\n",
       ":   1.65995683637469occupancytype_single\n",
       ":   7.0786835251757occupancytype_2or4\n",
       ":   1.80908032436371occupancytype_4more\n",
       ":   5.85750171667725\n",
       "\n"
      ],
      "text/plain": [
       "        log(basementenclosurecrawlspacetype + 1) \n",
       "                                        1.927428 \n",
       "                                    construction \n",
       "                                        1.054082 \n",
       "        deductibleamountinbuildingcoverage_trans \n",
       "                                        1.559294 \n",
       "        deductibleamountincontentscoverage_trans \n",
       "                                        1.449160 \n",
       "                       elevatedbuildingindicator \n",
       "                                        1.303702 \n",
       "                       elevationdifference_trans \n",
       "                                        1.083915 \n",
       "                                federalpolicyfee \n",
       "                                        2.840896 \n",
       "                                        latitude \n",
       "                                        1.270690 \n",
       "                                       longitude \n",
       "                                        1.259660 \n",
       "log(numberoffloorsininsuredbuilding + const + 1) \n",
       "                                        3.514129 \n",
       "                            log(policycount + 1) \n",
       "                                       13.623374 \n",
       "                   postfirmconstructionindicator \n",
       "                                        1.190835 \n",
       "                       primaryresidenceindicator \n",
       "                                        1.568964 \n",
       "            totalbuildinginsurancecoverage_trans \n",
       "                                        1.397842 \n",
       "                                       not_condo \n",
       "                                       89.778978 \n",
       "                                         u_condo \n",
       "                                       80.788145 \n",
       "                                  lowerflooronly \n",
       "                                        3.301255 \n",
       "                             upperandlowerfloors \n",
       "                                        3.112561 \n",
       "                                basementandabove \n",
       "                                        1.938208 \n",
       "                                    basementonly \n",
       "                                        1.000501 \n",
       "                                  morethan1floor \n",
       "                                        1.045264 \n",
       "                              floodzone_highrisk \n",
       "                                        1.659957 \n",
       "                            occupancytype_single \n",
       "                                        7.078684 \n",
       "                              occupancytype_2or4 \n",
       "                                        1.809080 \n",
       "                             occupancytype_4more \n",
       "                                        5.857502 "
      ]
     },
     "metadata": {},
     "output_type": "display_data"
    }
   ],
   "source": [
    "# None are insignificant\n",
    "# Choose a VIF cutoff under which a variable is retained (Zuur et al. 2010) \n",
    "# vif>10  multi-collinearity: remove variables with vif > 10\n",
    "## Create the final dataset for further analysis\n",
    "vif(fit)"
   ]
  },
  {
   "cell_type": "code",
   "execution_count": 119,
   "id": "919e183d",
   "metadata": {},
   "outputs": [
    {
     "data": {
      "text/plain": [
       "\n",
       "Call:\n",
       "lm(formula = totalinsurancepremiumofthepolicy_log ~ ., data = temp0)\n",
       "\n",
       "Residuals:\n",
       "    Min      1Q  Median      3Q     Max \n",
       "-5.7552 -0.1801 -0.0555  0.0626  4.7847 \n",
       "\n",
       "Coefficients:\n",
       "                                           Estimate Std. Error  t value\n",
       "(Intercept)                               7.239e+00  1.813e-01   39.932\n",
       "construction                             -2.627e-01  6.616e-03  -39.713\n",
       "deductibleamountinbuildingcoverage_trans -8.079e-04  1.502e-04   -5.379\n",
       "deductibleamountincontentscoverage_trans  2.393e-02  1.224e-04  195.462\n",
       "elevatedbuildingindicator                -1.846e-01  1.925e-03  -95.909\n",
       "elevationdifference_trans                -4.691e-01  1.217e-03 -385.369\n",
       "federalpolicyfee                          1.899e-03  1.203e-05  157.827\n",
       "latitude                                  4.649e-02  2.918e-03   15.931\n",
       "longitude                                 1.734e-02  2.105e-03    8.241\n",
       "numberoffloorsininsuredbuilding_log      -4.474e-01  3.301e-03 -135.521\n",
       "postfirmconstructionindicator            -1.253e-01  6.347e-04 -197.425\n",
       "primaryresidenceindicator                -8.086e-02  1.009e-03  -80.173\n",
       "totalbuildinginsurancecoverage_trans      1.470e-02  2.690e-05  546.554\n",
       "lowerflooronly                           -6.764e-02  1.058e-03  -63.950\n",
       "upperandlowerfloors                       1.900e-02  1.119e-03   16.979\n",
       "basementandabove                          1.250e-01  3.289e-03   38.012\n",
       "basementonly                              5.130e-01  1.361e-01    3.769\n",
       "morethan1floor                           -2.989e-01  6.790e-03  -44.018\n",
       "floodzone_highrisk                        4.418e-01  8.398e-04  526.032\n",
       "occupancytype_single                     -9.825e-01  2.840e-03 -345.945\n",
       "occupancytype_2or4                       -1.002e+00  4.131e-03 -242.511\n",
       "occupancytype_4more                      -5.464e-01  2.956e-03 -184.865\n",
       "                                         Pr(>|t|)    \n",
       "(Intercept)                               < 2e-16 ***\n",
       "construction                              < 2e-16 ***\n",
       "deductibleamountinbuildingcoverage_trans 7.51e-08 ***\n",
       "deductibleamountincontentscoverage_trans  < 2e-16 ***\n",
       "elevatedbuildingindicator                 < 2e-16 ***\n",
       "elevationdifference_trans                 < 2e-16 ***\n",
       "federalpolicyfee                          < 2e-16 ***\n",
       "latitude                                  < 2e-16 ***\n",
       "longitude                                 < 2e-16 ***\n",
       "numberoffloorsininsuredbuilding_log       < 2e-16 ***\n",
       "postfirmconstructionindicator             < 2e-16 ***\n",
       "primaryresidenceindicator                 < 2e-16 ***\n",
       "totalbuildinginsurancecoverage_trans      < 2e-16 ***\n",
       "lowerflooronly                            < 2e-16 ***\n",
       "upperandlowerfloors                       < 2e-16 ***\n",
       "basementandabove                          < 2e-16 ***\n",
       "basementonly                             0.000164 ***\n",
       "morethan1floor                            < 2e-16 ***\n",
       "floodzone_highrisk                        < 2e-16 ***\n",
       "occupancytype_single                      < 2e-16 ***\n",
       "occupancytype_2or4                        < 2e-16 ***\n",
       "occupancytype_4more                       < 2e-16 ***\n",
       "---\n",
       "Signif. codes:  0 '***' 0.001 '**' 0.01 '*' 0.05 '.' 0.1 ' ' 1\n",
       "\n",
       "Residual standard error: 0.4084 on 1967194 degrees of freedom\n",
       "  (20670 observations deleted due to missingness)\n",
       "Multiple R-squared:  0.4436,\tAdjusted R-squared:  0.4436 \n",
       "F-statistic: 7.47e+04 on 21 and 1967194 DF,  p-value: < 2.2e-16\n"
      ]
     },
     "metadata": {},
     "output_type": "display_data"
    }
   ],
   "source": [
    "df_final <- subset(temp, select = -c(not_condo, policycount, u_condo))\n",
    "\n",
    "const <- abs(min(df_final$numberoffloorsininsuredbuilding))\n",
    "\n",
    "df_final$totalinsurancepremiumofthepolicy_log <- log(df_final$totalinsurancepremiumofthepolicy+1)\n",
    "df_final$basementenclosurecrawlspacetype_log <- log(df_final$basementenclosurecrawlspacetype +1)\n",
    "df_final$numberoffloorsininsuredbuilding_log <- log(df_final$numberoffloorsininsuredbuilding+const+1)\n",
    "\n",
    "df_final <- subset(df_final, select = c(totalinsurancepremiumofthepolicy_log,\n",
    "                  #basementenclosurecrawlspacetype_log, \n",
    "                  construction, \n",
    "                  deductibleamountinbuildingcoverage_trans,\n",
    "                  deductibleamountincontentscoverage_trans, \n",
    "                  elevatedbuildingindicator, \n",
    "                  elevationdifference_trans,\n",
    "                  federalpolicyfee,\n",
    "                  latitude,\n",
    "                  longitude,\n",
    "                  numberoffloorsininsuredbuilding_log,\n",
    "                  postfirmconstructionindicator, \n",
    "                  primaryresidenceindicator, \n",
    "                  totalbuildinginsurancecoverage_trans,\n",
    "                  lowerflooronly, \n",
    "                  upperandlowerfloors,\n",
    "                  basementandabove,\n",
    "                  basementonly,\n",
    "                  morethan1floor,\n",
    "                  floodzone_highrisk,\n",
    "                  occupancytype_single,\n",
    "                  occupancytype_2or4,\n",
    "                  occupancytype_4more,\n",
    "                  reportedzipcode)) #added for later filtering\n",
    "temp0 <- subset(df_final, select = -c(reportedzipcode))\n",
    "fit2 <- lm(totalinsurancepremiumofthepolicy_log~., data=temp0)\n",
    "summary(fit2)"
   ]
  },
  {
   "cell_type": "code",
   "execution_count": 120,
   "id": "a49feade",
   "metadata": {},
   "outputs": [],
   "source": [
    "# Exporting the dataframe to EDA folder\n",
    "\n",
    "# df_final_NoNA includes numeric (df_num) and 2 \"date\" columns\n",
    "\n",
    "file_path3 <- \"../03_EDA/df_final_0impute_nonlin.parquet\"\n",
    "write_parquet(df_final, file_path3)"
   ]
  },
  {
   "cell_type": "code",
   "execution_count": 122,
   "id": "5dd574f2",
   "metadata": {},
   "outputs": [
    {
     "data": {
      "text/html": [
       "'77096'"
      ],
      "text/latex": [
       "'77096'"
      ],
      "text/markdown": [
       "'77096'"
      ],
      "text/plain": [
       "[1] \"77096\""
      ]
     },
     "metadata": {},
     "output_type": "display_data"
    },
    {
     "data": {
      "text/html": [
       "'77089'"
      ],
      "text/latex": [
       "'77089'"
      ],
      "text/markdown": [
       "'77089'"
      ],
      "text/plain": [
       "[1] \"77089\""
      ]
     },
     "metadata": {},
     "output_type": "display_data"
    },
    {
     "data": {
      "text/html": [
       "'77084'"
      ],
      "text/latex": [
       "'77084'"
      ],
      "text/markdown": [
       "'77084'"
      ],
      "text/plain": [
       "[1] \"77084\""
      ]
     },
     "metadata": {},
     "output_type": "display_data"
    },
    {
     "data": {
      "text/html": [
       "'77024'"
      ],
      "text/latex": [
       "'77024'"
      ],
      "text/markdown": [
       "'77024'"
      ],
      "text/plain": [
       "[1] \"77024\""
      ]
     },
     "metadata": {},
     "output_type": "display_data"
    },
    {
     "data": {
      "text/html": [
       "'77062'"
      ],
      "text/latex": [
       "'77062'"
      ],
      "text/markdown": [
       "'77062'"
      ],
      "text/plain": [
       "[1] \"77062\""
      ]
     },
     "metadata": {},
     "output_type": "display_data"
    },
    {
     "data": {
      "text/html": [
       "2798"
      ],
      "text/latex": [
       "2798"
      ],
      "text/markdown": [
       "2798"
      ],
      "text/plain": [
       "[1] 2798"
      ]
     },
     "metadata": {},
     "output_type": "display_data"
    },
    {
     "data": {
      "text/html": [
       "293794"
      ],
      "text/latex": [
       "293794"
      ],
      "text/markdown": [
       "293794"
      ],
      "text/plain": [
       "[1] 293794"
      ]
     },
     "metadata": {},
     "output_type": "display_data"
    }
   ],
   "source": [
    "# filter for top 5 zipcodes to manage data size so we can run random forest\n",
    "names(which.max(table(df_final$reportedzipcode))) # \"77096\"\n",
    "\n",
    "temp <- df_final %>% \n",
    "  filter(reportedzipcode != \"77096\")\n",
    "names(which.max(table(temp$reportedzipcode))) # 77089\n",
    "temp <- temp %>% \n",
    "  filter(reportedzipcode != \"77089\")\n",
    "names(which.max(table(temp$reportedzipcode))) # 77084\n",
    "\n",
    "\n",
    "temp <- temp %>% \n",
    "  filter(reportedzipcode != \"77084\")\n",
    "names(which.max(table(temp$reportedzipcode))) # 77024\n",
    "\n",
    "temp <- temp %>% \n",
    "  filter(reportedzipcode != \"77024\")\n",
    "names(which.max(table(temp$reportedzipcode))) # 77062\n",
    "\n",
    "df_5_Zipcode <- subset(df_final, reportedzipcode == '77096'| reportedzipcode == '77089' |reportedzipcode == '77084'| reportedzipcode == '77024' |reportedzipcode == '77062')\n",
    "\n",
    "# Remove zipcode, the dataset includes 300K rows\n",
    "#df_5_Zipcode <- subset(df_5_Zipcode, select=-c(reportedzipcode))\n",
    "# remove rows with na values\n",
    "row.has.na <- apply(df_5_Zipcode, 1, function(x){any(is.na(x))})\n",
    "sum(row.has.na)\n",
    "\n",
    "df_5_Zipcode <- df_5_Zipcode[!row.has.na,]\n",
    "nrow(df_5_Zipcode)\n",
    "\n",
    "file_path4 <- \"../03_EDA/df_final_0impute_5zipcode.parquet\"\n",
    "write_parquet(df_5_Zipcode, file_path4)"
   ]
  },
  {
   "cell_type": "code",
   "execution_count": 123,
   "id": "64fb8748",
   "metadata": {},
   "outputs": [],
   "source": [
    "# Import data again to avoid run all above commands\n",
    "file_path <- \"../03_EDA/df_final_0impute_nonlin.parquet\"\n",
    "df_num <- read_parquet(file_path, as_tibble = TRUE)"
   ]
  },
  {
   "cell_type": "code",
   "execution_count": 124,
   "id": "3f743a7b",
   "metadata": {},
   "outputs": [
    {
     "data": {
      "text/plain": [
       "\n",
       "Call:\n",
       "lm(formula = totalinsurancepremiumofthepolicy_log ~ ., data = temp0)\n",
       "\n",
       "Residuals:\n",
       "    Min      1Q  Median      3Q     Max \n",
       "-5.7552 -0.1801 -0.0555  0.0626  4.7847 \n",
       "\n",
       "Coefficients:\n",
       "                                           Estimate Std. Error  t value\n",
       "(Intercept)                               7.239e+00  1.813e-01   39.932\n",
       "construction                             -2.627e-01  6.616e-03  -39.713\n",
       "deductibleamountinbuildingcoverage_trans -8.079e-04  1.502e-04   -5.379\n",
       "deductibleamountincontentscoverage_trans  2.393e-02  1.224e-04  195.462\n",
       "elevatedbuildingindicator                -1.846e-01  1.925e-03  -95.909\n",
       "elevationdifference_trans                -4.691e-01  1.217e-03 -385.369\n",
       "federalpolicyfee                          1.899e-03  1.203e-05  157.827\n",
       "latitude                                  4.649e-02  2.918e-03   15.931\n",
       "longitude                                 1.734e-02  2.105e-03    8.241\n",
       "numberoffloorsininsuredbuilding_log      -4.474e-01  3.301e-03 -135.521\n",
       "postfirmconstructionindicator            -1.253e-01  6.347e-04 -197.425\n",
       "primaryresidenceindicator                -8.086e-02  1.009e-03  -80.173\n",
       "totalbuildinginsurancecoverage_trans      1.470e-02  2.690e-05  546.554\n",
       "lowerflooronly                           -6.764e-02  1.058e-03  -63.950\n",
       "upperandlowerfloors                       1.900e-02  1.119e-03   16.979\n",
       "basementandabove                          1.250e-01  3.289e-03   38.012\n",
       "basementonly                              5.130e-01  1.361e-01    3.769\n",
       "morethan1floor                           -2.989e-01  6.790e-03  -44.018\n",
       "floodzone_highrisk                        4.418e-01  8.398e-04  526.032\n",
       "occupancytype_single                     -9.825e-01  2.840e-03 -345.945\n",
       "occupancytype_2or4                       -1.002e+00  4.131e-03 -242.511\n",
       "occupancytype_4more                      -5.464e-01  2.956e-03 -184.865\n",
       "                                         Pr(>|t|)    \n",
       "(Intercept)                               < 2e-16 ***\n",
       "construction                              < 2e-16 ***\n",
       "deductibleamountinbuildingcoverage_trans 7.51e-08 ***\n",
       "deductibleamountincontentscoverage_trans  < 2e-16 ***\n",
       "elevatedbuildingindicator                 < 2e-16 ***\n",
       "elevationdifference_trans                 < 2e-16 ***\n",
       "federalpolicyfee                          < 2e-16 ***\n",
       "latitude                                  < 2e-16 ***\n",
       "longitude                                 < 2e-16 ***\n",
       "numberoffloorsininsuredbuilding_log       < 2e-16 ***\n",
       "postfirmconstructionindicator             < 2e-16 ***\n",
       "primaryresidenceindicator                 < 2e-16 ***\n",
       "totalbuildinginsurancecoverage_trans      < 2e-16 ***\n",
       "lowerflooronly                            < 2e-16 ***\n",
       "upperandlowerfloors                       < 2e-16 ***\n",
       "basementandabove                          < 2e-16 ***\n",
       "basementonly                             0.000164 ***\n",
       "morethan1floor                            < 2e-16 ***\n",
       "floodzone_highrisk                        < 2e-16 ***\n",
       "occupancytype_single                      < 2e-16 ***\n",
       "occupancytype_2or4                        < 2e-16 ***\n",
       "occupancytype_4more                       < 2e-16 ***\n",
       "---\n",
       "Signif. codes:  0 '***' 0.001 '**' 0.01 '*' 0.05 '.' 0.1 ' ' 1\n",
       "\n",
       "Residual standard error: 0.4084 on 1967194 degrees of freedom\n",
       "  (20670 observations deleted due to missingness)\n",
       "Multiple R-squared:  0.4436,\tAdjusted R-squared:  0.4436 \n",
       "F-statistic: 7.47e+04 on 21 and 1967194 DF,  p-value: < 2.2e-16\n"
      ]
     },
     "metadata": {},
     "output_type": "display_data"
    }
   ],
   "source": [
    "# Rerun lm to check significant variables\n",
    "temp0 = subset(df_num, select=-c(reportedzipcode))\n",
    "fit3 = lm(totalinsurancepremiumofthepolicy_log ~., temp0)\n",
    "summary(fit3)"
   ]
  },
  {
   "cell_type": "code",
   "execution_count": 125,
   "id": "95b17706",
   "metadata": {},
   "outputs": [
    {
     "data": {
      "text/plain": [
       "\n",
       "Call:\n",
       "lm(formula = totalinsurancepremiumofthepolicy_log ~ ., data = temp0)\n",
       "\n",
       "Residuals:\n",
       "    Min      1Q  Median      3Q     Max \n",
       "-5.7552 -0.1801 -0.0555  0.0626  4.7847 \n",
       "\n",
       "Coefficients:\n",
       "                                           Estimate Std. Error  t value\n",
       "(Intercept)                               7.239e+00  1.813e-01   39.932\n",
       "construction                             -2.627e-01  6.616e-03  -39.713\n",
       "deductibleamountinbuildingcoverage_trans -8.079e-04  1.502e-04   -5.379\n",
       "deductibleamountincontentscoverage_trans  2.393e-02  1.224e-04  195.462\n",
       "elevatedbuildingindicator                -1.846e-01  1.925e-03  -95.909\n",
       "elevationdifference_trans                -4.691e-01  1.217e-03 -385.369\n",
       "federalpolicyfee                          1.899e-03  1.203e-05  157.827\n",
       "latitude                                  4.649e-02  2.918e-03   15.931\n",
       "longitude                                 1.734e-02  2.105e-03    8.241\n",
       "numberoffloorsininsuredbuilding_log      -4.474e-01  3.301e-03 -135.521\n",
       "postfirmconstructionindicator            -1.253e-01  6.347e-04 -197.425\n",
       "primaryresidenceindicator                -8.086e-02  1.009e-03  -80.173\n",
       "totalbuildinginsurancecoverage_trans      1.470e-02  2.690e-05  546.554\n",
       "lowerflooronly                           -6.764e-02  1.058e-03  -63.950\n",
       "upperandlowerfloors                       1.900e-02  1.119e-03   16.979\n",
       "basementandabove                          1.250e-01  3.289e-03   38.012\n",
       "basementonly                              5.130e-01  1.361e-01    3.769\n",
       "morethan1floor                           -2.989e-01  6.790e-03  -44.018\n",
       "floodzone_highrisk                        4.418e-01  8.398e-04  526.032\n",
       "occupancytype_single                     -9.825e-01  2.840e-03 -345.945\n",
       "occupancytype_2or4                       -1.002e+00  4.131e-03 -242.511\n",
       "occupancytype_4more                      -5.464e-01  2.956e-03 -184.865\n",
       "                                         Pr(>|t|)    \n",
       "(Intercept)                               < 2e-16 ***\n",
       "construction                              < 2e-16 ***\n",
       "deductibleamountinbuildingcoverage_trans 7.51e-08 ***\n",
       "deductibleamountincontentscoverage_trans  < 2e-16 ***\n",
       "elevatedbuildingindicator                 < 2e-16 ***\n",
       "elevationdifference_trans                 < 2e-16 ***\n",
       "federalpolicyfee                          < 2e-16 ***\n",
       "latitude                                  < 2e-16 ***\n",
       "longitude                                 < 2e-16 ***\n",
       "numberoffloorsininsuredbuilding_log       < 2e-16 ***\n",
       "postfirmconstructionindicator             < 2e-16 ***\n",
       "primaryresidenceindicator                 < 2e-16 ***\n",
       "totalbuildinginsurancecoverage_trans      < 2e-16 ***\n",
       "lowerflooronly                            < 2e-16 ***\n",
       "upperandlowerfloors                       < 2e-16 ***\n",
       "basementandabove                          < 2e-16 ***\n",
       "basementonly                             0.000164 ***\n",
       "morethan1floor                            < 2e-16 ***\n",
       "floodzone_highrisk                        < 2e-16 ***\n",
       "occupancytype_single                      < 2e-16 ***\n",
       "occupancytype_2or4                        < 2e-16 ***\n",
       "occupancytype_4more                       < 2e-16 ***\n",
       "---\n",
       "Signif. codes:  0 '***' 0.001 '**' 0.01 '*' 0.05 '.' 0.1 ' ' 1\n",
       "\n",
       "Residual standard error: 0.4084 on 1967194 degrees of freedom\n",
       "  (20670 observations deleted due to missingness)\n",
       "Multiple R-squared:  0.4436,\tAdjusted R-squared:  0.4436 \n",
       "F-statistic: 7.47e+04 on 21 and 1967194 DF,  p-value: < 2.2e-16\n"
      ]
     },
     "metadata": {},
     "output_type": "display_data"
    }
   ],
   "source": [
    "temp0 = subset(df_num, select=-c(reportedzipcode))\n",
    "fit3 = lm(totalinsurancepremiumofthepolicy_log ~., temp0)\n",
    "summary(fit3)"
   ]
  },
  {
   "cell_type": "code",
   "execution_count": 128,
   "id": "3c68005e",
   "metadata": {},
   "outputs": [
    {
     "data": {
      "text/html": [
       "20670"
      ],
      "text/latex": [
       "20670"
      ],
      "text/markdown": [
       "20670"
      ],
      "text/plain": [
       "[1] 20670"
      ]
     },
     "metadata": {},
     "output_type": "display_data"
    },
    {
     "data": {
      "text/html": [
       "<style>\n",
       ".list-inline {list-style: none; margin:0; padding: 0}\n",
       ".list-inline>li {display: inline-block}\n",
       ".list-inline>li:not(:last-child)::after {content: \"\\00b7\"; padding: 0 .5ex}\n",
       "</style>\n",
       "<ol class=list-inline><li>'totalinsurancepremiumofthepolicy_log'</li><li>'construction'</li><li>'deductibleamountinbuildingcoverage_trans'</li><li>'deductibleamountincontentscoverage_trans'</li><li>'elevatedbuildingindicator'</li><li>'elevationdifference_trans'</li><li>'federalpolicyfee'</li><li>'latitude'</li><li>'longitude'</li><li>'numberoffloorsininsuredbuilding_log'</li><li>'postfirmconstructionindicator'</li><li>'primaryresidenceindicator'</li><li>'totalbuildinginsurancecoverage_trans'</li><li>'lowerflooronly'</li><li>'upperandlowerfloors'</li><li>'basementandabove'</li><li>'basementonly'</li><li>'morethan1floor'</li><li>'floodzone_highrisk'</li><li>'occupancytype_single'</li><li>'occupancytype_2or4'</li><li>'occupancytype_4more'</li></ol>\n"
      ],
      "text/latex": [
       "\\begin{enumerate*}\n",
       "\\item 'totalinsurancepremiumofthepolicy\\_log'\n",
       "\\item 'construction'\n",
       "\\item 'deductibleamountinbuildingcoverage\\_trans'\n",
       "\\item 'deductibleamountincontentscoverage\\_trans'\n",
       "\\item 'elevatedbuildingindicator'\n",
       "\\item 'elevationdifference\\_trans'\n",
       "\\item 'federalpolicyfee'\n",
       "\\item 'latitude'\n",
       "\\item 'longitude'\n",
       "\\item 'numberoffloorsininsuredbuilding\\_log'\n",
       "\\item 'postfirmconstructionindicator'\n",
       "\\item 'primaryresidenceindicator'\n",
       "\\item 'totalbuildinginsurancecoverage\\_trans'\n",
       "\\item 'lowerflooronly'\n",
       "\\item 'upperandlowerfloors'\n",
       "\\item 'basementandabove'\n",
       "\\item 'basementonly'\n",
       "\\item 'morethan1floor'\n",
       "\\item 'floodzone\\_highrisk'\n",
       "\\item 'occupancytype\\_single'\n",
       "\\item 'occupancytype\\_2or4'\n",
       "\\item 'occupancytype\\_4more'\n",
       "\\end{enumerate*}\n"
      ],
      "text/markdown": [
       "1. 'totalinsurancepremiumofthepolicy_log'\n",
       "2. 'construction'\n",
       "3. 'deductibleamountinbuildingcoverage_trans'\n",
       "4. 'deductibleamountincontentscoverage_trans'\n",
       "5. 'elevatedbuildingindicator'\n",
       "6. 'elevationdifference_trans'\n",
       "7. 'federalpolicyfee'\n",
       "8. 'latitude'\n",
       "9. 'longitude'\n",
       "10. 'numberoffloorsininsuredbuilding_log'\n",
       "11. 'postfirmconstructionindicator'\n",
       "12. 'primaryresidenceindicator'\n",
       "13. 'totalbuildinginsurancecoverage_trans'\n",
       "14. 'lowerflooronly'\n",
       "15. 'upperandlowerfloors'\n",
       "16. 'basementandabove'\n",
       "17. 'basementonly'\n",
       "18. 'morethan1floor'\n",
       "19. 'floodzone_highrisk'\n",
       "20. 'occupancytype_single'\n",
       "21. 'occupancytype_2or4'\n",
       "22. 'occupancytype_4more'\n",
       "\n",
       "\n"
      ],
      "text/plain": [
       " [1] \"totalinsurancepremiumofthepolicy_log\"    \n",
       " [2] \"construction\"                            \n",
       " [3] \"deductibleamountinbuildingcoverage_trans\"\n",
       " [4] \"deductibleamountincontentscoverage_trans\"\n",
       " [5] \"elevatedbuildingindicator\"               \n",
       " [6] \"elevationdifference_trans\"               \n",
       " [7] \"federalpolicyfee\"                        \n",
       " [8] \"latitude\"                                \n",
       " [9] \"longitude\"                               \n",
       "[10] \"numberoffloorsininsuredbuilding_log\"     \n",
       "[11] \"postfirmconstructionindicator\"           \n",
       "[12] \"primaryresidenceindicator\"               \n",
       "[13] \"totalbuildinginsurancecoverage_trans\"    \n",
       "[14] \"lowerflooronly\"                          \n",
       "[15] \"upperandlowerfloors\"                     \n",
       "[16] \"basementandabove\"                        \n",
       "[17] \"basementonly\"                            \n",
       "[18] \"morethan1floor\"                          \n",
       "[19] \"floodzone_highrisk\"                      \n",
       "[20] \"occupancytype_single\"                    \n",
       "[21] \"occupancytype_2or4\"                      \n",
       "[22] \"occupancytype_4more\"                     "
      ]
     },
     "metadata": {},
     "output_type": "display_data"
    }
   ],
   "source": [
    "# 1. Stepwise regression\n",
    "\n",
    "temp0 <- subset(df_num, select=-c(reportedzipcode))\n",
    "# remove rows with na values\n",
    "row.has.na <- apply(temp0, 1, function(x){any(is.na(x))})\n",
    "sum(row.has.na)\n",
    "temp0 <- temp0[!row.has.na,]\n",
    "colnames(temp0)"
   ]
  },
  {
   "cell_type": "code",
   "execution_count": 129,
   "id": "2d071a06",
   "metadata": {},
   "outputs": [
    {
     "name": "stdout",
     "output_type": "stream",
     "text": [
      "Start:  AIC=-2818117\n",
      ".outcome ~ construction + deductibleamountinbuildingcoverage_trans + \n",
      "    deductibleamountincontentscoverage_trans + elevatedbuildingindicator + \n",
      "    elevationdifference_trans + federalpolicyfee + latitude + \n",
      "    longitude + numberoffloorsininsuredbuilding_log + postfirmconstructionindicator + \n",
      "    primaryresidenceindicator + totalbuildinginsurancecoverage_trans + \n",
      "    lowerflooronly + upperandlowerfloors + basementandabove + \n",
      "    basementonly + morethan1floor + floodzone_highrisk + occupancytype_single + \n",
      "    occupancytype_2or4 + occupancytype_4more\n",
      "\n",
      "                                           Df Sum of Sq    RSS      AIC\n",
      "<none>                                                  262572 -2818117\n",
      "- basementonly                              1         2 262574 -2818104\n",
      "- deductibleamountinbuildingcoverage_trans  1         5 262576 -2818091\n",
      "- longitude                                 1         8 262580 -2818070\n",
      "- latitude                                  1        33 262605 -2817921\n",
      "- upperandlowerfloors                       1        43 262615 -2817860\n",
      "- basementandabove                          1       202 262773 -2816910\n",
      "- construction                              1       216 262787 -2816826\n",
      "- morethan1floor                            1       259 262831 -2816567\n",
      "- lowerflooronly                            1       533 263105 -2814927\n",
      "- primaryresidenceindicator                 1       839 263411 -2813099\n",
      "- elevatedbuildingindicator                 1      1234 263806 -2810740\n",
      "- numberoffloorsininsuredbuilding_log       1      2447 265019 -2803519\n",
      "- federalpolicyfee                          1      3222 265793 -2798927\n",
      "- occupancytype_4more                       1      4523 267095 -2791238\n",
      "- deductibleamountincontentscoverage_trans  1      5081 267653 -2787954\n",
      "- postfirmconstructionindicator             1      5193 267765 -2787296\n",
      "- occupancytype_2or4                        1      7800 270372 -2772047\n",
      "- occupancytype_single                      1     15952 278523 -2725301\n",
      "- elevationdifference_trans                 1     19706 282278 -2704227\n",
      "- floodzone_highrisk                        1     37207 299778 -2609565\n",
      "- totalbuildinginsurancecoverage_trans      1     39749 302321 -2596273\n",
      "Start:  AIC=-2818839\n",
      ".outcome ~ construction + deductibleamountinbuildingcoverage_trans + \n",
      "    deductibleamountincontentscoverage_trans + elevatedbuildingindicator + \n",
      "    elevationdifference_trans + federalpolicyfee + latitude + \n",
      "    longitude + numberoffloorsininsuredbuilding_log + postfirmconstructionindicator + \n",
      "    primaryresidenceindicator + totalbuildinginsurancecoverage_trans + \n",
      "    lowerflooronly + upperandlowerfloors + basementandabove + \n",
      "    basementonly + morethan1floor + floodzone_highrisk + occupancytype_single + \n",
      "    occupancytype_2or4 + occupancytype_4more\n",
      "\n",
      "                                           Df Sum of Sq    RSS      AIC\n",
      "<none>                                                  262452 -2818839\n",
      "- basementonly                              1         2 262454 -2818828\n",
      "- deductibleamountinbuildingcoverage_trans  1         4 262456 -2818816\n",
      "- longitude                                 1         9 262461 -2818785\n",
      "- latitude                                  1        33 262485 -2818645\n",
      "- upperandlowerfloors                       1        36 262488 -2818627\n",
      "- basementandabove                          1       190 262642 -2817703\n",
      "- construction                              1       205 262657 -2817614\n",
      "- morethan1floor                            1       273 262725 -2817203\n",
      "- lowerflooronly                            1       546 262998 -2815571\n",
      "- primaryresidenceindicator                 1       849 263301 -2813757\n",
      "- elevatedbuildingindicator                 1      1227 263679 -2811502\n",
      "- numberoffloorsininsuredbuilding_log       1      2435 264887 -2804308\n",
      "- federalpolicyfee                          1      3328 265780 -2799012\n",
      "- occupancytype_4more                       1      4624 267077 -2791352\n",
      "- deductibleamountincontentscoverage_trans  1      5135 267587 -2788349\n",
      "- postfirmconstructionindicator             1      5203 267656 -2787944\n",
      "- occupancytype_2or4                        1      7920 270373 -2772050\n",
      "- occupancytype_single                      1     16098 278550 -2725157\n",
      "- elevationdifference_trans                 1     19789 282242 -2704436\n",
      "- floodzone_highrisk                        1     37006 299458 -2611249\n",
      "- totalbuildinginsurancecoverage_trans      1     39881 302333 -2596212\n",
      "Start:  AIC=-2819804\n",
      ".outcome ~ construction + deductibleamountinbuildingcoverage_trans + \n",
      "    deductibleamountincontentscoverage_trans + elevatedbuildingindicator + \n",
      "    elevationdifference_trans + federalpolicyfee + latitude + \n",
      "    longitude + numberoffloorsininsuredbuilding_log + postfirmconstructionindicator + \n",
      "    primaryresidenceindicator + totalbuildinginsurancecoverage_trans + \n",
      "    lowerflooronly + upperandlowerfloors + basementandabove + \n",
      "    basementonly + morethan1floor + floodzone_highrisk + occupancytype_single + \n",
      "    occupancytype_2or4 + occupancytype_4more\n",
      "\n",
      "                                           Df Sum of Sq    RSS      AIC\n",
      "<none>                                                  262291 -2819804\n",
      "- deductibleamountinbuildingcoverage_trans  1         3 262294 -2819789\n",
      "- basementonly                              1         4 262295 -2819782\n",
      "- longitude                                 1         9 262300 -2819754\n",
      "- latitude                                  1        34 262326 -2819600\n",
      "- upperandlowerfloors                       1        38 262329 -2819579\n",
      "- basementandabove                          1       192 262484 -2818653\n",
      "- construction                              1       210 262502 -2818544\n",
      "- morethan1floor                            1       257 262548 -2818264\n",
      "- lowerflooronly                            1       562 262853 -2816441\n",
      "- primaryresidenceindicator                 1       858 263150 -2814664\n",
      "- elevatedbuildingindicator                 1      1234 263525 -2812421\n",
      "- numberoffloorsininsuredbuilding_log       1      2480 264771 -2804997\n",
      "- federalpolicyfee                          1      3259 265550 -2800374\n",
      "- occupancytype_4more                       1      4515 266806 -2792945\n",
      "- deductibleamountincontentscoverage_trans  1      5109 267400 -2789445\n",
      "- postfirmconstructionindicator             1      5201 267492 -2788906\n",
      "- occupancytype_2or4                        1      7791 270082 -2773739\n",
      "- occupancytype_single                      1     15870 278161 -2727353\n",
      "- elevationdifference_trans                 1     19848 282139 -2705008\n",
      "- floodzone_highrisk                        1     36897 299188 -2612669\n",
      "- totalbuildinginsurancecoverage_trans      1     40054 302345 -2596150\n",
      "Start:  AIC=-2819382\n",
      ".outcome ~ construction + deductibleamountinbuildingcoverage_trans + \n",
      "    deductibleamountincontentscoverage_trans + elevatedbuildingindicator + \n",
      "    elevationdifference_trans + federalpolicyfee + latitude + \n",
      "    longitude + numberoffloorsininsuredbuilding_log + postfirmconstructionindicator + \n",
      "    primaryresidenceindicator + totalbuildinginsurancecoverage_trans + \n",
      "    lowerflooronly + upperandlowerfloors + basementandabove + \n",
      "    basementonly + morethan1floor + floodzone_highrisk + occupancytype_single + \n",
      "    occupancytype_2or4 + occupancytype_4more\n",
      "\n",
      "                                           Df Sum of Sq    RSS      AIC\n",
      "<none>                                                  262363 -2819382\n",
      "- basementonly                              1         1 262364 -2819376\n",
      "- deductibleamountinbuildingcoverage_trans  1         3 262366 -2819363\n",
      "- longitude                                 1        11 262374 -2819317\n",
      "- latitude                                  1        35 262398 -2819173\n",
      "- upperandlowerfloors                       1        39 262401 -2819152\n",
      "- basementandabove                          1       188 262551 -2818255\n",
      "- construction                              1       206 262568 -2818149\n",
      "- morethan1floor                            1       259 262622 -2817831\n",
      "- lowerflooronly                            1       553 262916 -2816069\n",
      "- primaryresidenceindicator                 1       877 263240 -2814131\n",
      "- elevatedbuildingindicator                 1      1217 263579 -2812101\n",
      "- numberoffloorsininsuredbuilding_log       1      2456 264818 -2804721\n",
      "- federalpolicyfee                          1      3370 265733 -2799296\n",
      "- occupancytype_4more                       1      4562 266925 -2792253\n",
      "- deductibleamountincontentscoverage_trans  1      5038 267401 -2789449\n",
      "- postfirmconstructionindicator             1      5218 267581 -2788390\n",
      "- occupancytype_2or4                        1      7837 270200 -2773061\n",
      "- occupancytype_single                      1     15897 278259 -2726806\n",
      "- elevationdifference_trans                 1     19761 282124 -2705099\n",
      "- floodzone_highrisk                        1     36824 299186 -2612686\n",
      "- totalbuildinginsurancecoverage_trans      1     39675 302038 -2597757\n"
     ]
    },
    {
     "name": "stdout",
     "output_type": "stream",
     "text": [
      "Start:  AIC=-2818987\n",
      ".outcome ~ construction + deductibleamountinbuildingcoverage_trans + \n",
      "    deductibleamountincontentscoverage_trans + elevatedbuildingindicator + \n",
      "    elevationdifference_trans + federalpolicyfee + latitude + \n",
      "    longitude + numberoffloorsininsuredbuilding_log + postfirmconstructionindicator + \n",
      "    primaryresidenceindicator + totalbuildinginsurancecoverage_trans + \n",
      "    lowerflooronly + upperandlowerfloors + basementandabove + \n",
      "    basementonly + morethan1floor + floodzone_highrisk + occupancytype_single + \n",
      "    occupancytype_2or4 + occupancytype_4more\n",
      "\n",
      "                                           Df Sum of Sq    RSS      AIC\n",
      "<none>                                                  262427 -2818987\n",
      "- basementonly                              1         1 262428 -2818985\n",
      "- deductibleamountinbuildingcoverage_trans  1         4 262431 -2818962\n",
      "- longitude                                 1         8 262435 -2818940\n",
      "- latitude                                  1        34 262461 -2818784\n",
      "- upperandlowerfloors                       1        37 262464 -2818766\n",
      "- basementandabove                          1       192 262619 -2817838\n",
      "- construction                              1       215 262642 -2817699\n",
      "- morethan1floor                            1       244 262671 -2817526\n",
      "- lowerflooronly                            1       534 262962 -2815787\n",
      "- primaryresidenceindicator                 1       864 263291 -2813818\n",
      "- elevatedbuildingindicator                 1      1224 263651 -2811664\n",
      "- numberoffloorsininsuredbuilding_log       1      2433 264860 -2804467\n",
      "- federalpolicyfee                          1      3445 265872 -2798463\n",
      "- occupancytype_4more                       1      4570 266997 -2791821\n",
      "- deductibleamountincontentscoverage_trans  1      5120 267547 -2788578\n",
      "- postfirmconstructionindicator             1      5181 267608 -2788219\n",
      "- occupancytype_2or4                        1      7878 270305 -2772440\n",
      "- occupancytype_single                      1     16008 278435 -2725805\n",
      "- elevationdifference_trans                 1     19953 282380 -2703664\n",
      "- floodzone_highrisk                        1     36615 299042 -2613439\n",
      "- totalbuildinginsurancecoverage_trans      1     39890 302317 -2596296\n",
      "Start:  AIC=-2820196\n",
      ".outcome ~ construction + deductibleamountinbuildingcoverage_trans + \n",
      "    deductibleamountincontentscoverage_trans + elevatedbuildingindicator + \n",
      "    elevationdifference_trans + federalpolicyfee + latitude + \n",
      "    longitude + numberoffloorsininsuredbuilding_log + postfirmconstructionindicator + \n",
      "    primaryresidenceindicator + totalbuildinginsurancecoverage_trans + \n",
      "    lowerflooronly + upperandlowerfloors + basementandabove + \n",
      "    basementonly + morethan1floor + floodzone_highrisk + occupancytype_single + \n",
      "    occupancytype_2or4 + occupancytype_4more\n",
      "\n",
      "                                           Df Sum of Sq    RSS      AIC\n",
      "<none>                                                  262225 -2820196\n",
      "- basementonly                              1         3 262228 -2820182\n",
      "- deductibleamountinbuildingcoverage_trans  1         5 262230 -2820170\n",
      "- longitude                                 1        10 262235 -2820141\n",
      "- upperandlowerfloors                       1        33 262258 -2820002\n",
      "- latitude                                  1        35 262260 -2819988\n",
      "- basementandabove                          1       194 262419 -2819036\n",
      "- construction                              1       218 262443 -2818892\n",
      "- morethan1floor                            1       255 262480 -2818670\n",
      "- lowerflooronly                            1       552 262777 -2816891\n",
      "- primaryresidenceindicator                 1       859 263085 -2815051\n",
      "- elevatedbuildingindicator                 1      1250 263476 -2812713\n",
      "- numberoffloorsininsuredbuilding_log       1      2426 264651 -2805706\n",
      "- federalpolicyfee                          1      3397 265622 -2799945\n",
      "- occupancytype_4more                       1      4566 266792 -2793030\n",
      "- deductibleamountincontentscoverage_trans  1      5131 267356 -2789702\n",
      "- postfirmconstructionindicator             1      5191 267416 -2789351\n",
      "- occupancytype_2or4                        1      7803 270028 -2774053\n",
      "- occupancytype_single                      1     15897 278123 -2727570\n",
      "- elevationdifference_trans                 1     19784 282009 -2705729\n",
      "- floodzone_highrisk                        1     36954 299180 -2612712\n",
      "- totalbuildinginsurancecoverage_trans      1     40056 302281 -2596481\n",
      "Start:  AIC=-2817961\n",
      ".outcome ~ construction + deductibleamountinbuildingcoverage_trans + \n",
      "    deductibleamountincontentscoverage_trans + elevatedbuildingindicator + \n",
      "    elevationdifference_trans + federalpolicyfee + latitude + \n",
      "    longitude + numberoffloorsininsuredbuilding_log + postfirmconstructionindicator + \n",
      "    primaryresidenceindicator + totalbuildinginsurancecoverage_trans + \n",
      "    lowerflooronly + upperandlowerfloors + basementandabove + \n",
      "    basementonly + morethan1floor + floodzone_highrisk + occupancytype_single + \n",
      "    occupancytype_2or4 + occupancytype_4more\n",
      "\n",
      "                                           Df Sum of Sq    RSS      AIC\n",
      "<none>                                                  262598 -2817961\n",
      "- basementonly                              1         2 262600 -2817954\n",
      "- deductibleamountinbuildingcoverage_trans  1         4 262602 -2817940\n",
      "- longitude                                 1         9 262607 -2817910\n",
      "- latitude                                  1        31 262629 -2817776\n",
      "- upperandlowerfloors                       1        39 262637 -2817729\n",
      "- basementandabove                          1       196 262794 -2816788\n",
      "- construction                              1       207 262805 -2816726\n",
      "- morethan1floor                            1       272 262870 -2816332\n",
      "- lowerflooronly                            1       559 263157 -2814618\n",
      "- primaryresidenceindicator                 1       839 263437 -2812943\n",
      "- elevatedbuildingindicator                 1      1236 263834 -2810576\n",
      "- numberoffloorsininsuredbuilding_log       1      2478 265076 -2803182\n",
      "- federalpolicyfee                          1      3228 265826 -2798734\n",
      "- occupancytype_4more                       1      4645 267243 -2790370\n",
      "- deductibleamountincontentscoverage_trans  1      5057 267655 -2787944\n",
      "- postfirmconstructionindicator             1      5210 267808 -2787048\n",
      "- occupancytype_2or4                        1      7972 270571 -2770895\n",
      "- occupancytype_single                      1     16182 278780 -2723853\n",
      "- elevationdifference_trans                 1     19683 282281 -2704212\n",
      "- floodzone_highrisk                        1     36972 299570 -2610660\n",
      "- totalbuildinginsurancecoverage_trans      1     39714 302312 -2596320\n",
      "Start:  AIC=-2817513\n",
      ".outcome ~ construction + deductibleamountinbuildingcoverage_trans + \n",
      "    deductibleamountincontentscoverage_trans + elevatedbuildingindicator + \n",
      "    elevationdifference_trans + federalpolicyfee + latitude + \n",
      "    longitude + numberoffloorsininsuredbuilding_log + postfirmconstructionindicator + \n",
      "    primaryresidenceindicator + totalbuildinginsurancecoverage_trans + \n",
      "    lowerflooronly + upperandlowerfloors + basementandabove + \n",
      "    basementonly + morethan1floor + floodzone_highrisk + occupancytype_single + \n",
      "    occupancytype_2or4 + occupancytype_4more\n",
      "\n",
      "                                           Df Sum of Sq    RSS      AIC\n",
      "<none>                                                  262674 -2817513\n",
      "- basementonly                              1         2 262676 -2817505\n",
      "- deductibleamountinbuildingcoverage_trans  1         5 262678 -2817488\n",
      "- longitude                                 1         9 262683 -2817462\n",
      "- latitude                                  1        37 262711 -2817295\n",
      "- upperandlowerfloors                       1        41 262715 -2817267\n",
      "- basementandabove                          1       190 262863 -2816380\n",
      "- construction                              1       213 262887 -2816237\n",
      "- morethan1floor                            1       261 262935 -2815954\n",
      "- lowerflooronly                            1       525 263199 -2814374\n",
      "- primaryresidenceindicator                 1       876 263550 -2812274\n",
      "- elevatedbuildingindicator                 1      1234 263908 -2810136\n",
      "- numberoffloorsininsuredbuilding_log       1      2430 265104 -2803022\n",
      "- federalpolicyfee                          1      3306 265980 -2797831\n",
      "- occupancytype_4more                       1      4434 267108 -2791171\n",
      "- deductibleamountincontentscoverage_trans  1      5055 267729 -2787517\n",
      "- postfirmconstructionindicator             1      5238 267912 -2786442\n",
      "- occupancytype_2or4                        1      7742 270416 -2771798\n",
      "- occupancytype_single                      1     15732 278405 -2725976\n",
      "- elevationdifference_trans                 1     19821 282495 -2703028\n",
      "- floodzone_highrisk                        1     37009 299683 -2610075\n",
      "- totalbuildinginsurancecoverage_trans      1     40027 302701 -2594304\n"
     ]
    },
    {
     "name": "stdout",
     "output_type": "stream",
     "text": [
      "Start:  AIC=-2820573\n",
      ".outcome ~ construction + deductibleamountinbuildingcoverage_trans + \n",
      "    deductibleamountincontentscoverage_trans + elevatedbuildingindicator + \n",
      "    elevationdifference_trans + federalpolicyfee + latitude + \n",
      "    longitude + numberoffloorsininsuredbuilding_log + postfirmconstructionindicator + \n",
      "    primaryresidenceindicator + totalbuildinginsurancecoverage_trans + \n",
      "    lowerflooronly + upperandlowerfloors + basementandabove + \n",
      "    basementonly + morethan1floor + floodzone_highrisk + occupancytype_single + \n",
      "    occupancytype_2or4 + occupancytype_4more\n",
      "\n",
      "                                           Df Sum of Sq    RSS      AIC\n",
      "<none>                                                  262163 -2820573\n",
      "- basementonly                              1         1 262164 -2820571\n",
      "- deductibleamountinbuildingcoverage_trans  1         3 262166 -2820557\n",
      "- longitude                                 1         9 262172 -2820520\n",
      "- latitude                                  1        33 262196 -2820378\n",
      "- upperandlowerfloors                       1        40 262203 -2820335\n",
      "- basementandabove                          1       198 262361 -2819387\n",
      "- construction                              1       204 262367 -2819353\n",
      "- morethan1floor                            1       243 262406 -2819120\n",
      "- lowerflooronly                            1       558 262721 -2817227\n",
      "- primaryresidenceindicator                 1       846 263009 -2815505\n",
      "- elevatedbuildingindicator                 1      1204 263367 -2813366\n",
      "- numberoffloorsininsuredbuilding_log       1      2482 264645 -2805748\n",
      "- federalpolicyfee                          1      3363 265526 -2800516\n",
      "- occupancytype_4more                       1      4648 266811 -2792919\n",
      "- deductibleamountincontentscoverage_trans  1      5131 267294 -2790072\n",
      "- postfirmconstructionindicator             1      5164 267327 -2789878\n",
      "- occupancytype_2or4                        1      7908 270071 -2773806\n",
      "- occupancytype_single                      1     16125 278288 -2726638\n",
      "- elevationdifference_trans                 1     19854 282018 -2705686\n",
      "- floodzone_highrisk                        1     36781 298944 -2613953\n",
      "- totalbuildinginsurancecoverage_trans      1     39724 301887 -2598539\n",
      "Start:  AIC=-2818877\n",
      ".outcome ~ construction + deductibleamountinbuildingcoverage_trans + \n",
      "    deductibleamountincontentscoverage_trans + elevatedbuildingindicator + \n",
      "    elevationdifference_trans + federalpolicyfee + latitude + \n",
      "    longitude + numberoffloorsininsuredbuilding_log + postfirmconstructionindicator + \n",
      "    primaryresidenceindicator + totalbuildinginsurancecoverage_trans + \n",
      "    lowerflooronly + upperandlowerfloors + basementandabove + \n",
      "    basementonly + morethan1floor + floodzone_highrisk + occupancytype_single + \n",
      "    occupancytype_2or4 + occupancytype_4more\n",
      "\n",
      "                                           Df Sum of Sq    RSS      AIC\n",
      "<none>                                                  262446 -2818877\n",
      "- deductibleamountinbuildingcoverage_trans  1         3 262449 -2818859\n",
      "- basementonly                              1         3 262449 -2818859\n",
      "- longitude                                 1         9 262455 -2818826\n",
      "- latitude                                  1        34 262479 -2818678\n",
      "- upperandlowerfloors                       1        39 262485 -2818644\n",
      "- basementandabove                          1       186 262632 -2817761\n",
      "- construction                              1       211 262656 -2817616\n",
      "- morethan1floor                            1       262 262708 -2817307\n",
      "- lowerflooronly                            1       535 262981 -2815675\n",
      "- primaryresidenceindicator                 1       867 263313 -2813688\n",
      "- elevatedbuildingindicator                 1      1212 263658 -2811629\n",
      "- numberoffloorsininsuredbuilding_log       1      2435 264880 -2804347\n",
      "- federalpolicyfee                          1      3327 265772 -2799056\n",
      "- occupancytype_4more                       1      4504 266950 -2792099\n",
      "- deductibleamountincontentscoverage_trans  1      5109 267555 -2788534\n",
      "- postfirmconstructionindicator             1      5195 267641 -2788030\n",
      "- occupancytype_2or4                        1      7803 270249 -2772770\n",
      "- occupancytype_single                      1     15891 278337 -2726360\n",
      "- elevationdifference_trans                 1     19913 282359 -2703784\n",
      "- floodzone_highrisk                        1     36837 299283 -2612172\n",
      "- totalbuildinginsurancecoverage_trans      1     39726 302172 -2597053\n",
      "Start:  AIC=-3523771\n",
      ".outcome ~ construction + deductibleamountinbuildingcoverage_trans + \n",
      "    deductibleamountincontentscoverage_trans + elevatedbuildingindicator + \n",
      "    elevationdifference_trans + federalpolicyfee + latitude + \n",
      "    longitude + numberoffloorsininsuredbuilding_log + postfirmconstructionindicator + \n",
      "    primaryresidenceindicator + totalbuildinginsurancecoverage_trans + \n",
      "    lowerflooronly + upperandlowerfloors + basementandabove + \n",
      "    basementonly + morethan1floor + floodzone_highrisk + occupancytype_single + \n",
      "    occupancytype_2or4 + occupancytype_4more\n",
      "\n",
      "                                           Df Sum of Sq    RSS      AIC\n",
      "<none>                                                  328030 -3523771\n",
      "- basementonly                              1         2 328032 -3523759\n",
      "- deductibleamountinbuildingcoverage_trans  1         5 328035 -3523744\n",
      "- longitude                                 1        11 328041 -3523705\n",
      "- latitude                                  1        42 328072 -3523519\n",
      "- upperandlowerfloors                       1        48 328078 -3523485\n",
      "- basementandabove                          1       241 328271 -3522329\n",
      "- construction                              1       263 328293 -3522197\n",
      "- morethan1floor                            1       323 328353 -3521836\n",
      "- lowerflooronly                            1       682 328712 -3519688\n",
      "- primaryresidenceindicator                 1      1072 329102 -3517356\n",
      "- elevatedbuildingindicator                 1      1534 329564 -3514596\n",
      "- numberoffloorsininsuredbuilding_log       1      3063 331092 -3505492\n",
      "- federalpolicyfee                          1      4154 332183 -3499020\n",
      "- occupancytype_4more                       1      5699 333729 -3489891\n",
      "- deductibleamountincontentscoverage_trans  1      6371 334401 -3485933\n",
      "- postfirmconstructionindicator             1      6499 334529 -3485177\n",
      "- occupancytype_2or4                        1      9807 337837 -3465823\n",
      "- occupancytype_single                      1     19956 347986 -3407593\n",
      "- elevationdifference_trans                 1     24764 352794 -3380601\n",
      "- floodzone_highrisk                        1     46141 374171 -3264870\n",
      "- totalbuildinginsurancecoverage_trans      1     49812 377842 -3245667\n"
     ]
    }
   ],
   "source": [
    "#computationally demanding\n",
    "ctrl <- trainControl(method = \"repeatedcv\", number = 5, repeats = 2)\n",
    "\n",
    "lmFit_Step <- train(totalinsurancepremiumofthepolicy_log ~ ., data = temp0, \"lmStepAIC\", scope = \n",
    "                 list(lower = totalinsurancepremiumofthepolicy_log~1, upper = totalinsurancepremiumofthepolicy_log~.), direction = \"backward\",trControl=ctrl, na.action=na.exclude)\n"
   ]
  },
  {
   "cell_type": "code",
   "execution_count": null,
   "id": "f6d56e93",
   "metadata": {},
   "outputs": [],
   "source": [
    "# the lowest AIC (-3523771) keeps all the features"
   ]
  },
  {
   "cell_type": "code",
   "execution_count": 130,
   "id": "812e4c26",
   "metadata": {},
   "outputs": [
    {
     "data": {
      "text/plain": [
       "\n",
       "Call:\n",
       "lm(formula = totalinsurancepremiumofthepolicy_log ~ construction + \n",
       "    deductibleamountinbuildingcoverage_trans + deductibleamountincontentscoverage_trans + \n",
       "    elevatedbuildingindicator + elevationdifference_trans + federalpolicyfee + \n",
       "    latitude + longitude + numberoffloorsininsuredbuilding_log + \n",
       "    postfirmconstructionindicator + primaryresidenceindicator + \n",
       "    totalbuildinginsurancecoverage_trans + lowerflooronly + upperandlowerfloors + \n",
       "    basementandabove + basementonly + morethan1floor + floodzone_highrisk + \n",
       "    occupancytype_single + occupancytype_2or4 + occupancytype_4more, \n",
       "    data = temp0)\n",
       "\n",
       "Residuals:\n",
       "    Min      1Q  Median      3Q     Max \n",
       "-5.7552 -0.1801 -0.0555  0.0626  4.7847 \n",
       "\n",
       "Coefficients:\n",
       "                                           Estimate Std. Error  t value\n",
       "(Intercept)                               7.239e+00  1.813e-01   39.932\n",
       "construction                             -2.627e-01  6.616e-03  -39.713\n",
       "deductibleamountinbuildingcoverage_trans -8.079e-04  1.502e-04   -5.379\n",
       "deductibleamountincontentscoverage_trans  2.393e-02  1.224e-04  195.462\n",
       "elevatedbuildingindicator                -1.846e-01  1.925e-03  -95.909\n",
       "elevationdifference_trans                -4.691e-01  1.217e-03 -385.369\n",
       "federalpolicyfee                          1.899e-03  1.203e-05  157.827\n",
       "latitude                                  4.649e-02  2.918e-03   15.931\n",
       "longitude                                 1.734e-02  2.105e-03    8.241\n",
       "numberoffloorsininsuredbuilding_log      -4.474e-01  3.301e-03 -135.521\n",
       "postfirmconstructionindicator            -1.253e-01  6.347e-04 -197.425\n",
       "primaryresidenceindicator                -8.086e-02  1.009e-03  -80.173\n",
       "totalbuildinginsurancecoverage_trans      1.470e-02  2.690e-05  546.554\n",
       "lowerflooronly                           -6.764e-02  1.058e-03  -63.950\n",
       "upperandlowerfloors                       1.900e-02  1.119e-03   16.979\n",
       "basementandabove                          1.250e-01  3.289e-03   38.012\n",
       "basementonly                              5.130e-01  1.361e-01    3.769\n",
       "morethan1floor                           -2.989e-01  6.790e-03  -44.018\n",
       "floodzone_highrisk                        4.418e-01  8.398e-04  526.032\n",
       "occupancytype_single                     -9.825e-01  2.840e-03 -345.945\n",
       "occupancytype_2or4                       -1.002e+00  4.131e-03 -242.511\n",
       "occupancytype_4more                      -5.464e-01  2.956e-03 -184.865\n",
       "                                         Pr(>|t|)    \n",
       "(Intercept)                               < 2e-16 ***\n",
       "construction                              < 2e-16 ***\n",
       "deductibleamountinbuildingcoverage_trans 7.51e-08 ***\n",
       "deductibleamountincontentscoverage_trans  < 2e-16 ***\n",
       "elevatedbuildingindicator                 < 2e-16 ***\n",
       "elevationdifference_trans                 < 2e-16 ***\n",
       "federalpolicyfee                          < 2e-16 ***\n",
       "latitude                                  < 2e-16 ***\n",
       "longitude                                 < 2e-16 ***\n",
       "numberoffloorsininsuredbuilding_log       < 2e-16 ***\n",
       "postfirmconstructionindicator             < 2e-16 ***\n",
       "primaryresidenceindicator                 < 2e-16 ***\n",
       "totalbuildinginsurancecoverage_trans      < 2e-16 ***\n",
       "lowerflooronly                            < 2e-16 ***\n",
       "upperandlowerfloors                       < 2e-16 ***\n",
       "basementandabove                          < 2e-16 ***\n",
       "basementonly                             0.000164 ***\n",
       "morethan1floor                            < 2e-16 ***\n",
       "floodzone_highrisk                        < 2e-16 ***\n",
       "occupancytype_single                      < 2e-16 ***\n",
       "occupancytype_2or4                        < 2e-16 ***\n",
       "occupancytype_4more                       < 2e-16 ***\n",
       "---\n",
       "Signif. codes:  0 '***' 0.001 '**' 0.01 '*' 0.05 '.' 0.1 ' ' 1\n",
       "\n",
       "Residual standard error: 0.4084 on 1967194 degrees of freedom\n",
       "Multiple R-squared:  0.4436,\tAdjusted R-squared:  0.4436 \n",
       "F-statistic: 7.47e+04 on 21 and 1967194 DF,  p-value: < 2.2e-16\n"
      ]
     },
     "metadata": {},
     "output_type": "display_data"
    }
   ],
   "source": [
    "mod_Step = lm(totalinsurancepremiumofthepolicy_log ~ construction + deductibleamountinbuildingcoverage_trans + \n",
    "    deductibleamountincontentscoverage_trans + elevatedbuildingindicator + \n",
    "    elevationdifference_trans + federalpolicyfee + latitude + \n",
    "    longitude + numberoffloorsininsuredbuilding_log + postfirmconstructionindicator + \n",
    "    primaryresidenceindicator + totalbuildinginsurancecoverage_trans + \n",
    "    lowerflooronly + upperandlowerfloors + basementandabove + \n",
    "    basementonly + morethan1floor + floodzone_highrisk + occupancytype_single + \n",
    "    occupancytype_2or4 + occupancytype_4more,\n",
    "    data = temp0)\n",
    "summary(mod_Step)"
   ]
  },
  {
   "cell_type": "code",
   "execution_count": 134,
   "id": "90b40fdc",
   "metadata": {},
   "outputs": [
    {
     "data": {
      "text/plain": [
       "            Length Class      Mode     \n",
       "call          4    -none-     call     \n",
       "actions      24    -none-     list     \n",
       "allset       21    -none-     numeric  \n",
       "beta.pure   504    -none-     numeric  \n",
       "vn           21    -none-     character\n",
       "mu            1    -none-     numeric  \n",
       "normx        21    -none-     numeric  \n",
       "meanx        21    -none-     numeric  \n",
       "lambda        1    -none-     numeric  \n",
       "L1norm       24    -none-     numeric  \n",
       "penalty      24    -none-     numeric  \n",
       "df           24    -none-     numeric  \n",
       "Cp           24    -none-     numeric  \n",
       "sigma2        1    -none-     numeric  \n",
       "xNames       21    -none-     character\n",
       "problemType   1    -none-     character\n",
       "tuneValue     1    data.frame list     \n",
       "obsLevels     1    -none-     logical  \n",
       "param         0    -none-     list     "
      ]
     },
     "metadata": {},
     "output_type": "display_data"
    }
   ],
   "source": [
    "## LASSO\n",
    "# computationally demanding\n",
    "## Variable selections using Lasso\n",
    "\n",
    "train_con <- trainControl(method = 'cv', number = 5) # using 5 folds cv\n",
    "\n",
    "lasso <- train(totalinsurancepremiumofthepolicy_log ~., temp0,\n",
    "               method = 'lasso',\n",
    "               preProc = c('scale', 'center'),\n",
    "               trControl = train_con\n",
    "              )\n",
    "summary(lasso)"
   ]
  },
  {
   "cell_type": "code",
   "execution_count": 135,
   "id": "16e46130",
   "metadata": {},
   "outputs": [
    {
     "data": {
      "text/html": [
       "<dl>\n",
       "\t<dt>$s</dt>\n",
       "\t\t<dd>0.9</dd>\n",
       "\t<dt>$fraction</dt>\n",
       "\t\t<dd><strong>0:</strong> 0.9</dd>\n",
       "\t<dt>$mode</dt>\n",
       "\t\t<dd>'fraction'</dd>\n",
       "\t<dt>$coefficients</dt>\n",
       "\t\t<dd><style>\n",
       ".dl-inline {width: auto; margin:0; padding: 0}\n",
       ".dl-inline>dt, .dl-inline>dd {float: none; width: auto; display: inline-block}\n",
       ".dl-inline>dt::after {content: \":\\0020\"; padding-right: .5ex}\n",
       ".dl-inline>dt:not(:first-of-type) {padding-left: .5ex}\n",
       "</style><dl class=dl-inline><dt>construction</dt><dd>-0.0107061613813362</dd><dt>deductibleamountinbuildingcoverage_trans</dt><dd>0</dd><dt>deductibleamountincontentscoverage_trans</dt><dd>0.0643686573544393</dd><dt>elevatedbuildingindicator</dt><dd>-0.0282439479783534</dd><dt>elevationdifference_trans</dt><dd>-0.114891579001119</dd><dt>federalpolicyfee</dt><dd>0.0479247655692921</dd><dt>latitude</dt><dd>0.001501052539338</dd><dt>longitude</dt><dd>0</dd><dt>numberoffloorsininsuredbuilding_log</dt><dd>-0.0608896863505353</dd><dt>postfirmconstructionindicator</dt><dd>-0.0595322295473607</dd><dt>primaryresidenceindicator</dt><dd>-0.0285932098815426</dd><dt>totalbuildinginsurancecoverage_trans</dt><dd>0.178900674796108</dd><dt>lowerflooronly</dt><dd>-0.0253066217863193</dd><dt>upperandlowerfloors</dt><dd>0.00162084710827651</dd><dt>basementandabove</dt><dd>0.00793761880232554</dd><dt>basementonly</dt><dd>0</dd><dt>morethan1floor</dt><dd>-0.0114039794987144</dd><dt>floodzone_highrisk</dt><dd>0.18897265704039</dd><dt>occupancytype_single</dt><dd>-0.235464994498611</dd><dt>occupancytype_2or4</dt><dd>-0.0816573446423762</dd><dt>occupancytype_4more</dt><dd>-0.101583690942689</dd></dl>\n",
       "</dd>\n",
       "</dl>\n"
      ],
      "text/latex": [
       "\\begin{description}\n",
       "\\item[\\$s] 0.9\n",
       "\\item[\\$fraction] \\textbf{0:} 0.9\n",
       "\\item[\\$mode] 'fraction'\n",
       "\\item[\\$coefficients] \\begin{description*}\n",
       "\\item[construction] -0.0107061613813362\n",
       "\\item[deductibleamountinbuildingcoverage\\textbackslash{}\\_trans] 0\n",
       "\\item[deductibleamountincontentscoverage\\textbackslash{}\\_trans] 0.0643686573544393\n",
       "\\item[elevatedbuildingindicator] -0.0282439479783534\n",
       "\\item[elevationdifference\\textbackslash{}\\_trans] -0.114891579001119\n",
       "\\item[federalpolicyfee] 0.0479247655692921\n",
       "\\item[latitude] 0.001501052539338\n",
       "\\item[longitude] 0\n",
       "\\item[numberoffloorsininsuredbuilding\\textbackslash{}\\_log] -0.0608896863505353\n",
       "\\item[postfirmconstructionindicator] -0.0595322295473607\n",
       "\\item[primaryresidenceindicator] -0.0285932098815426\n",
       "\\item[totalbuildinginsurancecoverage\\textbackslash{}\\_trans] 0.178900674796108\n",
       "\\item[lowerflooronly] -0.0253066217863193\n",
       "\\item[upperandlowerfloors] 0.00162084710827651\n",
       "\\item[basementandabove] 0.00793761880232554\n",
       "\\item[basementonly] 0\n",
       "\\item[morethan1floor] -0.0114039794987144\n",
       "\\item[floodzone\\textbackslash{}\\_highrisk] 0.18897265704039\n",
       "\\item[occupancytype\\textbackslash{}\\_single] -0.235464994498611\n",
       "\\item[occupancytype\\textbackslash{}\\_2or4] -0.0816573446423762\n",
       "\\item[occupancytype\\textbackslash{}\\_4more] -0.101583690942689\n",
       "\\end{description*}\n",
       "\n",
       "\\end{description}\n"
      ],
      "text/markdown": [
       "$s\n",
       ":   0.9\n",
       "$fraction\n",
       ":   **0:** 0.9\n",
       "$mode\n",
       ":   'fraction'\n",
       "$coefficients\n",
       ":   construction\n",
       ":   -0.0107061613813362deductibleamountinbuildingcoverage_trans\n",
       ":   0deductibleamountincontentscoverage_trans\n",
       ":   0.0643686573544393elevatedbuildingindicator\n",
       ":   -0.0282439479783534elevationdifference_trans\n",
       ":   -0.114891579001119federalpolicyfee\n",
       ":   0.0479247655692921latitude\n",
       ":   0.001501052539338longitude\n",
       ":   0numberoffloorsininsuredbuilding_log\n",
       ":   -0.0608896863505353postfirmconstructionindicator\n",
       ":   -0.0595322295473607primaryresidenceindicator\n",
       ":   -0.0285932098815426totalbuildinginsurancecoverage_trans\n",
       ":   0.178900674796108lowerflooronly\n",
       ":   -0.0253066217863193upperandlowerfloors\n",
       ":   0.00162084710827651basementandabove\n",
       ":   0.00793761880232554basementonly\n",
       ":   0morethan1floor\n",
       ":   -0.0114039794987144floodzone_highrisk\n",
       ":   0.18897265704039occupancytype_single\n",
       ":   -0.235464994498611occupancytype_2or4\n",
       ":   -0.0816573446423762occupancytype_4more\n",
       ":   -0.101583690942689\n",
       "\n",
       "\n",
       "\n",
       "\n"
      ],
      "text/plain": [
       "$s\n",
       "[1] 0.9\n",
       "\n",
       "$fraction\n",
       "  0 \n",
       "0.9 \n",
       "\n",
       "$mode\n",
       "[1] \"fraction\"\n",
       "\n",
       "$coefficients\n",
       "                            construction \n",
       "                            -0.010706161 \n",
       "deductibleamountinbuildingcoverage_trans \n",
       "                             0.000000000 \n",
       "deductibleamountincontentscoverage_trans \n",
       "                             0.064368657 \n",
       "               elevatedbuildingindicator \n",
       "                            -0.028243948 \n",
       "               elevationdifference_trans \n",
       "                            -0.114891579 \n",
       "                        federalpolicyfee \n",
       "                             0.047924766 \n",
       "                                latitude \n",
       "                             0.001501053 \n",
       "                               longitude \n",
       "                             0.000000000 \n",
       "     numberoffloorsininsuredbuilding_log \n",
       "                            -0.060889686 \n",
       "           postfirmconstructionindicator \n",
       "                            -0.059532230 \n",
       "               primaryresidenceindicator \n",
       "                            -0.028593210 \n",
       "    totalbuildinginsurancecoverage_trans \n",
       "                             0.178900675 \n",
       "                          lowerflooronly \n",
       "                            -0.025306622 \n",
       "                     upperandlowerfloors \n",
       "                             0.001620847 \n",
       "                        basementandabove \n",
       "                             0.007937619 \n",
       "                            basementonly \n",
       "                             0.000000000 \n",
       "                          morethan1floor \n",
       "                            -0.011403979 \n",
       "                      floodzone_highrisk \n",
       "                             0.188972657 \n",
       "                    occupancytype_single \n",
       "                            -0.235464994 \n",
       "                      occupancytype_2or4 \n",
       "                            -0.081657345 \n",
       "                     occupancytype_4more \n",
       "                            -0.101583691 \n"
      ]
     },
     "metadata": {},
     "output_type": "display_data"
    }
   ],
   "source": [
    "# Get coef\n",
    "\n",
    "predict(lasso$finalModel, type = \"coef\", mode = \"fraction\", s = as.numeric(lasso$bestTune))\n",
    "\n",
    "# We can further discard variables with coefficients reduced to zero"
   ]
  },
  {
   "cell_type": "code",
   "execution_count": 136,
   "id": "61b0bda1",
   "metadata": {},
   "outputs": [
    {
     "data": {
      "text/plain": [
       "\n",
       "Call:\n",
       "lm(formula = totalinsurancepremiumofthepolicy_log ~ construction + \n",
       "    deductibleamountincontentscoverage_trans + elevatedbuildingindicator + \n",
       "    elevationdifference_trans + federalpolicyfee + latitude + \n",
       "    numberoffloorsininsuredbuilding_log + postfirmconstructionindicator + \n",
       "    primaryresidenceindicator + totalbuildinginsurancecoverage_trans + \n",
       "    lowerflooronly + upperandlowerfloors + basementandabove + \n",
       "    morethan1floor + floodzone_highrisk + occupancytype_single + \n",
       "    occupancytype_2or4 + occupancytype_4more, data = temp1)\n",
       "\n",
       "Residuals:\n",
       "    Min      1Q  Median      3Q     Max \n",
       "-5.7601 -0.1801 -0.0550  0.0623  4.7798 \n",
       "\n",
       "Coefficients:\n",
       "                                           Estimate Std. Error t value Pr(>|t|)\n",
       "(Intercept)                               5.892e+00  7.861e-02   74.95   <2e-16\n",
       "construction                             -2.637e-01  6.613e-03  -39.88   <2e-16\n",
       "deductibleamountincontentscoverage_trans  2.379e-02  1.196e-04  198.86   <2e-16\n",
       "elevatedbuildingindicator                -1.832e-01  1.919e-03  -95.47   <2e-16\n",
       "elevationdifference_trans                -4.682e-01  1.213e-03 -385.98   <2e-16\n",
       "federalpolicyfee                          1.894e-03  1.200e-05  157.75   <2e-16\n",
       "latitude                                  3.591e-02  2.631e-03   13.65   <2e-16\n",
       "numberoffloorsininsuredbuilding_log      -4.460e-01  3.294e-03 -135.38   <2e-16\n",
       "postfirmconstructionindicator            -1.250e-01  6.332e-04 -197.46   <2e-16\n",
       "primaryresidenceindicator                -8.066e-02  1.005e-03  -80.24   <2e-16\n",
       "totalbuildinginsurancecoverage_trans      1.463e-02  2.437e-05  600.32   <2e-16\n",
       "lowerflooronly                           -6.609e-02  1.034e-03  -63.92   <2e-16\n",
       "upperandlowerfloors                       1.990e-02  1.105e-03   18.00   <2e-16\n",
       "basementandabove                          1.260e-01  3.286e-03   38.34   <2e-16\n",
       "morethan1floor                           -2.977e-01  6.783e-03  -43.88   <2e-16\n",
       "floodzone_highrisk                        4.398e-01  7.913e-04  555.79   <2e-16\n",
       "occupancytype_single                     -9.826e-01  2.840e-03 -345.98   <2e-16\n",
       "occupancytype_2or4                       -1.003e+00  4.131e-03 -242.72   <2e-16\n",
       "occupancytype_4more                      -5.468e-01  2.955e-03 -185.00   <2e-16\n",
       "                                            \n",
       "(Intercept)                              ***\n",
       "construction                             ***\n",
       "deductibleamountincontentscoverage_trans ***\n",
       "elevatedbuildingindicator                ***\n",
       "elevationdifference_trans                ***\n",
       "federalpolicyfee                         ***\n",
       "latitude                                 ***\n",
       "numberoffloorsininsuredbuilding_log      ***\n",
       "postfirmconstructionindicator            ***\n",
       "primaryresidenceindicator                ***\n",
       "totalbuildinginsurancecoverage_trans     ***\n",
       "lowerflooronly                           ***\n",
       "upperandlowerfloors                      ***\n",
       "basementandabove                         ***\n",
       "morethan1floor                           ***\n",
       "floodzone_highrisk                       ***\n",
       "occupancytype_single                     ***\n",
       "occupancytype_2or4                       ***\n",
       "occupancytype_4more                      ***\n",
       "---\n",
       "Signif. codes:  0 '***' 0.001 '**' 0.01 '*' 0.05 '.' 0.1 ' ' 1\n",
       "\n",
       "Residual standard error: 0.4084 on 1967197 degrees of freedom\n",
       "Multiple R-squared:  0.4436,\tAdjusted R-squared:  0.4436 \n",
       "F-statistic: 8.714e+04 on 18 and 1967197 DF,  p-value: < 2.2e-16\n"
      ]
     },
     "metadata": {},
     "output_type": "display_data"
    }
   ],
   "source": [
    "# From the Lasso Regression models, we can discard the variables with coefficients decreasing to zero, in this case we will remove variable \"basementonly\", and \"longitude\"\n",
    "\n",
    "temp1 = subset(temp0,select=-c(basementonly, deductibleamountinbuildingcoverage_trans, longitude)) \n",
    "\n",
    "# Exporting the dataframe to Modeling folder\n",
    "# df_num includes only numeric variables for analysis\n",
    "file_path0 <- \"../04_Modeling/df_num_impute0_Final_FeatureSel.parquet\"\n",
    "write_parquet(temp1, file_path0)\n",
    "\n",
    "fit3 = lm(totalinsurancepremiumofthepolicy_log ~ construction + \n",
    "    deductibleamountincontentscoverage_trans + elevatedbuildingindicator + \n",
    "    elevationdifference_trans + federalpolicyfee + latitude + \n",
    "    numberoffloorsininsuredbuilding_log + postfirmconstructionindicator + \n",
    "    primaryresidenceindicator + totalbuildinginsurancecoverage_trans + \n",
    "    lowerflooronly + upperandlowerfloors + basementandabove + \n",
    "    morethan1floor + floodzone_highrisk + occupancytype_single + \n",
    "    occupancytype_2or4 + occupancytype_4more,\n",
    "    data = temp1)\n",
    "summary(fit3)"
   ]
  },
  {
   "cell_type": "markdown",
   "id": "b6367384",
   "metadata": {},
   "source": [
    "# 3-Modeling"
   ]
  },
  {
   "cell_type": "markdown",
   "id": "8bd9bdce",
   "metadata": {},
   "source": [
    "## PCA"
   ]
  },
  {
   "cell_type": "code",
   "execution_count": 137,
   "id": "349b66c2",
   "metadata": {},
   "outputs": [],
   "source": [
    "rm(list = ls())"
   ]
  },
  {
   "cell_type": "code",
   "execution_count": 156,
   "id": "ac760a9a",
   "metadata": {},
   "outputs": [
    {
     "name": "stderr",
     "output_type": "stream",
     "text": [
      "Installing package into 'C:/Users/mjafarpour/AppData/Local/R/win-library/4.2'\n",
      "(as 'lib' is unspecified)\n",
      "\n",
      "Warning message:\n",
      "\"package 'ggbiplot' is not available for this version of R\n",
      "\n",
      "A version of this package for your version of R might be available elsewhere,\n",
      "see the ideas at\n",
      "https://cran.r-project.org/doc/manuals/r-patched/R-admin.html#Installing-packages\"\n"
     ]
    }
   ],
   "source": [
    "# install.packages(\"tidyverse\")\n",
    "# install.packages(\"rsample\")\n",
    "# install.packages(\"randomForest\")\n",
    "# install.packages(\"janitor\")\n",
    "# install.packages(\"glmnet\")\n",
    "# install.packages(\"tree\")\n",
    "# install.packages(\"RColorBrewer\")\n",
    "# install.packages(\"stats\")\n",
    "# install.packages(\"DAAG\")\n",
    "# install.packages(\"GGally\")\n",
    "# install.packages(\"devtools\")\n",
    "# install.packages(\"ggbiplot\")"
   ]
  },
  {
   "cell_type": "code",
   "execution_count": 155,
   "id": "11db6a4a",
   "metadata": {},
   "outputs": [
    {
     "name": "stderr",
     "output_type": "stream",
     "text": [
      "Loading required package: ggbiplot\n",
      "\n",
      "Warning message in library(package, lib.loc = lib.loc, character.only = TRUE, logical.return = TRUE, :\n",
      "\"there is no package called 'ggbiplot'\"\n"
     ]
    }
   ],
   "source": [
    "library(arrow) # needed to read parquet file\n",
    "\n",
    "library(dplyr)\n",
    "library(car)\n",
    "library(caret)\n",
    "library(ggplot2)\n",
    "library(corrplot)\n",
    "library(tidyverse)\n",
    "library(rsample)\n",
    "library(randomForest)\n",
    "library(janitor)\n",
    "library(glmnet)\n",
    "library(tree)\n",
    "library(RColorBrewer)\n",
    "library(gridExtra)\n",
    "\n",
    "library(stats)  # for prcomp()\n",
    "library(DAAG)\n",
    "library(GGally)\n",
    "library(devtools)\n",
    "require(ggbiplot)"
   ]
  },
  {
   "cell_type": "code",
   "execution_count": 157,
   "id": "9b9b4761",
   "metadata": {},
   "outputs": [],
   "source": [
    "file_path <- \"../03_EDA/df_final_0impute_5zipcode.parquet\"\n",
    "df1 <- read_parquet(file_path, as_tibble = TRUE)"
   ]
  },
  {
   "cell_type": "code",
   "execution_count": 158,
   "id": "6ca5f98d",
   "metadata": {},
   "outputs": [],
   "source": [
    "## Scale all numerical variables, remove reportedzipcode as we concetrated in 5 top zipcode and thus zipcode is not in need anymore. The dataset includes 293,794 rows of 23 variables and response. Noted that the  target variable is now called totalinsurancepremiumofthepolicy_log_log, as it is the log transformation of the actual variable from previous step.   \n",
    "df = scale(as.data.frame(df1[,c(2,4,5,7,8,9,10,11,14)])) # standardize all numerical variables\n",
    "\n",
    "df <- cbind(df1[,c(3,6,12,13,15,16,17,19, 20,21,22,23)],df,df1[,1]) # Add categorical columns  back in\n"
   ]
  },
  {
   "cell_type": "code",
   "execution_count": 159,
   "id": "220a94f5",
   "metadata": {},
   "outputs": [
    {
     "data": {
      "text/plain": [
       "Importance of components:\n",
       "                          PC1     PC2     PC3    PC4     PC5     PC6     PC7\n",
       "Standard deviation     26.068 10.4115 2.10142 1.4153 1.31736 1.09450 1.03515\n",
       "Proportion of Variance  0.848  0.1353 0.00551 0.0025 0.00217 0.00149 0.00134\n",
       "Cumulative Proportion   0.848  0.9833 0.98880 0.9913 0.99346 0.99496 0.99630\n",
       "                          PC8     PC9    PC10    PC11    PC12    PC13    PC14\n",
       "Standard deviation     0.9379 0.87129 0.83676 0.45862 0.32927 0.31752 0.23981\n",
       "Proportion of Variance 0.0011 0.00095 0.00087 0.00026 0.00014 0.00013 0.00007\n",
       "Cumulative Proportion  0.9974 0.99834 0.99921 0.99948 0.99961 0.99974 0.99981\n",
       "                          PC15    PC16    PC17    PC18    PC19    PC20\n",
       "Standard deviation     0.22982 0.22627 0.19094 0.08190 0.05901 0.03734\n",
       "Proportion of Variance 0.00007 0.00006 0.00005 0.00001 0.00000 0.00000\n",
       "Cumulative Proportion  0.99988 0.99994 0.99999 0.99999 1.00000 1.00000\n",
       "                            PC21\n",
       "Standard deviation     4.616e-17\n",
       "Proportion of Variance 0.000e+00\n",
       "Cumulative Proportion  1.000e+00"
      ]
     },
     "metadata": {},
     "output_type": "display_data"
    }
   ],
   "source": [
    "PCA <- prcomp(df[,1:21])  # apply PCA\n",
    "\n",
    "summary(PCA)"
   ]
  },
  {
   "cell_type": "code",
   "execution_count": 161,
   "id": "289e198a",
   "metadata": {},
   "outputs": [],
   "source": [
    "# # Common function to display PCA related plots in 2x2 grid\n",
    "# screeplot(PCA, type='l')\n",
    "# dev.copy(jpeg, filename=\"PCA_ScreePlot.jpg\")\n",
    "# dev.off ()\n",
    "\n",
    "# bplot = ggbiplot(PCA,\n",
    "#                  choices = c(1,2),\n",
    "#                  obs.scale =1, var.scale =1,\n",
    "#                  circle = TRUE,\n",
    "#                  ellipse = TRUE,\n",
    "#                  ellipse.prob = 0.68)\n",
    "\n",
    "# print(bplot)\n",
    "\n",
    "# dev.copy(jpeg, filename=\"PCA_Plot.jpg\")\n",
    "# dev.off ()"
   ]
  },
  {
   "cell_type": "code",
   "execution_count": 162,
   "id": "8e373622",
   "metadata": {},
   "outputs": [
    {
     "data": {
      "text/plain": [
       "\n",
       "Call:\n",
       "lm(formula = V1 ~ ., data = as.data.frame(PCA_7))\n",
       "\n",
       "Residuals:\n",
       "    Min      1Q  Median      3Q     Max \n",
       "-5.8902 -0.2630 -0.1137  0.1000  3.6161 \n",
       "\n",
       "Coefficients:\n",
       "              Estimate Std. Error  t value Pr(>|t|)    \n",
       "(Intercept)  6.072e+00  8.645e-04 7023.538  < 2e-16 ***\n",
       "PC1          5.617e-03  3.316e-05  169.392  < 2e-16 ***\n",
       "PC2         -1.593e-02  8.303e-05 -191.905  < 2e-16 ***\n",
       "PC3         -8.291e-02  4.114e-04 -201.540  < 2e-16 ***\n",
       "PC4          4.044e-03  6.108e-04    6.622 3.56e-11 ***\n",
       "PC5         -4.053e-02  6.562e-04  -61.768  < 2e-16 ***\n",
       "PC6         -2.985e-02  7.898e-04  -37.791  < 2e-16 ***\n",
       "PC7         -1.497e-01  8.351e-04 -179.273  < 2e-16 ***\n",
       "---\n",
       "Signif. codes:  0 '***' 0.001 '**' 0.01 '*' 0.05 '.' 0.1 ' ' 1\n",
       "\n",
       "Residual standard error: 0.4686 on 293786 degrees of freedom\n",
       "Multiple R-squared:  0.3283,\tAdjusted R-squared:  0.3282 \n",
       "F-statistic: 2.051e+04 on 7 and 293786 DF,  p-value: < 2.2e-16\n"
      ]
     },
     "metadata": {},
     "output_type": "display_data"
    }
   ],
   "source": [
    "PCA_7 <- cbind(df[,22], PCA$x[,1:7])\n",
    "modelPCA <- lm(V1~.,data = as.data.frame(PCA_7)) # fit model\n",
    "summary(modelPCA) \n",
    "\n",
    "#cross_valPCA <- cv.lm(as.data.frame(PCA_7), modelPCA, m = 5) # cross-validate \n",
    "\n",
    "#R2_PCA <- 1 - attr(cross_valPCA,\"ms\")*nrow(df)/sum((df$totalinsurancepremiumofthepolicy_log - #mean(df$totalinsurancepremiumofthepolicy_log))^2) # calculate R-squared\n",
    "\n",
    "#R2_PCA  #0.392"
   ]
  },
  {
   "cell_type": "code",
   "execution_count": 163,
   "id": "d11c9e17",
   "metadata": {},
   "outputs": [
    {
     "data": {
      "text/plain": [
       "\n",
       "Call:\n",
       "lm(formula = V1 ~ ., data = as.data.frame(PCA_10))\n",
       "\n",
       "Residuals:\n",
       "     Min       1Q   Median       3Q      Max \n",
       "-11.7585  -0.2406  -0.0933   0.1153   3.3324 \n",
       "\n",
       "Coefficients:\n",
       "              Estimate Std. Error  t value Pr(>|t|)    \n",
       "(Intercept)  6.072e+00  8.130e-04 7468.544  < 2e-16 ***\n",
       "PC1          5.617e-03  3.119e-05  180.124  < 2e-16 ***\n",
       "PC2         -1.593e-02  7.808e-05 -204.064  < 2e-16 ***\n",
       "PC3         -8.291e-02  3.869e-04 -214.310  < 2e-16 ***\n",
       "PC4          4.044e-03  5.744e-04    7.041 1.91e-12 ***\n",
       "PC5         -4.053e-02  6.171e-04  -65.681  < 2e-16 ***\n",
       "PC6         -2.985e-02  7.428e-04  -40.185  < 2e-16 ***\n",
       "PC7         -1.497e-01  7.853e-04 -190.631  < 2e-16 ***\n",
       "PC8          1.283e-01  8.668e-04  148.022  < 2e-16 ***\n",
       "PC9         -1.704e-03  9.331e-04   -1.827   0.0677 .  \n",
       "PC10         1.248e-01  9.715e-04  128.439  < 2e-16 ***\n",
       "---\n",
       "Signif. codes:  0 '***' 0.001 '**' 0.01 '*' 0.05 '.' 0.1 ' ' 1\n",
       "\n",
       "Residual standard error: 0.4406 on 293783 degrees of freedom\n",
       "Multiple R-squared:  0.4059,\tAdjusted R-squared:  0.4059 \n",
       "F-statistic: 2.007e+04 on 10 and 293783 DF,  p-value: < 2.2e-16\n"
      ]
     },
     "metadata": {},
     "output_type": "display_data"
    }
   ],
   "source": [
    "PCA_10 <- cbind(df[,22], PCA$x[,1:10])\n",
    "modelPCA <- lm(V1~.,data = as.data.frame(PCA_10)) # fit model\n",
    "summary(modelPCA) \n",
    "#cross_valPCA <- cv.lm(as.data.frame(PCA_10), modelPCA, m = 5) # cross-validate \n",
    "\n",
    "#R2_PCA <- 1 - attr(cross_valPCA,\"ms\")*nrow(df)/sum((df$totalinsurancepremiumofthepolicy_log - #mean(df$totalinsurancepremiumofthepolicy_log))^2) # calculate R-squared\n",
    "\n",
    "#R2_PCA  #0.467"
   ]
  },
  {
   "cell_type": "code",
   "execution_count": 164,
   "id": "036e3b7d",
   "metadata": {},
   "outputs": [
    {
     "data": {
      "text/html": [
       "<table class=\"dataframe\">\n",
       "<caption>A data.frame: 6 × 11</caption>\n",
       "<thead>\n",
       "\t<tr><th></th><th scope=col>totalinsurancepremiumofthepolicy_log</th><th scope=col>PC1</th><th scope=col>PC2</th><th scope=col>PC3</th><th scope=col>PC4</th><th scope=col>PC5</th><th scope=col>PC6</th><th scope=col>PC7</th><th scope=col>PC8</th><th scope=col>PC9</th><th scope=col>PC10</th></tr>\n",
       "\t<tr><th></th><th scope=col>&lt;dbl&gt;</th><th scope=col>&lt;dbl&gt;</th><th scope=col>&lt;dbl&gt;</th><th scope=col>&lt;dbl&gt;</th><th scope=col>&lt;dbl&gt;</th><th scope=col>&lt;dbl&gt;</th><th scope=col>&lt;dbl&gt;</th><th scope=col>&lt;dbl&gt;</th><th scope=col>&lt;dbl&gt;</th><th scope=col>&lt;dbl&gt;</th><th scope=col>&lt;dbl&gt;</th></tr>\n",
       "</thead>\n",
       "<tbody>\n",
       "\t<tr><th scope=row>1</th><td>5.817111</td><td>-10.33979</td><td>-4.889897</td><td> 1.270961</td><td> 1.0547073</td><td> 1.39137520</td><td> 0.33572850</td><td> 1.04449700</td><td>-0.5223318</td><td> 0.4124089</td><td> 0.10017932</td></tr>\n",
       "\t<tr><th scope=row>2</th><td>5.817111</td><td>-48.35978</td><td>-2.935693</td><td> 2.160126</td><td>-0.9176923</td><td> 0.00399991</td><td>-0.09962387</td><td>-1.12595396</td><td> 0.2517322</td><td>-0.8300730</td><td>-0.65254218</td></tr>\n",
       "\t<tr><th scope=row>3</th><td>5.817111</td><td> 16.64068</td><td>-6.163392</td><td> 1.581194</td><td> 1.8409918</td><td> 0.10279022</td><td>-0.12105107</td><td>-0.06810849</td><td>-0.1062827</td><td>-0.6402441</td><td>-0.76256684</td></tr>\n",
       "\t<tr><th scope=row>4</th><td>5.817111</td><td>-48.35847</td><td>-2.937304</td><td> 2.334808</td><td>-1.4686650</td><td> 0.28115858</td><td> 0.21450682</td><td>-0.04766255</td><td>-0.4466646</td><td> 0.3211914</td><td> 0.01793705</td></tr>\n",
       "\t<tr><th scope=row>5</th><td>6.850126</td><td> 23.67831</td><td>-6.706080</td><td>-1.317635</td><td> 0.5636787</td><td>-1.02374863</td><td>-0.23825854</td><td>-0.70871742</td><td> 0.1758697</td><td>-0.2040584</td><td>-0.08646458</td></tr>\n",
       "\t<tr><th scope=row>6</th><td>5.749393</td><td> 11.75665</td><td>-1.300237</td><td> 3.116026</td><td>-3.1012847</td><td>-0.30338553</td><td> 0.61051617</td><td> 0.09055114</td><td>-0.3497660</td><td>-0.2953193</td><td>-0.38822715</td></tr>\n",
       "</tbody>\n",
       "</table>\n"
      ],
      "text/latex": [
       "A data.frame: 6 × 11\n",
       "\\begin{tabular}{r|lllllllllll}\n",
       "  & totalinsurancepremiumofthepolicy\\_log & PC1 & PC2 & PC3 & PC4 & PC5 & PC6 & PC7 & PC8 & PC9 & PC10\\\\\n",
       "  & <dbl> & <dbl> & <dbl> & <dbl> & <dbl> & <dbl> & <dbl> & <dbl> & <dbl> & <dbl> & <dbl>\\\\\n",
       "\\hline\n",
       "\t1 & 5.817111 & -10.33979 & -4.889897 &  1.270961 &  1.0547073 &  1.39137520 &  0.33572850 &  1.04449700 & -0.5223318 &  0.4124089 &  0.10017932\\\\\n",
       "\t2 & 5.817111 & -48.35978 & -2.935693 &  2.160126 & -0.9176923 &  0.00399991 & -0.09962387 & -1.12595396 &  0.2517322 & -0.8300730 & -0.65254218\\\\\n",
       "\t3 & 5.817111 &  16.64068 & -6.163392 &  1.581194 &  1.8409918 &  0.10279022 & -0.12105107 & -0.06810849 & -0.1062827 & -0.6402441 & -0.76256684\\\\\n",
       "\t4 & 5.817111 & -48.35847 & -2.937304 &  2.334808 & -1.4686650 &  0.28115858 &  0.21450682 & -0.04766255 & -0.4466646 &  0.3211914 &  0.01793705\\\\\n",
       "\t5 & 6.850126 &  23.67831 & -6.706080 & -1.317635 &  0.5636787 & -1.02374863 & -0.23825854 & -0.70871742 &  0.1758697 & -0.2040584 & -0.08646458\\\\\n",
       "\t6 & 5.749393 &  11.75665 & -1.300237 &  3.116026 & -3.1012847 & -0.30338553 &  0.61051617 &  0.09055114 & -0.3497660 & -0.2953193 & -0.38822715\\\\\n",
       "\\end{tabular}\n"
      ],
      "text/markdown": [
       "\n",
       "A data.frame: 6 × 11\n",
       "\n",
       "| <!--/--> | totalinsurancepremiumofthepolicy_log &lt;dbl&gt; | PC1 &lt;dbl&gt; | PC2 &lt;dbl&gt; | PC3 &lt;dbl&gt; | PC4 &lt;dbl&gt; | PC5 &lt;dbl&gt; | PC6 &lt;dbl&gt; | PC7 &lt;dbl&gt; | PC8 &lt;dbl&gt; | PC9 &lt;dbl&gt; | PC10 &lt;dbl&gt; |\n",
       "|---|---|---|---|---|---|---|---|---|---|---|---|\n",
       "| 1 | 5.817111 | -10.33979 | -4.889897 |  1.270961 |  1.0547073 |  1.39137520 |  0.33572850 |  1.04449700 | -0.5223318 |  0.4124089 |  0.10017932 |\n",
       "| 2 | 5.817111 | -48.35978 | -2.935693 |  2.160126 | -0.9176923 |  0.00399991 | -0.09962387 | -1.12595396 |  0.2517322 | -0.8300730 | -0.65254218 |\n",
       "| 3 | 5.817111 |  16.64068 | -6.163392 |  1.581194 |  1.8409918 |  0.10279022 | -0.12105107 | -0.06810849 | -0.1062827 | -0.6402441 | -0.76256684 |\n",
       "| 4 | 5.817111 | -48.35847 | -2.937304 |  2.334808 | -1.4686650 |  0.28115858 |  0.21450682 | -0.04766255 | -0.4466646 |  0.3211914 |  0.01793705 |\n",
       "| 5 | 6.850126 |  23.67831 | -6.706080 | -1.317635 |  0.5636787 | -1.02374863 | -0.23825854 | -0.70871742 |  0.1758697 | -0.2040584 | -0.08646458 |\n",
       "| 6 | 5.749393 |  11.75665 | -1.300237 |  3.116026 | -3.1012847 | -0.30338553 |  0.61051617 |  0.09055114 | -0.3497660 | -0.2953193 | -0.38822715 |\n",
       "\n"
      ],
      "text/plain": [
       "  totalinsurancepremiumofthepolicy_log PC1       PC2       PC3       PC4       \n",
       "1 5.817111                             -10.33979 -4.889897  1.270961  1.0547073\n",
       "2 5.817111                             -48.35978 -2.935693  2.160126 -0.9176923\n",
       "3 5.817111                              16.64068 -6.163392  1.581194  1.8409918\n",
       "4 5.817111                             -48.35847 -2.937304  2.334808 -1.4686650\n",
       "5 6.850126                              23.67831 -6.706080 -1.317635  0.5636787\n",
       "6 5.749393                              11.75665 -1.300237  3.116026 -3.1012847\n",
       "  PC5         PC6         PC7         PC8        PC9        PC10       \n",
       "1  1.39137520  0.33572850  1.04449700 -0.5223318  0.4124089  0.10017932\n",
       "2  0.00399991 -0.09962387 -1.12595396  0.2517322 -0.8300730 -0.65254218\n",
       "3  0.10279022 -0.12105107 -0.06810849 -0.1062827 -0.6402441 -0.76256684\n",
       "4  0.28115858  0.21450682 -0.04766255 -0.4466646  0.3211914  0.01793705\n",
       "5 -1.02374863 -0.23825854 -0.70871742  0.1758697 -0.2040584 -0.08646458\n",
       "6 -0.30338553  0.61051617  0.09055114 -0.3497660 -0.2953193 -0.38822715"
      ]
     },
     "metadata": {},
     "output_type": "display_data"
    }
   ],
   "source": [
    "PCA <- as.data.frame(PCA_10)\n",
    "colnames(PCA)[1] <- \"totalinsurancepremiumofthepolicy_log\"\n",
    "head(PCA)"
   ]
  },
  {
   "cell_type": "code",
   "execution_count": 165,
   "id": "020f0469",
   "metadata": {},
   "outputs": [],
   "source": [
    "file_path <- \"../04_Modeling/PCA_10_data.parquet\"\n",
    "write_parquet(PCA, file_path)"
   ]
  },
  {
   "cell_type": "code",
   "execution_count": 166,
   "id": "77391d6a",
   "metadata": {},
   "outputs": [],
   "source": [
    "# Now we will test few models with  PCA of 10 components\n",
    "\n",
    "# Splitting data to 70% training, 30% testing of the data from PCA_10\n",
    "\n",
    "set.seed(100)\n",
    "\n",
    "size <- floor(0.7*nrow(PCA))\n",
    "train_ind <- sample(seq_len(nrow(PCA)), size = size)\n",
    "\n",
    "train <- PCA[train_ind, ]\n",
    "test <- PCA[-train_ind, ]"
   ]
  },
  {
   "cell_type": "code",
   "execution_count": 167,
   "id": "2eebb241",
   "metadata": {},
   "outputs": [],
   "source": [
    "xtrain = model.matrix(totalinsurancepremiumofthepolicy_log ~., train)[,-1]\n",
    "ytrain = train$totalinsurancepremiumofthepolicy_log\n",
    "xtest = model.matrix(totalinsurancepremiumofthepolicy_log ~., test)[,-1]\n",
    "ytest = test$totalinsurancepremiumofthepolicy_log"
   ]
  },
  {
   "cell_type": "code",
   "execution_count": 170,
   "id": "5722eba9",
   "metadata": {},
   "outputs": [],
   "source": [
    "# Function to calculate R square \n",
    "R_2 <- function(pred){\n",
    "  \n",
    "  r2 = 1 - (sum((test$totalinsurancepremiumofthepolicy_log - pred)^2)/sum((test$totalinsurancepremiumofthepolicy_log - mean(test$totalinsurancepremiumofthepolicy_log))^2))\n",
    "  return (r2)\n",
    "}"
   ]
  },
  {
   "cell_type": "code",
   "execution_count": 173,
   "id": "ffafe13a",
   "metadata": {},
   "outputs": [
    {
     "name": "stderr",
     "output_type": "stream",
     "text": [
      "Warning message in test$totalinsurancepremiumofthepolicy_log - pred:\n",
      "\"longer object length is not a multiple of shorter object length\"\n"
     ]
    },
    {
     "data": {
      "text/html": [
       "-2.26904265501529"
      ],
      "text/latex": [
       "-2.26904265501529"
      ],
      "text/markdown": [
       "-2.26904265501529"
      ],
      "text/plain": [
       "[1] -2.269043"
      ]
     },
     "metadata": {},
     "output_type": "display_data"
    },
    {
     "data": {
      "text/html": [
       "0.40112424934019"
      ],
      "text/latex": [
       "0.40112424934019"
      ],
      "text/markdown": [
       "0.40112424934019"
      ],
      "text/plain": [
       "[1] 0.4011242"
      ]
     },
     "metadata": {},
     "output_type": "display_data"
    }
   ],
   "source": [
    "# 1. Lasso with PCA_10 components\n",
    "\n",
    "cv.lasso.out = cv.glmnet(xtrain, ytrain, family = \"gaussian\", alpha = 1, nfolds = 5, type.measure = \"mse\")\n",
    "bestlam.lasso = cv.lasso.out$lambda.min\n",
    "i <- which(cv.lasso.out$lambda == cv.lasso.out$lambda.min)\n",
    "mse.min.lasso <- cv.lasso.out$cvm[i]\n",
    "\n",
    "lasso.model = glmnet(xtrain, ytrain, alpha=1, lambda=bestlam.lasso)\n",
    "\n",
    "lasso.pred.train = predict(lasso.model, newx=xtrain)\n",
    "\n",
    "R2.lasso.train = R_2(lasso.pred.train)\n",
    "R2.lasso.train \n",
    "\n",
    "lasso.pred.test = predict(lasso.model, newx=xtest)\n",
    "\n",
    "R2.lasso.test = R_2(lasso.pred.test)\n",
    "R2.lasso.test\n",
    "\n",
    "# print(paste('R_squared of test data in Lasso from 10 Principle components is', r2.lasso.test))"
   ]
  },
  {
   "cell_type": "markdown",
   "id": "2c58a71a",
   "metadata": {},
   "source": [
    "### Nonlinear Models"
   ]
  },
  {
   "cell_type": "code",
   "execution_count": 174,
   "id": "55eee9bb",
   "metadata": {},
   "outputs": [],
   "source": [
    "# Remove previous data from environment\n",
    "rm(list = ls())"
   ]
  },
  {
   "cell_type": "code",
   "execution_count": 176,
   "id": "c2d8217f",
   "metadata": {},
   "outputs": [
    {
     "name": "stderr",
     "output_type": "stream",
     "text": [
      "Loading required package: pls\n",
      "\n",
      "Warning message in library(package, lib.loc = lib.loc, character.only = TRUE, logical.return = TRUE, :\n",
      "\"there is no package called 'pls'\"\n",
      "Installing package into 'C:/Users/mjafarpour/AppData/Local/R/win-library/4.2'\n",
      "(as 'lib' is unspecified)\n",
      "\n"
     ]
    },
    {
     "name": "stdout",
     "output_type": "stream",
     "text": [
      "package 'pls' successfully unpacked and MD5 sums checked\n",
      "\n",
      "The downloaded binary packages are in\n",
      "\tC:\\Users\\mjafarpour\\AppData\\Local\\Temp\\RtmpsbH7vO\\downloaded_packages\n"
     ]
    },
    {
     "name": "stderr",
     "output_type": "stream",
     "text": [
      "\n",
      "Attaching package: 'pls'\n",
      "\n",
      "\n",
      "The following object is masked from 'package:corrplot':\n",
      "\n",
      "    corrplot\n",
      "\n",
      "\n",
      "The following object is masked from 'package:caret':\n",
      "\n",
      "    R2\n",
      "\n",
      "\n",
      "The following object is masked from 'package:stats':\n",
      "\n",
      "    loadings\n",
      "\n",
      "\n"
     ]
    }
   ],
   "source": [
    "if (!require(\"sjPlot\")) install.packages(\"sjPlot\")\n",
    "if (!require(\"tidyverse\")) install.packages(\"sjPlot\")\n",
    "if (!require(\"pls\")) install.packages(\"pls\")\n",
    "\n",
    "library(arrow) # needed to read parquet file\n",
    "library(dplyr)\n",
    "library(car)\n",
    "library(caret)\n",
    "library(rattle)\n",
    "library(rpart.plot)\n",
    "library(rpart)\n",
    "library(ggplot2)\n",
    "library(corrplot)\n",
    "library(sjPlot)\n",
    "library(gridExtra)\n",
    "library(tidyverse)\n",
    "library(rsample)\n",
    "library(randomForest)\n",
    "library(janitor)\n",
    "library(glmnet)\n",
    "library(tree)\n",
    "library(RColorBrewer)\n",
    "library(gridExtra)\n",
    "library(pls)\n",
    "options(warn=-1)"
   ]
  },
  {
   "cell_type": "code",
   "execution_count": 178,
   "id": "d80092b0",
   "metadata": {},
   "outputs": [],
   "source": [
    "file_path <- \"../03_EDA/df_final_0impute_5zipcode.parquet\"\n",
    "df1 <- read_parquet(file_path, as_tibble = TRUE)"
   ]
  },
  {
   "cell_type": "code",
   "execution_count": 179,
   "id": "1a71ea48",
   "metadata": {},
   "outputs": [],
   "source": [
    "## Scale all numerical variables, remove reportedzipcode as we concetrated in 5 top zipcode and thus zipcode is not in need anymore. The dataset includes 293,794 rows of 23 variables and response. Noted that the  target variable is now called totalinsurancepremiumofthepolicy_log_log, as it is the log transformation of the actual variable from previous step.   \n",
    "df = scale(as.data.frame(df1[,c(2,4,5,7,8,9,10,11,14)])) # standardize all numerical variables\n",
    "\n",
    "df <- cbind(df1[,c(3,6,12,13,15,16,17,19, 20,21,22,23)],df,df1[,1]) # Add categorical columns  back in\n"
   ]
  },
  {
   "cell_type": "code",
   "execution_count": 181,
   "id": "d46652f9",
   "metadata": {},
   "outputs": [],
   "source": [
    "# LINEAR REGRESSION MODELS\n",
    "\n",
    "# Splitting data to 70% training, 30% testing\n",
    "\n",
    "set.seed(100)\n",
    "\n",
    "size <- floor(0.7*nrow(df))\n",
    "train_ind <- sample(seq_len(nrow(df)), size = size)\n",
    "\n",
    "train <- df[train_ind, ]\n",
    "test <- df[-train_ind, ]\n",
    "xtrain = model.matrix(totalinsurancepremiumofthepolicy_log ~., train)[,-1]\n",
    "ytrain = train$totalinsurancepremiumofthepolicy_log\n",
    "xtest = model.matrix(totalinsurancepremiumofthepolicy_log ~., test)[,-1]\n",
    "ytest = test$totalinsurancepremiumofthepolicy_log"
   ]
  },
  {
   "cell_type": "code",
   "execution_count": 182,
   "id": "48b23ec4",
   "metadata": {},
   "outputs": [],
   "source": [
    "# Function to calculate R square \n",
    "\n",
    "R_2 <- function(pred){\n",
    "  \n",
    "  r2 = 1 - (sum((test$totalinsurancepremiumofthepolicy_log - pred)^2)/sum((test$totalinsurancepremiumofthepolicy_log - mean(test$totalinsurancepremiumofthepolicy_log))^2))\n",
    "  return (r2)\n",
    "}"
   ]
  },
  {
   "cell_type": "code",
   "execution_count": 183,
   "id": "367f42b2",
   "metadata": {},
   "outputs": [
    {
     "name": "stdout",
     "output_type": "stream",
     "text": [
      "Start:  AIC=-375054.2\n",
      "totalinsurancepremiumofthepolicy_log ~ deductibleamountinbuildingcoverage_trans + \n",
      "    elevationdifference_trans + primaryresidenceindicator + totalbuildinginsurancecoverage_trans + \n",
      "    upperandlowerfloors + basementandabove + basementonly + floodzone_highrisk + \n",
      "    occupancytype_single + occupancytype_2or4 + occupancytype_4more + \n",
      "    reportedzipcode + construction + deductibleamountincontentscoverage_trans + \n",
      "    elevatedbuildingindicator + federalpolicyfee + latitude + \n",
      "    longitude + numberoffloorsininsuredbuilding_log + postfirmconstructionindicator + \n",
      "    lowerflooronly\n",
      "\n",
      "[1] \"R_squared of test data in Forward Selection is 0.500121910474448\"\n"
     ]
    }
   ],
   "source": [
    "# LINEAR STEPWISE REGRESSION: forward, backward and both directions\n",
    "\n",
    " # 1. FORWARD DIRECTION\n",
    "\n",
    "linear.fwd <- step(lm(totalinsurancepremiumofthepolicy_log ~., data = train), direction = c(\"forward\"))\n",
    "\n",
    "fwd.pred.train = predict(linear.fwd, train)\n",
    "\n",
    "r2.fwd.train = R_2(fwd.pred.train)\n",
    "\n",
    "fwd.pred.test = predict(linear.fwd, test)\n",
    "\n",
    "r2.fwd.test = R_2(fwd.pred.test)\n",
    "\n",
    "print(paste('R_squared of test data in Forward Selection is', r2.fwd.test))"
   ]
  },
  {
   "cell_type": "code",
   "execution_count": 184,
   "id": "32e1344b",
   "metadata": {},
   "outputs": [
    {
     "name": "stdout",
     "output_type": "stream",
     "text": [
      "Start:  AIC=-375054.2\n",
      "totalinsurancepremiumofthepolicy_log ~ deductibleamountinbuildingcoverage_trans + \n",
      "    elevationdifference_trans + primaryresidenceindicator + totalbuildinginsurancecoverage_trans + \n",
      "    upperandlowerfloors + basementandabove + basementonly + floodzone_highrisk + \n",
      "    occupancytype_single + occupancytype_2or4 + occupancytype_4more + \n",
      "    reportedzipcode + construction + deductibleamountincontentscoverage_trans + \n",
      "    elevatedbuildingindicator + federalpolicyfee + latitude + \n",
      "    longitude + numberoffloorsininsuredbuilding_log + postfirmconstructionindicator + \n",
      "    lowerflooronly\n",
      "\n",
      "\n",
      "Step:  AIC=-375054.2\n",
      "totalinsurancepremiumofthepolicy_log ~ deductibleamountinbuildingcoverage_trans + \n",
      "    elevationdifference_trans + primaryresidenceindicator + totalbuildinginsurancecoverage_trans + \n",
      "    upperandlowerfloors + basementandabove + floodzone_highrisk + \n",
      "    occupancytype_single + occupancytype_2or4 + occupancytype_4more + \n",
      "    reportedzipcode + construction + deductibleamountincontentscoverage_trans + \n",
      "    elevatedbuildingindicator + federalpolicyfee + latitude + \n",
      "    longitude + numberoffloorsininsuredbuilding_log + postfirmconstructionindicator + \n",
      "    lowerflooronly\n",
      "\n",
      "                                           Df Sum of Sq   RSS     AIC\n",
      "<none>                                                  33191 -375054\n",
      "- deductibleamountinbuildingcoverage_trans  1       0.4 33192 -375054\n",
      "- construction                              1      11.0 33202 -374988\n",
      "- upperandlowerfloors                       1      11.7 33203 -374984\n",
      "- primaryresidenceindicator                 1      16.9 33208 -374951\n",
      "- basementandabove                          1      46.9 33238 -374766\n",
      "- numberoffloorsininsuredbuilding_log       1      86.0 33277 -374524\n",
      "- lowerflooronly                            1     128.6 33320 -374261\n",
      "- latitude                                  1     172.4 33364 -373991\n",
      "- reportedzipcode                           1     190.6 33382 -373879\n",
      "- longitude                                 1     267.9 33459 -373403\n",
      "- elevatedbuildingindicator                 1     297.0 33488 -373224\n",
      "- occupancytype_4more                       1     409.5 33601 -372535\n",
      "- deductibleamountincontentscoverage_trans  1     457.1 33649 -372243\n",
      "- occupancytype_2or4                        1     498.8 33690 -371989\n",
      "- postfirmconstructionindicator             1     913.8 34105 -369471\n",
      "- occupancytype_single                      1     949.0 34140 -369259\n",
      "- floodzone_highrisk                        1    1309.4 34501 -367099\n",
      "- elevationdifference_trans                 1    2198.3 35390 -361867\n",
      "- federalpolicyfee                          1    3292.4 36484 -355606\n",
      "- totalbuildinginsurancecoverage_trans      1    4507.7 37699 -348867\n"
     ]
    },
    {
     "data": {
      "text/plain": [
       "\n",
       "Call:\n",
       "lm(formula = totalinsurancepremiumofthepolicy_log ~ deductibleamountinbuildingcoverage_trans + \n",
       "    elevationdifference_trans + primaryresidenceindicator + totalbuildinginsurancecoverage_trans + \n",
       "    upperandlowerfloors + basementandabove + floodzone_highrisk + \n",
       "    occupancytype_single + occupancytype_2or4 + occupancytype_4more + \n",
       "    reportedzipcode + construction + deductibleamountincontentscoverage_trans + \n",
       "    elevatedbuildingindicator + federalpolicyfee + latitude + \n",
       "    longitude + numberoffloorsininsuredbuilding_log + postfirmconstructionindicator + \n",
       "    lowerflooronly, data = train)\n",
       "\n",
       "Coefficients:\n",
       "                             (Intercept)  \n",
       "                              -1.219e+02  \n",
       "deductibleamountinbuildingcoverage_trans  \n",
       "                               7.953e-04  \n",
       "               elevationdifference_trans  \n",
       "                              -4.242e-01  \n",
       "               primaryresidenceindicator  \n",
       "                              -3.365e-02  \n",
       "    totalbuildinginsurancecoverage_trans  \n",
       "                               1.582e-02  \n",
       "                     upperandlowerfloors  \n",
       "                              -3.202e-02  \n",
       "                        basementandabove  \n",
       "                               2.589e-01  \n",
       "                      floodzone_highrisk  \n",
       "                               2.677e-01  \n",
       "                    occupancytype_single  \n",
       "                              -9.896e-01  \n",
       "                      occupancytype_2or4  \n",
       "                              -1.046e+00  \n",
       "                     occupancytype_4more  \n",
       "                              -6.876e-01  \n",
       "                         reportedzipcode  \n",
       "                               1.666e-03  \n",
       "                            construction  \n",
       "                              -7.687e-03  \n",
       "deductibleamountincontentscoverage_trans  \n",
       "                               5.557e-02  \n",
       "               elevatedbuildingindicator  \n",
       "                              -4.160e-02  \n",
       "                        federalpolicyfee  \n",
       "                               1.548e-01  \n",
       "                                latitude  \n",
       "                              -9.206e-02  \n",
       "                               longitude  \n",
       "                              -1.099e-01  \n",
       "     numberoffloorsininsuredbuilding_log  \n",
       "                              -4.329e-02  \n",
       "           postfirmconstructionindicator  \n",
       "                              -7.456e-02  \n",
       "                          lowerflooronly  \n",
       "                              -4.331e-02  \n"
      ]
     },
     "metadata": {},
     "output_type": "display_data"
    },
    {
     "name": "stdout",
     "output_type": "stream",
     "text": [
      "[1] \"R_squared of test data in Both Selection is 0.500121910474448\"\n"
     ]
    }
   ],
   "source": [
    "#2. BOTH DIRECTION\n",
    "linear.both <-lm(totalinsurancepremiumofthepolicy_log ~., data = train)\n",
    "\n",
    "step(linear.both, scope = list(lower = formula(lm(totalinsurancepremiumofthepolicy_log ~ 1, data = train)), \n",
    "                              upper = formula(lm(totalinsurancepremiumofthepolicy_log ~., data = train))), direction =  \"both\")\n",
    "\n",
    "both.pred.train = predict(linear.both, train)\n",
    "\n",
    "r2.both.train = R_2(both.pred.train)\n",
    "\n",
    "both.pred.test = predict(linear.both, test)\n",
    "\n",
    "r2.both.test = R_2(both.pred.test)\n",
    "\n",
    "print(paste('R_squared of test data in Both Selection is', r2.both.test))"
   ]
  },
  {
   "cell_type": "code",
   "execution_count": 185,
   "id": "ba9236b8",
   "metadata": {},
   "outputs": [
    {
     "name": "stdout",
     "output_type": "stream",
     "text": [
      "[1] \"R_squared of test data in Ridge is 0.495837810362858\"\n"
     ]
    }
   ],
   "source": [
    "# PENALIZED LINEAR REGRESSION: Ridge and Lasso\n",
    "\n",
    "#1. Ridge\n",
    "\n",
    "grid = 10^seq(10, -2, length = 100)\n",
    "\n",
    "cv.ridge.out = cv.glmnet(xtrain, ytrain, alpha=0)\n",
    "bestlam.ridge = cv.ridge.out$lambda.min\n",
    "i <- which(cv.ridge.out$lambda == cv.ridge.out$lambda.min)\n",
    "mse.min.ridge <- cv.ridge.out$cvm[i]\n",
    "\n",
    "ridge.model = glmnet(xtrain, ytrain, alpha=0, lambda=bestlam.ridge)\n",
    "\n",
    "ridge.pred.train = predict(ridge.model, newx=xtrain)\n",
    "\n",
    "r2.ridge.train = R_2(ridge.pred.train)\n",
    "\n",
    "ridge.pred.test = predict(ridge.model, newx=xtest)\n",
    "\n",
    "r2.ridge.test = R_2(ridge.pred.test)\n",
    "\n",
    "print(paste('R_squared of test data in Ridge is', r2.ridge.test))"
   ]
  },
  {
   "cell_type": "code",
   "execution_count": 186,
   "id": "17f4a35a",
   "metadata": {},
   "outputs": [
    {
     "data": {
      "text/html": [
       "-2.49052725015124"
      ],
      "text/latex": [
       "-2.49052725015124"
      ],
      "text/markdown": [
       "-2.49052725015124"
      ],
      "text/plain": [
       "[1] -2.490527"
      ]
     },
     "metadata": {},
     "output_type": "display_data"
    },
    {
     "data": {
      "text/html": [
       "0.500040301963564"
      ],
      "text/latex": [
       "0.500040301963564"
      ],
      "text/markdown": [
       "0.500040301963564"
      ],
      "text/plain": [
       "[1] 0.5000403"
      ]
     },
     "metadata": {},
     "output_type": "display_data"
    },
    {
     "name": "stdout",
     "output_type": "stream",
     "text": [
      "[1] \"R_squared of test data in Lasso is 0.500040301963564\"\n"
     ]
    }
   ],
   "source": [
    "# 2. Lasso\n",
    "\n",
    "cv.lasso.out = cv.glmnet(xtrain, ytrain, family = \"gaussian\", alpha = 1, nfolds = 5, type.measure = \"mse\")\n",
    "bestlam.lasso = cv.lasso.out$lambda.min\n",
    "i <- which(cv.lasso.out$lambda == cv.lasso.out$lambda.min)\n",
    "mse.min.lasso <- cv.lasso.out$cvm[i]\n",
    "\n",
    "lasso.model = glmnet(xtrain, ytrain, alpha=1, lambda=bestlam.lasso)\n",
    "\n",
    "lasso.pred.train = predict(lasso.model, newx=xtrain)\n",
    "\n",
    "r2.lasso.train = R_2(lasso.pred.train)\n",
    "r2.lasso.train \n",
    "\n",
    "lasso.pred.test = predict(lasso.model, newx=xtest)\n",
    "\n",
    "r2.lasso.test = R_2(lasso.pred.test)\n",
    "r2.lasso.test\n",
    "\n",
    "print(paste('R_squared of test data in Lasso is', r2.lasso.test))"
   ]
  },
  {
   "cell_type": "code",
   "execution_count": 187,
   "id": "5af6be5c",
   "metadata": {},
   "outputs": [
    {
     "data": {
      "text/html": [
       "<strong>jpeg:</strong> 3"
      ],
      "text/latex": [
       "\\textbf{jpeg:} 3"
      ],
      "text/markdown": [
       "**jpeg:** 3"
      ],
      "text/plain": [
       "jpeg \n",
       "   3 "
      ]
     },
     "metadata": {},
     "output_type": "display_data"
    },
    {
     "data": {
      "text/html": [
       "<strong>png:</strong> 2"
      ],
      "text/latex": [
       "\\textbf{png:} 2"
      ],
      "text/markdown": [
       "**png:** 2"
      ],
      "text/plain": [
       "png \n",
       "  2 "
      ]
     },
     "metadata": {},
     "output_type": "display_data"
    },
    {
     "data": {
      "image/png": "[encoded data removed]",
      "text/plain": [
       "plot without title"
      ]
     },
     "metadata": {
      "image/png": {
       "height": 420,
       "width": 420
      }
     },
     "output_type": "display_data"
    },
    {
     "data": {
      "text/html": [
       "<strong>jpeg:</strong> 3"
      ],
      "text/latex": [
       "\\textbf{jpeg:} 3"
      ],
      "text/markdown": [
       "**jpeg:** 3"
      ],
      "text/plain": [
       "jpeg \n",
       "   3 "
      ]
     },
     "metadata": {},
     "output_type": "display_data"
    },
    {
     "data": {
      "text/html": [
       "<strong>png:</strong> 2"
      ],
      "text/latex": [
       "\\textbf{png:} 2"
      ],
      "text/markdown": [
       "**png:** 2"
      ],
      "text/plain": [
       "png \n",
       "  2 "
      ]
     },
     "metadata": {},
     "output_type": "display_data"
    },
    {
     "data": {
      "image/png": "[encoded data removed]",
      "text/plain": [
       "plot without title"
      ]
     },
     "metadata": {
      "image/png": {
       "height": 420,
       "width": 420
      }
     },
     "output_type": "display_data"
    }
   ],
   "source": [
    "ggplot(mapping = aes(x=log(cv.ridge.out$lambda), y=cv.ridge.out$cvm)) +\n",
    "  geom_point() +\n",
    "  geom_point(aes(x=log(bestlam.ridge), y=mse.min.ridge, color=\"blue\", size = 2), show.legend = FALSE, color=\"blue\") +\n",
    "  geom_errorbar(aes(ymin=cv.ridge.out$cvm-cv.ridge.out$cvsd, ymax=cv.ridge.out$cvm+cv.ridge.out$cvsd), color=\"gray\") +\n",
    "  xlab(\"Log(lambda)\") +\n",
    "  ylab(\"Mean Squared Error\") +\n",
    "  labs(title = \"Optimal Lambda for Ridge Regression\", subtitle = paste(\"Best Lambda: \", bestlam.ridge)) +\n",
    "  theme_classic()\n",
    "dev.copy(jpeg, filename=\"Ridge_Lambda.jpg\");\n",
    "dev.off ()\n",
    "\n",
    "\n",
    "ggplot(mapping = aes(x=log(cv.lasso.out$lambda), y=cv.lasso.out$cvm)) +\n",
    "  geom_point() +\n",
    "  geom_point(aes(x=log(bestlam.lasso), y=mse.min.lasso, size = 2), show.legend = FALSE, color=\"red\") +\n",
    "  geom_errorbar(aes(ymin=cv.lasso.out$cvm-cv.lasso.out$cvsd, ymax=cv.lasso.out$cvm+cv.lasso.out$cvsd), color=\"gray\") +\n",
    "  xlab(\"Log(lambda)\") +\n",
    "  ylab(\"Mean Squared Error\") +\n",
    "  labs(title = \"Optimal Lambda for Lasso Regression\", subtitle = paste(\"Best Lambda: \", bestlam.lasso)) +\n",
    "  theme_classic()\n",
    "dev.copy(jpeg, filename=\"Lasso_Lambda.jpg\");\n",
    "dev.off ()"
   ]
  },
  {
   "cell_type": "code",
   "execution_count": 188,
   "id": "8daad446",
   "metadata": {},
   "outputs": [
    {
     "ename": "ERROR",
     "evalue": "Error in rename(., Coefficient = coef.ridge.model....1.): unused argument (Coefficient = coef.ridge.model....1.)\n",
     "output_type": "error",
     "traceback": [
      "Error in rename(., Coefficient = coef.ridge.model....1.): unused argument (Coefficient = coef.ridge.model....1.)\nTraceback:\n",
      "1. rownames_to_column(data.frame(coef(ridge.model)[, 1]), var = \"Variable\") %>% \n .     rename(Coefficient = coef.ridge.model....1.)"
     ]
    }
   ],
   "source": [
    "# ridge.coef <- rownames_to_column(data.frame(coef(ridge.model)[,1]), var = \"Variable\") %>%\n",
    "#   rename(Coefficient = coef.ridge.model....1.)\n",
    "\n",
    "# ridge.coef <- ridge.coef %>%\n",
    "#   filter(Variable != \"(Intercept)\") %>%\n",
    "#   arrange(desc(abs(Coefficient)))\n",
    "# lasso.coef <- rownames_to_column(data.frame(coef(lasso.model)[,1]), var = \"Variable\") %>%\n",
    "#   rename(Coefficient = coef.lasso.model....1.)\n",
    "\n",
    "# lasso.coef <- lasso.coef %>%\n",
    "#   filter(Variable != \"(Intercept)\") %>%\n",
    "#   arrange(desc(abs(Coefficient)))\n",
    "\n",
    "# coef.compare <- lasso.coef %>%\n",
    "#   left_join(ridge.coef, by = \"Variable\") %>%\n",
    "#   rename(\"Lasso Coefficient\" = Coefficient.x) %>%\n",
    "#   rename(\"Ridge Coefficient\" = Coefficient.y)\n",
    "\n",
    "# coef.compare\n",
    "\n",
    "# write.csv(coef.compare,\"../04_Modeling/Ridge_Lasso_Lambda\", row.names = FALSE)"
   ]
  },
  {
   "cell_type": "code",
   "execution_count": 189,
   "id": "d85e66fd",
   "metadata": {},
   "outputs": [
    {
     "data": {
      "text/plain": [
       "\n",
       "Regression tree:\n",
       "tree(formula = totalinsurancepremiumofthepolicy_log ~ ., data = train)\n",
       "Variables actually used in tree construction:\n",
       "[1] \"federalpolicyfee\"                    \n",
       "[2] \"floodzone_highrisk\"                  \n",
       "[3] \"totalbuildinginsurancecoverage_trans\"\n",
       "[4] \"elevationdifference_trans\"           \n",
       "Number of terminal nodes:  11 \n",
       "Residual mean deviance:  0.0693 = 14250 / 205600 \n",
       "Distribution of residuals:\n",
       "    Min.  1st Qu.   Median     Mean  3rd Qu.     Max. \n",
       "-5.87300 -0.05636 -0.01840  0.00000  0.07237  2.36000 "
      ]
     },
     "metadata": {},
     "output_type": "display_data"
    },
    {
     "data": {
      "text/html": [
       "<strong>jpeg:</strong> 3"
      ],
      "text/latex": [
       "\\textbf{jpeg:} 3"
      ],
      "text/markdown": [
       "**jpeg:** 3"
      ],
      "text/plain": [
       "jpeg \n",
       "   3 "
      ]
     },
     "metadata": {},
     "output_type": "display_data"
    },
    {
     "data": {
      "text/html": [
       "<strong>png:</strong> 2"
      ],
      "text/latex": [
       "\\textbf{png:} 2"
      ],
      "text/markdown": [
       "**png:** 2"
      ],
      "text/plain": [
       "png \n",
       "  2 "
      ]
     },
     "metadata": {},
     "output_type": "display_data"
    },
    {
     "data": {
      "image/png": "[encoded data removed]",
      "text/plain": [
       "Plot with title \"Single Tree \""
      ]
     },
     "metadata": {
      "image/png": {
       "height": 420,
       "width": 420
      }
     },
     "output_type": "display_data"
    }
   ],
   "source": [
    "#1.REGRESIION TREE : \n",
    "\n",
    "tree.model1 <- tree(totalinsurancepremiumofthepolicy_log ~., data = train)\n",
    "summary(tree.model1)\n",
    "\n",
    "plot(tree.model1)\n",
    "text(tree.model1)\n",
    "title('Single Tree ')\n",
    "dev.copy(jpeg, filename = \"Single tree_Simple.jpg\")\n",
    "dev.off ()"
   ]
  },
  {
   "cell_type": "code",
   "execution_count": 190,
   "id": "4b6b24dc",
   "metadata": {},
   "outputs": [
    {
     "name": "stdout",
     "output_type": "stream",
     "text": [
      "Call:\n",
      "rpart(formula = totalinsurancepremiumofthepolicy_log ~ federalpolicyfee + \n",
      "    floodzone_highrisk + totalbuildinginsurancecoverage_trans + \n",
      "    elevationdifference_trans, data = train, method = \"anova\")\n",
      "  n= 205655 \n",
      "\n",
      "           CP nsplit rel error    xerror        xstd\n",
      "1  0.44117137      0 1.0000000 1.0000053 0.004127412\n",
      "2  0.09353242      1 0.5588286 0.5588378 0.003370597\n",
      "3  0.05331217      2 0.4652962 0.4653061 0.003203911\n",
      "4  0.04093754      3 0.4119840 0.4120107 0.002828465\n",
      "5  0.03838687      4 0.3710465 0.3710784 0.002779671\n",
      "6  0.03389629      5 0.3326596 0.3327021 0.002552164\n",
      "7  0.03214416      6 0.2987633 0.2988047 0.002527060\n",
      "8  0.02536950      7 0.2666192 0.2666634 0.002426155\n",
      "9  0.01663437      8 0.2412497 0.2413541 0.002087266\n",
      "10 0.01179127      9 0.2246153 0.2250794 0.002085191\n",
      "11 0.01000000     10 0.2128240 0.2132958 0.002118463\n",
      "\n",
      "Variable importance\n",
      "                    federalpolicyfee                   floodzone_highrisk \n",
      "                                  35                                   28 \n",
      "           elevationdifference_trans totalbuildinginsurancecoverage_trans \n",
      "                                  26                                   11 \n",
      "\n",
      "Node number 1: 205655 observations,    complexity param=0.4411714\n",
      "  mean=6.071438, MSE=0.3256057 \n",
      "  left son=2 (148436 obs) right son=3 (57219 obs)\n",
      "  Primary splits:\n",
      "      federalpolicyfee                     < 0.2569978 to the left,  improve=0.44117140, (0 missing)\n",
      "      floodzone_highrisk                   < 0.5       to the left,  improve=0.25334940, (0 missing)\n",
      "      elevationdifference_trans            < 0.5       to the right, improve=0.12904640, (0 missing)\n",
      "      totalbuildinginsurancecoverage_trans < 53.13883  to the left,  improve=0.04889125, (0 missing)\n",
      "  Surrogate splits:\n",
      "      floodzone_highrisk                   < 0.5       to the left,  agree=0.909, adj=0.673, (0 split)\n",
      "      elevationdifference_trans            < 1.062546  to the right, agree=0.814, adj=0.332, (0 split)\n",
      "      totalbuildinginsurancecoverage_trans < 63.02123  to the left,  agree=0.723, adj=0.003, (0 split)\n",
      "\n",
      "Node number 2: 148436 observations,    complexity param=0.03838687\n",
      "  mean=5.836123, MSE=0.09780972 \n",
      "  left son=4 (143982 obs) right son=5 (4454 obs)\n",
      "  Primary splits:\n",
      "      floodzone_highrisk                   < 0.5       to the left,  improve=0.17704870, (0 missing)\n",
      "      totalbuildinginsurancecoverage_trans < 53.13883  to the left,  improve=0.15604620, (0 missing)\n",
      "      federalpolicyfee                     < -1.435983 to the right, improve=0.12917950, (0 missing)\n",
      "      elevationdifference_trans            < 0.5       to the right, improve=0.06614931, (0 missing)\n",
      "  Surrogate splits:\n",
      "      elevationdifference_trans < 1.062546  to the right, agree=0.983, adj=0.433, (0 split)\n",
      "\n",
      "Node number 3: 57219 observations,    complexity param=0.09353242\n",
      "  mean=6.681887, MSE=0.4002525 \n",
      "  left son=6 (8044 obs) right son=7 (49175 obs)\n",
      "  Primary splits:\n",
      "      elevationdifference_trans            < 1.192506  to the right, improve=0.273475900, (0 missing)\n",
      "      totalbuildinginsurancecoverage_trans < 37.93709  to the left,  improve=0.130541600, (0 missing)\n",
      "      floodzone_highrisk                   < 0.5       to the right, improve=0.054200670, (0 missing)\n",
      "      federalpolicyfee                     < 0.7973107 to the left,  improve=0.003917397, (0 missing)\n",
      "  Surrogate splits:\n",
      "      totalbuildinginsurancecoverage_trans < 82.58066  to the right, agree=0.86, adj=0.002, (0 split)\n",
      "      federalpolicyfee                     < 13.22451  to the right, agree=0.86, adj=0.002, (0 split)\n",
      "\n",
      "Node number 4: 143982 observations,    complexity param=0.03214416\n",
      "  mean=5.812978, MSE=0.06909189 \n",
      "  left son=8 (37828 obs) right son=9 (106154 obs)\n",
      "  Primary splits:\n",
      "      totalbuildinginsurancecoverage_trans < 53.19183  to the left,  improve=0.21637050, (0 missing)\n",
      "      federalpolicyfee                     < -1.435983 to the right, improve=0.02208482, (0 missing)\n",
      "\n",
      "Node number 5: 4454 observations\n",
      "  mean=6.584321, MSE=0.4490381 \n",
      "\n",
      "Node number 6: 8044 observations\n",
      "  mean=5.863869, MSE=0.1189395 \n",
      "\n",
      "Node number 7: 49175 observations,    complexity param=0.05331217\n",
      "  mean=6.815697, MSE=0.3189047 \n",
      "  left son=14 (3329 obs) right son=15 (45846 obs)\n",
      "  Primary splits:\n",
      "      totalbuildinginsurancecoverage_trans < 37.93709  to the left,  improve=0.227642000, (0 missing)\n",
      "      elevationdifference_trans            < 1.062546  to the left,  improve=0.107847600, (0 missing)\n",
      "      floodzone_highrisk                   < 0.5       to the right, improve=0.019116260, (0 missing)\n",
      "      federalpolicyfee                     < 1.121498  to the left,  improve=0.009527393, (0 missing)\n",
      "\n",
      "Node number 8: 37828 observations,    complexity param=0.01179127\n",
      "  mean=5.608157, MSE=0.09311648 \n",
      "  left son=16 (6479 obs) right son=17 (31349 obs)\n",
      "  Primary splits:\n",
      "      totalbuildinginsurancecoverage_trans < 42.29277  to the left,  improve=0.22415690, (0 missing)\n",
      "      federalpolicyfee                     < -1.435983 to the right, improve=0.01909701, (0 missing)\n",
      "\n",
      "Node number 9: 106154 observations,    complexity param=0.0253695\n",
      "  mean=5.885966, MSE=0.04025404 \n",
      "  left son=18 (105129 obs) right son=19 (1025 obs)\n",
      "  Primary splits:\n",
      "      totalbuildinginsurancecoverage_trans < 63.49217  to the left,  improve=0.3975551, (0 missing)\n",
      "      federalpolicyfee                     < -1.435983 to the right, improve=0.0402476, (0 missing)\n",
      "\n",
      "Node number 14: 3329 observations\n",
      "  mean=5.815811, MSE=0.3268996 \n",
      "\n",
      "Node number 15: 45846 observations,    complexity param=0.04093754\n",
      "  mean=6.888302, MSE=0.2404567 \n",
      "  left son=30 (20576 obs) right son=31 (25270 obs)\n",
      "  Primary splits:\n",
      "      elevationdifference_trans            < 1.062546  to the left,  improve=0.248665100, (0 missing)\n",
      "      totalbuildinginsurancecoverage_trans < 58.39739  to the left,  improve=0.089112530, (0 missing)\n",
      "      floodzone_highrisk                   < 0.5       to the right, improve=0.058521930, (0 missing)\n",
      "      federalpolicyfee                     < 0.7973107 to the left,  improve=0.009573566, (0 missing)\n",
      "  Surrogate splits:\n",
      "      floodzone_highrisk                   < 0.5       to the right, agree=0.720, adj=0.377, (0 split)\n",
      "      federalpolicyfee                     < 1.517728  to the right, agree=0.564, adj=0.028, (0 split)\n",
      "      totalbuildinginsurancecoverage_trans < 64.83131  to the right, agree=0.563, adj=0.027, (0 split)\n",
      "\n",
      "Node number 16: 6479 observations\n",
      "  mean=5.290362, MSE=0.3052699 \n",
      "\n",
      "Node number 17: 31349 observations\n",
      "  mean=5.673837, MSE=0.0240835 \n",
      "\n",
      "Node number 18: 105129 observations\n",
      "  mean=5.873475, MSE=0.01793591 \n",
      "\n",
      "Node number 19: 1025 observations\n",
      "  mean=7.167124, MSE=0.6719405 \n",
      "\n",
      "Node number 30: 20576 observations,    complexity param=0.03389629\n",
      "  mean=6.617315, MSE=0.180806 \n",
      "  left son=60 (10808 obs) right son=61 (9768 obs)\n",
      "  Primary splits:\n",
      "      elevationdifference_trans            < 0.5       to the right, improve=0.610112100, (0 missing)\n",
      "      totalbuildinginsurancecoverage_trans < 64.67898  to the left,  improve=0.083164550, (0 missing)\n",
      "      federalpolicyfee                     < 1.517728  to the left,  improve=0.027036980, (0 missing)\n",
      "      floodzone_highrisk                   < 0.5       to the right, improve=0.005606689, (0 missing)\n",
      "  Surrogate splits:\n",
      "      totalbuildinginsurancecoverage_trans < 51.5827   to the right, agree=0.531, adj=0.012, (0 split)\n",
      "      floodzone_highrisk                   < 0.5       to the right, agree=0.527, adj=0.005, (0 split)\n",
      "      federalpolicyfee                     < 11.60357  to the left,  agree=0.525, adj=0.000, (0 split)\n",
      "\n",
      "Node number 31: 25270 observations,    complexity param=0.01663437\n",
      "  mean=7.108952, MSE=0.1805475 \n",
      "  left son=62 (10222 obs) right son=63 (15048 obs)\n",
      "  Primary splits:\n",
      "      totalbuildinginsurancecoverage_trans < 57.44355  to the left,  improve=0.244141100, (0 missing)\n",
      "      federalpolicyfee                     < 1.121498  to the left,  improve=0.019841840, (0 missing)\n",
      "      floodzone_highrisk                   < 0.5       to the left,  improve=0.004320772, (0 missing)\n",
      "\n",
      "Node number 60: 10808 observations\n",
      "  mean=6.301567, MSE=0.06776401 \n",
      "\n",
      "Node number 61: 9768 observations\n",
      "  mean=6.966682, MSE=0.07351485 \n",
      "\n",
      "Node number 62: 10222 observations\n",
      "  mean=6.854217, MSE=0.1198666 \n",
      "\n",
      "Node number 63: 15048 observations\n",
      "  mean=7.281991, MSE=0.1477459 \n",
      "\n"
     ]
    }
   ],
   "source": [
    "tree.model <- rpart(totalinsurancepremiumofthepolicy_log ~ federalpolicyfee +floodzone_highrisk + totalbuildinginsurancecoverage_trans + elevationdifference_trans, data = train, method = \"anova\")\n",
    "summary(tree.model)"
   ]
  },
  {
   "cell_type": "code",
   "execution_count": 191,
   "id": "f37b9bb7",
   "metadata": {},
   "outputs": [
    {
     "data": {
      "text/html": [
       "<strong>jpeg:</strong> 3"
      ],
      "text/latex": [
       "\\textbf{jpeg:} 3"
      ],
      "text/markdown": [
       "**jpeg:** 3"
      ],
      "text/plain": [
       "jpeg \n",
       "   3 "
      ]
     },
     "metadata": {},
     "output_type": "display_data"
    },
    {
     "data": {
      "text/html": [
       "<strong>png:</strong> 2"
      ],
      "text/latex": [
       "\\textbf{png:} 2"
      ],
      "text/markdown": [
       "**png:** 2"
      ],
      "text/plain": [
       "png \n",
       "  2 "
      ]
     },
     "metadata": {},
     "output_type": "display_data"
    },
    {
     "data": {
      "image/png": "[encoded data removed]",
      "text/plain": [
       "Plot with title \"\""
      ]
     },
     "metadata": {
      "image/png": {
       "height": 420,
       "width": 420
      }
     },
     "output_type": "display_data"
    }
   ],
   "source": [
    "\n",
    "fancyRpartPlot(tree.model, cex = 0.7)\t\t\n",
    "\n",
    "dev.copy(jpeg, filename = \"Regression Tree.jpg\")\n",
    "dev.off ()"
   ]
  },
  {
   "cell_type": "code",
   "execution_count": 192,
   "id": "75c3ee30",
   "metadata": {},
   "outputs": [
    {
     "name": "stdout",
     "output_type": "stream",
     "text": [
      "[1] 0.7841499\n"
     ]
    }
   ],
   "source": [
    "pred.tree.train <- predict(tree.model, train)\n",
    "\n",
    "r2.tree.train <- R_2(pred.tree.train)\n",
    "\n",
    "tree.pred.test <- predict(tree.model, test)\n",
    "\n",
    "r2.tree.test <- R_2(tree.pred.test)\n",
    "print(r2.tree.test)"
   ]
  },
  {
   "cell_type": "code",
   "execution_count": 193,
   "id": "c2041f92",
   "metadata": {},
   "outputs": [
    {
     "name": "stdout",
     "output_type": "stream",
     "text": [
      "[1] 0.8813691\n"
     ]
    },
    {
     "data": {
      "image/png": "[encoded data removed]",
      "text/plain": [
       "Plot with title \"rf.model\""
      ]
     },
     "metadata": {
      "image/png": {
       "height": 420,
       "width": 420
      }
     },
     "output_type": "display_data"
    }
   ],
   "source": [
    "#2. Random Forest (computationally demanding)\n",
    "rf.model <- randomForest(totalinsurancepremiumofthepolicy_log ~., data = train, mtry = 3, importance = TRUE)\n",
    "plot(rf.model)\n",
    "\n",
    "pred.rf.train <- predict(rf.model, train)\n",
    "\n",
    "r2.rf.train <- R_2(pred.rf.train)\n",
    "\n",
    "rf.pred.test <- predict(rf.model, test)\n",
    "\n",
    "r2.rf.test <- R_2(rf.pred.test)\n",
    "\n",
    "print(r2.rf.test)"
   ]
  },
  {
   "cell_type": "code",
   "execution_count": 194,
   "id": "a5cc68d5",
   "metadata": {},
   "outputs": [
    {
     "data": {
      "text/html": [
       "<strong>jpeg:</strong> 3"
      ],
      "text/latex": [
       "\\textbf{jpeg:} 3"
      ],
      "text/markdown": [
       "**jpeg:** 3"
      ],
      "text/plain": [
       "jpeg \n",
       "   3 "
      ]
     },
     "metadata": {},
     "output_type": "display_data"
    },
    {
     "data": {
      "text/html": [
       "<strong>png:</strong> 2"
      ],
      "text/latex": [
       "\\textbf{png:} 2"
      ],
      "text/markdown": [
       "**png:** 2"
      ],
      "text/plain": [
       "png \n",
       "  2 "
      ]
     },
     "metadata": {},
     "output_type": "display_data"
    },
    {
     "data": {
      "image/png": "[encoded data removed]",
      "text/plain": [
       "plot without title"
      ]
     },
     "metadata": {
      "image/png": {
       "height": 420,
       "width": 420
      }
     },
     "output_type": "display_data"
    }
   ],
   "source": [
    "imp <- data.frame(importance(rf.model, type = 1))\n",
    "imp <- rownames_to_column(imp, var = \"variable\")\n",
    "\n",
    "ggplot(imp, aes(x = reorder(variable, X.IncMSE), y = X.IncMSE, color = reorder(variable, X.IncMSE))) +\n",
    "  geom_point(show.legend=FALSE, size=3) +\n",
    "  geom_segment(aes(x=variable, xend=variable, y=0, yend = X.IncMSE), size = 3, show.legend=FALSE) +\n",
    "  xlab(\"\") +\n",
    "  ylab(\"% Increase in MSE\") +\n",
    "  labs(title = \"Variable Importance for Prediction of Total Insurance Premium\") +\n",
    "  coord_flip() +\n",
    "  theme_classic()\n",
    "\n",
    "dev.copy(jpeg, filename = \"Random Forest.jpg\")\n",
    "dev.off ()"
   ]
  },
  {
   "cell_type": "code",
   "execution_count": 195,
   "id": "93019e6f",
   "metadata": {},
   "outputs": [
    {
     "data": {
      "text/html": [
       "<strong>jpeg:</strong> 3"
      ],
      "text/latex": [
       "\\textbf{jpeg:} 3"
      ],
      "text/markdown": [
       "**jpeg:** 3"
      ],
      "text/plain": [
       "jpeg \n",
       "   3 "
      ]
     },
     "metadata": {},
     "output_type": "display_data"
    },
    {
     "data": {
      "text/html": [
       "<strong>png:</strong> 2"
      ],
      "text/latex": [
       "\\textbf{png:} 2"
      ],
      "text/markdown": [
       "**png:** 2"
      ],
      "text/plain": [
       "png \n",
       "  2 "
      ]
     },
     "metadata": {},
     "output_type": "display_data"
    },
    {
     "data": {
      "image/png": "[encoded data removed]",
      "text/plain": [
       "plot without title"
      ]
     },
     "metadata": {
      "image/png": {
       "height": 420,
       "width": 420
      }
     },
     "output_type": "display_data"
    }
   ],
   "source": [
    "# PLOT ALL THE MODELS\n",
    "\n",
    "p1 <- ggplot(mapping = aes(x = test$totalinsurancepremiumofthepolicy_log, y = fwd.pred.test)) +\n",
    "  geom_point(color = \"blue\") +\n",
    "  geom_abline(slope = 1) +\n",
    "  xlab(\"Predicted Total Insurance Premium\") +\n",
    "  ylab(\"Actual Insurance Premium\") +\n",
    "  labs(title = \"Forward Direction\")\n",
    "\n",
    "p2 <- ggplot(mapping = aes(x = test$totalinsurancepremiumofthepolicy_log, y = both.pred.test)) +\n",
    "  geom_point(color = \"red\") +\n",
    "  geom_abline(slope = 1) +\n",
    "  xlab(\"Predicted Total Insurance Premium\") +\n",
    "  ylab(\"Actual Insurance Premium\") +\n",
    "  labs(title = \"Both Directions\")\n",
    "\n",
    "p3 <- ggplot(mapping = aes(x = test$totalinsurancepremiumofthepolicy_log, y = ridge.pred.test)) +\n",
    "  geom_point(color = \"purple\") +\n",
    "  geom_abline(slope = 1) +\n",
    "  xlab(\"Predicted Total Insurance Premium\") +\n",
    "  ylab(\"Actual Insurance Premium\") +\n",
    "  labs(title = \"Ridge\")\n",
    "\n",
    "p4 <- ggplot(mapping = aes(x = test$totalinsurancepremiumofthepolicy_log, y = lasso.pred.test)) +\n",
    "  geom_point(color = \"green\") +\n",
    "  geom_abline(slope = 1) +\n",
    "  xlab(\"Predicted Total Insurance Premium\") +\n",
    "  ylab(\"Actual Insurance Premium\") +\n",
    "  labs(title = \"Lasso\")\n",
    "\n",
    "p5 <- ggplot(mapping = aes(x = test$totalinsurancepremiumofthepolicy_log, y = tree.pred.test)) +\n",
    "  geom_point(color = \"black\") +\n",
    "  geom_abline(slope = 1) +\n",
    "  xlab(\"Predicted Total Insurance Premium\") +\n",
    "  ylab(\"Actual Insurance Premium\") +\n",
    "  labs(title = \"Single Tree\")\n",
    "\n",
    "p6 <- ggplot(mapping = aes(x = test$totalinsurancepremiumofthepolicy_log, y = rf.pred.test)) +\n",
    "  geom_point(color = \"purple\") +\n",
    "  geom_abline(slope = 1) +\n",
    "  xlab(\"Predicted Total Insurance Premium\") +\n",
    "  ylab(\"Actual Insurance Premium\") +\n",
    "  labs(title = \"Random Forest\")\n",
    "\n",
    "grid.arrange(p1, p2, p3, p4, p5, p6, nrow = 3)\n",
    "\n",
    "dev.copy(jpeg, filename = \"All Plots.jpg\")\n",
    "dev.off ()"
   ]
  }
 ],
 "metadata": {
  "kernelspec": {
   "display_name": "R",
   "language": "R",
   "name": "ir"
  },
  "language_info": {
   "codemirror_mode": "r",
   "file_extension": ".r",
   "mimetype": "text/x-r-source",
   "name": "R",
   "pygments_lexer": "r",
   "version": "4.2.0"
  }
 },
 "nbformat": 4,
 "nbformat_minor": 5
}
