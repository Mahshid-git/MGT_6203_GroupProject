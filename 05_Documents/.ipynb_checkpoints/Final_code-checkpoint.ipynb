{
 "cells": [
  {
   "cell_type": "code",
   "execution_count": 42,
   "id": "c941d406",
   "metadata": {},
   "outputs": [],
   "source": [
    "# install.packages(\"arrow\") \n",
    "# install.packages(\"dplyr\") \n",
    "# install.packages(\"car\") \n",
    "# install.packages(\"corrplot\") \n",
    "# install.packages(\"caret\") \n",
    "# install.packages(\"rattle\") \n",
    "# install.packages(\"rpart.plot\") \n",
    "# install.packages(\"rpart\") "
   ]
  },
  {
   "cell_type": "code",
   "execution_count": 6,
   "id": "520678d3",
   "metadata": {},
   "outputs": [
    {
     "data": {
      "text/plain": [
       "               _                           \n",
       "platform       x86_64-w64-mingw32          \n",
       "arch           x86_64                      \n",
       "os             mingw32                     \n",
       "system         x86_64, mingw32             \n",
       "status                                     \n",
       "major          4                           \n",
       "minor          1.3                         \n",
       "year           2022                        \n",
       "month          03                          \n",
       "day            10                          \n",
       "svn rev        81868                       \n",
       "language       R                           \n",
       "version.string R version 4.1.3 (2022-03-10)\n",
       "nickname       One Push-Up                 "
      ]
     },
     "metadata": {},
     "output_type": "display_data"
    }
   ],
   "source": [
    "version"
   ]
  },
  {
   "cell_type": "code",
   "execution_count": 14,
   "id": "1b6f1dcb",
   "metadata": {},
   "outputs": [
    {
     "name": "stderr",
     "output_type": "stream",
     "text": [
      "Loading required package: ggplot2\n",
      "\n",
      "Loading required package: lattice\n",
      "\n",
      "corrplot 0.92 loaded\n",
      "\n"
     ]
    }
   ],
   "source": [
    "library(arrow) # needed to read parquet file\n",
    "library(dplyr)\n",
    "library(car)\n",
    "library(caret)\n",
    "library(ggplot2)\n",
    "library(corrplot)"
   ]
  },
  {
   "cell_type": "markdown",
   "id": "893f2353",
   "metadata": {},
   "source": [
    "# 1-Data Cleaning"
   ]
  },
  {
   "cell_type": "code",
   "execution_count": 15,
   "id": "40f435e5",
   "metadata": {},
   "outputs": [],
   "source": [
    "# read the file\n",
    "file_path <- \"../01_RawData/nfip_Houston_flood_policies.parquet\"\n",
    "policy_df1 <- read_parquet(file_path, as_tibble = TRUE)\n",
    "# there are Houston that are not in TX ==> filter for propertystate = \"TX\"\n",
    "policy_df1 <- subset(policy_df1, propertystate == 'TX' )"
   ]
  },
  {
   "cell_type": "code",
   "execution_count": 16,
   "id": "5f81f23b",
   "metadata": {},
   "outputs": [],
   "source": [
    "policy_df = subset(policy_df1,select=-c(agriculturestructureindicator, propertystate, reportedcity, houseofworshipindicator,nonprofitindicator,regularemergencyprogramindicator,smallbusinessindicatorbuilding,hfiaasurcharge))"
   ]
  },
  {
   "cell_type": "code",
   "execution_count": 17,
   "id": "79016dc7",
   "metadata": {},
   "outputs": [
    {
     "data": {
      "text/html": [
       "<style>\n",
       ".dl-inline {width: auto; margin:0; padding: 0}\n",
       ".dl-inline>dt, .dl-inline>dd {float: none; width: auto; display: inline-block}\n",
       ".dl-inline>dt::after {content: \":\\0020\"; padding-right: .5ex}\n",
       ".dl-inline>dt:not(:first-of-type) {padding-left: .5ex}\n",
       "</style><dl class=dl-inline><dt>basefloodelevation</dt><dd>1694274</dd><dt>basementenclosurecrawlspacetype</dt><dd>53</dd><dt>cancellationdateoffloodpolicy</dt><dd>1823746</dd><dt>censustract</dt><dd>15177</dd><dt>condominiumindicator</dt><dd>1</dd><dt>construction</dt><dd>1</dd><dt>countycode</dt><dd>10346</dd><dt>crsdiscount</dt><dd>0</dd><dt>deductibleamountinbuildingcoverage</dt><dd>34226</dd><dt>deductibleamountincontentscoverage</dt><dd>134189</dd><dt>elevatedbuildingindicator</dt><dd>17</dd><dt>elevationcertificateindicator</dt><dd>1386468</dd><dt>elevationdifference</dt><dd>0</dd><dt>federalpolicyfee</dt><dd>0</dd><dt>floodzone</dt><dd>7307</dd><dt>latitude</dt><dd>15177</dd><dt>locationofcontents</dt><dd>387577</dd><dt>longitude</dt><dd>15177</dd><dt>lowestadjacentgrade</dt><dd>1696485</dd><dt>lowestfloorelevation</dt><dd>1690907</dd><dt>numberoffloorsininsuredbuilding</dt><dd>7315</dd><dt>obstructiontype</dt><dd>1908461</dd><dt>occupancytype</dt><dd>1</dd><dt>originalconstructiondate</dt><dd>7565</dd><dt>originalnbdate</dt><dd>0</dd><dt>policycost</dt><dd>0</dd><dt>policycount</dt><dd>0</dd><dt>policyeffectivedate</dt><dd>0</dd><dt>policyterminationdate</dt><dd>0</dd><dt>policytermindicator</dt><dd>0</dd><dt>postfirmconstructionindicator</dt><dd>7565</dd><dt>primaryresidenceindicator</dt><dd>1481</dd><dt>reportedzipcode</dt><dd>0</dd><dt>ratemethod</dt><dd>4580</dd><dt>totalbuildinginsurancecoverage</dt><dd>0</dd><dt>totalcontentsinsurancecoverage</dt><dd>0</dd><dt>totalinsurancepremiumofthepolicy</dt><dd>0</dd></dl>\n"
      ],
      "text/latex": [
       "\\begin{description*}\n",
       "\\item[basefloodelevation] 1694274\n",
       "\\item[basementenclosurecrawlspacetype] 53\n",
       "\\item[cancellationdateoffloodpolicy] 1823746\n",
       "\\item[censustract] 15177\n",
       "\\item[condominiumindicator] 1\n",
       "\\item[construction] 1\n",
       "\\item[countycode] 10346\n",
       "\\item[crsdiscount] 0\n",
       "\\item[deductibleamountinbuildingcoverage] 34226\n",
       "\\item[deductibleamountincontentscoverage] 134189\n",
       "\\item[elevatedbuildingindicator] 17\n",
       "\\item[elevationcertificateindicator] 1386468\n",
       "\\item[elevationdifference] 0\n",
       "\\item[federalpolicyfee] 0\n",
       "\\item[floodzone] 7307\n",
       "\\item[latitude] 15177\n",
       "\\item[locationofcontents] 387577\n",
       "\\item[longitude] 15177\n",
       "\\item[lowestadjacentgrade] 1696485\n",
       "\\item[lowestfloorelevation] 1690907\n",
       "\\item[numberoffloorsininsuredbuilding] 7315\n",
       "\\item[obstructiontype] 1908461\n",
       "\\item[occupancytype] 1\n",
       "\\item[originalconstructiondate] 7565\n",
       "\\item[originalnbdate] 0\n",
       "\\item[policycost] 0\n",
       "\\item[policycount] 0\n",
       "\\item[policyeffectivedate] 0\n",
       "\\item[policyterminationdate] 0\n",
       "\\item[policytermindicator] 0\n",
       "\\item[postfirmconstructionindicator] 7565\n",
       "\\item[primaryresidenceindicator] 1481\n",
       "\\item[reportedzipcode] 0\n",
       "\\item[ratemethod] 4580\n",
       "\\item[totalbuildinginsurancecoverage] 0\n",
       "\\item[totalcontentsinsurancecoverage] 0\n",
       "\\item[totalinsurancepremiumofthepolicy] 0\n",
       "\\end{description*}\n"
      ],
      "text/markdown": [
       "basefloodelevation\n",
       ":   1694274basementenclosurecrawlspacetype\n",
       ":   53cancellationdateoffloodpolicy\n",
       ":   1823746censustract\n",
       ":   15177condominiumindicator\n",
       ":   1construction\n",
       ":   1countycode\n",
       ":   10346crsdiscount\n",
       ":   0deductibleamountinbuildingcoverage\n",
       ":   34226deductibleamountincontentscoverage\n",
       ":   134189elevatedbuildingindicator\n",
       ":   17elevationcertificateindicator\n",
       ":   1386468elevationdifference\n",
       ":   0federalpolicyfee\n",
       ":   0floodzone\n",
       ":   7307latitude\n",
       ":   15177locationofcontents\n",
       ":   387577longitude\n",
       ":   15177lowestadjacentgrade\n",
       ":   1696485lowestfloorelevation\n",
       ":   1690907numberoffloorsininsuredbuilding\n",
       ":   7315obstructiontype\n",
       ":   1908461occupancytype\n",
       ":   1originalconstructiondate\n",
       ":   7565originalnbdate\n",
       ":   0policycost\n",
       ":   0policycount\n",
       ":   0policyeffectivedate\n",
       ":   0policyterminationdate\n",
       ":   0policytermindicator\n",
       ":   0postfirmconstructionindicator\n",
       ":   7565primaryresidenceindicator\n",
       ":   1481reportedzipcode\n",
       ":   0ratemethod\n",
       ":   4580totalbuildinginsurancecoverage\n",
       ":   0totalcontentsinsurancecoverage\n",
       ":   0totalinsurancepremiumofthepolicy\n",
       ":   0\n",
       "\n"
      ],
      "text/plain": [
       "                basefloodelevation    basementenclosurecrawlspacetype \n",
       "                           1694274                                 53 \n",
       "     cancellationdateoffloodpolicy                        censustract \n",
       "                           1823746                              15177 \n",
       "              condominiumindicator                       construction \n",
       "                                 1                                  1 \n",
       "                        countycode                        crsdiscount \n",
       "                             10346                                  0 \n",
       "deductibleamountinbuildingcoverage deductibleamountincontentscoverage \n",
       "                             34226                             134189 \n",
       "         elevatedbuildingindicator      elevationcertificateindicator \n",
       "                                17                            1386468 \n",
       "               elevationdifference                   federalpolicyfee \n",
       "                                 0                                  0 \n",
       "                         floodzone                           latitude \n",
       "                              7307                              15177 \n",
       "                locationofcontents                          longitude \n",
       "                            387577                              15177 \n",
       "               lowestadjacentgrade               lowestfloorelevation \n",
       "                           1696485                            1690907 \n",
       "   numberoffloorsininsuredbuilding                    obstructiontype \n",
       "                              7315                            1908461 \n",
       "                     occupancytype           originalconstructiondate \n",
       "                                 1                               7565 \n",
       "                    originalnbdate                         policycost \n",
       "                                 0                                  0 \n",
       "                       policycount                policyeffectivedate \n",
       "                                 0                                  0 \n",
       "             policyterminationdate                policytermindicator \n",
       "                                 0                                  0 \n",
       "     postfirmconstructionindicator          primaryresidenceindicator \n",
       "                              7565                               1481 \n",
       "                   reportedzipcode                         ratemethod \n",
       "                                 0                               4580 \n",
       "    totalbuildinginsurancecoverage     totalcontentsinsurancecoverage \n",
       "                                 0                                  0 \n",
       "  totalinsurancepremiumofthepolicy \n",
       "                                 0 "
      ]
     },
     "metadata": {},
     "output_type": "display_data"
    }
   ],
   "source": [
    "# count NA values in each column\n",
    "colSums(is.na(policy_df))"
   ]
  },
  {
   "cell_type": "code",
   "execution_count": 19,
   "id": "d78ec9b6",
   "metadata": {},
   "outputs": [
    {
     "data": {
      "text/html": [
       "<table class=\"dataframe\">\n",
       "<caption>A tibble: 6 × 30</caption>\n",
       "<thead>\n",
       "\t<tr><th scope=col>basementenclosurecrawlspacetype</th><th scope=col>censustract</th><th scope=col>condominiumindicator</th><th scope=col>construction</th><th scope=col>crsdiscount</th><th scope=col>deductibleamountinbuildingcoverage</th><th scope=col>deductibleamountincontentscoverage</th><th scope=col>elevatedbuildingindicator</th><th scope=col>elevationdifference</th><th scope=col>federalpolicyfee</th><th scope=col>...</th><th scope=col>policyeffectivedate</th><th scope=col>policyterminationdate</th><th scope=col>policytermindicator</th><th scope=col>postfirmconstructionindicator</th><th scope=col>primaryresidenceindicator</th><th scope=col>reportedzipcode</th><th scope=col>ratemethod</th><th scope=col>totalbuildinginsurancecoverage</th><th scope=col>totalcontentsinsurancecoverage</th><th scope=col>totalinsurancepremiumofthepolicy</th></tr>\n",
       "\t<tr><th scope=col>&lt;chr&gt;</th><th scope=col>&lt;chr&gt;</th><th scope=col>&lt;chr&gt;</th><th scope=col>&lt;chr&gt;</th><th scope=col>&lt;chr&gt;</th><th scope=col>&lt;chr&gt;</th><th scope=col>&lt;chr&gt;</th><th scope=col>&lt;chr&gt;</th><th scope=col>&lt;chr&gt;</th><th scope=col>&lt;chr&gt;</th><th scope=col>...</th><th scope=col>&lt;chr&gt;</th><th scope=col>&lt;chr&gt;</th><th scope=col>&lt;chr&gt;</th><th scope=col>&lt;chr&gt;</th><th scope=col>&lt;chr&gt;</th><th scope=col>&lt;chr&gt;</th><th scope=col>&lt;chr&gt;</th><th scope=col>&lt;chr&gt;</th><th scope=col>&lt;chr&gt;</th><th scope=col>&lt;chr&gt;</th></tr>\n",
       "</thead>\n",
       "<tbody>\n",
       "\t<tr><td>0</td><td>48201340800</td><td>N</td><td>N</td><td>0.00</td><td>1</td><td>1</td><td>N</td><td>999</td><td>13</td><td>...</td><td>2009-11-23</td><td>2010-11-23</td><td>1</td><td>Y</td><td>Y</td><td>77062</td><td>7</td><td>250000</td><td>100000</td><td>335 </td></tr>\n",
       "\t<tr><td>0</td><td>48201553200</td><td>N</td><td>N</td><td>0.10</td><td>1</td><td>1</td><td>N</td><td>999</td><td>35</td><td>...</td><td>2009-11-02</td><td>2010-11-02</td><td>1</td><td>N</td><td>Y</td><td>77090</td><td>1</td><td>185200</td><td>44600 </td><td>1663</td></tr>\n",
       "\t<tr><td>0</td><td>48201211700</td><td>N</td><td>N</td><td>0.20</td><td>1</td><td>1</td><td>N</td><td>999</td><td>35</td><td>...</td><td>2009-08-07</td><td>2010-04-11</td><td>1</td><td>N</td><td>Y</td><td>77026</td><td>1</td><td>116100</td><td>30500 </td><td>885 </td></tr>\n",
       "\t<tr><td>0</td><td>48201233500</td><td>N</td><td>N</td><td>0.00</td><td>0</td><td>0</td><td>N</td><td>999</td><td>13</td><td>...</td><td>2009-07-02</td><td>2010-07-02</td><td>1</td><td>N</td><td>Y</td><td>77029</td><td>7</td><td>75000 </td><td>30000 </td><td>217 </td></tr>\n",
       "\t<tr><td>0</td><td>48201530900</td><td>N</td><td>N</td><td>0.00</td><td>1</td><td>1</td><td>N</td><td>999</td><td>13</td><td>...</td><td>2009-10-04</td><td>2010-10-04</td><td>1</td><td>N</td><td>Y</td><td>77018</td><td>7</td><td>250000</td><td>100000</td><td>335 </td></tr>\n",
       "\t<tr><td>0</td><td>48157670101</td><td>N</td><td>N</td><td>0.00</td><td>1</td><td>1</td><td>N</td><td>999</td><td>13</td><td>...</td><td>2009-12-15</td><td>2010-07-16</td><td>1</td><td>N</td><td>N</td><td>77053</td><td>7</td><td>150000</td><td>60000 </td><td>283 </td></tr>\n",
       "</tbody>\n",
       "</table>\n"
      ],
      "text/latex": [
       "A tibble: 6 × 30\n",
       "\\begin{tabular}{lllllllllllllllllllll}\n",
       " basementenclosurecrawlspacetype & censustract & condominiumindicator & construction & crsdiscount & deductibleamountinbuildingcoverage & deductibleamountincontentscoverage & elevatedbuildingindicator & elevationdifference & federalpolicyfee & ... & policyeffectivedate & policyterminationdate & policytermindicator & postfirmconstructionindicator & primaryresidenceindicator & reportedzipcode & ratemethod & totalbuildinginsurancecoverage & totalcontentsinsurancecoverage & totalinsurancepremiumofthepolicy\\\\\n",
       " <chr> & <chr> & <chr> & <chr> & <chr> & <chr> & <chr> & <chr> & <chr> & <chr> & ... & <chr> & <chr> & <chr> & <chr> & <chr> & <chr> & <chr> & <chr> & <chr> & <chr>\\\\\n",
       "\\hline\n",
       "\t 0 & 48201340800 & N & N & 0.00 & 1 & 1 & N & 999 & 13 & ... & 2009-11-23 & 2010-11-23 & 1 & Y & Y & 77062 & 7 & 250000 & 100000 & 335 \\\\\n",
       "\t 0 & 48201553200 & N & N & 0.10 & 1 & 1 & N & 999 & 35 & ... & 2009-11-02 & 2010-11-02 & 1 & N & Y & 77090 & 1 & 185200 & 44600  & 1663\\\\\n",
       "\t 0 & 48201211700 & N & N & 0.20 & 1 & 1 & N & 999 & 35 & ... & 2009-08-07 & 2010-04-11 & 1 & N & Y & 77026 & 1 & 116100 & 30500  & 885 \\\\\n",
       "\t 0 & 48201233500 & N & N & 0.00 & 0 & 0 & N & 999 & 13 & ... & 2009-07-02 & 2010-07-02 & 1 & N & Y & 77029 & 7 & 75000  & 30000  & 217 \\\\\n",
       "\t 0 & 48201530900 & N & N & 0.00 & 1 & 1 & N & 999 & 13 & ... & 2009-10-04 & 2010-10-04 & 1 & N & Y & 77018 & 7 & 250000 & 100000 & 335 \\\\\n",
       "\t 0 & 48157670101 & N & N & 0.00 & 1 & 1 & N & 999 & 13 & ... & 2009-12-15 & 2010-07-16 & 1 & N & N & 77053 & 7 & 150000 & 60000  & 283 \\\\\n",
       "\\end{tabular}\n"
      ],
      "text/markdown": [
       "\n",
       "A tibble: 6 × 30\n",
       "\n",
       "| basementenclosurecrawlspacetype &lt;chr&gt; | censustract &lt;chr&gt; | condominiumindicator &lt;chr&gt; | construction &lt;chr&gt; | crsdiscount &lt;chr&gt; | deductibleamountinbuildingcoverage &lt;chr&gt; | deductibleamountincontentscoverage &lt;chr&gt; | elevatedbuildingindicator &lt;chr&gt; | elevationdifference &lt;chr&gt; | federalpolicyfee &lt;chr&gt; | ... ... | policyeffectivedate &lt;chr&gt; | policyterminationdate &lt;chr&gt; | policytermindicator &lt;chr&gt; | postfirmconstructionindicator &lt;chr&gt; | primaryresidenceindicator &lt;chr&gt; | reportedzipcode &lt;chr&gt; | ratemethod &lt;chr&gt; | totalbuildinginsurancecoverage &lt;chr&gt; | totalcontentsinsurancecoverage &lt;chr&gt; | totalinsurancepremiumofthepolicy &lt;chr&gt; |\n",
       "|---|---|---|---|---|---|---|---|---|---|---|---|---|---|---|---|---|---|---|---|---|\n",
       "| 0 | 48201340800 | N | N | 0.00 | 1 | 1 | N | 999 | 13 | ... | 2009-11-23 | 2010-11-23 | 1 | Y | Y | 77062 | 7 | 250000 | 100000 | 335  |\n",
       "| 0 | 48201553200 | N | N | 0.10 | 1 | 1 | N | 999 | 35 | ... | 2009-11-02 | 2010-11-02 | 1 | N | Y | 77090 | 1 | 185200 | 44600  | 1663 |\n",
       "| 0 | 48201211700 | N | N | 0.20 | 1 | 1 | N | 999 | 35 | ... | 2009-08-07 | 2010-04-11 | 1 | N | Y | 77026 | 1 | 116100 | 30500  | 885  |\n",
       "| 0 | 48201233500 | N | N | 0.00 | 0 | 0 | N | 999 | 13 | ... | 2009-07-02 | 2010-07-02 | 1 | N | Y | 77029 | 7 | 75000  | 30000  | 217  |\n",
       "| 0 | 48201530900 | N | N | 0.00 | 1 | 1 | N | 999 | 13 | ... | 2009-10-04 | 2010-10-04 | 1 | N | Y | 77018 | 7 | 250000 | 100000 | 335  |\n",
       "| 0 | 48157670101 | N | N | 0.00 | 1 | 1 | N | 999 | 13 | ... | 2009-12-15 | 2010-07-16 | 1 | N | N | 77053 | 7 | 150000 | 60000  | 283  |\n",
       "\n"
      ],
      "text/plain": [
       "  basementenclosurecrawlspacetype censustract condominiumindicator construction\n",
       "1 0                               48201340800 N                    N           \n",
       "2 0                               48201553200 N                    N           \n",
       "3 0                               48201211700 N                    N           \n",
       "4 0                               48201233500 N                    N           \n",
       "5 0                               48201530900 N                    N           \n",
       "6 0                               48157670101 N                    N           \n",
       "  crsdiscount deductibleamountinbuildingcoverage\n",
       "1 0.00        1                                 \n",
       "2 0.10        1                                 \n",
       "3 0.20        1                                 \n",
       "4 0.00        0                                 \n",
       "5 0.00        1                                 \n",
       "6 0.00        1                                 \n",
       "  deductibleamountincontentscoverage elevatedbuildingindicator\n",
       "1 1                                  N                        \n",
       "2 1                                  N                        \n",
       "3 1                                  N                        \n",
       "4 0                                  N                        \n",
       "5 1                                  N                        \n",
       "6 1                                  N                        \n",
       "  elevationdifference federalpolicyfee ... policyeffectivedate\n",
       "1 999                 13               ... 2009-11-23         \n",
       "2 999                 35               ... 2009-11-02         \n",
       "3 999                 35               ... 2009-08-07         \n",
       "4 999                 13               ... 2009-07-02         \n",
       "5 999                 13               ... 2009-10-04         \n",
       "6 999                 13               ... 2009-12-15         \n",
       "  policyterminationdate policytermindicator postfirmconstructionindicator\n",
       "1 2010-11-23            1                   Y                            \n",
       "2 2010-11-02            1                   N                            \n",
       "3 2010-04-11            1                   N                            \n",
       "4 2010-07-02            1                   N                            \n",
       "5 2010-10-04            1                   N                            \n",
       "6 2010-07-16            1                   N                            \n",
       "  primaryresidenceindicator reportedzipcode ratemethod\n",
       "1 Y                         77062           7         \n",
       "2 Y                         77090           1         \n",
       "3 Y                         77026           1         \n",
       "4 Y                         77029           7         \n",
       "5 Y                         77018           7         \n",
       "6 N                         77053           7         \n",
       "  totalbuildinginsurancecoverage totalcontentsinsurancecoverage\n",
       "1 250000                         100000                        \n",
       "2 185200                         44600                         \n",
       "3 116100                         30500                         \n",
       "4 75000                          30000                         \n",
       "5 250000                         100000                        \n",
       "6 150000                         60000                         \n",
       "  totalinsurancepremiumofthepolicy\n",
       "1 335                             \n",
       "2 1663                            \n",
       "3 885                             \n",
       "4 217                             \n",
       "5 335                             \n",
       "6 283                             "
      ]
     },
     "metadata": {},
     "output_type": "display_data"
    }
   ],
   "source": [
    "# Filter more columns with significant number of NA values\n",
    "policy_df = subset(policy_df,select=-c(basefloodelevation,cancellationdateoffloodpolicy, countycode, elevationcertificateindicator, lowestadjacentgrade, lowestfloorelevation, obstructiontype))                          \n",
    "head(policy_df)"
   ]
  },
  {
   "cell_type": "code",
   "execution_count": 20,
   "id": "4bbcf01a",
   "metadata": {},
   "outputs": [
    {
     "data": {
      "text/html": [
       "<style>\n",
       ".dl-inline {width: auto; margin:0; padding: 0}\n",
       ".dl-inline>dt, .dl-inline>dd {float: none; width: auto; display: inline-block}\n",
       ".dl-inline>dt::after {content: \":\\0020\"; padding-right: .5ex}\n",
       ".dl-inline>dt:not(:first-of-type) {padding-left: .5ex}\n",
       "</style><dl class=dl-inline><dt>condominiumindicator</dt><dd>6</dd><dt>construction</dt><dd>3</dd><dt>elevatedbuildingindicator</dt><dd>3</dd><dt>floodzone</dt><dd>33</dd><dt>locationofcontents</dt><dd>7</dd><dt>postfirmconstructionindicator</dt><dd>3</dd><dt>primaryresidenceindicator</dt><dd>3</dd></dl>\n"
      ],
      "text/latex": [
       "\\begin{description*}\n",
       "\\item[condominiumindicator] 6\n",
       "\\item[construction] 3\n",
       "\\item[elevatedbuildingindicator] 3\n",
       "\\item[floodzone] 33\n",
       "\\item[locationofcontents] 7\n",
       "\\item[postfirmconstructionindicator] 3\n",
       "\\item[primaryresidenceindicator] 3\n",
       "\\end{description*}\n"
      ],
      "text/markdown": [
       "condominiumindicator\n",
       ":   6construction\n",
       ":   3elevatedbuildingindicator\n",
       ":   3floodzone\n",
       ":   33locationofcontents\n",
       ":   7postfirmconstructionindicator\n",
       ":   3primaryresidenceindicator\n",
       ":   3\n",
       "\n"
      ],
      "text/plain": [
       "         condominiumindicator                  construction \n",
       "                            6                             3 \n",
       "    elevatedbuildingindicator                     floodzone \n",
       "                            3                            33 \n",
       "           locationofcontents postfirmconstructionindicator \n",
       "                            7                             3 \n",
       "    primaryresidenceindicator \n",
       "                            3 "
      ]
     },
     "metadata": {},
     "output_type": "display_data"
    }
   ],
   "source": [
    "## Observe unique value in each column\n",
    "categorical_col <- policy_df[c(\"condominiumindicator\", \"construction\", \"elevatedbuildingindicator\", \"floodzone\", \"locationofcontents\", \"postfirmconstructionindicator\", \"primaryresidenceindicator\")]\n",
    "count_unique <- rapply(categorical_col, function(x) length(unique(x)))\n",
    "count_unique"
   ]
  },
  {
   "cell_type": "code",
   "execution_count": 21,
   "id": "236bbb87",
   "metadata": {},
   "outputs": [
    {
     "data": {
      "text/html": [
       "<style>\n",
       ".list-inline {list-style: none; margin:0; padding: 0}\n",
       ".list-inline>li {display: inline-block}\n",
       ".list-inline>li:not(:last-child)::after {content: \"\\00b7\"; padding: 0 .5ex}\n",
       "</style>\n",
       "<ol class=list-inline><li>'Lowest floor only above ground level (No basement/enclosure/crawlspace/subgrade crawlspace)'</li><li>NA</li><li>'Lowest floor above ground level and higher floors (No basement/enclosure/crawlspace/subgrade crawlspace)'</li><li>'Basement/Enclosure/Crawlspace/Subgrade Crawlspace and above'</li><li>'Above ground level more than one full floor'</li><li>'Manufactured (mobile) home or travel trailer on foundation'</li><li>'Basement/Enclosure/Crawlspace/Subgrade Crawlspace only'</li></ol>\n"
      ],
      "text/latex": [
       "\\begin{enumerate*}\n",
       "\\item 'Lowest floor only above ground level (No basement/enclosure/crawlspace/subgrade crawlspace)'\n",
       "\\item NA\n",
       "\\item 'Lowest floor above ground level and higher floors (No basement/enclosure/crawlspace/subgrade crawlspace)'\n",
       "\\item 'Basement/Enclosure/Crawlspace/Subgrade Crawlspace and above'\n",
       "\\item 'Above ground level more than one full floor'\n",
       "\\item 'Manufactured (mobile) home or travel trailer on foundation'\n",
       "\\item 'Basement/Enclosure/Crawlspace/Subgrade Crawlspace only'\n",
       "\\end{enumerate*}\n"
      ],
      "text/markdown": [
       "1. 'Lowest floor only above ground level (No basement/enclosure/crawlspace/subgrade crawlspace)'\n",
       "2. NA\n",
       "3. 'Lowest floor above ground level and higher floors (No basement/enclosure/crawlspace/subgrade crawlspace)'\n",
       "4. 'Basement/Enclosure/Crawlspace/Subgrade Crawlspace and above'\n",
       "5. 'Above ground level more than one full floor'\n",
       "6. 'Manufactured (mobile) home or travel trailer on foundation'\n",
       "7. 'Basement/Enclosure/Crawlspace/Subgrade Crawlspace only'\n",
       "\n",
       "\n"
      ],
      "text/plain": [
       "[1] \"Lowest floor only above ground level (No basement/enclosure/crawlspace/subgrade crawlspace)\"             \n",
       "[2] NA                                                                                                        \n",
       "[3] \"Lowest floor above ground level and higher floors (No basement/enclosure/crawlspace/subgrade crawlspace)\"\n",
       "[4] \"Basement/Enclosure/Crawlspace/Subgrade Crawlspace and above\"                                             \n",
       "[5] \"Above ground level more than one full floor\"                                                             \n",
       "[6] \"Manufactured (mobile) home or travel trailer on foundation\"                                              \n",
       "[7] \"Basement/Enclosure/Crawlspace/Subgrade Crawlspace only\"                                                  "
      ]
     },
     "metadata": {},
     "output_type": "display_data"
    },
    {
     "data": {
      "text/html": [
       "<style>\n",
       ".list-inline {list-style: none; margin:0; padding: 0}\n",
       ".list-inline>li {display: inline-block}\n",
       ".list-inline>li:not(:last-child)::after {content: \"\\00b7\"; padding: 0 .5ex}\n",
       "</style>\n",
       "<ol class=list-inline><li>'N'</li><li>'U'</li><li>'L'</li><li>'H'</li><li>'A'</li><li>NA</li></ol>\n"
      ],
      "text/latex": [
       "\\begin{enumerate*}\n",
       "\\item 'N'\n",
       "\\item 'U'\n",
       "\\item 'L'\n",
       "\\item 'H'\n",
       "\\item 'A'\n",
       "\\item NA\n",
       "\\end{enumerate*}\n"
      ],
      "text/markdown": [
       "1. 'N'\n",
       "2. 'U'\n",
       "3. 'L'\n",
       "4. 'H'\n",
       "5. 'A'\n",
       "6. NA\n",
       "\n",
       "\n"
      ],
      "text/plain": [
       "[1] \"N\" \"U\" \"L\" \"H\" \"A\" NA "
      ]
     },
     "metadata": {},
     "output_type": "display_data"
    },
    {
     "data": {
      "text/html": [
       "<style>\n",
       ".list-inline {list-style: none; margin:0; padding: 0}\n",
       ".list-inline>li {display: inline-block}\n",
       ".list-inline>li:not(:last-child)::after {content: \"\\00b7\"; padding: 0 .5ex}\n",
       "</style>\n",
       "<ol class=list-inline><li>'N'</li><li>'Y'</li><li>NA</li></ol>\n"
      ],
      "text/latex": [
       "\\begin{enumerate*}\n",
       "\\item 'N'\n",
       "\\item 'Y'\n",
       "\\item NA\n",
       "\\end{enumerate*}\n"
      ],
      "text/markdown": [
       "1. 'N'\n",
       "2. 'Y'\n",
       "3. NA\n",
       "\n",
       "\n"
      ],
      "text/plain": [
       "[1] \"N\" \"Y\" NA "
      ]
     },
     "metadata": {},
     "output_type": "display_data"
    },
    {
     "data": {
      "text/html": [
       "<style>\n",
       ".list-inline {list-style: none; margin:0; padding: 0}\n",
       ".list-inline>li {display: inline-block}\n",
       ".list-inline>li:not(:last-child)::after {content: \"\\00b7\"; padding: 0 .5ex}\n",
       "</style>\n",
       "<ol class=list-inline><li>'N'</li><li>'Y'</li><li>NA</li></ol>\n"
      ],
      "text/latex": [
       "\\begin{enumerate*}\n",
       "\\item 'N'\n",
       "\\item 'Y'\n",
       "\\item NA\n",
       "\\end{enumerate*}\n"
      ],
      "text/markdown": [
       "1. 'N'\n",
       "2. 'Y'\n",
       "3. NA\n",
       "\n",
       "\n"
      ],
      "text/plain": [
       "[1] \"N\" \"Y\" NA "
      ]
     },
     "metadata": {},
     "output_type": "display_data"
    },
    {
     "data": {
      "text/html": [
       "<style>\n",
       ".list-inline {list-style: none; margin:0; padding: 0}\n",
       ".list-inline>li {display: inline-block}\n",
       ".list-inline>li:not(:last-child)::after {content: \"\\00b7\"; padding: 0 .5ex}\n",
       "</style>\n",
       "<ol class=list-inline><li>'Y'</li><li>'N'</li><li>NA</li></ol>\n"
      ],
      "text/latex": [
       "\\begin{enumerate*}\n",
       "\\item 'Y'\n",
       "\\item 'N'\n",
       "\\item NA\n",
       "\\end{enumerate*}\n"
      ],
      "text/markdown": [
       "1. 'Y'\n",
       "2. 'N'\n",
       "3. NA\n",
       "\n",
       "\n"
      ],
      "text/plain": [
       "[1] \"Y\" \"N\" NA "
      ]
     },
     "metadata": {},
     "output_type": "display_data"
    },
    {
     "data": {
      "text/html": [
       "<style>\n",
       ".list-inline {list-style: none; margin:0; padding: 0}\n",
       ".list-inline>li {display: inline-block}\n",
       ".list-inline>li:not(:last-child)::after {content: \"\\00b7\"; padding: 0 .5ex}\n",
       "</style>\n",
       "<ol class=list-inline><li>'Y'</li><li>'N'</li><li>NA</li></ol>\n"
      ],
      "text/latex": [
       "\\begin{enumerate*}\n",
       "\\item 'Y'\n",
       "\\item 'N'\n",
       "\\item NA\n",
       "\\end{enumerate*}\n"
      ],
      "text/markdown": [
       "1. 'Y'\n",
       "2. 'N'\n",
       "3. NA\n",
       "\n",
       "\n"
      ],
      "text/plain": [
       "[1] \"Y\" \"N\" NA "
      ]
     },
     "metadata": {},
     "output_type": "display_data"
    }
   ],
   "source": [
    "unique(policy_df$locationofcontents)\n",
    "unique(policy_df$condominiumindicator)\n",
    "unique(policy_df$construction)\n",
    "unique(policy_df$elevatedbuildingindicator)\n",
    "unique(policy_df$postfirmconstructionindicator)\n",
    "unique(policy_df$primaryresidenceindicator)"
   ]
  },
  {
   "cell_type": "code",
   "execution_count": 23,
   "id": "b14f6e48",
   "metadata": {},
   "outputs": [],
   "source": [
    "#condominum indicator for what type of condominium, 95% for not a condominium (N), 3% for U and 3% for other\n",
    "policy_df$not_condo=ifelse(policy_df$condominiumindicator=='N',1,0)\n",
    "policy_df$u_condo=ifelse(policy_df$condominiumindicator=='U',1,0)\n",
    "\n",
    "# Construction\n",
    "policy_df$construction=ifelse(policy_df$construction=='Y',1,0)\n",
    "\n",
    "#imputing the deductibles column\n",
    "policy_df$deductibleamountincontentscoverage[policy_df$deductibleamountincontentscoverage=='0']=500\n",
    "policy_df$deductibleamountincontentscoverage[policy_df$deductibleamountincontentscoverage=='1']=1000\n",
    "policy_df$deductibleamountincontentscoverage[policy_df$deductibleamountincontentscoverage=='2']=2000\n",
    "policy_df$deductibleamountincontentscoverage[policy_df$deductibleamountincontentscoverage=='3']=3000\n",
    "policy_df$deductibleamountincontentscoverage[policy_df$deductibleamountincontentscoverage=='4']=4000\n",
    "policy_df$deductibleamountincontentscoverage[policy_df$deductibleamountincontentscoverage=='5']=5000\n",
    "policy_df$deductibleamountincontentscoverage[policy_df$deductibleamountincontentscoverage=='9']=750\n",
    "policy_df$deductibleamountincontentscoverage[policy_df$deductibleamountincontentscoverage=='A']=10000\n",
    "policy_df$deductibleamountincontentscoverage[policy_df$deductibleamountincontentscoverage=='B']=15000\n",
    "policy_df$deductibleamountincontentscoverage[policy_df$deductibleamountincontentscoverage=='C']=20000\n",
    "policy_df$deductibleamountincontentscoverage[policy_df$deductibleamountincontentscoverage=='D']=25000\n",
    "policy_df$deductibleamountincontentscoverage[policy_df$deductibleamountincontentscoverage=='E']=50000\n",
    "policy_df$deductibleamountincontentscoverage[policy_df$deductibleamountincontentscoverage=='F']=1250\n",
    "policy_df$deductibleamountincontentscoverage[policy_df$deductibleamountincontentscoverage=='G']=1500\n",
    "\n",
    "policy_df$deductibleamountincontentscoverage[is.na(policy_df$deductibleamountincontentscoverage)]=0\n",
    "\n",
    "\n",
    "policy_df$deductibleamountinbuildingcoverage[policy_df$deductibleamountinbuildingcoverage=='0']=500\n",
    "policy_df$deductibleamountinbuildingcoverage[policy_df$deductibleamountinbuildingcoverage=='1']=1000\n",
    "policy_df$deductibleamountinbuildingcoverage[policy_df$deductibleamountinbuildingcoverage=='2']=2000\n",
    "policy_df$deductibleamountinbuildingcoverage[policy_df$deductibleamountinbuildingcoverage=='3']=3000\n",
    "policy_df$deductibleamountinbuildingcoverage[policy_df$deductibleamountinbuildingcoverage=='4']=4000\n",
    "policy_df$deductibleamountinbuildingcoverage[policy_df$deductibleamountinbuildingcoverage=='5']=5000\n",
    "policy_df$deductibleamountinbuildingcoverage[policy_df$deductibleamountinbuildingcoverage=='9']=750\n",
    "policy_df$deductibleamountinbuildingcoverage[policy_df$deductibleamountinbuildingcoverage=='A']=10000\n",
    "policy_df$deductibleamountinbuildingcoverage[policy_df$deductibleamountinbuildingcoverage=='B']=15000\n",
    "policy_df$deductibleamountinbuildingcoverage[policy_df$deductibleamountinbuildingcoverage=='C']=20000\n",
    "policy_df$deductibleamountinbuildingcoverage[policy_df$deductibleamountinbuildingcoverage=='D']=25000\n",
    "policy_df$deductibleamountinbuildingcoverage[policy_df$deductibleamountinbuildingcoverage=='E']=50000\n",
    "policy_df$deductibleamountinbuildingcoverage[policy_df$deductibleamountinbuildingcoverage=='F']=1250\n",
    "policy_df$deductibleamountinbuildingcoverage[policy_df$deductibleamountinbuildingcoverage=='G']=1500\n",
    "\n",
    "policy_df$deductibleamountinbuildingcoverage[is.na(policy_df$deductibleamountinbuildingcoverage)]=0\n",
    "\n",
    "#elevatedbuildingindicator\n",
    "policy_df$elevatedbuildingindicator=ifelse(policy_df$elevatedbuildingindicator=='Y',1,0)\n",
    "#postfirmconstructionindicator\n",
    "policy_df$postfirmconstructionindicator=ifelse(policy_df$postfirmconstructionindicator=='Y',1,0)\n",
    "#primaryresidenceindicator\n",
    "policy_df$primaryresidenceindicator=ifelse(policy_df$primaryresidenceindicator=='Y',1,0)\n",
    "\n",
    "\n",
    "#imputing locationofcontents with mode\n",
    "val <- unique(policy_df$locationofcontents[!is.na(policy_df$locationofcontents)])                   \n",
    "my_mode <- val[which.max(tabulate(match(policy_df$locationofcontents, val)))]\n",
    "\n",
    "# making 2 dataframes\n",
    "policy_df0 = policy_df # 0 imputation\n",
    "policy_dfmode = policy_df #mode imputation\n",
    "\n",
    "#imputing locationofcontents with 0\n",
    "policy_df0$locationofcontents[is.na(policy_df0$locationofcontents)]=0\n",
    "\n",
    "#imputing locationofcontents with mode\n",
    "policy_dfmode$locationofcontents[is.na(policy_dfmode$locationofcontents)]=my_mode\n",
    "\n",
    "#Factor the locationofcontents column \n",
    "policy_df0$lowerflooronly=ifelse(policy_df0$locationofcontents=='Lowest floor only above ground level (No basement/enclosure/crawlspace/subgrade crawlspace)',1,0)\n",
    "policy_df0$upperandlowerfloors=ifelse(policy_df0$locationofcontents=='Lowest floor above ground level and higher floors (No basement/enclosure/crawlspace/subgrade crawlspace)',1,0)\n",
    "policy_df0$basementandabove=ifelse(policy_df0$locationofcontents=='Basement/Enclosure/Crawlspace/Subgrade Crawlspace and above',1,0)\n",
    "policy_df0$basementonly=ifelse(policy_df0$locationofcontents=='Basement/Enclosure/Crawlspace/Subgrade Crawlspace only',1,0)\n",
    "policy_df0$morethan1floor=ifelse(policy_df0$locationofcontents=='Above ground level more than one full floor',1,0)\n",
    "policy_df0$mobilehomeortrailer=ifelse(policy_df0$locationofcontents==' Manufactured (mobile) home or travel trailer on foundation',1,0)\n",
    "\n",
    "#repeat the above for df_policymode\n",
    "#factor the locationofcontents column \n",
    "policy_dfmode$lowerflooronly=ifelse(policy_dfmode$locationofcontents=='Lowest floor only above ground level (No basement/enclosure/crawlspace/subgrade crawlspace)',1,0)\n",
    "policy_dfmode$upperandlowerfloors=ifelse(policy_dfmode$locationofcontents=='Lowest floor above ground level and higher floors (No basement/enclosure/crawlspace/subgrade crawlspace)',1,0)\n",
    "policy_dfmode$basementandabove=ifelse(policy_dfmode$locationofcontents=='Basement/Enclosure/Crawlspace/Subgrade Crawlspace and above',1,0)\n",
    "policy_dfmode$basementonly=ifelse(policy_dfmode$locationofcontents=='Basement/Enclosure/Crawlspace/Subgrade Crawlspace only',1,0)\n",
    "policy_dfmode$morethan1floor=ifelse(policy_dfmode$locationofcontents=='Above ground level more than one full floor',1,0)\n",
    "policy_dfmode$mobilehomeortrailer=ifelse(policy_dfmode$locationofcontents==' Manufactured (mobile) home or travel trailer on foundation',1,0)"
   ]
  },
  {
   "cell_type": "code",
   "execution_count": 24,
   "id": "dd28dfdf",
   "metadata": {},
   "outputs": [
    {
     "data": {
      "text/html": [
       "<style>\n",
       ".dl-inline {width: auto; margin:0; padding: 0}\n",
       ".dl-inline>dt, .dl-inline>dd {float: none; width: auto; display: inline-block}\n",
       ".dl-inline>dt::after {content: \":\\0020\"; padding-right: .5ex}\n",
       ".dl-inline>dt:not(:first-of-type) {padding-left: .5ex}\n",
       "</style><dl class=dl-inline><dt>basementenclosurecrawlspacetype</dt><dd>53</dd><dt>censustract</dt><dd>15177</dd><dt>condominiumindicator</dt><dd>1</dd><dt>construction</dt><dd>1</dd><dt>crsdiscount</dt><dd>0</dd><dt>deductibleamountinbuildingcoverage</dt><dd>0</dd><dt>deductibleamountincontentscoverage</dt><dd>0</dd><dt>elevatedbuildingindicator</dt><dd>17</dd><dt>elevationdifference</dt><dd>0</dd><dt>federalpolicyfee</dt><dd>0</dd><dt>floodzone</dt><dd>7307</dd><dt>latitude</dt><dd>15177</dd><dt>locationofcontents</dt><dd>0</dd><dt>longitude</dt><dd>15177</dd><dt>numberoffloorsininsuredbuilding</dt><dd>7315</dd><dt>occupancytype</dt><dd>1</dd><dt>originalconstructiondate</dt><dd>7565</dd><dt>originalnbdate</dt><dd>0</dd><dt>policycost</dt><dd>0</dd><dt>policycount</dt><dd>0</dd><dt>policyeffectivedate</dt><dd>0</dd><dt>policyterminationdate</dt><dd>0</dd><dt>policytermindicator</dt><dd>0</dd><dt>postfirmconstructionindicator</dt><dd>7565</dd><dt>primaryresidenceindicator</dt><dd>1481</dd><dt>reportedzipcode</dt><dd>0</dd><dt>ratemethod</dt><dd>4580</dd><dt>totalbuildinginsurancecoverage</dt><dd>0</dd><dt>totalcontentsinsurancecoverage</dt><dd>0</dd><dt>totalinsurancepremiumofthepolicy</dt><dd>0</dd><dt>not_condo</dt><dd>1</dd><dt>u_condo</dt><dd>1</dd><dt>lowerflooronly</dt><dd>0</dd><dt>upperandlowerfloors</dt><dd>0</dd><dt>basementandabove</dt><dd>0</dd><dt>basementonly</dt><dd>0</dd><dt>morethan1floor</dt><dd>0</dd><dt>mobilehomeortrailer</dt><dd>0</dd></dl>\n"
      ],
      "text/latex": [
       "\\begin{description*}\n",
       "\\item[basementenclosurecrawlspacetype] 53\n",
       "\\item[censustract] 15177\n",
       "\\item[condominiumindicator] 1\n",
       "\\item[construction] 1\n",
       "\\item[crsdiscount] 0\n",
       "\\item[deductibleamountinbuildingcoverage] 0\n",
       "\\item[deductibleamountincontentscoverage] 0\n",
       "\\item[elevatedbuildingindicator] 17\n",
       "\\item[elevationdifference] 0\n",
       "\\item[federalpolicyfee] 0\n",
       "\\item[floodzone] 7307\n",
       "\\item[latitude] 15177\n",
       "\\item[locationofcontents] 0\n",
       "\\item[longitude] 15177\n",
       "\\item[numberoffloorsininsuredbuilding] 7315\n",
       "\\item[occupancytype] 1\n",
       "\\item[originalconstructiondate] 7565\n",
       "\\item[originalnbdate] 0\n",
       "\\item[policycost] 0\n",
       "\\item[policycount] 0\n",
       "\\item[policyeffectivedate] 0\n",
       "\\item[policyterminationdate] 0\n",
       "\\item[policytermindicator] 0\n",
       "\\item[postfirmconstructionindicator] 7565\n",
       "\\item[primaryresidenceindicator] 1481\n",
       "\\item[reportedzipcode] 0\n",
       "\\item[ratemethod] 4580\n",
       "\\item[totalbuildinginsurancecoverage] 0\n",
       "\\item[totalcontentsinsurancecoverage] 0\n",
       "\\item[totalinsurancepremiumofthepolicy] 0\n",
       "\\item[not\\textbackslash{}\\_condo] 1\n",
       "\\item[u\\textbackslash{}\\_condo] 1\n",
       "\\item[lowerflooronly] 0\n",
       "\\item[upperandlowerfloors] 0\n",
       "\\item[basementandabove] 0\n",
       "\\item[basementonly] 0\n",
       "\\item[morethan1floor] 0\n",
       "\\item[mobilehomeortrailer] 0\n",
       "\\end{description*}\n"
      ],
      "text/markdown": [
       "basementenclosurecrawlspacetype\n",
       ":   53censustract\n",
       ":   15177condominiumindicator\n",
       ":   1construction\n",
       ":   1crsdiscount\n",
       ":   0deductibleamountinbuildingcoverage\n",
       ":   0deductibleamountincontentscoverage\n",
       ":   0elevatedbuildingindicator\n",
       ":   17elevationdifference\n",
       ":   0federalpolicyfee\n",
       ":   0floodzone\n",
       ":   7307latitude\n",
       ":   15177locationofcontents\n",
       ":   0longitude\n",
       ":   15177numberoffloorsininsuredbuilding\n",
       ":   7315occupancytype\n",
       ":   1originalconstructiondate\n",
       ":   7565originalnbdate\n",
       ":   0policycost\n",
       ":   0policycount\n",
       ":   0policyeffectivedate\n",
       ":   0policyterminationdate\n",
       ":   0policytermindicator\n",
       ":   0postfirmconstructionindicator\n",
       ":   7565primaryresidenceindicator\n",
       ":   1481reportedzipcode\n",
       ":   0ratemethod\n",
       ":   4580totalbuildinginsurancecoverage\n",
       ":   0totalcontentsinsurancecoverage\n",
       ":   0totalinsurancepremiumofthepolicy\n",
       ":   0not_condo\n",
       ":   1u_condo\n",
       ":   1lowerflooronly\n",
       ":   0upperandlowerfloors\n",
       ":   0basementandabove\n",
       ":   0basementonly\n",
       ":   0morethan1floor\n",
       ":   0mobilehomeortrailer\n",
       ":   0\n",
       "\n"
      ],
      "text/plain": [
       "   basementenclosurecrawlspacetype                        censustract \n",
       "                                53                              15177 \n",
       "              condominiumindicator                       construction \n",
       "                                 1                                  1 \n",
       "                       crsdiscount deductibleamountinbuildingcoverage \n",
       "                                 0                                  0 \n",
       "deductibleamountincontentscoverage          elevatedbuildingindicator \n",
       "                                 0                                 17 \n",
       "               elevationdifference                   federalpolicyfee \n",
       "                                 0                                  0 \n",
       "                         floodzone                           latitude \n",
       "                              7307                              15177 \n",
       "                locationofcontents                          longitude \n",
       "                                 0                              15177 \n",
       "   numberoffloorsininsuredbuilding                      occupancytype \n",
       "                              7315                                  1 \n",
       "          originalconstructiondate                     originalnbdate \n",
       "                              7565                                  0 \n",
       "                        policycost                        policycount \n",
       "                                 0                                  0 \n",
       "               policyeffectivedate              policyterminationdate \n",
       "                                 0                                  0 \n",
       "               policytermindicator      postfirmconstructionindicator \n",
       "                                 0                               7565 \n",
       "         primaryresidenceindicator                    reportedzipcode \n",
       "                              1481                                  0 \n",
       "                        ratemethod     totalbuildinginsurancecoverage \n",
       "                              4580                                  0 \n",
       "    totalcontentsinsurancecoverage   totalinsurancepremiumofthepolicy \n",
       "                                 0                                  0 \n",
       "                         not_condo                            u_condo \n",
       "                                 1                                  1 \n",
       "                    lowerflooronly                upperandlowerfloors \n",
       "                                 0                                  0 \n",
       "                  basementandabove                       basementonly \n",
       "                                 0                                  0 \n",
       "                    morethan1floor                mobilehomeortrailer \n",
       "                                 0                                  0 "
      ]
     },
     "metadata": {},
     "output_type": "display_data"
    }
   ],
   "source": [
    "# Number of NA values in each column\n",
    "colSums(is.na(policy_df0))"
   ]
  },
  {
   "cell_type": "code",
   "execution_count": 25,
   "id": "7f22fe22",
   "metadata": {},
   "outputs": [
    {
     "name": "stdout",
     "output_type": "stream",
     "text": [
      "tibble [2,029,540 x 36] (S3: tbl_df/tbl/data.frame)\n",
      " $ basementenclosurecrawlspacetype   : chr [1:2029540] \"0\" \"0\" \"0\" \"0\" ...\n",
      " $ censustract                       : chr [1:2029540] \"48201340800\" \"48201553200\" \"48201211700\" \"48201233500\" ...\n",
      " $ construction                      : num [1:2029540] 0 0 0 0 0 0 0 0 0 0 ...\n",
      " $ crsdiscount                       : chr [1:2029540] \"0.00\" \"0.10\" \"0.20\" \"0.00\" ...\n",
      " $ deductibleamountinbuildingcoverage: chr [1:2029540] \"1000\" \"1000\" \"1000\" \"500\" ...\n",
      " $ deductibleamountincontentscoverage: chr [1:2029540] \"1000\" \"1000\" \"1000\" \"500\" ...\n",
      " $ elevatedbuildingindicator         : num [1:2029540] 0 0 0 0 0 0 0 0 0 0 ...\n",
      " $ elevationdifference               : chr [1:2029540] \"999\" \"999\" \"999\" \"999\" ...\n",
      " $ federalpolicyfee                  : chr [1:2029540] \"13\" \"35\" \"35\" \"13\" ...\n",
      " $ floodzone                         : chr [1:2029540] \"X\" \"AE\" \"AE\" \"X\" ...\n",
      " $ latitude                          : chr [1:2029540] \"29.6\" \"30.0\" \"29.8\" \"29.8\" ...\n",
      " $ longitude                         : chr [1:2029540] \"-95.1\" \"-95.5\" \"-95.3\" \"-95.2\" ...\n",
      " $ numberoffloorsininsuredbuilding   : chr [1:2029540] \"2\" \"2\" \"1\" \"1\" ...\n",
      " $ occupancytype                     : chr [1:2029540] \"1\" \"1\" \"1\" \"1\" ...\n",
      " $ originalconstructiondate          : chr [1:2029540] \"1988-07-15\" \"1973-01-01\" \"1970-01-01\" \"1958-01-01\" ...\n",
      " $ originalnbdate                    : chr [1:2029540] \"2009-11-23\" \"2002-11-02\" \"2002-08-07\" \"2006-07-02\" ...\n",
      " $ policycost                        : chr [1:2029540] \"348\" \"1698\" \"920\" \"230\" ...\n",
      " $ policycount                       : chr [1:2029540] \"1\" \"1\" \"1\" \"1\" ...\n",
      " $ policyeffectivedate               : chr [1:2029540] \"2009-11-23\" \"2009-11-02\" \"2009-08-07\" \"2009-07-02\" ...\n",
      " $ policyterminationdate             : chr [1:2029540] \"2010-11-23\" \"2010-11-02\" \"2010-04-11\" \"2010-07-02\" ...\n",
      " $ policytermindicator               : chr [1:2029540] \"1\" \"1\" \"1\" \"1\" ...\n",
      " $ postfirmconstructionindicator     : num [1:2029540] 0 0 0 0 0 0 0 0 0 0 ...\n",
      " $ primaryresidenceindicator         : num [1:2029540] 0 0 0 0 0 0 0 0 0 0 ...\n",
      " $ reportedzipcode                   : chr [1:2029540] \"77062\" \"77090\" \"77026\" \"77029\" ...\n",
      " $ ratemethod                        : chr [1:2029540] \"7\" \"1\" \"1\" \"7\" ...\n",
      " $ totalbuildinginsurancecoverage    : chr [1:2029540] \"250000\" \"185200\" \"116100\" \"75000\" ...\n",
      " $ totalcontentsinsurancecoverage    : chr [1:2029540] \"100000\" \"44600\" \"30500\" \"30000\" ...\n",
      " $ totalinsurancepremiumofthepolicy  : chr [1:2029540] \"335\" \"1663\" \"885\" \"217\" ...\n",
      " $ not_condo                         : num [1:2029540] 1 1 1 1 1 1 1 1 1 1 ...\n",
      " $ u_condo                           : num [1:2029540] 0 0 0 0 0 0 0 0 0 0 ...\n",
      " $ lowerflooronly                    : num [1:2029540] 1 0 1 1 0 1 0 0 1 0 ...\n",
      " $ upperandlowerfloors               : num [1:2029540] 0 0 0 0 1 0 1 0 0 1 ...\n",
      " $ basementandabove                  : num [1:2029540] 0 0 0 0 0 0 0 0 0 0 ...\n",
      " $ basementonly                      : num [1:2029540] 0 0 0 0 0 0 0 0 0 0 ...\n",
      " $ morethan1floor                    : num [1:2029540] 0 0 0 0 0 0 0 0 0 0 ...\n",
      " $ mobilehomeortrailer               : num [1:2029540] 0 0 0 0 0 0 0 0 0 0 ...\n"
     ]
    }
   ],
   "source": [
    "# Continue remove category variables which have been replaced as above\n",
    "\n",
    "df = subset(policy_df0,select=-c(condominiumindicator, locationofcontents))\n",
    "dfmode = subset(policy_dfmode,select=-c(condominiumindicator, locationofcontents))\n",
    "## Type of data in all columns\n",
    "str(df)"
   ]
  },
  {
   "cell_type": "code",
   "execution_count": 26,
   "id": "c009c185",
   "metadata": {},
   "outputs": [
    {
     "name": "stderr",
     "output_type": "stream",
     "text": [
      "Warning message:\n",
      "\"`funs()` was deprecated in dplyr 0.8.0.\n",
      "Please use a list of either functions or lambdas: \n",
      "\n",
      "  # Simple named list: \n",
      "  list(mean = mean, median = median)\n",
      "\n",
      "  # Auto named with `tibble::lst()`: \n",
      "  tibble::lst(mean, median)\n",
      "\n",
      "  # Using lambdas\n",
      "  list(~ mean(., trim = .2), ~ median(., na.rm = TRUE))\n",
      "\u001b[90mThis warning is displayed once every 8 hours.\u001b[39m\n",
      "\u001b[90mCall `lifecycle::last_lifecycle_warnings()` to see where this warning was generated.\u001b[39m\"\n"
     ]
    }
   ],
   "source": [
    "# Convert all date from numeric to date format\n",
    "date_cols <- c(\"originalconstructiondate\", \"originalnbdate\", \"policyeffectivedate\", \"policyterminationdate\")\n",
    "df1 <- df %>%\n",
    "   mutate_at(vars(all_of(date_cols)), funs(as.Date(., \"%Y-%m-%d\")))\n",
    "dfmode1 <- dfmode %>%\n",
    "   mutate_at(vars(all_of(date_cols)), funs(as.Date(., \"%Y-%m-%d\")))"
   ]
  },
  {
   "cell_type": "code",
   "execution_count": 27,
   "id": "0937307b",
   "metadata": {},
   "outputs": [
    {
     "name": "stderr",
     "output_type": "stream",
     "text": [
      "Warning message in apply(df2[, chars], 2, as.numeric):\n",
      "\"NAs introduced by coercion\"\n"
     ]
    },
    {
     "name": "stdout",
     "output_type": "stream",
     "text": [
      "tibble [2,029,540 x 37] (S3: tbl_df/tbl/data.frame)\n",
      " $ basementenclosurecrawlspacetype   : num [1:2029540] 0 0 0 0 0 0 0 2 0 0 ...\n",
      " $ censustract                       : num [1:2029540] 4.82e+10 4.82e+10 4.82e+10 4.82e+10 4.82e+10 ...\n",
      " $ construction                      : num [1:2029540] 0 0 0 0 0 0 0 0 0 0 ...\n",
      " $ crsdiscount                       : num [1:2029540] 0 0.1 0.2 0 0 0 0 0.25 0 0 ...\n",
      " $ deductibleamountinbuildingcoverage: num [1:2029540] 1000 1000 1000 500 1000 1000 500 1000 500 500 ...\n",
      " $ deductibleamountincontentscoverage: num [1:2029540] 1000 1000 1000 500 1000 1000 500 500 500 500 ...\n",
      " $ elevatedbuildingindicator         : num [1:2029540] 0 0 0 0 0 0 0 0 0 0 ...\n",
      " $ elevationdifference               : num [1:2029540] 999 999 999 999 999 999 999 2 999 999 ...\n",
      " $ federalpolicyfee                  : num [1:2029540] 13 35 35 13 13 13 13 35 13 13 ...\n",
      " $ latitude                          : num [1:2029540] 29.6 30 29.8 29.8 29.8 29.6 29.8 29.8 30 29.8 ...\n",
      " $ longitude                         : num [1:2029540] -95.1 -95.5 -95.3 -95.2 -95.4 -95.5 -95.6 -95.4 -95.4 -95.5 ...\n",
      " $ numberoffloorsininsuredbuilding   : num [1:2029540] 2 2 1 1 2 1 2 2 1 2 ...\n",
      " $ occupancytype                     : num [1:2029540] 1 1 1 1 1 1 1 1 1 1 ...\n",
      " $ originalconstructiondate          : Date[1:2029540], format: \"1988-07-15\" \"1973-01-01\" ...\n",
      " $ originalnbdate                    : Date[1:2029540], format: \"2009-11-23\" \"2002-11-02\" ...\n",
      " $ policycount                       : num [1:2029540] 1 1 1 1 1 1 1 1 1 1 ...\n",
      " $ policyeffectivedate               : Date[1:2029540], format: \"2009-11-23\" \"2009-11-02\" ...\n",
      " $ policyterminationdate             : Date[1:2029540], format: \"2010-11-23\" \"2010-11-02\" ...\n",
      " $ policytermindicator               : num [1:2029540] 1 1 1 1 1 1 1 1 1 1 ...\n",
      " $ postfirmconstructionindicator     : num [1:2029540] 0 0 0 0 0 0 0 0 0 0 ...\n",
      " $ primaryresidenceindicator         : num [1:2029540] 0 0 0 0 0 0 0 0 0 0 ...\n",
      " $ reportedzipcode                   : num [1:2029540] 77062 77090 77026 77029 77018 ...\n",
      " $ ratemethod                        : num [1:2029540] 7 1 1 7 7 7 7 1 7 7 ...\n",
      " $ totalbuildinginsurancecoverage    : num [1:2029540] 250000 185200 116100 75000 250000 ...\n",
      " $ totalcontentsinsurancecoverage    : num [1:2029540] 100000 44600 30500 30000 100000 60000 100000 0 50000 100000 ...\n",
      " $ totalinsurancepremiumofthepolicy  : num [1:2029540] 335 1663 885 217 335 ...\n",
      " $ not_condo                         : num [1:2029540] 1 1 1 1 1 1 1 1 1 1 ...\n",
      " $ u_condo                           : num [1:2029540] 0 0 0 0 0 0 0 0 0 0 ...\n",
      " $ lowerflooronly                    : num [1:2029540] 1 0 1 1 0 1 0 0 1 0 ...\n",
      " $ upperandlowerfloors               : num [1:2029540] 0 0 0 0 1 0 1 0 0 1 ...\n",
      " $ basementandabove                  : num [1:2029540] 0 0 0 0 0 0 0 0 0 0 ...\n",
      " $ basementonly                      : num [1:2029540] 0 0 0 0 0 0 0 0 0 0 ...\n",
      " $ morethan1floor                    : num [1:2029540] 0 0 0 0 0 0 0 0 0 0 ...\n",
      " $ mobilehomeortrailer               : num [1:2029540] 0 0 0 0 0 0 0 0 0 0 ...\n",
      " $ floodzone_highrisk                : num [1:2029540] 0 1 1 0 0 0 0 1 0 0 ...\n",
      " $ floodzone_modrisk                 : num [1:2029540] 1 0 0 1 1 1 1 0 1 1 ...\n",
      " $ floodzone_undetermined            : num [1:2029540] 0 0 0 0 0 0 0 0 0 0 ...\n"
     ]
    },
    {
     "name": "stderr",
     "output_type": "stream",
     "text": [
      "Warning message in apply(dfmode2[, chars], 2, as.numeric):\n",
      "\"NAs introduced by coercion\"\n"
     ]
    },
    {
     "name": "stdout",
     "output_type": "stream",
     "text": [
      "tibble [2,029,540 x 37] (S3: tbl_df/tbl/data.frame)\n",
      " $ basementenclosurecrawlspacetype   : num [1:2029540] 0 0 0 0 0 0 0 2 0 0 ...\n",
      " $ censustract                       : num [1:2029540] 4.82e+10 4.82e+10 4.82e+10 4.82e+10 4.82e+10 ...\n",
      " $ construction                      : num [1:2029540] 0 0 0 0 0 0 0 0 0 0 ...\n",
      " $ crsdiscount                       : num [1:2029540] 0 0.1 0.2 0 0 0 0 0.25 0 0 ...\n",
      " $ deductibleamountinbuildingcoverage: num [1:2029540] 1000 1000 1000 500 1000 1000 500 1000 500 500 ...\n",
      " $ deductibleamountincontentscoverage: num [1:2029540] 1000 1000 1000 500 1000 1000 500 500 500 500 ...\n",
      " $ elevatedbuildingindicator         : num [1:2029540] 0 0 0 0 0 0 0 0 0 0 ...\n",
      " $ elevationdifference               : num [1:2029540] 999 999 999 999 999 999 999 2 999 999 ...\n",
      " $ federalpolicyfee                  : num [1:2029540] 13 35 35 13 13 13 13 35 13 13 ...\n",
      " $ latitude                          : num [1:2029540] 29.6 30 29.8 29.8 29.8 29.6 29.8 29.8 30 29.8 ...\n",
      " $ longitude                         : num [1:2029540] -95.1 -95.5 -95.3 -95.2 -95.4 -95.5 -95.6 -95.4 -95.4 -95.5 ...\n",
      " $ numberoffloorsininsuredbuilding   : num [1:2029540] 2 2 1 1 2 1 2 2 1 2 ...\n",
      " $ occupancytype                     : num [1:2029540] 1 1 1 1 1 1 1 1 1 1 ...\n",
      " $ originalconstructiondate          : Date[1:2029540], format: \"1988-07-15\" \"1973-01-01\" ...\n",
      " $ originalnbdate                    : Date[1:2029540], format: \"2009-11-23\" \"2002-11-02\" ...\n",
      " $ policycount                       : num [1:2029540] 1 1 1 1 1 1 1 1 1 1 ...\n",
      " $ policyeffectivedate               : Date[1:2029540], format: \"2009-11-23\" \"2009-11-02\" ...\n",
      " $ policyterminationdate             : Date[1:2029540], format: \"2010-11-23\" \"2010-11-02\" ...\n",
      " $ policytermindicator               : num [1:2029540] 1 1 1 1 1 1 1 1 1 1 ...\n",
      " $ postfirmconstructionindicator     : num [1:2029540] 0 0 0 0 0 0 0 0 0 0 ...\n",
      " $ primaryresidenceindicator         : num [1:2029540] 0 0 0 0 0 0 0 0 0 0 ...\n",
      " $ reportedzipcode                   : num [1:2029540] 77062 77090 77026 77029 77018 ...\n",
      " $ ratemethod                        : num [1:2029540] 7 1 1 7 7 7 7 1 7 7 ...\n",
      " $ totalbuildinginsurancecoverage    : num [1:2029540] 250000 185200 116100 75000 250000 ...\n",
      " $ totalcontentsinsurancecoverage    : num [1:2029540] 100000 44600 30500 30000 100000 60000 100000 0 50000 100000 ...\n",
      " $ totalinsurancepremiumofthepolicy  : num [1:2029540] 335 1663 885 217 335 ...\n",
      " $ not_condo                         : num [1:2029540] 1 1 1 1 1 1 1 1 1 1 ...\n",
      " $ u_condo                           : num [1:2029540] 0 0 0 0 0 0 0 0 0 0 ...\n",
      " $ lowerflooronly                    : num [1:2029540] 1 0 1 1 0 1 0 0 1 0 ...\n",
      " $ upperandlowerfloors               : num [1:2029540] 0 0 0 0 1 0 1 0 0 1 ...\n",
      " $ basementandabove                  : num [1:2029540] 0 0 0 0 0 0 0 0 0 0 ...\n",
      " $ basementonly                      : num [1:2029540] 0 0 0 0 0 0 0 0 0 0 ...\n",
      " $ morethan1floor                    : num [1:2029540] 0 0 0 0 0 0 0 0 0 0 ...\n",
      " $ mobilehomeortrailer               : num [1:2029540] 0 0 0 0 0 0 0 0 0 0 ...\n",
      " $ floodzone_highrisk                : num [1:2029540] 0 1 1 0 0 0 0 1 0 0 ...\n",
      " $ floodzone_modrisk                 : num [1:2029540] 1 0 0 1 1 1 1 0 1 1 ...\n",
      " $ floodzone_undetermined            : num [1:2029540] 0 0 0 0 0 0 0 0 0 0 ...\n"
     ]
    }
   ],
   "source": [
    "#floodzones\n",
    "# high risk if starts with A or V\n",
    "df1$floodzone_highrisk <- ifelse( (startsWith(df1$floodzone, 'A') | (startsWith(df1$floodzone, 'V'))),1,0)\n",
    "# moderate-to-low risk if starts with B, C or X\n",
    "df1$floodzone_modrisk <- ifelse( (startsWith(df1$floodzone, 'B') | (startsWith(df1$floodzone, 'C')) | (startsWith(df1$floodzone, 'X'))),1,0)\n",
    "# possible but undetermined flood hazards: starts with D\n",
    "df1$floodzone_undetermined <- ifelse( (startsWith(df1$floodzone, 'D')) ,1,0)\n",
    "\n",
    "\n",
    "#repeat for dfmode\n",
    "dfmode1$floodzone_highrisk <- ifelse( (startsWith(dfmode1$floodzone, 'A') | (startsWith(dfmode1$floodzone, 'V'))),1,0)\n",
    "# moderate-to-low risk if starts with B, C or X\n",
    "dfmode1$floodzone_modrisk <- ifelse( (startsWith(dfmode1$floodzone, 'B') | (startsWith(dfmode1$floodzone, 'C')) | (startsWith(dfmode1$floodzone, 'X'))),1,0)\n",
    "# possible but undetermined flood hazards: starts with D\n",
    "dfmode1$floodzone_undetermined <- ifelse( (startsWith(dfmode1$floodzone, 'D')) ,1,0)\n",
    "\n",
    "#identify all character columns\n",
    "df2 <- subset(df1, select = -c(floodzone, policycost))\n",
    "# ratemethod should also be categorical; 1 - Manual 2 - Specific 3 - Alternative 4 - V-Zone Risk Factor Rating Form 5 - Underinsured Condominium Master Policy 6 - Provisional 7 - Preferred Risk Policy (PRPs issued for eligible properties located within a non-Special Flood Hazard Area [non-SFHA]) 8 - Tentative 9 - MPPP Policy \n",
    "\n",
    "chars <- sapply(df2, is.character)\n",
    "\n",
    "#convert all character columns to numeric\n",
    "df2[ , chars] <- as.data.frame(apply(df2[ , chars], 2, as.numeric))\n",
    "str(df2)\n",
    "\n",
    "#repeat for dfmode\n",
    "#identify all character columns\n",
    "dfmode2 <- subset(dfmode1, select = -c(floodzone, policycost))\n",
    "#convert all character columns to numeric\n",
    "dfmode2[ , chars] <- as.data.frame(apply(dfmode2[ , chars], 2, as.numeric))\n",
    "str(df2)"
   ]
  },
  {
   "cell_type": "code",
   "execution_count": 28,
   "id": "4dc78730",
   "metadata": {},
   "outputs": [],
   "source": [
    "rm(policy_df, policy_df0, policy_dfmode)\n",
    "rm(val, my_mode)"
   ]
  },
  {
   "cell_type": "code",
   "execution_count": 29,
   "id": "39256524",
   "metadata": {},
   "outputs": [],
   "source": [
    "# Remove negative values for premium and fee\n",
    "df2 <- df2[df2$federalpolicyfee >= 0, ]\n",
    "df2 <- df2[df2$totalinsurancepremiumofthepolicy >= 0, ]\n",
    "\n",
    "# repeat for dfmode2\n",
    "dfmode2 <- dfmode2[dfmode2$federalpolicyfee >= 0, ]\n",
    "dfmode2 <- dfmode2[dfmode2$totalinsurancepremiumofthepolicy >= 0, ]"
   ]
  },
  {
   "cell_type": "code",
   "execution_count": 30,
   "id": "4fdb01ac",
   "metadata": {},
   "outputs": [
    {
     "name": "stderr",
     "output_type": "stream",
     "text": [
      "`stat_bin()` using `bins = 30`. Pick better value with `binwidth`.\n",
      "\n"
     ]
    },
    {
     "data": {
      "text/html": [
       "<strong>jpeg:</strong> 3"
      ],
      "text/latex": [
       "\\textbf{jpeg:} 3"
      ],
      "text/markdown": [
       "**jpeg:** 3"
      ],
      "text/plain": [
       "jpeg \n",
       "   3 "
      ]
     },
     "metadata": {},
     "output_type": "display_data"
    },
    {
     "data": {
      "text/html": [
       "<strong>png:</strong> 2"
      ],
      "text/latex": [
       "\\textbf{png:} 2"
      ],
      "text/markdown": [
       "**png:** 2"
      ],
      "text/plain": [
       "png \n",
       "  2 "
      ]
     },
     "metadata": {},
     "output_type": "display_data"
    },
    {
     "data": {
      "image/png": "[encoded data removed]",
      "text/plain": [
       "plot without title"
      ]
     },
     "metadata": {
      "image/png": {
       "height": 420,
       "width": 420
      }
     },
     "output_type": "display_data"
    }
   ],
   "source": [
    "ggplot(df2, aes(x = totalinsurancepremiumofthepolicy, fill = cut(x=totalinsurancepremiumofthepolicy, 100))) +\n",
    "  geom_histogram(show.legend = FALSE) +\n",
    "  scale_fill_discrete(h = c(240, 10), c = 120, l = 70) +\n",
    "  theme_minimal() +\n",
    "  labs(x = \"Total Insurance Premium\", y = \"Frequency\") +\n",
    "  ggtitle(\"Histogram of Total Insurance Premium\")\n",
    "\n",
    "dev.copy(jpeg,filename=\"Histogram of Total Insurance Premium_Original.jpg\");\n",
    "dev.off ()"
   ]
  },
  {
   "cell_type": "code",
   "execution_count": 31,
   "id": "2480b953",
   "metadata": {},
   "outputs": [
    {
     "data": {
      "text/plain": [
       "   Min. 1st Qu.  Median    Mean 3rd Qu.    Max. \n",
       "    0.0   321.0   348.0   543.7   421.0 96900.0 "
      ]
     },
     "metadata": {},
     "output_type": "display_data"
    },
    {
     "data": {
      "text/html": [
       "<strong>jpeg:</strong> 3"
      ],
      "text/latex": [
       "\\textbf{jpeg:} 3"
      ],
      "text/markdown": [
       "**jpeg:** 3"
      ],
      "text/plain": [
       "jpeg \n",
       "   3 "
      ]
     },
     "metadata": {},
     "output_type": "display_data"
    },
    {
     "data": {
      "text/html": [
       "<strong>png:</strong> 2"
      ],
      "text/latex": [
       "\\textbf{png:} 2"
      ],
      "text/markdown": [
       "**png:** 2"
      ],
      "text/plain": [
       "png \n",
       "  2 "
      ]
     },
     "metadata": {},
     "output_type": "display_data"
    },
    {
     "data": {
      "image/png": "[encoded data removed]",
      "text/plain": [
       "plot without title"
      ]
     },
     "metadata": {
      "image/png": {
       "height": 420,
       "width": 420
      }
     },
     "output_type": "display_data"
    }
   ],
   "source": [
    "summary(df2$totalinsurancepremiumofthepolicy)\n",
    "ggplot(data = df2, aes(x=totalinsurancepremiumofthepolicy)) + geom_density(alpha = 0.5)+\n",
    "        labs(x = \"Total Insurance Premium\", y = \"Frequency\")+\n",
    "                ggtitle(\"Distribution of Insurance Premium\")\n",
    "\n",
    "dev.copy(jpeg,filename=\"Distribution of Total Insurance Premium_Original.jpg\");\n",
    "dev.off ()"
   ]
  },
  {
   "cell_type": "code",
   "execution_count": 32,
   "id": "843a9d13",
   "metadata": {},
   "outputs": [],
   "source": [
    "# As the number of totalinsurancepremiumofthepolicy > 3000 is only 0.1% then we remove all\n",
    "# rows with the value higher than 5000 to eleminate error\n",
    "\n",
    "df2 <- df2[(df2$totalinsurancepremiumofthepolicy < 3000),]\n",
    "dfmode2 <- dfmode2[(dfmode2$totalinsurancepremiumofthepolicy < 3000),]"
   ]
  },
  {
   "cell_type": "code",
   "execution_count": 33,
   "id": "2e2cd967",
   "metadata": {},
   "outputs": [
    {
     "name": "stderr",
     "output_type": "stream",
     "text": [
      "`stat_bin()` using `bins = 30`. Pick better value with `binwidth`.\n",
      "\n"
     ]
    },
    {
     "data": {
      "text/html": [
       "<strong>jpeg:</strong> 3"
      ],
      "text/latex": [
       "\\textbf{jpeg:} 3"
      ],
      "text/markdown": [
       "**jpeg:** 3"
      ],
      "text/plain": [
       "jpeg \n",
       "   3 "
      ]
     },
     "metadata": {},
     "output_type": "display_data"
    },
    {
     "data": {
      "text/html": [
       "<strong>png:</strong> 2"
      ],
      "text/latex": [
       "\\textbf{png:} 2"
      ],
      "text/markdown": [
       "**png:** 2"
      ],
      "text/plain": [
       "png \n",
       "  2 "
      ]
     },
     "metadata": {},
     "output_type": "display_data"
    },
    {
     "data": {
      "image/png": "[encoded data removed]",
      "text/plain": [
       "plot without title"
      ]
     },
     "metadata": {
      "image/png": {
       "height": 420,
       "width": 420
      }
     },
     "output_type": "display_data"
    }
   ],
   "source": [
    "ggplot(df2, aes(x = totalinsurancepremiumofthepolicy, fill = cut(x=totalinsurancepremiumofthepolicy, 100))) +\n",
    "  geom_histogram(show.legend = FALSE) +\n",
    "  scale_fill_discrete(h = c(240, 10), c = 120, l = 70) +\n",
    "  theme_minimal() +\n",
    "  labs(x = \"Total Insurance Premium\", y = \"Frequency\") +\n",
    "  ggtitle(\"Histogram of Total Insurance Premium\")\n",
    "\n",
    "dev.copy(jpeg,filename=\"Histogram of Total Insurance Premium_Final.jpg\");\n",
    "dev.off ()"
   ]
  },
  {
   "cell_type": "code",
   "execution_count": 34,
   "id": "6f2e04d6",
   "metadata": {},
   "outputs": [
    {
     "data": {
      "text/html": [
       "<strong>jpeg:</strong> 3"
      ],
      "text/latex": [
       "\\textbf{jpeg:} 3"
      ],
      "text/markdown": [
       "**jpeg:** 3"
      ],
      "text/plain": [
       "jpeg \n",
       "   3 "
      ]
     },
     "metadata": {},
     "output_type": "display_data"
    },
    {
     "data": {
      "text/html": [
       "<strong>png:</strong> 2"
      ],
      "text/latex": [
       "\\textbf{png:} 2"
      ],
      "text/markdown": [
       "**png:** 2"
      ],
      "text/plain": [
       "png \n",
       "  2 "
      ]
     },
     "metadata": {},
     "output_type": "display_data"
    },
    {
     "data": {
      "image/png": "[encoded data removed]",
      "text/plain": [
       "plot without title"
      ]
     },
     "metadata": {
      "image/png": {
       "height": 420,
       "width": 420
      }
     },
     "output_type": "display_data"
    }
   ],
   "source": [
    "ggplot(data = df2, aes(x=totalinsurancepremiumofthepolicy)) + geom_density(alpha = 0.5)+\n",
    "        labs(x = \"Total Insurance Premium\", y = \"Frequency\")+\n",
    "                ggtitle(\"Distribution of Insurance Premium\")\n",
    "\n",
    "dev.copy(jpeg,filename=\"Distribution of Total Insurance Premium_Final.jpg\");\n",
    "dev.off ()"
   ]
  },
  {
   "cell_type": "code",
   "execution_count": 35,
   "id": "cab46609",
   "metadata": {},
   "outputs": [
    {
     "data": {
      "text/html": [
       "<style>\n",
       ".dl-inline {width: auto; margin:0; padding: 0}\n",
       ".dl-inline>dt, .dl-inline>dd {float: none; width: auto; display: inline-block}\n",
       ".dl-inline>dt::after {content: \":\\0020\"; padding-right: .5ex}\n",
       ".dl-inline>dt:not(:first-of-type) {padding-left: .5ex}\n",
       "</style><dl class=dl-inline><dt>basementenclosurecrawlspacetype</dt><dd>53</dd><dt>censustract</dt><dd>14980</dd><dt>construction</dt><dd>1</dd><dt>crsdiscount</dt><dd>0</dd><dt>deductibleamountinbuildingcoverage</dt><dd>0</dd><dt>deductibleamountincontentscoverage</dt><dd>0</dd><dt>elevatedbuildingindicator</dt><dd>17</dd><dt>elevationdifference</dt><dd>0</dd><dt>federalpolicyfee</dt><dd>0</dd><dt>latitude</dt><dd>14980</dd><dt>longitude</dt><dd>14980</dd><dt>numberoffloorsininsuredbuilding</dt><dd>7315</dd><dt>occupancytype</dt><dd>1</dd><dt>originalconstructiondate</dt><dd>7409</dd><dt>originalnbdate</dt><dd>0</dd><dt>policycount</dt><dd>0</dd><dt>policyeffectivedate</dt><dd>0</dd><dt>policyterminationdate</dt><dd>0</dd><dt>policytermindicator</dt><dd>0</dd><dt>postfirmconstructionindicator</dt><dd>7409</dd><dt>primaryresidenceindicator</dt><dd>1481</dd><dt>reportedzipcode</dt><dd>0</dd><dt>ratemethod</dt><dd>83930</dd><dt>totalbuildinginsurancecoverage</dt><dd>0</dd><dt>totalcontentsinsurancecoverage</dt><dd>0</dd><dt>totalinsurancepremiumofthepolicy</dt><dd>0</dd><dt>not_condo</dt><dd>1</dd><dt>u_condo</dt><dd>1</dd><dt>lowerflooronly</dt><dd>0</dd><dt>upperandlowerfloors</dt><dd>0</dd><dt>basementandabove</dt><dd>0</dd><dt>basementonly</dt><dd>0</dd><dt>morethan1floor</dt><dd>0</dd><dt>mobilehomeortrailer</dt><dd>0</dd><dt>floodzone_highrisk</dt><dd>7307</dd><dt>floodzone_modrisk</dt><dd>7307</dd><dt>floodzone_undetermined</dt><dd>7307</dd></dl>\n"
      ],
      "text/latex": [
       "\\begin{description*}\n",
       "\\item[basementenclosurecrawlspacetype] 53\n",
       "\\item[censustract] 14980\n",
       "\\item[construction] 1\n",
       "\\item[crsdiscount] 0\n",
       "\\item[deductibleamountinbuildingcoverage] 0\n",
       "\\item[deductibleamountincontentscoverage] 0\n",
       "\\item[elevatedbuildingindicator] 17\n",
       "\\item[elevationdifference] 0\n",
       "\\item[federalpolicyfee] 0\n",
       "\\item[latitude] 14980\n",
       "\\item[longitude] 14980\n",
       "\\item[numberoffloorsininsuredbuilding] 7315\n",
       "\\item[occupancytype] 1\n",
       "\\item[originalconstructiondate] 7409\n",
       "\\item[originalnbdate] 0\n",
       "\\item[policycount] 0\n",
       "\\item[policyeffectivedate] 0\n",
       "\\item[policyterminationdate] 0\n",
       "\\item[policytermindicator] 0\n",
       "\\item[postfirmconstructionindicator] 7409\n",
       "\\item[primaryresidenceindicator] 1481\n",
       "\\item[reportedzipcode] 0\n",
       "\\item[ratemethod] 83930\n",
       "\\item[totalbuildinginsurancecoverage] 0\n",
       "\\item[totalcontentsinsurancecoverage] 0\n",
       "\\item[totalinsurancepremiumofthepolicy] 0\n",
       "\\item[not\\textbackslash{}\\_condo] 1\n",
       "\\item[u\\textbackslash{}\\_condo] 1\n",
       "\\item[lowerflooronly] 0\n",
       "\\item[upperandlowerfloors] 0\n",
       "\\item[basementandabove] 0\n",
       "\\item[basementonly] 0\n",
       "\\item[morethan1floor] 0\n",
       "\\item[mobilehomeortrailer] 0\n",
       "\\item[floodzone\\textbackslash{}\\_highrisk] 7307\n",
       "\\item[floodzone\\textbackslash{}\\_modrisk] 7307\n",
       "\\item[floodzone\\textbackslash{}\\_undetermined] 7307\n",
       "\\end{description*}\n"
      ],
      "text/markdown": [
       "basementenclosurecrawlspacetype\n",
       ":   53censustract\n",
       ":   14980construction\n",
       ":   1crsdiscount\n",
       ":   0deductibleamountinbuildingcoverage\n",
       ":   0deductibleamountincontentscoverage\n",
       ":   0elevatedbuildingindicator\n",
       ":   17elevationdifference\n",
       ":   0federalpolicyfee\n",
       ":   0latitude\n",
       ":   14980longitude\n",
       ":   14980numberoffloorsininsuredbuilding\n",
       ":   7315occupancytype\n",
       ":   1originalconstructiondate\n",
       ":   7409originalnbdate\n",
       ":   0policycount\n",
       ":   0policyeffectivedate\n",
       ":   0policyterminationdate\n",
       ":   0policytermindicator\n",
       ":   0postfirmconstructionindicator\n",
       ":   7409primaryresidenceindicator\n",
       ":   1481reportedzipcode\n",
       ":   0ratemethod\n",
       ":   83930totalbuildinginsurancecoverage\n",
       ":   0totalcontentsinsurancecoverage\n",
       ":   0totalinsurancepremiumofthepolicy\n",
       ":   0not_condo\n",
       ":   1u_condo\n",
       ":   1lowerflooronly\n",
       ":   0upperandlowerfloors\n",
       ":   0basementandabove\n",
       ":   0basementonly\n",
       ":   0morethan1floor\n",
       ":   0mobilehomeortrailer\n",
       ":   0floodzone_highrisk\n",
       ":   7307floodzone_modrisk\n",
       ":   7307floodzone_undetermined\n",
       ":   7307\n",
       "\n"
      ],
      "text/plain": [
       "   basementenclosurecrawlspacetype                        censustract \n",
       "                                53                              14980 \n",
       "                      construction                        crsdiscount \n",
       "                                 1                                  0 \n",
       "deductibleamountinbuildingcoverage deductibleamountincontentscoverage \n",
       "                                 0                                  0 \n",
       "         elevatedbuildingindicator                elevationdifference \n",
       "                                17                                  0 \n",
       "                  federalpolicyfee                           latitude \n",
       "                                 0                              14980 \n",
       "                         longitude    numberoffloorsininsuredbuilding \n",
       "                             14980                               7315 \n",
       "                     occupancytype           originalconstructiondate \n",
       "                                 1                               7409 \n",
       "                    originalnbdate                        policycount \n",
       "                                 0                                  0 \n",
       "               policyeffectivedate              policyterminationdate \n",
       "                                 0                                  0 \n",
       "               policytermindicator      postfirmconstructionindicator \n",
       "                                 0                               7409 \n",
       "         primaryresidenceindicator                    reportedzipcode \n",
       "                              1481                                  0 \n",
       "                        ratemethod     totalbuildinginsurancecoverage \n",
       "                             83930                                  0 \n",
       "    totalcontentsinsurancecoverage   totalinsurancepremiumofthepolicy \n",
       "                                 0                                  0 \n",
       "                         not_condo                            u_condo \n",
       "                                 1                                  1 \n",
       "                    lowerflooronly                upperandlowerfloors \n",
       "                                 0                                  0 \n",
       "                  basementandabove                       basementonly \n",
       "                                 0                                  0 \n",
       "                    morethan1floor                mobilehomeortrailer \n",
       "                                 0                                  0 \n",
       "                floodzone_highrisk                  floodzone_modrisk \n",
       "                              7307                               7307 \n",
       "            floodzone_undetermined \n",
       "                              7307 "
      ]
     },
     "metadata": {},
     "output_type": "display_data"
    }
   ],
   "source": [
    "# Number of NA values in each column\n",
    "colSums(is.na(df2))"
   ]
  },
  {
   "cell_type": "code",
   "execution_count": 36,
   "id": "b0e39f10",
   "metadata": {},
   "outputs": [],
   "source": [
    "# Exporting the dataframes to clean folder\n",
    "imputingwith0 <- \"../02_CleanData/policy_clean_0imputed.parquet\"\n",
    "imputingwithmode <- \"../02_CleanData/policy_clean_modeimputed.parquet\"\n",
    "write_parquet(df2,imputingwith0)\n",
    "write_parquet(dfmode2, imputingwithmode)"
   ]
  },
  {
   "cell_type": "markdown",
   "id": "dc682e56",
   "metadata": {},
   "source": [
    "# 2-Feature Selection"
   ]
  },
  {
   "cell_type": "code",
   "execution_count": 37,
   "id": "0294a4d3",
   "metadata": {},
   "outputs": [],
   "source": [
    "rm(list = ls())"
   ]
  },
  {
   "cell_type": "code",
   "execution_count": 43,
   "id": "48a80c62",
   "metadata": {},
   "outputs": [
    {
     "name": "stderr",
     "output_type": "stream",
     "text": [
      "Loading required package: tibble\n",
      "\n",
      "Loading required package: bitops\n",
      "\n",
      "Rattle: A free graphical interface for data science with R.\n",
      "Version 5.5.1 Copyright (c) 2006-2021 Togaware Pty Ltd.\n",
      "Type 'rattle()' to shake, rattle, and roll your data.\n",
      "\n",
      "Loading required package: rpart\n",
      "\n"
     ]
    }
   ],
   "source": [
    "library(arrow) # needed to read parquet file\n",
    "library(plyr)\n",
    "library(dplyr)\n",
    "library(car)\n",
    "library(caret)\n",
    "library(rattle)\n",
    "library(rpart.plot)\n",
    "library(rpart)\n",
    "library(ggplot2)\n",
    "library(corrplot)\n",
    "library(tidyr)"
   ]
  },
  {
   "cell_type": "code",
   "execution_count": 44,
   "id": "3d6e206e",
   "metadata": {},
   "outputs": [],
   "source": [
    "file_path <- \"../02_CleanData/policy_clean_0imputed.parquet\"\n",
    "df <- read_parquet(file_path, as_tibble = TRUE)"
   ]
  },
  {
   "cell_type": "code",
   "execution_count": 45,
   "id": "6a2cfe28",
   "metadata": {},
   "outputs": [
    {
     "name": "stdout",
     "output_type": "stream",
     "text": [
      "tibble [2,010,347 x 37] (S3: tbl_df/tbl/data.frame)\n",
      " $ basementenclosurecrawlspacetype   : num [1:2010347] 0 0 0 0 0 0 0 2 0 0 ...\n",
      " $ censustract                       : num [1:2010347] 4.82e+10 4.82e+10 4.82e+10 4.82e+10 4.82e+10 ...\n",
      " $ construction                      : num [1:2010347] 0 0 0 0 0 0 0 0 0 0 ...\n",
      " $ crsdiscount                       : num [1:2010347] 0 0.1 0.2 0 0 0 0 0.25 0 0 ...\n",
      " $ deductibleamountinbuildingcoverage: num [1:2010347] 1000 1000 1000 500 1000 1000 500 1000 500 500 ...\n",
      " $ deductibleamountincontentscoverage: num [1:2010347] 1000 1000 1000 500 1000 1000 500 500 500 500 ...\n",
      " $ elevatedbuildingindicator         : num [1:2010347] 0 0 0 0 0 0 0 0 0 0 ...\n",
      " $ elevationdifference               : num [1:2010347] 999 999 999 999 999 999 999 2 999 999 ...\n",
      " $ federalpolicyfee                  : num [1:2010347] 13 35 35 13 13 13 13 35 13 13 ...\n",
      " $ latitude                          : num [1:2010347] 29.6 30 29.8 29.8 29.8 29.6 29.8 29.8 30 29.8 ...\n",
      " $ longitude                         : num [1:2010347] -95.1 -95.5 -95.3 -95.2 -95.4 -95.5 -95.6 -95.4 -95.4 -95.5 ...\n",
      " $ numberoffloorsininsuredbuilding   : num [1:2010347] 2 2 1 1 2 1 2 2 1 2 ...\n",
      " $ occupancytype                     : num [1:2010347] 1 1 1 1 1 1 1 1 1 1 ...\n",
      " $ originalconstructiondate          : Date[1:2010347], format: \"1988-07-15\" \"1973-01-01\" ...\n",
      " $ originalnbdate                    : Date[1:2010347], format: \"2009-11-23\" \"2002-11-02\" ...\n",
      " $ policycount                       : num [1:2010347] 1 1 1 1 1 1 1 1 1 1 ...\n",
      " $ policyeffectivedate               : Date[1:2010347], format: \"2009-11-23\" \"2009-11-02\" ...\n",
      " $ policyterminationdate             : Date[1:2010347], format: \"2010-11-23\" \"2010-11-02\" ...\n",
      " $ policytermindicator               : num [1:2010347] 1 1 1 1 1 1 1 1 1 1 ...\n",
      " $ postfirmconstructionindicator     : num [1:2010347] 0 0 0 0 0 0 0 0 0 0 ...\n",
      " $ primaryresidenceindicator         : num [1:2010347] 0 0 0 0 0 0 0 0 0 0 ...\n",
      " $ reportedzipcode                   : num [1:2010347] 77062 77090 77026 77029 77018 ...\n",
      " $ ratemethod                        : num [1:2010347] 7 1 1 7 7 7 7 1 7 7 ...\n",
      " $ totalbuildinginsurancecoverage    : num [1:2010347] 250000 185200 116100 75000 250000 ...\n",
      " $ totalcontentsinsurancecoverage    : num [1:2010347] 100000 44600 30500 30000 100000 60000 100000 0 50000 100000 ...\n",
      " $ totalinsurancepremiumofthepolicy  : num [1:2010347] 335 1663 885 217 335 ...\n",
      " $ not_condo                         : num [1:2010347] 1 1 1 1 1 1 1 1 1 1 ...\n",
      " $ u_condo                           : num [1:2010347] 0 0 0 0 0 0 0 0 0 0 ...\n",
      " $ lowerflooronly                    : num [1:2010347] 1 0 1 1 0 1 0 0 1 0 ...\n",
      " $ upperandlowerfloors               : num [1:2010347] 0 0 0 0 1 0 1 0 0 1 ...\n",
      " $ basementandabove                  : num [1:2010347] 0 0 0 0 0 0 0 0 0 0 ...\n",
      " $ basementonly                      : num [1:2010347] 0 0 0 0 0 0 0 0 0 0 ...\n",
      " $ morethan1floor                    : num [1:2010347] 0 0 0 0 0 0 0 0 0 0 ...\n",
      " $ mobilehomeortrailer               : num [1:2010347] 0 0 0 0 0 0 0 0 0 0 ...\n",
      " $ floodzone_highrisk                : num [1:2010347] 0 1 1 0 0 0 0 1 0 0 ...\n",
      " $ floodzone_modrisk                 : num [1:2010347] 1 0 0 1 1 1 1 0 1 1 ...\n",
      " $ floodzone_undetermined            : num [1:2010347] 0 0 0 0 0 0 0 0 0 0 ...\n"
     ]
    }
   ],
   "source": [
    "str(df)"
   ]
  },
  {
   "cell_type": "code",
   "execution_count": 46,
   "id": "4bfeb978",
   "metadata": {},
   "outputs": [],
   "source": [
    "# more data cleaning\n",
    "# ratemethod is categorical\n",
    "df$ratemethod_manual <- ifelse( (df$ratemethod==1),1,0) # manual rate method; others are all grouped together as they follow a procedure\n",
    "df$ratemethod_prp <- ifelse( (df$ratemethod==7),1,0) # preferred risk policy\n",
    "df <- subset(df,select=-c(ratemethod)) # drop ratemethod after defining the dummy variable\n",
    "\n",
    "# 999 in elevationdifference means na; also there are a few outlier:-9986, 9989 that must be typos\n",
    "df$elevationdifference <- na_if(df$elevationdifference, 999)\n",
    "df$elevationdifference <- na_if(df$elevationdifference, -9986)\n",
    "df$elevationdifference <- na_if(df$elevationdifference, 9989)\n",
    "\n",
    "# occupancy type to dummy\n",
    "df$occupancytype_single <- ifelse( (df$occupancytype==1),1,0) # single family home\n",
    "df$occupancytype_2or4 <- ifelse( (df$occupancytype==2),1,0) # 2-4 unit building\n",
    "df$occupancytype_4more <- ifelse( (df$occupancytype==3 | df$occupancytype==4),1,0) # more than 4 unit building\n",
    "df$occupancytype_business <- ifelse( (df$occupancytype==6),1,0) # non-residential business building\n",
    "# drop occupancytype after defining the dummy variable\n",
    "df <- subset(df, select=-c(occupancytype))"
   ]
  },
  {
   "cell_type": "code",
   "execution_count": 47,
   "id": "ccc04bad",
   "metadata": {},
   "outputs": [
    {
     "name": "stderr",
     "output_type": "stream",
     "text": [
      "Warning message in unique(df[c][is.na(df[c]) == 0]) == list(0, 1):\n",
      "\"longer object length is not a multiple of shorter object length\"\n",
      "Warning message in if (unique(df[c][is.na(df[c]) == 0]) == list(0, 1)) {:\n",
      "\"the condition has length > 1 and only the first element will be used\"\n",
      "Warning message in if (unique(df[c][is.na(df[c]) == 0]) == list(0, 1)) {:\n",
      "\"the condition has length > 1 and only the first element will be used\"\n",
      "Warning message in if (unique(df[c][is.na(df[c]) == 0]) == list(0, 1)) {:\n",
      "\"the condition has length > 1 and only the first element will be used\"\n",
      "Warning message in if (unique(df[c][is.na(df[c]) == 0]) == list(0, 1)) {:\n",
      "\"the condition has length > 1 and only the first element will be used\"\n",
      "Warning message in unique(df[c][is.na(df[c]) == 0]) == list(0, 1):\n",
      "\"longer object length is not a multiple of shorter object length\"\n",
      "Warning message in if (unique(df[c][is.na(df[c]) == 0]) == list(0, 1)) {:\n",
      "\"the condition has length > 1 and only the first element will be used\"\n",
      "Warning message in unique(df[c][is.na(df[c]) == 0]) == list(0, 1):\n",
      "\"longer object length is not a multiple of shorter object length\"\n",
      "Warning message in if (unique(df[c][is.na(df[c]) == 0]) == list(0, 1)) {:\n",
      "\"the condition has length > 1 and only the first element will be used\"\n",
      "Warning message in if (unique(df[c][is.na(df[c]) == 0]) == list(0, 1)) {:\n",
      "\"the condition has length > 1 and only the first element will be used\"\n",
      "Warning message in if (unique(df[c][is.na(df[c]) == 0]) == list(0, 1)) {:\n",
      "\"the condition has length > 1 and only the first element will be used\"\n",
      "Warning message in if (unique(df[c][is.na(df[c]) == 0]) == list(0, 1)) {:\n",
      "\"the condition has length > 1 and only the first element will be used\"\n",
      "Warning message in if (unique(df[c][is.na(df[c]) == 0]) == list(0, 1)) {:\n",
      "\"the condition has length > 1 and only the first element will be used\"\n",
      "Warning message in unique(df[c][is.na(df[c]) == 0]) == list(0, 1):\n",
      "\"longer object length is not a multiple of shorter object length\"\n",
      "Warning message in if (unique(df[c][is.na(df[c]) == 0]) == list(0, 1)) {:\n",
      "\"the condition has length > 1 and only the first element will be used\"\n",
      "Warning message in if (unique(df[c][is.na(df[c]) == 0]) == list(0, 1)) {:\n",
      "\"the condition has length > 1 and only the first element will be used\"\n",
      "Warning message in unique(df[c][is.na(df[c]) == 0]) == list(0, 1):\n",
      "\"longer object length is not a multiple of shorter object length\"\n",
      "Warning message in if (unique(df[c][is.na(df[c]) == 0]) == list(0, 1)) {:\n",
      "\"the condition has length > 1 and only the first element will be used\"\n",
      "Warning message in if (unique(df[c][is.na(df[c]) == 0]) == list(0, 1)) {:\n",
      "\"the condition has length > 1 and only the first element will be used\"\n",
      "Warning message in if (unique(df[c][is.na(df[c]) == 0]) == list(0, 1)) {:\n",
      "\"the condition has length > 1 and only the first element will be used\"\n",
      "Warning message in if (unique(df[c][is.na(df[c]) == 0]) == list(0, 1)) {:\n",
      "\"the condition has length > 1 and only the first element will be used\"\n",
      "Warning message in if (unique(df[c][is.na(df[c]) == 0]) == list(0, 1)) {:\n",
      "\"the condition has length > 1 and only the first element will be used\"\n",
      "Warning message in unique(df[c][is.na(df[c]) == 0]) == list(0, 1):\n",
      "\"longer object length is not a multiple of shorter object length\"\n",
      "Warning message in if (unique(df[c][is.na(df[c]) == 0]) == list(0, 1)) {:\n",
      "\"the condition has length > 1 and only the first element will be used\"\n",
      "Warning message in unique(df[c][is.na(df[c]) == 0]) == list(0, 1):\n",
      "\"longer object length is not a multiple of shorter object length\"\n",
      "Warning message in if (unique(df[c][is.na(df[c]) == 0]) == list(0, 1)) {:\n",
      "\"the condition has length > 1 and only the first element will be used\"\n",
      "Warning message in unique(df[c][is.na(df[c]) == 0]) == list(0, 1):\n",
      "\"longer object length is not a multiple of shorter object length\"\n",
      "Warning message in if (unique(df[c][is.na(df[c]) == 0]) == list(0, 1)) {:\n",
      "\"the condition has length > 1 and only the first element will be used\"\n",
      "Warning message in if (unique(df[c][is.na(df[c]) == 0]) == list(0, 1)) {:\n",
      "\"the condition has length > 1 and only the first element will be used\"\n",
      "Warning message in if (unique(df[c][is.na(df[c]) == 0]) == list(0, 1)) {:\n",
      "\"the condition has length > 1 and only the first element will be used\"\n",
      "Warning message in if (unique(df[c][is.na(df[c]) == 0]) == list(0, 1)) {:\n",
      "\"the condition has length > 1 and only the first element will be used\"\n",
      "Warning message in if (unique(df[c][is.na(df[c]) == 0]) == list(0, 1)) {:\n",
      "\"the condition has length > 1 and only the first element will be used\"\n",
      "Warning message in if (unique(df[c][is.na(df[c]) == 0]) == list(0, 1)) {:\n",
      "\"the condition has length > 1 and only the first element will be used\"\n",
      "Warning message in if (unique(df[c][is.na(df[c]) == 0]) == list(0, 1)) {:\n",
      "\"the condition has length > 1 and only the first element will be used\"\n",
      "Warning message in if (unique(df[c][is.na(df[c]) == 0]) == list(0, 1)) {:\n",
      "\"the condition has length > 1 and only the first element will be used\"\n",
      "Warning message in if (unique(df[c][is.na(df[c]) == 0]) == list(0, 1)) {:\n",
      "\"the condition has length > 1 and only the first element will be used\"\n",
      "Warning message in if (unique(df[c][is.na(df[c]) == 0]) == list(0, 1)) {:\n",
      "\"the condition has length > 1 and only the first element will be used\"\n",
      "Warning message in if (unique(df[c][is.na(df[c]) == 0]) == list(0, 1)) {:\n",
      "\"the condition has length > 1 and only the first element will be used\"\n",
      "Warning message in if (unique(df[c][is.na(df[c]) == 0]) == list(0, 1)) {:\n",
      "\"the condition has length > 1 and only the first element will be used\"\n",
      "Warning message in if (unique(df[c][is.na(df[c]) == 0]) == list(0, 1)) {:\n",
      "\"the condition has length > 1 and only the first element will be used\"\n",
      "Warning message in if (unique(df[c][is.na(df[c]) == 0]) == list(0, 1)) {:\n",
      "\"the condition has length > 1 and only the first element will be used\"\n",
      "Warning message in if (unique(df[c][is.na(df[c]) == 0]) == list(0, 1)) {:\n",
      "\"the condition has length > 1 and only the first element will be used\"\n",
      "Warning message in if (unique(df[c][is.na(df[c]) == 0]) == list(0, 1)) {:\n",
      "\"the condition has length > 1 and only the first element will be used\"\n",
      "Warning message in if (unique(df[c][is.na(df[c]) == 0]) == list(0, 1)) {:\n",
      "\"the condition has length > 1 and only the first element will be used\"\n",
      "Warning message in if (unique(df[c][is.na(df[c]) == 0]) == list(0, 1)) {:\n",
      "\"the condition has length > 1 and only the first element will be used\"\n"
     ]
    },
    {
     "data": {
      "text/html": [
       "<style>\n",
       ".list-inline {list-style: none; margin:0; padding: 0}\n",
       ".list-inline>li {display: inline-block}\n",
       ".list-inline>li:not(:last-child)::after {content: \"\\00b7\"; padding: 0 .5ex}\n",
       "</style>\n",
       "<ol class=list-inline><li>'occupancytype_business'</li><li>'occupancytype_4more'</li><li>'occupancytype_2or4'</li><li>'ratemethod_manual'</li><li>'floodzone_undetermined'</li><li>'floodzone_highrisk'</li><li>'mobilehomeortrailer'</li><li>'morethan1floor'</li><li>'basementonly'</li><li>'basementandabove'</li><li>'upperandlowerfloors'</li><li>'u_condo'</li><li>'primaryresidenceindicator'</li><li>'postfirmconstructionindicator'</li><li>'elevatedbuildingindicator'</li><li>'crsdiscount'</li><li>'construction'</li><li>'basementenclosurecrawlspacetype'</li></ol>\n"
      ],
      "text/latex": [
       "\\begin{enumerate*}\n",
       "\\item 'occupancytype\\_business'\n",
       "\\item 'occupancytype\\_4more'\n",
       "\\item 'occupancytype\\_2or4'\n",
       "\\item 'ratemethod\\_manual'\n",
       "\\item 'floodzone\\_undetermined'\n",
       "\\item 'floodzone\\_highrisk'\n",
       "\\item 'mobilehomeortrailer'\n",
       "\\item 'morethan1floor'\n",
       "\\item 'basementonly'\n",
       "\\item 'basementandabove'\n",
       "\\item 'upperandlowerfloors'\n",
       "\\item 'u\\_condo'\n",
       "\\item 'primaryresidenceindicator'\n",
       "\\item 'postfirmconstructionindicator'\n",
       "\\item 'elevatedbuildingindicator'\n",
       "\\item 'crsdiscount'\n",
       "\\item 'construction'\n",
       "\\item 'basementenclosurecrawlspacetype'\n",
       "\\end{enumerate*}\n"
      ],
      "text/markdown": [
       "1. 'occupancytype_business'\n",
       "2. 'occupancytype_4more'\n",
       "3. 'occupancytype_2or4'\n",
       "4. 'ratemethod_manual'\n",
       "5. 'floodzone_undetermined'\n",
       "6. 'floodzone_highrisk'\n",
       "7. 'mobilehomeortrailer'\n",
       "8. 'morethan1floor'\n",
       "9. 'basementonly'\n",
       "10. 'basementandabove'\n",
       "11. 'upperandlowerfloors'\n",
       "12. 'u_condo'\n",
       "13. 'primaryresidenceindicator'\n",
       "14. 'postfirmconstructionindicator'\n",
       "15. 'elevatedbuildingindicator'\n",
       "16. 'crsdiscount'\n",
       "17. 'construction'\n",
       "18. 'basementenclosurecrawlspacetype'\n",
       "\n",
       "\n"
      ],
      "text/plain": [
       " [1] \"occupancytype_business\"          \"occupancytype_4more\"            \n",
       " [3] \"occupancytype_2or4\"              \"ratemethod_manual\"              \n",
       " [5] \"floodzone_undetermined\"          \"floodzone_highrisk\"             \n",
       " [7] \"mobilehomeortrailer\"             \"morethan1floor\"                 \n",
       " [9] \"basementonly\"                    \"basementandabove\"               \n",
       "[11] \"upperandlowerfloors\"             \"u_condo\"                        \n",
       "[13] \"primaryresidenceindicator\"       \"postfirmconstructionindicator\"  \n",
       "[15] \"elevatedbuildingindicator\"       \"crsdiscount\"                    \n",
       "[17] \"construction\"                    \"basementenclosurecrawlspacetype\""
      ]
     },
     "metadata": {},
     "output_type": "display_data"
    },
    {
     "data": {
      "text/html": [
       "<style>\n",
       ".list-inline {list-style: none; margin:0; padding: 0}\n",
       ".list-inline>li {display: inline-block}\n",
       ".list-inline>li:not(:last-child)::after {content: \"\\00b7\"; padding: 0 .5ex}\n",
       "</style>\n",
       "<ol class=list-inline><li>'censustract'</li><li>'deductibleamountinbuildingcoverage'</li><li>'deductibleamountincontentscoverage'</li><li>'elevationdifference'</li><li>'federalpolicyfee'</li><li>'latitude'</li><li>'longitude'</li><li>'numberoffloorsininsuredbuilding'</li><li>'policycount'</li><li>'policytermindicator'</li><li>'reportedzipcode'</li><li>'totalbuildinginsurancecoverage'</li><li>'totalcontentsinsurancecoverage'</li><li>'totalinsurancepremiumofthepolicy'</li><li>'not_condo'</li><li>'lowerflooronly'</li><li>'floodzone_modrisk'</li><li>'ratemethod_prp'</li><li>'occupancytype_single'</li></ol>\n"
      ],
      "text/latex": [
       "\\begin{enumerate*}\n",
       "\\item 'censustract'\n",
       "\\item 'deductibleamountinbuildingcoverage'\n",
       "\\item 'deductibleamountincontentscoverage'\n",
       "\\item 'elevationdifference'\n",
       "\\item 'federalpolicyfee'\n",
       "\\item 'latitude'\n",
       "\\item 'longitude'\n",
       "\\item 'numberoffloorsininsuredbuilding'\n",
       "\\item 'policycount'\n",
       "\\item 'policytermindicator'\n",
       "\\item 'reportedzipcode'\n",
       "\\item 'totalbuildinginsurancecoverage'\n",
       "\\item 'totalcontentsinsurancecoverage'\n",
       "\\item 'totalinsurancepremiumofthepolicy'\n",
       "\\item 'not\\_condo'\n",
       "\\item 'lowerflooronly'\n",
       "\\item 'floodzone\\_modrisk'\n",
       "\\item 'ratemethod\\_prp'\n",
       "\\item 'occupancytype\\_single'\n",
       "\\end{enumerate*}\n"
      ],
      "text/markdown": [
       "1. 'censustract'\n",
       "2. 'deductibleamountinbuildingcoverage'\n",
       "3. 'deductibleamountincontentscoverage'\n",
       "4. 'elevationdifference'\n",
       "5. 'federalpolicyfee'\n",
       "6. 'latitude'\n",
       "7. 'longitude'\n",
       "8. 'numberoffloorsininsuredbuilding'\n",
       "9. 'policycount'\n",
       "10. 'policytermindicator'\n",
       "11. 'reportedzipcode'\n",
       "12. 'totalbuildinginsurancecoverage'\n",
       "13. 'totalcontentsinsurancecoverage'\n",
       "14. 'totalinsurancepremiumofthepolicy'\n",
       "15. 'not_condo'\n",
       "16. 'lowerflooronly'\n",
       "17. 'floodzone_modrisk'\n",
       "18. 'ratemethod_prp'\n",
       "19. 'occupancytype_single'\n",
       "\n",
       "\n"
      ],
      "text/plain": [
       " [1] \"censustract\"                        \"deductibleamountinbuildingcoverage\"\n",
       " [3] \"deductibleamountincontentscoverage\" \"elevationdifference\"               \n",
       " [5] \"federalpolicyfee\"                   \"latitude\"                          \n",
       " [7] \"longitude\"                          \"numberoffloorsininsuredbuilding\"   \n",
       " [9] \"policycount\"                        \"policytermindicator\"               \n",
       "[11] \"reportedzipcode\"                    \"totalbuildinginsurancecoverage\"    \n",
       "[13] \"totalcontentsinsurancecoverage\"     \"totalinsurancepremiumofthepolicy\"  \n",
       "[15] \"not_condo\"                          \"lowerflooronly\"                    \n",
       "[17] \"floodzone_modrisk\"                  \"ratemethod_prp\"                    \n",
       "[19] \"occupancytype_single\"              "
      ]
     },
     "metadata": {},
     "output_type": "display_data"
    }
   ],
   "source": [
    "cols = colnames(df) # all columns\n",
    "date_list = c() # list of date variables\n",
    "for (c in cols){\n",
    "  if (endsWith(c, 'date') == TRUE){\n",
    "    date_list <- append(c, date_list)\n",
    "  }\n",
    "  \n",
    "}\n",
    "num_list <- cols[!cols %in% date_list]\n",
    "ind_list = c() # indicator list\n",
    "for (c in num_list){\n",
    "  if (unique(df[c][is.na(df[c])==0]) == list(0,1)){\n",
    "    ind_list <- append(c, ind_list)\n",
    "  }\n",
    "}\n",
    "ind_list #list of indicator/dummy variables\n",
    "num_list2 <- num_list[!num_list %in% ind_list] #list of continuous variables\n",
    "num_list2"
   ]
  },
  {
   "cell_type": "code",
   "execution_count": null,
   "id": "f6d2f7a3",
   "metadata": {},
   "outputs": [],
   "source": [
    "# Select continuous variables for correlation examination"
   ]
  },
  {
   "cell_type": "code",
   "execution_count": 50,
   "id": "88b290b3",
   "metadata": {},
   "outputs": [],
   "source": [
    "# Examine correlation between all numeric variables \n",
    "df_num <- subset(df, select = c(basementenclosurecrawlspacetype, censustract,crsdiscount,\n",
    "                               deductibleamountinbuildingcoverage, deductibleamountincontentscoverage, \n",
    "                               federalpolicyfee, latitude, longitude, policycount, reportedzipcode, \n",
    "                               ratemethod_manual, ratemethod_prp, totalbuildinginsurancecoverage, \n",
    "                               totalcontentsinsurancecoverage))\n",
    "cormat <-cor(df_num, use = \"pairwise.complete.obs\")"
   ]
  },
  {
   "cell_type": "code",
   "execution_count": 51,
   "id": "a1bab56c",
   "metadata": {},
   "outputs": [
    {
     "data": {
      "text/html": [
       "<strong>jpeg:</strong> 3"
      ],
      "text/latex": [
       "\\textbf{jpeg:} 3"
      ],
      "text/markdown": [
       "**jpeg:** 3"
      ],
      "text/plain": [
       "jpeg \n",
       "   3 "
      ]
     },
     "metadata": {},
     "output_type": "display_data"
    },
    {
     "data": {
      "text/html": [
       "<strong>png:</strong> 2"
      ],
      "text/latex": [
       "\\textbf{png:} 2"
      ],
      "text/markdown": [
       "**png:** 2"
      ],
      "text/plain": [
       "png \n",
       "  2 "
      ]
     },
     "metadata": {},
     "output_type": "display_data"
    },
    {
     "data": {
      "image/png": "[encoded data removed]",
      "text/plain": [
       "Plot with title \"\n",
       "\n",
       " Correlation Plot of Flood Data\""
      ]
     },
     "metadata": {
      "image/png": {
       "height": 420,
       "width": 420
      }
     },
     "output_type": "display_data"
    }
   ],
   "source": [
    "corrplot(cormat, tl.col = \"red\", tl.srt = 45, bg = \"White\",\n",
    "         title = \"\\n\\n Correlation Plot of Flood Data\",\n",
    "         type = \"lower\")\n",
    "dev.copy(jpeg, filename=\"Correlation Plot of Flood Data.jpg\");\n",
    "dev.off ()"
   ]
  },
  {
   "cell_type": "code",
   "execution_count": 52,
   "id": "49a8bf71",
   "metadata": {},
   "outputs": [
    {
     "data": {
      "text/html": [
       "<table class=\"dataframe\">\n",
       "<caption>A matrix: 14 × 14 of type dbl</caption>\n",
       "<thead>\n",
       "\t<tr><th></th><th scope=col>basementenclosurecrawlspacetype</th><th scope=col>censustract</th><th scope=col>crsdiscount</th><th scope=col>deductibleamountinbuildingcoverage</th><th scope=col>deductibleamountincontentscoverage</th><th scope=col>federalpolicyfee</th><th scope=col>latitude</th><th scope=col>longitude</th><th scope=col>policycount</th><th scope=col>reportedzipcode</th><th scope=col>ratemethod_manual</th><th scope=col>ratemethod_prp</th><th scope=col>totalbuildinginsurancecoverage</th><th scope=col>totalcontentsinsurancecoverage</th></tr>\n",
       "</thead>\n",
       "<tbody>\n",
       "\t<tr><th scope=row>basementenclosurecrawlspacetype</th><td> 1.000000000</td><td>-0.027903103</td><td> 0.003664553</td><td> 0.03846277</td><td> 0.018760106</td><td> 0.05342798</td><td>-0.0097650567</td><td> 0.06337193</td><td> 0.006226167</td><td>-0.095567932</td><td>-0.001193068</td><td>-0.05920036</td><td> 0.0308794648</td><td> 0.001478634</td></tr>\n",
       "\t<tr><th scope=row>censustract</th><td>-0.027903103</td><td> 1.000000000</td><td>-0.036406631</td><td> 0.02167444</td><td> 0.030444866</td><td>-0.01367685</td><td> 0.5388037949</td><td>-0.69375615</td><td>-0.003398148</td><td> 0.244708598</td><td>-0.032108849</td><td> 0.03330565</td><td> 0.1054462138</td><td> 0.084694121</td></tr>\n",
       "\t<tr><th scope=row>crsdiscount</th><td> 0.003664553</td><td>-0.036406631</td><td> 1.000000000</td><td> 0.32549948</td><td>-0.078935961</td><td> 0.64069855</td><td>-0.1016330718</td><td>-0.02881713</td><td> 0.074550177</td><td> 0.126874522</td><td> 0.958515614</td><td>-0.95116315</td><td>-0.2332036325</td><td>-0.530895609</td></tr>\n",
       "\t<tr><th scope=row>deductibleamountinbuildingcoverage</th><td> 0.038462772</td><td> 0.021674440</td><td> 0.325499476</td><td> 1.00000000</td><td> 0.618257755</td><td> 0.56361845</td><td>-0.0199140797</td><td>-0.03929861</td><td> 0.038058849</td><td> 0.044215033</td><td> 0.262505146</td><td>-0.26672209</td><td> 0.1797177909</td><td>-0.075930860</td></tr>\n",
       "\t<tr><th scope=row>deductibleamountincontentscoverage</th><td> 0.018760106</td><td> 0.030444866</td><td>-0.078935961</td><td> 0.61825776</td><td> 1.000000000</td><td> 0.29082721</td><td> 0.0149451552</td><td>-0.01016975</td><td>-0.067919120</td><td>-0.008506294</td><td>-0.122780106</td><td> 0.12312080</td><td> 0.2048709552</td><td> 0.347653526</td></tr>\n",
       "\t<tr><th scope=row>federalpolicyfee</th><td> 0.053427984</td><td>-0.013676849</td><td> 0.640698549</td><td> 0.56361845</td><td> 0.290827210</td><td> 1.00000000</td><td>-0.0463802434</td><td>-0.02516335</td><td> 0.071858696</td><td> 0.062749168</td><td> 0.651016367</td><td>-0.65978468</td><td>-0.0854738073</td><td>-0.296553421</td></tr>\n",
       "\t<tr><th scope=row>latitude</th><td>-0.009765057</td><td> 0.538803795</td><td>-0.101633072</td><td>-0.01991408</td><td> 0.014945155</td><td>-0.04638024</td><td> 1.0000000000</td><td>-0.37313513</td><td>-0.019193158</td><td> 0.009971773</td><td>-0.069095983</td><td> 0.07166176</td><td> 0.0009543902</td><td> 0.031677224</td></tr>\n",
       "\t<tr><th scope=row>longitude</th><td> 0.063371933</td><td>-0.693756148</td><td>-0.028817125</td><td>-0.03929861</td><td>-0.010169752</td><td>-0.02516335</td><td>-0.3731351339</td><td> 1.00000000</td><td>-0.011300911</td><td>-0.400900744</td><td>-0.018611358</td><td> 0.01203623</td><td>-0.0730864512</td><td>-0.036794843</td></tr>\n",
       "\t<tr><th scope=row>policycount</th><td> 0.006226167</td><td>-0.003398148</td><td> 0.074550177</td><td> 0.03805885</td><td>-0.067919120</td><td> 0.07185870</td><td>-0.0191931579</td><td>-0.01130091</td><td> 1.000000000</td><td>-0.006012995</td><td> 0.070761391</td><td>-0.07139681</td><td> 0.0815729430</td><td>-0.080636180</td></tr>\n",
       "\t<tr><th scope=row>reportedzipcode</th><td>-0.095567932</td><td> 0.244708598</td><td> 0.126874522</td><td> 0.04421503</td><td>-0.008506294</td><td> 0.06274917</td><td> 0.0099717730</td><td>-0.40090074</td><td>-0.006012995</td><td> 1.000000000</td><td> 0.093551088</td><td>-0.08757457</td><td>-0.0725155015</td><td>-0.106441305</td></tr>\n",
       "\t<tr><th scope=row>ratemethod_manual</th><td>-0.001193068</td><td>-0.032108849</td><td> 0.958515614</td><td> 0.26250515</td><td>-0.122780106</td><td> 0.65101637</td><td>-0.0690959834</td><td>-0.01861136</td><td> 0.070761391</td><td> 0.093551088</td><td> 1.000000000</td><td>-0.98707972</td><td>-0.2556539102</td><td>-0.537556295</td></tr>\n",
       "\t<tr><th scope=row>ratemethod_prp</th><td>-0.059200361</td><td> 0.033305653</td><td>-0.951163154</td><td>-0.26672209</td><td> 0.123120797</td><td>-0.65978468</td><td> 0.0716617624</td><td> 0.01203623</td><td>-0.071396812</td><td>-0.087574570</td><td>-0.987079723</td><td> 1.00000000</td><td> 0.2536045912</td><td> 0.541029137</td></tr>\n",
       "\t<tr><th scope=row>totalbuildinginsurancecoverage</th><td> 0.030879465</td><td> 0.105446214</td><td>-0.233203633</td><td> 0.17971779</td><td> 0.204870955</td><td>-0.08547381</td><td> 0.0009543902</td><td>-0.07308645</td><td> 0.081572943</td><td>-0.072515501</td><td>-0.255653910</td><td> 0.25360459</td><td> 1.0000000000</td><td> 0.702256591</td></tr>\n",
       "\t<tr><th scope=row>totalcontentsinsurancecoverage</th><td> 0.001478634</td><td> 0.084694121</td><td>-0.530895609</td><td>-0.07593086</td><td> 0.347653526</td><td>-0.29655342</td><td> 0.0316772242</td><td>-0.03679484</td><td>-0.080636180</td><td>-0.106441305</td><td>-0.537556295</td><td> 0.54102914</td><td> 0.7022565914</td><td> 1.000000000</td></tr>\n",
       "</tbody>\n",
       "</table>\n"
      ],
      "text/latex": [
       "A matrix: 14 × 14 of type dbl\n",
       "\\begin{tabular}{r|llllllllllllll}\n",
       "  & basementenclosurecrawlspacetype & censustract & crsdiscount & deductibleamountinbuildingcoverage & deductibleamountincontentscoverage & federalpolicyfee & latitude & longitude & policycount & reportedzipcode & ratemethod\\_manual & ratemethod\\_prp & totalbuildinginsurancecoverage & totalcontentsinsurancecoverage\\\\\n",
       "\\hline\n",
       "\tbasementenclosurecrawlspacetype &  1.000000000 & -0.027903103 &  0.003664553 &  0.03846277 &  0.018760106 &  0.05342798 & -0.0097650567 &  0.06337193 &  0.006226167 & -0.095567932 & -0.001193068 & -0.05920036 &  0.0308794648 &  0.001478634\\\\\n",
       "\tcensustract & -0.027903103 &  1.000000000 & -0.036406631 &  0.02167444 &  0.030444866 & -0.01367685 &  0.5388037949 & -0.69375615 & -0.003398148 &  0.244708598 & -0.032108849 &  0.03330565 &  0.1054462138 &  0.084694121\\\\\n",
       "\tcrsdiscount &  0.003664553 & -0.036406631 &  1.000000000 &  0.32549948 & -0.078935961 &  0.64069855 & -0.1016330718 & -0.02881713 &  0.074550177 &  0.126874522 &  0.958515614 & -0.95116315 & -0.2332036325 & -0.530895609\\\\\n",
       "\tdeductibleamountinbuildingcoverage &  0.038462772 &  0.021674440 &  0.325499476 &  1.00000000 &  0.618257755 &  0.56361845 & -0.0199140797 & -0.03929861 &  0.038058849 &  0.044215033 &  0.262505146 & -0.26672209 &  0.1797177909 & -0.075930860\\\\\n",
       "\tdeductibleamountincontentscoverage &  0.018760106 &  0.030444866 & -0.078935961 &  0.61825776 &  1.000000000 &  0.29082721 &  0.0149451552 & -0.01016975 & -0.067919120 & -0.008506294 & -0.122780106 &  0.12312080 &  0.2048709552 &  0.347653526\\\\\n",
       "\tfederalpolicyfee &  0.053427984 & -0.013676849 &  0.640698549 &  0.56361845 &  0.290827210 &  1.00000000 & -0.0463802434 & -0.02516335 &  0.071858696 &  0.062749168 &  0.651016367 & -0.65978468 & -0.0854738073 & -0.296553421\\\\\n",
       "\tlatitude & -0.009765057 &  0.538803795 & -0.101633072 & -0.01991408 &  0.014945155 & -0.04638024 &  1.0000000000 & -0.37313513 & -0.019193158 &  0.009971773 & -0.069095983 &  0.07166176 &  0.0009543902 &  0.031677224\\\\\n",
       "\tlongitude &  0.063371933 & -0.693756148 & -0.028817125 & -0.03929861 & -0.010169752 & -0.02516335 & -0.3731351339 &  1.00000000 & -0.011300911 & -0.400900744 & -0.018611358 &  0.01203623 & -0.0730864512 & -0.036794843\\\\\n",
       "\tpolicycount &  0.006226167 & -0.003398148 &  0.074550177 &  0.03805885 & -0.067919120 &  0.07185870 & -0.0191931579 & -0.01130091 &  1.000000000 & -0.006012995 &  0.070761391 & -0.07139681 &  0.0815729430 & -0.080636180\\\\\n",
       "\treportedzipcode & -0.095567932 &  0.244708598 &  0.126874522 &  0.04421503 & -0.008506294 &  0.06274917 &  0.0099717730 & -0.40090074 & -0.006012995 &  1.000000000 &  0.093551088 & -0.08757457 & -0.0725155015 & -0.106441305\\\\\n",
       "\tratemethod\\_manual & -0.001193068 & -0.032108849 &  0.958515614 &  0.26250515 & -0.122780106 &  0.65101637 & -0.0690959834 & -0.01861136 &  0.070761391 &  0.093551088 &  1.000000000 & -0.98707972 & -0.2556539102 & -0.537556295\\\\\n",
       "\tratemethod\\_prp & -0.059200361 &  0.033305653 & -0.951163154 & -0.26672209 &  0.123120797 & -0.65978468 &  0.0716617624 &  0.01203623 & -0.071396812 & -0.087574570 & -0.987079723 &  1.00000000 &  0.2536045912 &  0.541029137\\\\\n",
       "\ttotalbuildinginsurancecoverage &  0.030879465 &  0.105446214 & -0.233203633 &  0.17971779 &  0.204870955 & -0.08547381 &  0.0009543902 & -0.07308645 &  0.081572943 & -0.072515501 & -0.255653910 &  0.25360459 &  1.0000000000 &  0.702256591\\\\\n",
       "\ttotalcontentsinsurancecoverage &  0.001478634 &  0.084694121 & -0.530895609 & -0.07593086 &  0.347653526 & -0.29655342 &  0.0316772242 & -0.03679484 & -0.080636180 & -0.106441305 & -0.537556295 &  0.54102914 &  0.7022565914 &  1.000000000\\\\\n",
       "\\end{tabular}\n"
      ],
      "text/markdown": [
       "\n",
       "A matrix: 14 × 14 of type dbl\n",
       "\n",
       "| <!--/--> | basementenclosurecrawlspacetype | censustract | crsdiscount | deductibleamountinbuildingcoverage | deductibleamountincontentscoverage | federalpolicyfee | latitude | longitude | policycount | reportedzipcode | ratemethod_manual | ratemethod_prp | totalbuildinginsurancecoverage | totalcontentsinsurancecoverage |\n",
       "|---|---|---|---|---|---|---|---|---|---|---|---|---|---|---|\n",
       "| basementenclosurecrawlspacetype |  1.000000000 | -0.027903103 |  0.003664553 |  0.03846277 |  0.018760106 |  0.05342798 | -0.0097650567 |  0.06337193 |  0.006226167 | -0.095567932 | -0.001193068 | -0.05920036 |  0.0308794648 |  0.001478634 |\n",
       "| censustract | -0.027903103 |  1.000000000 | -0.036406631 |  0.02167444 |  0.030444866 | -0.01367685 |  0.5388037949 | -0.69375615 | -0.003398148 |  0.244708598 | -0.032108849 |  0.03330565 |  0.1054462138 |  0.084694121 |\n",
       "| crsdiscount |  0.003664553 | -0.036406631 |  1.000000000 |  0.32549948 | -0.078935961 |  0.64069855 | -0.1016330718 | -0.02881713 |  0.074550177 |  0.126874522 |  0.958515614 | -0.95116315 | -0.2332036325 | -0.530895609 |\n",
       "| deductibleamountinbuildingcoverage |  0.038462772 |  0.021674440 |  0.325499476 |  1.00000000 |  0.618257755 |  0.56361845 | -0.0199140797 | -0.03929861 |  0.038058849 |  0.044215033 |  0.262505146 | -0.26672209 |  0.1797177909 | -0.075930860 |\n",
       "| deductibleamountincontentscoverage |  0.018760106 |  0.030444866 | -0.078935961 |  0.61825776 |  1.000000000 |  0.29082721 |  0.0149451552 | -0.01016975 | -0.067919120 | -0.008506294 | -0.122780106 |  0.12312080 |  0.2048709552 |  0.347653526 |\n",
       "| federalpolicyfee |  0.053427984 | -0.013676849 |  0.640698549 |  0.56361845 |  0.290827210 |  1.00000000 | -0.0463802434 | -0.02516335 |  0.071858696 |  0.062749168 |  0.651016367 | -0.65978468 | -0.0854738073 | -0.296553421 |\n",
       "| latitude | -0.009765057 |  0.538803795 | -0.101633072 | -0.01991408 |  0.014945155 | -0.04638024 |  1.0000000000 | -0.37313513 | -0.019193158 |  0.009971773 | -0.069095983 |  0.07166176 |  0.0009543902 |  0.031677224 |\n",
       "| longitude |  0.063371933 | -0.693756148 | -0.028817125 | -0.03929861 | -0.010169752 | -0.02516335 | -0.3731351339 |  1.00000000 | -0.011300911 | -0.400900744 | -0.018611358 |  0.01203623 | -0.0730864512 | -0.036794843 |\n",
       "| policycount |  0.006226167 | -0.003398148 |  0.074550177 |  0.03805885 | -0.067919120 |  0.07185870 | -0.0191931579 | -0.01130091 |  1.000000000 | -0.006012995 |  0.070761391 | -0.07139681 |  0.0815729430 | -0.080636180 |\n",
       "| reportedzipcode | -0.095567932 |  0.244708598 |  0.126874522 |  0.04421503 | -0.008506294 |  0.06274917 |  0.0099717730 | -0.40090074 | -0.006012995 |  1.000000000 |  0.093551088 | -0.08757457 | -0.0725155015 | -0.106441305 |\n",
       "| ratemethod_manual | -0.001193068 | -0.032108849 |  0.958515614 |  0.26250515 | -0.122780106 |  0.65101637 | -0.0690959834 | -0.01861136 |  0.070761391 |  0.093551088 |  1.000000000 | -0.98707972 | -0.2556539102 | -0.537556295 |\n",
       "| ratemethod_prp | -0.059200361 |  0.033305653 | -0.951163154 | -0.26672209 |  0.123120797 | -0.65978468 |  0.0716617624 |  0.01203623 | -0.071396812 | -0.087574570 | -0.987079723 |  1.00000000 |  0.2536045912 |  0.541029137 |\n",
       "| totalbuildinginsurancecoverage |  0.030879465 |  0.105446214 | -0.233203633 |  0.17971779 |  0.204870955 | -0.08547381 |  0.0009543902 | -0.07308645 |  0.081572943 | -0.072515501 | -0.255653910 |  0.25360459 |  1.0000000000 |  0.702256591 |\n",
       "| totalcontentsinsurancecoverage |  0.001478634 |  0.084694121 | -0.530895609 | -0.07593086 |  0.347653526 | -0.29655342 |  0.0316772242 | -0.03679484 | -0.080636180 | -0.106441305 | -0.537556295 |  0.54102914 |  0.7022565914 |  1.000000000 |\n",
       "\n"
      ],
      "text/plain": [
       "                                   basementenclosurecrawlspacetype censustract \n",
       "basementenclosurecrawlspacetype     1.000000000                    -0.027903103\n",
       "censustract                        -0.027903103                     1.000000000\n",
       "crsdiscount                         0.003664553                    -0.036406631\n",
       "deductibleamountinbuildingcoverage  0.038462772                     0.021674440\n",
       "deductibleamountincontentscoverage  0.018760106                     0.030444866\n",
       "federalpolicyfee                    0.053427984                    -0.013676849\n",
       "latitude                           -0.009765057                     0.538803795\n",
       "longitude                           0.063371933                    -0.693756148\n",
       "policycount                         0.006226167                    -0.003398148\n",
       "reportedzipcode                    -0.095567932                     0.244708598\n",
       "ratemethod_manual                  -0.001193068                    -0.032108849\n",
       "ratemethod_prp                     -0.059200361                     0.033305653\n",
       "totalbuildinginsurancecoverage      0.030879465                     0.105446214\n",
       "totalcontentsinsurancecoverage      0.001478634                     0.084694121\n",
       "                                   crsdiscount \n",
       "basementenclosurecrawlspacetype     0.003664553\n",
       "censustract                        -0.036406631\n",
       "crsdiscount                         1.000000000\n",
       "deductibleamountinbuildingcoverage  0.325499476\n",
       "deductibleamountincontentscoverage -0.078935961\n",
       "federalpolicyfee                    0.640698549\n",
       "latitude                           -0.101633072\n",
       "longitude                          -0.028817125\n",
       "policycount                         0.074550177\n",
       "reportedzipcode                     0.126874522\n",
       "ratemethod_manual                   0.958515614\n",
       "ratemethod_prp                     -0.951163154\n",
       "totalbuildinginsurancecoverage     -0.233203633\n",
       "totalcontentsinsurancecoverage     -0.530895609\n",
       "                                   deductibleamountinbuildingcoverage\n",
       "basementenclosurecrawlspacetype     0.03846277                       \n",
       "censustract                         0.02167444                       \n",
       "crsdiscount                         0.32549948                       \n",
       "deductibleamountinbuildingcoverage  1.00000000                       \n",
       "deductibleamountincontentscoverage  0.61825776                       \n",
       "federalpolicyfee                    0.56361845                       \n",
       "latitude                           -0.01991408                       \n",
       "longitude                          -0.03929861                       \n",
       "policycount                         0.03805885                       \n",
       "reportedzipcode                     0.04421503                       \n",
       "ratemethod_manual                   0.26250515                       \n",
       "ratemethod_prp                     -0.26672209                       \n",
       "totalbuildinginsurancecoverage      0.17971779                       \n",
       "totalcontentsinsurancecoverage     -0.07593086                       \n",
       "                                   deductibleamountincontentscoverage\n",
       "basementenclosurecrawlspacetype     0.018760106                      \n",
       "censustract                         0.030444866                      \n",
       "crsdiscount                        -0.078935961                      \n",
       "deductibleamountinbuildingcoverage  0.618257755                      \n",
       "deductibleamountincontentscoverage  1.000000000                      \n",
       "federalpolicyfee                    0.290827210                      \n",
       "latitude                            0.014945155                      \n",
       "longitude                          -0.010169752                      \n",
       "policycount                        -0.067919120                      \n",
       "reportedzipcode                    -0.008506294                      \n",
       "ratemethod_manual                  -0.122780106                      \n",
       "ratemethod_prp                      0.123120797                      \n",
       "totalbuildinginsurancecoverage      0.204870955                      \n",
       "totalcontentsinsurancecoverage      0.347653526                      \n",
       "                                   federalpolicyfee latitude      longitude  \n",
       "basementenclosurecrawlspacetype     0.05342798      -0.0097650567  0.06337193\n",
       "censustract                        -0.01367685       0.5388037949 -0.69375615\n",
       "crsdiscount                         0.64069855      -0.1016330718 -0.02881713\n",
       "deductibleamountinbuildingcoverage  0.56361845      -0.0199140797 -0.03929861\n",
       "deductibleamountincontentscoverage  0.29082721       0.0149451552 -0.01016975\n",
       "federalpolicyfee                    1.00000000      -0.0463802434 -0.02516335\n",
       "latitude                           -0.04638024       1.0000000000 -0.37313513\n",
       "longitude                          -0.02516335      -0.3731351339  1.00000000\n",
       "policycount                         0.07185870      -0.0191931579 -0.01130091\n",
       "reportedzipcode                     0.06274917       0.0099717730 -0.40090074\n",
       "ratemethod_manual                   0.65101637      -0.0690959834 -0.01861136\n",
       "ratemethod_prp                     -0.65978468       0.0716617624  0.01203623\n",
       "totalbuildinginsurancecoverage     -0.08547381       0.0009543902 -0.07308645\n",
       "totalcontentsinsurancecoverage     -0.29655342       0.0316772242 -0.03679484\n",
       "                                   policycount  reportedzipcode\n",
       "basementenclosurecrawlspacetype     0.006226167 -0.095567932   \n",
       "censustract                        -0.003398148  0.244708598   \n",
       "crsdiscount                         0.074550177  0.126874522   \n",
       "deductibleamountinbuildingcoverage  0.038058849  0.044215033   \n",
       "deductibleamountincontentscoverage -0.067919120 -0.008506294   \n",
       "federalpolicyfee                    0.071858696  0.062749168   \n",
       "latitude                           -0.019193158  0.009971773   \n",
       "longitude                          -0.011300911 -0.400900744   \n",
       "policycount                         1.000000000 -0.006012995   \n",
       "reportedzipcode                    -0.006012995  1.000000000   \n",
       "ratemethod_manual                   0.070761391  0.093551088   \n",
       "ratemethod_prp                     -0.071396812 -0.087574570   \n",
       "totalbuildinginsurancecoverage      0.081572943 -0.072515501   \n",
       "totalcontentsinsurancecoverage     -0.080636180 -0.106441305   \n",
       "                                   ratemethod_manual ratemethod_prp\n",
       "basementenclosurecrawlspacetype    -0.001193068      -0.05920036   \n",
       "censustract                        -0.032108849       0.03330565   \n",
       "crsdiscount                         0.958515614      -0.95116315   \n",
       "deductibleamountinbuildingcoverage  0.262505146      -0.26672209   \n",
       "deductibleamountincontentscoverage -0.122780106       0.12312080   \n",
       "federalpolicyfee                    0.651016367      -0.65978468   \n",
       "latitude                           -0.069095983       0.07166176   \n",
       "longitude                          -0.018611358       0.01203623   \n",
       "policycount                         0.070761391      -0.07139681   \n",
       "reportedzipcode                     0.093551088      -0.08757457   \n",
       "ratemethod_manual                   1.000000000      -0.98707972   \n",
       "ratemethod_prp                     -0.987079723       1.00000000   \n",
       "totalbuildinginsurancecoverage     -0.255653910       0.25360459   \n",
       "totalcontentsinsurancecoverage     -0.537556295       0.54102914   \n",
       "                                   totalbuildinginsurancecoverage\n",
       "basementenclosurecrawlspacetype     0.0308794648                 \n",
       "censustract                         0.1054462138                 \n",
       "crsdiscount                        -0.2332036325                 \n",
       "deductibleamountinbuildingcoverage  0.1797177909                 \n",
       "deductibleamountincontentscoverage  0.2048709552                 \n",
       "federalpolicyfee                   -0.0854738073                 \n",
       "latitude                            0.0009543902                 \n",
       "longitude                          -0.0730864512                 \n",
       "policycount                         0.0815729430                 \n",
       "reportedzipcode                    -0.0725155015                 \n",
       "ratemethod_manual                  -0.2556539102                 \n",
       "ratemethod_prp                      0.2536045912                 \n",
       "totalbuildinginsurancecoverage      1.0000000000                 \n",
       "totalcontentsinsurancecoverage      0.7022565914                 \n",
       "                                   totalcontentsinsurancecoverage\n",
       "basementenclosurecrawlspacetype     0.001478634                  \n",
       "censustract                         0.084694121                  \n",
       "crsdiscount                        -0.530895609                  \n",
       "deductibleamountinbuildingcoverage -0.075930860                  \n",
       "deductibleamountincontentscoverage  0.347653526                  \n",
       "federalpolicyfee                   -0.296553421                  \n",
       "latitude                            0.031677224                  \n",
       "longitude                          -0.036794843                  \n",
       "policycount                        -0.080636180                  \n",
       "reportedzipcode                    -0.106441305                  \n",
       "ratemethod_manual                  -0.537556295                  \n",
       "ratemethod_prp                      0.541029137                  \n",
       "totalbuildinginsurancecoverage      0.702256591                  \n",
       "totalcontentsinsurancecoverage      1.000000000                  "
      ]
     },
     "metadata": {},
     "output_type": "display_data"
    }
   ],
   "source": [
    "# Looking for Spearman correlation (checks nonlinear correlation too eg y=x3 has Spearman correlation of 1)\n",
    "# computationally demanding\n",
    "cormat_nonlin <- cor(df_num, use = \"pairwise.complete.obs\", method=\"spearman\")\n",
    "cormat_nonlin"
   ]
  },
  {
   "cell_type": "code",
   "execution_count": 53,
   "id": "4ad938fa",
   "metadata": {},
   "outputs": [
    {
     "data": {
      "text/html": [
       "<strong>jpeg:</strong> 3"
      ],
      "text/latex": [
       "\\textbf{jpeg:} 3"
      ],
      "text/markdown": [
       "**jpeg:** 3"
      ],
      "text/plain": [
       "jpeg \n",
       "   3 "
      ]
     },
     "metadata": {},
     "output_type": "display_data"
    },
    {
     "data": {
      "text/html": [
       "<strong>png:</strong> 2"
      ],
      "text/latex": [
       "\\textbf{png:} 2"
      ],
      "text/markdown": [
       "**png:** 2"
      ],
      "text/plain": [
       "png \n",
       "  2 "
      ]
     },
     "metadata": {},
     "output_type": "display_data"
    },
    {
     "data": {
      "image/png": "[encoded data removed]",
      "text/plain": [
       "Plot with title \"\n",
       "\n",
       " Correlation Plot of Flood Data with Spearman Method\""
      ]
     },
     "metadata": {
      "image/png": {
       "height": 420,
       "width": 420
      }
     },
     "output_type": "display_data"
    }
   ],
   "source": [
    "corrplot(cormat_nonlin, tl.col = \"red\", tl.srt = 45, bg = \"White\",\n",
    "         title = \"\\n\\n Correlation Plot of Flood Data with Spearman Method\",\n",
    "         type = \"lower\")\n",
    "\n",
    "dev.copy(jpeg, filename=\"Correlation Plot of Flood Data using Spearman.jpg\");\n",
    "dev.off ()"
   ]
  },
  {
   "cell_type": "code",
   "execution_count": 54,
   "id": "c2e26504",
   "metadata": {},
   "outputs": [
    {
     "data": {
      "text/html": [
       "<style>\n",
       ".list-inline {list-style: none; margin:0; padding: 0}\n",
       ".list-inline>li {display: inline-block}\n",
       ".list-inline>li:not(:last-child)::after {content: \"\\00b7\"; padding: 0 .5ex}\n",
       "</style>\n",
       "<ol class=list-inline><li>'ratemethod_prp'</li><li>'crsdiscount'</li><li>'ratemethod_manual'</li><li>'totalcontentsinsurancecoverage'</li><li>'deductibleamountinbuildingcoverage'</li><li>'censustract'</li></ol>\n"
      ],
      "text/latex": [
       "\\begin{enumerate*}\n",
       "\\item 'ratemethod\\_prp'\n",
       "\\item 'crsdiscount'\n",
       "\\item 'ratemethod\\_manual'\n",
       "\\item 'totalcontentsinsurancecoverage'\n",
       "\\item 'deductibleamountinbuildingcoverage'\n",
       "\\item 'censustract'\n",
       "\\end{enumerate*}\n"
      ],
      "text/markdown": [
       "1. 'ratemethod_prp'\n",
       "2. 'crsdiscount'\n",
       "3. 'ratemethod_manual'\n",
       "4. 'totalcontentsinsurancecoverage'\n",
       "5. 'deductibleamountinbuildingcoverage'\n",
       "6. 'censustract'\n",
       "\n",
       "\n"
      ],
      "text/plain": [
       "[1] \"ratemethod_prp\"                     \"crsdiscount\"                       \n",
       "[3] \"ratemethod_manual\"                  \"totalcontentsinsurancecoverage\"    \n",
       "[5] \"deductibleamountinbuildingcoverage\" \"censustract\"                       "
      ]
     },
     "metadata": {},
     "output_type": "display_data"
    },
    {
     "data": {
      "text/html": [
       "<style>\n",
       ".list-inline {list-style: none; margin:0; padding: 0}\n",
       ".list-inline>li {display: inline-block}\n",
       ".list-inline>li:not(:last-child)::after {content: \"\\00b7\"; padding: 0 .5ex}\n",
       "</style>\n",
       "<ol class=list-inline><li>2010347</li><li>35</li></ol>\n"
      ],
      "text/latex": [
       "\\begin{enumerate*}\n",
       "\\item 2010347\n",
       "\\item 35\n",
       "\\end{enumerate*}\n"
      ],
      "text/markdown": [
       "1. 2010347\n",
       "2. 35\n",
       "\n",
       "\n"
      ],
      "text/plain": [
       "[1] 2010347      35"
      ]
     },
     "metadata": {},
     "output_type": "display_data"
    }
   ],
   "source": [
    "## Remove Multicollinearity with cutoff 0.6\n",
    "highly_corelated = findCorrelation(cormat_nonlin, cutoff = 0.6)\n",
    "highlyCor_Col_nonlin = colnames(df_num)[highly_corelated]\n",
    "highlyCor_Col_nonlin\n",
    "# Now, we remove highly correlated variables from original dataset and create cleaner dataset, the dataset now contains 41 columns\n",
    "df_clean = df[, -which(colnames(df) %in% highlyCor_Col_nonlin)]\n",
    "dim(df_clean)"
   ]
  },
  {
   "cell_type": "code",
   "execution_count": 55,
   "id": "6291645b",
   "metadata": {},
   "outputs": [
    {
     "data": {
      "text/html": [
       "<style>\n",
       ".dl-inline {width: auto; margin:0; padding: 0}\n",
       ".dl-inline>dt, .dl-inline>dd {float: none; width: auto; display: inline-block}\n",
       ".dl-inline>dt::after {content: \":\\0020\"; padding-right: .5ex}\n",
       ".dl-inline>dt:not(:first-of-type) {padding-left: .5ex}\n",
       "</style><dl class=dl-inline><dt>basementenclosurecrawlspacetype</dt><dd>53</dd><dt>construction</dt><dd>1</dd><dt>deductibleamountincontentscoverage</dt><dd>0</dd><dt>elevatedbuildingindicator</dt><dd>17</dd><dt>elevationdifference</dt><dd>1676310</dd><dt>federalpolicyfee</dt><dd>0</dd><dt>latitude</dt><dd>14980</dd><dt>longitude</dt><dd>14980</dd><dt>numberoffloorsininsuredbuilding</dt><dd>7315</dd><dt>policycount</dt><dd>0</dd><dt>policytermindicator</dt><dd>0</dd><dt>postfirmconstructionindicator</dt><dd>7409</dd><dt>primaryresidenceindicator</dt><dd>1481</dd><dt>reportedzipcode</dt><dd>0</dd><dt>totalbuildinginsurancecoverage</dt><dd>0</dd><dt>totalinsurancepremiumofthepolicy</dt><dd>0</dd><dt>not_condo</dt><dd>1</dd><dt>u_condo</dt><dd>1</dd><dt>lowerflooronly</dt><dd>0</dd><dt>upperandlowerfloors</dt><dd>0</dd><dt>basementandabove</dt><dd>0</dd><dt>basementonly</dt><dd>0</dd><dt>morethan1floor</dt><dd>0</dd><dt>mobilehomeortrailer</dt><dd>0</dd><dt>floodzone_highrisk</dt><dd>7307</dd><dt>floodzone_modrisk</dt><dd>7307</dd><dt>floodzone_undetermined</dt><dd>7307</dd><dt>occupancytype_single</dt><dd>1</dd><dt>occupancytype_2or4</dt><dd>1</dd><dt>occupancytype_4more</dt><dd>1</dd><dt>occupancytype_business</dt><dd>1</dd></dl>\n"
      ],
      "text/latex": [
       "\\begin{description*}\n",
       "\\item[basementenclosurecrawlspacetype] 53\n",
       "\\item[construction] 1\n",
       "\\item[deductibleamountincontentscoverage] 0\n",
       "\\item[elevatedbuildingindicator] 17\n",
       "\\item[elevationdifference] 1676310\n",
       "\\item[federalpolicyfee] 0\n",
       "\\item[latitude] 14980\n",
       "\\item[longitude] 14980\n",
       "\\item[numberoffloorsininsuredbuilding] 7315\n",
       "\\item[policycount] 0\n",
       "\\item[policytermindicator] 0\n",
       "\\item[postfirmconstructionindicator] 7409\n",
       "\\item[primaryresidenceindicator] 1481\n",
       "\\item[reportedzipcode] 0\n",
       "\\item[totalbuildinginsurancecoverage] 0\n",
       "\\item[totalinsurancepremiumofthepolicy] 0\n",
       "\\item[not\\textbackslash{}\\_condo] 1\n",
       "\\item[u\\textbackslash{}\\_condo] 1\n",
       "\\item[lowerflooronly] 0\n",
       "\\item[upperandlowerfloors] 0\n",
       "\\item[basementandabove] 0\n",
       "\\item[basementonly] 0\n",
       "\\item[morethan1floor] 0\n",
       "\\item[mobilehomeortrailer] 0\n",
       "\\item[floodzone\\textbackslash{}\\_highrisk] 7307\n",
       "\\item[floodzone\\textbackslash{}\\_modrisk] 7307\n",
       "\\item[floodzone\\textbackslash{}\\_undetermined] 7307\n",
       "\\item[occupancytype\\textbackslash{}\\_single] 1\n",
       "\\item[occupancytype\\textbackslash{}\\_2or4] 1\n",
       "\\item[occupancytype\\textbackslash{}\\_4more] 1\n",
       "\\item[occupancytype\\textbackslash{}\\_business] 1\n",
       "\\end{description*}\n"
      ],
      "text/markdown": [
       "basementenclosurecrawlspacetype\n",
       ":   53construction\n",
       ":   1deductibleamountincontentscoverage\n",
       ":   0elevatedbuildingindicator\n",
       ":   17elevationdifference\n",
       ":   1676310federalpolicyfee\n",
       ":   0latitude\n",
       ":   14980longitude\n",
       ":   14980numberoffloorsininsuredbuilding\n",
       ":   7315policycount\n",
       ":   0policytermindicator\n",
       ":   0postfirmconstructionindicator\n",
       ":   7409primaryresidenceindicator\n",
       ":   1481reportedzipcode\n",
       ":   0totalbuildinginsurancecoverage\n",
       ":   0totalinsurancepremiumofthepolicy\n",
       ":   0not_condo\n",
       ":   1u_condo\n",
       ":   1lowerflooronly\n",
       ":   0upperandlowerfloors\n",
       ":   0basementandabove\n",
       ":   0basementonly\n",
       ":   0morethan1floor\n",
       ":   0mobilehomeortrailer\n",
       ":   0floodzone_highrisk\n",
       ":   7307floodzone_modrisk\n",
       ":   7307floodzone_undetermined\n",
       ":   7307occupancytype_single\n",
       ":   1occupancytype_2or4\n",
       ":   1occupancytype_4more\n",
       ":   1occupancytype_business\n",
       ":   1\n",
       "\n"
      ],
      "text/plain": [
       "   basementenclosurecrawlspacetype                       construction \n",
       "                                53                                  1 \n",
       "deductibleamountincontentscoverage          elevatedbuildingindicator \n",
       "                                 0                                 17 \n",
       "               elevationdifference                   federalpolicyfee \n",
       "                           1676310                                  0 \n",
       "                          latitude                          longitude \n",
       "                             14980                              14980 \n",
       "   numberoffloorsininsuredbuilding                        policycount \n",
       "                              7315                                  0 \n",
       "               policytermindicator      postfirmconstructionindicator \n",
       "                                 0                               7409 \n",
       "         primaryresidenceindicator                    reportedzipcode \n",
       "                              1481                                  0 \n",
       "    totalbuildinginsurancecoverage   totalinsurancepremiumofthepolicy \n",
       "                                 0                                  0 \n",
       "                         not_condo                            u_condo \n",
       "                                 1                                  1 \n",
       "                    lowerflooronly                upperandlowerfloors \n",
       "                                 0                                  0 \n",
       "                  basementandabove                       basementonly \n",
       "                                 0                                  0 \n",
       "                    morethan1floor                mobilehomeortrailer \n",
       "                                 0                                  0 \n",
       "                floodzone_highrisk                  floodzone_modrisk \n",
       "                              7307                               7307 \n",
       "            floodzone_undetermined               occupancytype_single \n",
       "                              7307                                  1 \n",
       "                occupancytype_2or4                occupancytype_4more \n",
       "                                 1                                  1 \n",
       "            occupancytype_business \n",
       "                                 1 "
      ]
     },
     "metadata": {},
     "output_type": "display_data"
    }
   ],
   "source": [
    "var_list <- colnames(df_clean)\n",
    "var_list <- var_list[!var_list %in% date_list]\n",
    "df_clean2 <- subset(df_clean, select=(var_list))\n",
    "colSums(is.na(df_clean2)"
   ]
  },
  {
   "cell_type": "code",
   "execution_count": 56,
   "id": "3fefa78b",
   "metadata": {},
   "outputs": [
    {
     "data": {
      "text/html": [
       "<table class=\"dataframe\">\n",
       "<caption>A matrix: 2 × 2 of type dbl</caption>\n",
       "<thead>\n",
       "\t<tr><th></th><th scope=col>elevationdifference</th><th scope=col>totalinsurancepremiumofthepolicy</th></tr>\n",
       "</thead>\n",
       "<tbody>\n",
       "\t<tr><th scope=row>elevationdifference</th><td> 1.0000000</td><td>-0.6586606</td></tr>\n",
       "\t<tr><th scope=row>totalinsurancepremiumofthepolicy</th><td>-0.6586606</td><td> 1.0000000</td></tr>\n",
       "</tbody>\n",
       "</table>\n"
      ],
      "text/latex": [
       "A matrix: 2 × 2 of type dbl\n",
       "\\begin{tabular}{r|ll}\n",
       "  & elevationdifference & totalinsurancepremiumofthepolicy\\\\\n",
       "\\hline\n",
       "\televationdifference &  1.0000000 & -0.6586606\\\\\n",
       "\ttotalinsurancepremiumofthepolicy & -0.6586606 &  1.0000000\\\\\n",
       "\\end{tabular}\n"
      ],
      "text/markdown": [
       "\n",
       "A matrix: 2 × 2 of type dbl\n",
       "\n",
       "| <!--/--> | elevationdifference | totalinsurancepremiumofthepolicy |\n",
       "|---|---|---|\n",
       "| elevationdifference |  1.0000000 | -0.6586606 |\n",
       "| totalinsurancepremiumofthepolicy | -0.6586606 |  1.0000000 |\n",
       "\n"
      ],
      "text/plain": [
       "                                 elevationdifference\n",
       "elevationdifference               1.0000000         \n",
       "totalinsurancepremiumofthepolicy -0.6586606         \n",
       "                                 totalinsurancepremiumofthepolicy\n",
       "elevationdifference              -0.6586606                      \n",
       "totalinsurancepremiumofthepolicy  1.0000000                      "
      ]
     },
     "metadata": {},
     "output_type": "display_data"
    },
    {
     "data": {
      "text/html": [
       "<table class=\"dataframe\">\n",
       "<caption>A matrix: 2 × 2 of type dbl</caption>\n",
       "<thead>\n",
       "\t<tr><th></th><th scope=col>elevationdifference</th><th scope=col>totalinsurancepremiumofthepolicy</th></tr>\n",
       "</thead>\n",
       "<tbody>\n",
       "\t<tr><th scope=row>elevationdifference</th><td> 1.0000000</td><td>-0.2960271</td></tr>\n",
       "\t<tr><th scope=row>totalinsurancepremiumofthepolicy</th><td>-0.2960271</td><td> 1.0000000</td></tr>\n",
       "</tbody>\n",
       "</table>\n"
      ],
      "text/latex": [
       "A matrix: 2 × 2 of type dbl\n",
       "\\begin{tabular}{r|ll}\n",
       "  & elevationdifference & totalinsurancepremiumofthepolicy\\\\\n",
       "\\hline\n",
       "\televationdifference &  1.0000000 & -0.2960271\\\\\n",
       "\ttotalinsurancepremiumofthepolicy & -0.2960271 &  1.0000000\\\\\n",
       "\\end{tabular}\n"
      ],
      "text/markdown": [
       "\n",
       "A matrix: 2 × 2 of type dbl\n",
       "\n",
       "| <!--/--> | elevationdifference | totalinsurancepremiumofthepolicy |\n",
       "|---|---|---|\n",
       "| elevationdifference |  1.0000000 | -0.2960271 |\n",
       "| totalinsurancepremiumofthepolicy | -0.2960271 |  1.0000000 |\n",
       "\n"
      ],
      "text/plain": [
       "                                 elevationdifference\n",
       "elevationdifference               1.0000000         \n",
       "totalinsurancepremiumofthepolicy -0.2960271         \n",
       "                                 totalinsurancepremiumofthepolicy\n",
       "elevationdifference              -0.2960271                      \n",
       "totalinsurancepremiumofthepolicy  1.0000000                      "
      ]
     },
     "metadata": {},
     "output_type": "display_data"
    }
   ],
   "source": [
    "cor(subset(df_clean2, select=c(elevationdifference, totalinsurancepremiumofthepolicy)), \n",
    "    use = \"pairwise.complete.obs\", method=\"spearman\")\n",
    "# elevatiodifference has a high nonlinear correlation with the target variable (~-0.66) ==> \n",
    "#it should not be removed \n",
    "\n",
    "# replace na with mean and see if corrrelation holds\n",
    "df_clean3 <- df_clean2\n",
    "df_clean3$elevationdifference[is.na(df_clean3$elevationdifference)] <- mean(df_clean2$elevationdifference, na.rm=TRUE)\n",
    "cor(subset(df_clean3, select=c(elevationdifference, totalinsurancepremiumofthepolicy)), \n",
    "    use = \"pairwise.complete.obs\", method=\"spearman\")\n",
    "# The correlation doesn't hold, but the direction holds (still negative) and the value is still high (-0.29)\n",
    "# this works better than other forms of imputation, keeping it"
   ]
  },
  {
   "cell_type": "code",
   "execution_count": 57,
   "id": "be157eeb",
   "metadata": {},
   "outputs": [
    {
     "data": {
      "image/png": "[encoded data removed]",
      "text/plain": [
       "plot without title"
      ]
     },
     "metadata": {
      "image/png": {
       "height": 420,
       "width": 420
      }
     },
     "output_type": "display_data"
    }
   ],
   "source": [
    "# plotting elevation differences between -100 to 250 (majority of data)\n",
    "plot(df_clean3$elevationdifference[df_clean3$elevationdifference> -100 & df$elevationdifference<250], df_clean3$totalinsurancepremiumofthepolicy[df_clean3$elevationdifference> -100 & df_clean3$elevationdifference<250])"
   ]
  },
  {
   "cell_type": "code",
   "execution_count": 58,
   "id": "9f27a293",
   "metadata": {},
   "outputs": [
    {
     "data": {
      "text/html": [
       "22461"
      ],
      "text/latex": [
       "22461"
      ],
      "text/markdown": [
       "22461"
      ],
      "text/plain": [
       "[1] 22461"
      ]
     },
     "metadata": {},
     "output_type": "display_data"
    },
    {
     "data": {
      "text/html": [
       "1987886"
      ],
      "text/latex": [
       "1987886"
      ],
      "text/markdown": [
       "1987886"
      ],
      "text/plain": [
       "[1] 1987886"
      ]
     },
     "metadata": {},
     "output_type": "display_data"
    }
   ],
   "source": [
    "# reportedzipcode: 5 digit Postal Zip Code for the insured property reported by WYO partners\n",
    "# It's not a real number; also we have longitude and latitude ==> need to omit it for modeling\n",
    "# For now it is kept to be able to do filtering based on zipcode for later\n",
    "#df_clean3 <- subset(df_clean3, select=-c(reportedzipcode))\n",
    "\n",
    "# remove rows with na values\n",
    "row.has.na <- apply(df_clean3, 1, function(x){any(is.na(x))})\n",
    "sum(row.has.na) # number of NAs\n",
    "df_clean3 <- df_clean3[!row.has.na,]\n",
    "nrow(df_clean3) # number of rows after removing NAs"
   ]
  },
  {
   "cell_type": "code",
   "execution_count": 59,
   "id": "b76fd2d9",
   "metadata": {},
   "outputs": [
    {
     "data": {
      "text/plain": [
       "\n",
       "Call:\n",
       "lm(formula = totalinsurancepremiumofthepolicy ~ ., data = temp)\n",
       "\n",
       "Residuals:\n",
       "     Min       1Q   Median       3Q      Max \n",
       "-14880.6   -113.8    -57.8      3.0  11800.6 \n",
       "\n",
       "Coefficients: (8 not defined because of singularities)\n",
       "                                     Estimate Std. Error  t value Pr(>|t|)    \n",
       "(Intercept)                         7.364e+02  2.251e+02    3.272  0.00107 ** \n",
       "basementenclosurecrawlspacetype    -4.677e+00  8.190e-01   -5.711 1.12e-08 ***\n",
       "construction                               NA         NA       NA       NA    \n",
       "deductibleamountincontentscoverage  3.134e-02  2.158e-04  145.182  < 2e-16 ***\n",
       "elevatedbuildingindicator                  NA         NA       NA       NA    \n",
       "elevationdifference                -7.464e+00  7.622e-02  -97.924  < 2e-16 ***\n",
       "federalpolicyfee                    2.039e+00  1.436e-02  141.959  < 2e-16 ***\n",
       "latitude                           -1.697e+01  2.379e+00   -7.134 9.77e-13 ***\n",
       "longitude                          -4.552e+00  1.729e+00   -2.633  0.00847 ** \n",
       "numberoffloorsininsuredbuilding    -9.261e+01  6.598e-01 -140.351  < 2e-16 ***\n",
       "policycount                        -6.751e+01  5.771e-01 -116.976  < 2e-16 ***\n",
       "policytermindicator                        NA         NA       NA       NA    \n",
       "postfirmconstructionindicator              NA         NA       NA       NA    \n",
       "primaryresidenceindicator                  NA         NA       NA       NA    \n",
       "totalbuildinginsurancecoverage      9.753e-04  2.836e-06  343.878  < 2e-16 ***\n",
       "not_condo                           1.805e+02  7.142e+00   25.277  < 2e-16 ***\n",
       "u_condo                             7.412e+01  7.333e+00   10.108  < 2e-16 ***\n",
       "lowerflooronly                     -6.262e+00  7.665e-01   -8.170 3.10e-16 ***\n",
       "upperandlowerfloors                 1.483e+01  8.440e-01   17.571  < 2e-16 ***\n",
       "basementandabove                    5.355e+01  2.847e+00   18.811  < 2e-16 ***\n",
       "basementonly                        1.973e+02  1.126e+02    1.752  0.07979 .  \n",
       "morethan1floor                     -1.584e+02  5.559e+00  -28.488  < 2e-16 ***\n",
       "mobilehomeortrailer                        NA         NA       NA       NA    \n",
       "floodzone_highrisk                  5.315e+02  1.689e+02    3.146  0.00165 ** \n",
       "floodzone_modrisk                   2.385e+02  1.689e+02    1.412  0.15799    \n",
       "floodzone_undetermined                     NA         NA       NA       NA    \n",
       "occupancytype_single               -7.641e+02  2.229e+00 -342.874  < 2e-16 ***\n",
       "occupancytype_2or4                 -7.381e+02  3.387e+00 -217.934  < 2e-16 ***\n",
       "occupancytype_4more                -3.801e+02  2.423e+00 -156.868  < 2e-16 ***\n",
       "occupancytype_business                     NA         NA       NA       NA    \n",
       "---\n",
       "Signif. codes:  0 '***' 0.001 '**' 0.01 '*' 0.05 '.' 0.1 ' ' 1\n",
       "\n",
       "Residual standard error: 337.8 on 1987864 degrees of freedom\n",
       "Multiple R-squared:  0.3337,\tAdjusted R-squared:  0.3337 \n",
       "F-statistic: 4.74e+04 on 21 and 1987864 DF,  p-value: < 2.2e-16\n"
      ]
     },
     "metadata": {},
     "output_type": "display_data"
    }
   ],
   "source": [
    "# running the first linear regression\n",
    "temp <- subset(df_clean3, select = -c(reportedzipcode))\n",
    "fit = lm(totalinsurancepremiumofthepolicy ~., data=temp)\n",
    "summary(fit)"
   ]
  },
  {
   "cell_type": "code",
   "execution_count": 60,
   "id": "93c5d112",
   "metadata": {},
   "outputs": [
    {
     "data": {
      "text/plain": [
       "\n",
       "Call:\n",
       "lm(formula = totalinsurancepremiumofthepolicy ~ ., data = temp)\n",
       "\n",
       "Residuals:\n",
       "     Min       1Q   Median       3Q      Max \n",
       "-14880.6   -113.8    -57.8      3.0  11800.6 \n",
       "\n",
       "Coefficients: (4 not defined because of singularities)\n",
       "                                     Estimate Std. Error  t value Pr(>|t|)    \n",
       "(Intercept)                         7.364e+02  2.251e+02    3.272  0.00107 ** \n",
       "basementenclosurecrawlspacetype    -4.677e+00  8.190e-01   -5.711 1.12e-08 ***\n",
       "construction                               NA         NA       NA       NA    \n",
       "deductibleamountincontentscoverage  3.134e-02  2.158e-04  145.182  < 2e-16 ***\n",
       "elevatedbuildingindicator                  NA         NA       NA       NA    \n",
       "elevationdifference                -7.464e+00  7.622e-02  -97.924  < 2e-16 ***\n",
       "federalpolicyfee                    2.039e+00  1.436e-02  141.959  < 2e-16 ***\n",
       "latitude                           -1.697e+01  2.379e+00   -7.134 9.77e-13 ***\n",
       "longitude                          -4.552e+00  1.729e+00   -2.633  0.00847 ** \n",
       "numberoffloorsininsuredbuilding    -9.261e+01  6.598e-01 -140.351  < 2e-16 ***\n",
       "policycount                        -6.751e+01  5.771e-01 -116.976  < 2e-16 ***\n",
       "postfirmconstructionindicator              NA         NA       NA       NA    \n",
       "primaryresidenceindicator                  NA         NA       NA       NA    \n",
       "totalbuildinginsurancecoverage      9.753e-04  2.836e-06  343.878  < 2e-16 ***\n",
       "not_condo                           1.805e+02  7.142e+00   25.277  < 2e-16 ***\n",
       "u_condo                             7.412e+01  7.333e+00   10.108  < 2e-16 ***\n",
       "lowerflooronly                     -6.262e+00  7.665e-01   -8.170 3.10e-16 ***\n",
       "upperandlowerfloors                 1.483e+01  8.440e-01   17.571  < 2e-16 ***\n",
       "basementandabove                    5.355e+01  2.847e+00   18.811  < 2e-16 ***\n",
       "basementonly                        1.973e+02  1.126e+02    1.752  0.07979 .  \n",
       "morethan1floor                     -1.584e+02  5.559e+00  -28.488  < 2e-16 ***\n",
       "floodzone_highrisk                  5.315e+02  1.689e+02    3.146  0.00165 ** \n",
       "floodzone_modrisk                   2.385e+02  1.689e+02    1.412  0.15799    \n",
       "occupancytype_single               -7.641e+02  2.229e+00 -342.874  < 2e-16 ***\n",
       "occupancytype_2or4                 -7.381e+02  3.387e+00 -217.934  < 2e-16 ***\n",
       "occupancytype_4more                -3.801e+02  2.423e+00 -156.868  < 2e-16 ***\n",
       "---\n",
       "Signif. codes:  0 '***' 0.001 '**' 0.01 '*' 0.05 '.' 0.1 ' ' 1\n",
       "\n",
       "Residual standard error: 337.8 on 1987864 degrees of freedom\n",
       "Multiple R-squared:  0.3337,\tAdjusted R-squared:  0.3337 \n",
       "F-statistic: 4.74e+04 on 21 and 1987864 DF,  p-value: < 2.2e-16\n"
      ]
     },
     "metadata": {},
     "output_type": "display_data"
    }
   ],
   "source": [
    "# removing variables with NA coefficients\n",
    "# NA as a coefficient in a regression indicates that the variable in question is linearly related \n",
    "# to the other variables.\n",
    "df_clean3 <- subset(df_clean3, select=-c(policytermindicator,mobilehomeortrailer, floodzone_undetermined, \n",
    "                                         occupancytype_business))\n",
    "temp <- subset(df_clean3, select = -c(reportedzipcode))\n",
    "fit = lm(totalinsurancepremiumofthepolicy ~., data=temp)\n",
    "summary(fit)\n",
    "# not removing insignificant features yet. Maybe after non-linear transformation they turn significant"
   ]
  },
  {
   "cell_type": "code",
   "execution_count": 61,
   "id": "0d45bc60",
   "metadata": {},
   "outputs": [
    {
     "data": {
      "text/plain": [
       "\n",
       "Call:\n",
       "lm(formula = log(totalinsurancepremiumofthepolicy + 1) ~ ., data = temp)\n",
       "\n",
       "Residuals:\n",
       "     Min       1Q   Median       3Q      Max \n",
       "-23.6015  -0.1448  -0.0609   0.0733  18.1485 \n",
       "\n",
       "Coefficients: (4 not defined because of singularities)\n",
       "                                     Estimate Std. Error  t value Pr(>|t|)    \n",
       "(Intercept)                         4.372e+00  2.922e-01   14.961  < 2e-16 ***\n",
       "basementenclosurecrawlspacetype    -7.880e-03  1.063e-03   -7.411 1.25e-13 ***\n",
       "construction                               NA         NA       NA       NA    \n",
       "deductibleamountincontentscoverage  3.909e-05  2.802e-07  139.512  < 2e-16 ***\n",
       "elevatedbuildingindicator                  NA         NA       NA       NA    \n",
       "elevationdifference                -1.197e-02  9.894e-05 -120.940  < 2e-16 ***\n",
       "federalpolicyfee                    2.753e-03  1.864e-05  147.667  < 2e-16 ***\n",
       "latitude                           -4.609e-02  3.088e-03  -14.925  < 2e-16 ***\n",
       "longitude                          -3.441e-02  2.245e-03  -15.332  < 2e-16 ***\n",
       "numberoffloorsininsuredbuilding    -1.416e-01  8.566e-04 -165.276  < 2e-16 ***\n",
       "policycount                        -1.145e-01  7.492e-04 -152.902  < 2e-16 ***\n",
       "postfirmconstructionindicator              NA         NA       NA       NA    \n",
       "primaryresidenceindicator                  NA         NA       NA       NA    \n",
       "totalbuildinginsurancecoverage      1.762e-06  3.682e-09  478.707  < 2e-16 ***\n",
       "not_condo                           3.798e-01  9.271e-03   40.963  < 2e-16 ***\n",
       "u_condo                             1.615e-01  9.519e-03   16.960  < 2e-16 ***\n",
       "lowerflooronly                     -3.037e-02  9.950e-04  -30.521  < 2e-16 ***\n",
       "upperandlowerfloors                 2.706e-02  1.096e-03   24.701  < 2e-16 ***\n",
       "basementandabove                    1.116e-01  3.695e-03   30.203  < 2e-16 ***\n",
       "basementonly                        4.978e-01  1.462e-01    3.405 0.000661 ***\n",
       "morethan1floor                     -3.076e-01  7.216e-03  -42.622  < 2e-16 ***\n",
       "floodzone_highrisk                  3.368e-01  2.193e-01    1.536 0.124542    \n",
       "floodzone_modrisk                  -1.555e-01  2.193e-01   -0.709 0.478121    \n",
       "occupancytype_single               -7.635e-01  2.893e-03 -263.929  < 2e-16 ***\n",
       "occupancytype_2or4                 -7.719e-01  4.397e-03 -175.560  < 2e-16 ***\n",
       "occupancytype_4more                -4.271e-01  3.146e-03 -135.778  < 2e-16 ***\n",
       "---\n",
       "Signif. codes:  0 '***' 0.001 '**' 0.01 '*' 0.05 '.' 0.1 ' ' 1\n",
       "\n",
       "Residual standard error: 0.4385 on 1987864 degrees of freedom\n",
       "Multiple R-squared:  0.3762,\tAdjusted R-squared:  0.3762 \n",
       "F-statistic: 5.708e+04 on 21 and 1987864 DF,  p-value: < 2.2e-16\n"
      ]
     },
     "metadata": {},
     "output_type": "display_data"
    }
   ],
   "source": [
    "# check log-linear model\n",
    "fit = lm(log(totalinsurancepremiumofthepolicy+1) ~ ., data=temp)\n",
    "summary(fit)"
   ]
  },
  {
   "cell_type": "code",
   "execution_count": 62,
   "id": "430d65cd",
   "metadata": {},
   "outputs": [
    {
     "data": {
      "text/html": [
       "<style>\n",
       ".list-inline {list-style: none; margin:0; padding: 0}\n",
       ".list-inline>li {display: inline-block}\n",
       ".list-inline>li:not(:last-child)::after {content: \"\\00b7\"; padding: 0 .5ex}\n",
       "</style>\n",
       "<ol class=list-inline><li>'basementenclosurecrawlspacetype'</li><li>'construction'</li><li>'deductibleamountincontentscoverage'</li><li>'elevatedbuildingindicator'</li><li>'elevationdifference'</li><li>'federalpolicyfee'</li><li>'latitude'</li><li>'longitude'</li><li>'numberoffloorsininsuredbuilding'</li><li>'policycount'</li><li>'postfirmconstructionindicator'</li><li>'primaryresidenceindicator'</li><li>'totalbuildinginsurancecoverage'</li><li>'not_condo'</li><li>'u_condo'</li><li>'lowerflooronly'</li><li>'upperandlowerfloors'</li><li>'basementandabove'</li><li>'basementonly'</li><li>'morethan1floor'</li><li>'floodzone_highrisk'</li><li>'floodzone_modrisk'</li><li>'occupancytype_single'</li><li>'occupancytype_2or4'</li><li>'occupancytype_4more'</li></ol>\n"
      ],
      "text/latex": [
       "\\begin{enumerate*}\n",
       "\\item 'basementenclosurecrawlspacetype'\n",
       "\\item 'construction'\n",
       "\\item 'deductibleamountincontentscoverage'\n",
       "\\item 'elevatedbuildingindicator'\n",
       "\\item 'elevationdifference'\n",
       "\\item 'federalpolicyfee'\n",
       "\\item 'latitude'\n",
       "\\item 'longitude'\n",
       "\\item 'numberoffloorsininsuredbuilding'\n",
       "\\item 'policycount'\n",
       "\\item 'postfirmconstructionindicator'\n",
       "\\item 'primaryresidenceindicator'\n",
       "\\item 'totalbuildinginsurancecoverage'\n",
       "\\item 'not\\_condo'\n",
       "\\item 'u\\_condo'\n",
       "\\item 'lowerflooronly'\n",
       "\\item 'upperandlowerfloors'\n",
       "\\item 'basementandabove'\n",
       "\\item 'basementonly'\n",
       "\\item 'morethan1floor'\n",
       "\\item 'floodzone\\_highrisk'\n",
       "\\item 'floodzone\\_modrisk'\n",
       "\\item 'occupancytype\\_single'\n",
       "\\item 'occupancytype\\_2or4'\n",
       "\\item 'occupancytype\\_4more'\n",
       "\\end{enumerate*}\n"
      ],
      "text/markdown": [
       "1. 'basementenclosurecrawlspacetype'\n",
       "2. 'construction'\n",
       "3. 'deductibleamountincontentscoverage'\n",
       "4. 'elevatedbuildingindicator'\n",
       "5. 'elevationdifference'\n",
       "6. 'federalpolicyfee'\n",
       "7. 'latitude'\n",
       "8. 'longitude'\n",
       "9. 'numberoffloorsininsuredbuilding'\n",
       "10. 'policycount'\n",
       "11. 'postfirmconstructionindicator'\n",
       "12. 'primaryresidenceindicator'\n",
       "13. 'totalbuildinginsurancecoverage'\n",
       "14. 'not_condo'\n",
       "15. 'u_condo'\n",
       "16. 'lowerflooronly'\n",
       "17. 'upperandlowerfloors'\n",
       "18. 'basementandabove'\n",
       "19. 'basementonly'\n",
       "20. 'morethan1floor'\n",
       "21. 'floodzone_highrisk'\n",
       "22. 'floodzone_modrisk'\n",
       "23. 'occupancytype_single'\n",
       "24. 'occupancytype_2or4'\n",
       "25. 'occupancytype_4more'\n",
       "\n",
       "\n"
      ],
      "text/plain": [
       " [1] \"basementenclosurecrawlspacetype\"    \"construction\"                      \n",
       " [3] \"deductibleamountincontentscoverage\" \"elevatedbuildingindicator\"         \n",
       " [5] \"elevationdifference\"                \"federalpolicyfee\"                  \n",
       " [7] \"latitude\"                           \"longitude\"                         \n",
       " [9] \"numberoffloorsininsuredbuilding\"    \"policycount\"                       \n",
       "[11] \"postfirmconstructionindicator\"      \"primaryresidenceindicator\"         \n",
       "[13] \"totalbuildinginsurancecoverage\"     \"not_condo\"                         \n",
       "[15] \"u_condo\"                            \"lowerflooronly\"                    \n",
       "[17] \"upperandlowerfloors\"                \"basementandabove\"                  \n",
       "[19] \"basementonly\"                       \"morethan1floor\"                    \n",
       "[21] \"floodzone_highrisk\"                 \"floodzone_modrisk\"                 \n",
       "[23] \"occupancytype_single\"               \"occupancytype_2or4\"                \n",
       "[25] \"occupancytype_4more\"               "
      ]
     },
     "metadata": {},
     "output_type": "display_data"
    }
   ],
   "source": [
    "# there is a non-linear trend here.\n",
    "# let's check if the features need to be transformed too\n",
    "final_features = colnames(df_clean3)\n",
    "final_features <- final_features[final_features != \"totalinsurancepremiumofthepolicy\" & final_features != \"reportedzipcode\"]\n",
    "final_features"
   ]
  },
  {
   "cell_type": "code",
   "execution_count": 64,
   "id": "d20b9440",
   "metadata": {},
   "outputs": [
    {
     "name": "stdout",
     "output_type": "stream",
     "text": [
      "[1] \"basementenclosurecrawlspacetype\"\n"
     ]
    }
   ],
   "source": [
    "# log transformation\n",
    "# for each feature compare adjusted R2 for log transformation; it will print the features whose \n",
    "# log transformation increases adjusted R2\n",
    "mod_lin <- lm(log(totalinsurancepremiumofthepolicy+1) ~ basementenclosurecrawlspacetype, \n",
    "              data = df_clean3)\n",
    "mod_log <- lm(log(totalinsurancepremiumofthepolicy+1) ~ log(basementenclosurecrawlspacetype+1), \n",
    "              data = df_clean3)\n",
    "if (summary(mod_log)$adj.r.squared > summary(mod_lin)$adj.r.squared) {\n",
    "  print(\"basementenclosurecrawlspacetype\")\n",
    "}\n",
    "\n",
    "mod_lin <- lm(log(totalinsurancepremiumofthepolicy+1) ~ construction, \n",
    "              data = df_clean3)\n",
    "mod_log <- lm(log(totalinsurancepremiumofthepolicy+1) ~ log(construction+1), \n",
    "              data = df_clean3)\n",
    "if (summary(mod_log)$adj.r.squared > summary(mod_lin)$adj.r.squared) {\n",
    "  print(\"construction\")\n",
    "}\n",
    "\n",
    "mod_lin <- lm(log(totalinsurancepremiumofthepolicy+1) ~ deductibleamountincontentscoverage, \n",
    "              data = df_clean3)\n",
    "mod_log <- lm(log(totalinsurancepremiumofthepolicy+1) ~ log(deductibleamountincontentscoverage+1), \n",
    "              data = df_clean3)\n",
    "if (summary(mod_log)$adj.r.squared > summary(mod_lin)$adj.r.squared) {\n",
    "  print(\"deductibleamountincontentscoverage\")\n",
    "}\n",
    "\n",
    "mod_lin <- lm(log(totalinsurancepremiumofthepolicy+1) ~ elevatedbuildingindicator, \n",
    "              data = df_clean3)\n",
    "mod_log <- lm(log(totalinsurancepremiumofthepolicy+1) ~ log(elevatedbuildingindicator+1), \n",
    "              data = df_clean3)\n",
    "if (summary(mod_log)$adj.r.squared > summary(mod_lin)$adj.r.squared) {\n",
    "  print(\"elevatedbuildingindicator\")\n",
    "}\n",
    "\n",
    "const <- abs(min(df_clean3$elevationdifference))\n",
    "mod_lin <- lm(log(totalinsurancepremiumofthepolicy+1) ~ elevationdifference, \n",
    "              data = df_clean3)\n",
    "mod_log <- lm(log(totalinsurancepremiumofthepolicy+1) ~ log(elevationdifference+const+1), \n",
    "              data = df_clean3)\n",
    "if (summary(mod_log)$adj.r.squared > summary(mod_lin)$adj.r.squared) {\n",
    "  print(\"elevationdifference+const\")\n",
    "}\n",
    "\n",
    "mod_lin <- lm(log(totalinsurancepremiumofthepolicy+1) ~ federalpolicyfee, \n",
    "              data = df_clean3)\n",
    "mod_log <- lm(log(totalinsurancepremiumofthepolicy+1) ~ log(federalpolicyfee+1), \n",
    "              data = df_clean3)\n",
    "if (summary(mod_log)$adj.r.squared > summary(mod_lin)$adj.r.squared) {\n",
    "  print(\"federalpolicyfee\")\n",
    "}\n",
    "\n",
    "const <- abs(min(df_clean3$latitude))\n",
    "mod_lin <- lm(log(totalinsurancepremiumofthepolicy+1) ~ latitude, \n",
    "              data = df_clean3)\n",
    "mod_log <- lm(log(totalinsurancepremiumofthepolicy+1) ~ log(latitude+const+1), \n",
    "              data = df_clean3)\n",
    "if (summary(mod_log)$adj.r.squared > summary(mod_lin)$adj.r.squared) {\n",
    "  print(\"latitude+const\")\n",
    "}\n"
   ]
  },
  {
   "cell_type": "code",
   "execution_count": 65,
   "id": "50504580",
   "metadata": {},
   "outputs": [
    {
     "ename": "ERROR",
     "evalue": "Error in eval(predvars, data, env): object 'deductibleamountinbuildingcoverage' not found\n",
     "output_type": "error",
     "traceback": [
      "Error in eval(predvars, data, env): object 'deductibleamountinbuildingcoverage' not found\nTraceback:\n",
      "1. lm(log(totalinsurancepremiumofthepolicy + 1) ~ deductibleamountinbuildingcoverage, \n .     data = df_clean3)",
      "2. eval(mf, parent.frame())",
      "3. eval(mf, parent.frame())",
      "4. stats::model.frame(formula = log(totalinsurancepremiumofthepolicy + \n .     1) ~ deductibleamountinbuildingcoverage, data = df_clean3, \n .     drop.unused.levels = TRUE)",
      "5. model.frame.default(formula = log(totalinsurancepremiumofthepolicy + \n .     1) ~ deductibleamountinbuildingcoverage, data = df_clean3, \n .     drop.unused.levels = TRUE)",
      "6. eval(predvars, data, env)",
      "7. eval(predvars, data, env)"
     ]
    }
   ],
   "source": [
    "mod_lin <- lm(log(totalinsurancepremiumofthepolicy+1) ~ deductibleamountinbuildingcoverage, \n",
    "              data = df_clean3)\n",
    "mod_log <- lm(log(totalinsurancepremiumofthepolicy+1) ~ log(deductibleamountinbuildingcoverage+1), \n",
    "              data = df_clean3)\n",
    "if (summary(mod_log)$adj.r.squared > summary(mod_lin)$adj.r.squared) {\n",
    "  print(\"deductibleamountinbuildingcoverage\")\n",
    "}"
   ]
  },
  {
   "cell_type": "markdown",
   "id": "b6367384",
   "metadata": {},
   "source": [
    "# 3-Modeling"
   ]
  },
  {
   "cell_type": "code",
   "execution_count": null,
   "id": "6b006280",
   "metadata": {},
   "outputs": [],
   "source": []
  }
 ],
 "metadata": {
  "kernelspec": {
   "display_name": "R",
   "language": "R",
   "name": "ir"
  },
  "language_info": {
   "codemirror_mode": "r",
   "file_extension": ".r",
   "mimetype": "text/x-r-source",
   "name": "R",
   "pygments_lexer": "r",
   "version": "4.1.3"
  }
 },
 "nbformat": 4,
 "nbformat_minor": 5
}
